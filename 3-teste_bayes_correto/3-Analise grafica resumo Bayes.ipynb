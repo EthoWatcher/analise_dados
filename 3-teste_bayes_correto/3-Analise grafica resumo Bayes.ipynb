{
 "cells": [
  {
   "cell_type": "code",
   "execution_count": 1,
   "metadata": {},
   "outputs": [],
   "source": [
    "import arviz as az\n",
    "import pandas as pd\n",
    "import numpy as np\n",
    "import seaborn as sns\n",
    "import matplotlib.pyplot as plt\n",
    "from matplotlib.pyplot import figure"
   ]
  },
  {
   "cell_type": "code",
   "execution_count": 2,
   "metadata": {},
   "outputs": [],
   "source": [
    "import etho_bayes as et_b"
   ]
  },
  {
   "cell_type": "code",
   "execution_count": 3,
   "metadata": {},
   "outputs": [],
   "source": [
    "df = pd.read_csv(\"resultado_bayes.csv\")"
   ]
  },
  {
   "cell_type": "code",
   "execution_count": 4,
   "metadata": {},
   "outputs": [
    {
     "data": {
      "text/html": [
       "<div>\n",
       "<style scoped>\n",
       "    .dataframe tbody tr th:only-of-type {\n",
       "        vertical-align: middle;\n",
       "    }\n",
       "\n",
       "    .dataframe tbody tr th {\n",
       "        vertical-align: top;\n",
       "    }\n",
       "\n",
       "    .dataframe thead th {\n",
       "        text-align: right;\n",
       "    }\n",
       "</style>\n",
       "<table border=\"1\" class=\"dataframe\">\n",
       "  <thead>\n",
       "    <tr style=\"text-align: right;\">\n",
       "      <th></th>\n",
       "      <th>macho_p_imobilidade_flx</th>\n",
       "      <th>macho_p_imobilidade_veiculo</th>\n",
       "      <th>macho_dif_p</th>\n",
       "      <th>femea_p_imobilidade_flx</th>\n",
       "      <th>femea_p_imobilidade_veiculo</th>\n",
       "      <th>femea_dif_p</th>\n",
       "    </tr>\n",
       "  </thead>\n",
       "  <tbody>\n",
       "    <tr>\n",
       "      <th>0</th>\n",
       "      <td>0.294895</td>\n",
       "      <td>0.303008</td>\n",
       "      <td>-0.008113</td>\n",
       "      <td>0.313319</td>\n",
       "      <td>0.313710</td>\n",
       "      <td>-0.000391</td>\n",
       "    </tr>\n",
       "    <tr>\n",
       "      <th>1</th>\n",
       "      <td>0.229780</td>\n",
       "      <td>0.317713</td>\n",
       "      <td>-0.087933</td>\n",
       "      <td>0.327894</td>\n",
       "      <td>0.249025</td>\n",
       "      <td>0.078869</td>\n",
       "    </tr>\n",
       "    <tr>\n",
       "      <th>2</th>\n",
       "      <td>0.164747</td>\n",
       "      <td>0.263492</td>\n",
       "      <td>-0.098745</td>\n",
       "      <td>0.273994</td>\n",
       "      <td>0.182879</td>\n",
       "      <td>0.091115</td>\n",
       "    </tr>\n",
       "    <tr>\n",
       "      <th>3</th>\n",
       "      <td>0.228981</td>\n",
       "      <td>0.294211</td>\n",
       "      <td>-0.065230</td>\n",
       "      <td>0.304585</td>\n",
       "      <td>0.248223</td>\n",
       "      <td>0.056362</td>\n",
       "    </tr>\n",
       "    <tr>\n",
       "      <th>4</th>\n",
       "      <td>0.235410</td>\n",
       "      <td>0.277256</td>\n",
       "      <td>-0.041846</td>\n",
       "      <td>0.287720</td>\n",
       "      <td>0.254672</td>\n",
       "      <td>0.033047</td>\n",
       "    </tr>\n",
       "  </tbody>\n",
       "</table>\n",
       "</div>"
      ],
      "text/plain": [
       "   macho_p_imobilidade_flx  macho_p_imobilidade_veiculo  macho_dif_p  \\\n",
       "0                 0.294895                     0.303008    -0.008113   \n",
       "1                 0.229780                     0.317713    -0.087933   \n",
       "2                 0.164747                     0.263492    -0.098745   \n",
       "3                 0.228981                     0.294211    -0.065230   \n",
       "4                 0.235410                     0.277256    -0.041846   \n",
       "\n",
       "   femea_p_imobilidade_flx  femea_p_imobilidade_veiculo  femea_dif_p  \n",
       "0                 0.313319                     0.313710    -0.000391  \n",
       "1                 0.327894                     0.249025     0.078869  \n",
       "2                 0.273994                     0.182879     0.091115  \n",
       "3                 0.304585                     0.248223     0.056362  \n",
       "4                 0.287720                     0.254672     0.033047  "
      ]
     },
     "execution_count": 4,
     "metadata": {},
     "output_type": "execute_result"
    }
   ],
   "source": [
    "df.head()"
   ]
  },
  {
   "cell_type": "code",
   "execution_count": 5,
   "metadata": {},
   "outputs": [],
   "source": [
    "m_flx = et_b.creat_struct_saida(np.array(df[\"macho_p_imobilidade_flx\"]))\n",
    "\n",
    "m_flx[\"prob\"] =[0.00, 0.00]\n",
    "m_vei = et_b.creat_struct_saida(np.array(df[\"macho_p_imobilidade_veiculo\"]))\n",
    "m_vei[\"prob\"] =[1, 1]\n",
    "\n",
    "\n",
    "f_flx = et_b.creat_struct_saida(np.array(df[\"femea_p_imobilidade_flx\"]))\n",
    "f_flx[\"prob\"] =[2, 2]\n",
    "\n",
    "f_vei = et_b.creat_struct_saida(np.array(df[\"femea_p_imobilidade_veiculo\"]))\n",
    "f_vei[\"prob\"] =[3, 3]\n",
    "\n",
    "f_dif_v_t = et_b.creat_struct_saida(np.array(df[\"femea_dif_p\"]))\n",
    "m_dif_v_t = et_b.creat_struct_saida(np.array(df[\"macho_dif_p\"]))\n",
    "\n"
   ]
  },
  {
   "cell_type": "code",
   "execution_count": 6,
   "metadata": {},
   "outputs": [],
   "source": [
    "sns.set_context(\"notebook\", font_scale=1.5, rc={\"lines.linewidth\": 2.5})"
   ]
  },
  {
   "cell_type": "code",
   "execution_count": 7,
   "metadata": {},
   "outputs": [],
   "source": [
    "def calcula_weights(data):\n",
    "    weights = np.ones_like(data) / len(data)\n",
    "    return weights"
   ]
  },
  {
   "cell_type": "code",
   "execution_count": null,
   "metadata": {},
   "outputs": [],
   "source": []
  },
  {
   "cell_type": "code",
   "execution_count": 8,
   "metadata": {},
   "outputs": [
    {
     "data": {
      "text/plain": [
       "100000"
      ]
     },
     "execution_count": 8,
     "metadata": {},
     "output_type": "execute_result"
    }
   ],
   "source": [
    "len(m_flx[\"data\"])"
   ]
  },
  {
   "cell_type": "code",
   "execution_count": 9,
   "metadata": {},
   "outputs": [
    {
     "data": {
      "image/png": "[encoded data removed]",
      "text/plain": [
       "<Figure size 1200x800 with 1 Axes>"
      ]
     },
     "metadata": {},
     "output_type": "display_data"
    }
   ],
   "source": [
    "# figure(num=None, figsize=(8, 6), dpi=80, facecolor='w', edgecolor='k')\n",
    "fig, axs = plt.subplots(1,1, figsize = (12,8))\n",
    "\n",
    "\n",
    "axs.hist(m_flx[\"data\"], weights=m_flx[\"x_weights\"], color=(165/255, 200/255, 225/255, 0.8), label=\"Macho 2,5 mg/kg FLX\", bins=200)\n",
    "axs.hist(m_vei[\"data\"], weights=m_vei[\"x_weights\"],  color=(170/255, 217/255, 170/255, 0.8), label=\"Macho controle\", bins=200)\n",
    "axs.hist(f_flx[\"data\"], weights=f_flx[\"x_weights\"],color=(238/255, 168/255, 169/255, 0.8) , label=\"Fêmea 2,5 mg/kg FLX\", bins=200)\n",
    "axs.hist(f_vei[\"data\"], weights=f_vei[\"x_weights\"], color=(255/255, 203/255, 158/255, 0.8) , label=\"Fêmea controle\", bins=200)\n",
    "\n",
    "# axs[0].tick_params(left = False, labelleft = False)\n",
    "# sns.distplot(m_flx[\"data\"],hist_kws={'weights': m_flx[\"x_weights\"]}, kde=False, label=\"Macho tratado com Fluoxetina\", ax= axs[0]);\n",
    "# sns.distplot(m_vei[\"data\"],\n",
    "#              hist_kws={'weights': m_vei[\"x_weights\"]}, \n",
    "#              kde=False, label=\"Macho controle\", ax= axs[0]);\n",
    "\n",
    "\n",
    "\n",
    "\n",
    "# sns.distplot(f_flx[\"data\"],\n",
    "#              hist_kws={'weights': m_flx[\"x_weights\"]}, \n",
    "#              kde=False, label=\"Femea tratada com Fluoxetina\", ax= axs[0]);\n",
    "\n",
    "\n",
    "\n",
    "# sns.distplot(f_vei[\"data\"],\n",
    "#              hist_kws={'weights': m_vei[\"x_weights\"]}, \n",
    "#              kde=False, label=\"Femea controle\", ax= axs[0]);\n",
    "\n",
    "\n",
    "# axs[0].hist(m_flx[\"data\"], weights=calcula_weights(m_flx[\"data\"]))\n",
    "\n",
    "# m_flx[\"x_weights\"]\n",
    "# sns.lineplot(x=\"hdi\", y=\"prob\", data=m_vei, label=\"HDI Macho Veiculo\")\n",
    "# sns.lineplot(x=\"hdi\", y=\"prob\", data=f_flx, label=\"HDI Femea Fluoxetina\")\n",
    "# sns.lineplot(x=\"hdi\", y=\"prob\", data=m_flx, label=\"HDI Macho Fluoxetina\")\n",
    "# sns.lineplot(x=\"hdi\", y=\"prob\", data=f_vei, label=\"HDI Macho Veiculo\")\n",
    "\n",
    "\n",
    "left, right = axs.get_xlim()\n",
    "axs.set_xlim((left, right))\n",
    "\n",
    "axs.vlines(m_flx[\"hdi\"][0] , 0.0047,  0.0053, color=\"black\")# color=(165/255, 200/255, 225/255, 0.8))\n",
    "axs.vlines(m_flx[\"hdi\"][1] , 0.0047,  0.0053, color=\"black\")# color=(165/255, 200/255, 225/255, 0.8))\n",
    "# axs.hlines(0.0051 , m_flx[\"hdi\"][0],  m_flx[\"hdi\"][1], color=\"black\")# color=(165/255, 200/255, 225/255, 0.8))\n",
    "axs.hlines(0.005 , m_flx[\"hdi\"][0],  m_flx[\"hdi\"][1], color=(165/255, 200/255, 225/255,1))\n",
    "# axs.hlines(0.0049 , m_flx[\"hdi\"][0],  m_flx[\"hdi\"][1], color=\"black\")# color=(165/255, 200/255, 225/255, 0.8))\n",
    "\n",
    "\n",
    "axs.vlines(m_vei[\"hdi\"][0] , 0.0072,  0.0078, color=\"black\")# color=(165/255, 200/255, 225/255, 0.8))\n",
    "axs.vlines(m_vei[\"hdi\"][1] , 0.0072,  0.0078, color=\"black\")# color=(165/255, 200/255, 225/255, 0.8))\n",
    "# axs.hlines(0.0074 , m_vei[\"hdi\"][0],  m_vei[\"hdi\"][1],  color=\"black\") #color=(170/255, 217/255, 170/255, 0.8))\n",
    "axs.hlines(0.0075 , m_vei[\"hdi\"][0],  m_vei[\"hdi\"][1],  color=(170/255, 217/255, 170/255,1)) #color=(170/255, 217/255, 170/255, 0.8))\n",
    "# axs.hlines(0.0076 , m_vei[\"hdi\"][0],  m_vei[\"hdi\"][1],  color=\"black\") #color=(170/255, 217/255, 170/255, 0.8))\n",
    "\n",
    "\n",
    "axs.vlines(f_flx[\"hdi\"][0] , 0.0097,  0.0103, color=\"black\")# color=(165/255, 200/255, 225/255, 0.8))\n",
    "axs.vlines(f_flx[\"hdi\"][1] , 0.0097,  0.0103, color=\"black\")# color=(165/255, 200/255, 225/255, 0.8))\n",
    "# axs.hlines(0.0099 , f_flx[\"hdi\"][0],  f_flx[\"hdi\"][1],  color=\"black\") #color=(238/255, 168/255, 169/255, 0.8))\n",
    "axs.hlines(0.01 , f_flx[\"hdi\"][0],  f_flx[\"hdi\"][1],  color=(238/255, 168/255, 169/255, 1)) #color=(238/255, 168/255, 169/255, 0.8))\n",
    "# axs.hlines(0.0101 , f_flx[\"hdi\"][0],  f_flx[\"hdi\"][1],  color=\"black\") #color=(238/255, 168/255, 169/255, 0.8))\n",
    "\n",
    "axs.vlines(f_vei[\"hdi\"][0] , 0.0122,  0.0128, color=\"black\")# color=(165/255, 200/255, 225/255, 0.8))\n",
    "axs.vlines(f_vei[\"hdi\"][1] , 0.0122,  0.0128, color=\"black\")# color=(165/255, 200/255, 225/255, 0.8))\n",
    "# axs.hlines(0.0124 , f_vei[\"hdi\"][0],  f_vei[\"hdi\"][1], color=\"black\") #color=(255/255, 203/255, 158/255, 0.8) )\n",
    "axs.hlines(0.0125 , f_vei[\"hdi\"][0],  f_vei[\"hdi\"][1], color=(255/255, 203/255, 158/255, 1)) #color=(255/255, 203/255, 158/255, 0.8) )\n",
    "# axs.hlines(0.0126 , f_vei[\"hdi\"][0],  f_vei[\"hdi\"][1], color=\"black\") #color=(255/255, 203/255, 158/255, 0.8) )\n",
    "\n",
    "# sns.lineplot(x=\"hdi\", y=\"prob\", data=m_flx, label=\"HDI Macho Fluoxetina\", ax= axs[1])\n",
    "# sns.lineplot(x=\"hdi\", y=\"prob\", data=m_vei, label=\"HDI Macho controle\", ax= axs[1])\n",
    "\n",
    "# sns.lineplot(x=\"hdi\", y=\"prob\", data=f_flx, label=\"HDI Fêmea Fluoxetina\", ax= axs[1])\n",
    "# sns.lineplot(x=\"hdi\", y=\"prob\", data=f_vei, label=\"HDI Fêmea controle\", ax= axs[1])\n",
    "\n",
    "\n",
    "# axs.set_xlabel(\"Distribuição de probabilidade a posteriori da frequencia de Imobilidade\")\n",
    "axs.set_xlabel(\"Proporção de Imobilidade do experimento\")\n",
    "# axs[1].set_title(\"Intervalo de credibilidade de 94%\")\n",
    "\n",
    "axs.set_ylabel(\"Certeza\")\n",
    "# axs[1].set_ylabel(\"Probabilidade\")\n",
    "axs.set_yticklabels([])\n",
    "\n",
    "\n",
    "dif_m_f = et_b.data_saida(m_flx[\"data\"], m_vei[\"data\"])\n",
    "axs.text((m_flx[\"mean\"] + m_vei[\"mean\"])/2, 0.0175, f'|d|={dif_m_f[\"cohen_d\"]:.2f}', horizontalalignment='center', verticalalignment='center')\n",
    "axs.hlines(0.017 ,   m_flx[\"mean\"], m_vei[\"mean\"], color=\"black\", linestyle='dashed')\n",
    "\n",
    "\n",
    "\n",
    "dif_m_f = et_b.data_saida(f_flx[\"data\"], f_vei[\"data\"])\n",
    "axs.text((f_flx[\"mean\"] + f_vei[\"mean\"])/2,0.0163, f'|d|={dif_m_f[\"cohen_d\"]:.2f}', horizontalalignment='center', verticalalignment='center')\n",
    "axs.hlines(0.0158 ,   f_flx[\"mean\"], f_vei[\"mean\"], color=\"black\", linestyle='dashed')\n",
    "\n",
    "# axs[1].set_xlabel(\"Frequencia da expressão de imobilidade a cada segundo de análise\")\n",
    "\n",
    "axs.legend()\n",
    "\n",
    "plt.savefig('dist_prob_intevalo.png')\n",
    "# plt.show()\n",
    "\n",
    "# fmri = {}\n",
    "# fmri[\"hdi\"] = az.hdi(data, hdi_prob=.94)\n",
    "# fmri[\"prob\"] =[0.01, 0.01]"
   ]
  },
  {
   "cell_type": "code",
   "execution_count": 10,
   "metadata": {},
   "outputs": [
    {
     "data": {
      "text/plain": [
       "{'data': array([0.29489532, 0.22978002, 0.16474651, ..., 0.23826692, 0.24155303,\n",
       "        0.25424519]),\n",
       " 'x_weights': array([1.e-05, 1.e-05, 1.e-05, ..., 1.e-05, 1.e-05, 1.e-05]),\n",
       " 'mean': 0.23356417748187866,\n",
       " 'std': 0.02724465028111678,\n",
       " 'hdi': array([0.18345534, 0.28540327]),\n",
       " 'prob': [0.0, 0.0]}"
      ]
     },
     "execution_count": 10,
     "metadata": {},
     "output_type": "execute_result"
    }
   ],
   "source": [
    "# dif_m_f\n",
    "m_flx"
   ]
  },
  {
   "cell_type": "code",
   "execution_count": 11,
   "metadata": {},
   "outputs": [
    {
     "name": "stdout",
     "output_type": "stream",
     "text": [
      "['0.183', '0.285']\n",
      "['0.235', '0.342']\n",
      "['0.246', '0.352']\n",
      "['0.202', '0.304']\n"
     ]
    },
    {
     "data": {
      "text/html": [
       "<div>\n",
       "<style scoped>\n",
       "    .dataframe tbody tr th:only-of-type {\n",
       "        vertical-align: middle;\n",
       "    }\n",
       "\n",
       "    .dataframe tbody tr th {\n",
       "        vertical-align: top;\n",
       "    }\n",
       "\n",
       "    .dataframe thead th {\n",
       "        text-align: right;\n",
       "    }\n",
       "</style>\n",
       "<table border=\"1\" class=\"dataframe\">\n",
       "  <thead>\n",
       "    <tr style=\"text-align: right;\">\n",
       "      <th></th>\n",
       "      <th>Tratamento</th>\n",
       "      <th>Intervalo de credibilidade</th>\n",
       "    </tr>\n",
       "  </thead>\n",
       "  <tbody>\n",
       "    <tr>\n",
       "      <th>0</th>\n",
       "      <td>Macho 2,5 mg/kg FLX</td>\n",
       "      <td>0.183 - 0.285</td>\n",
       "    </tr>\n",
       "    <tr>\n",
       "      <th>1</th>\n",
       "      <td>Macho controle</td>\n",
       "      <td>0.235 - 0.342</td>\n",
       "    </tr>\n",
       "    <tr>\n",
       "      <th>2</th>\n",
       "      <td>Fêmea 2,5 mg/kg FLX</td>\n",
       "      <td>0.246 - 0.352</td>\n",
       "    </tr>\n",
       "    <tr>\n",
       "      <th>3</th>\n",
       "      <td>Fêmea controle</td>\n",
       "      <td>0.202 - 0.304</td>\n",
       "    </tr>\n",
       "  </tbody>\n",
       "</table>\n",
       "</div>"
      ],
      "text/plain": [
       "            Tratamento Intervalo de credibilidade\n",
       "0  Macho 2,5 mg/kg FLX              0.183 - 0.285\n",
       "1       Macho controle              0.235 - 0.342\n",
       "2  Fêmea 2,5 mg/kg FLX              0.246 - 0.352\n",
       "3       Fêmea controle              0.202 - 0.304"
      ]
     },
     "execution_count": 11,
     "metadata": {},
     "output_type": "execute_result"
    }
   ],
   "source": [
    "def get_data(m_flx, tratamento):\n",
    "    ls_hdi = list(map(lambda x: f\"{x:.3f}\", m_flx[\"hdi\"]))\n",
    "    print(ls_hdi)\n",
    "    return {\"Tratamento\": tratamento, \"Intervalo de credibilidade\": \" - \".join(ls_hdi)}\n",
    "\n",
    "\n",
    "ls = [get_data(m_flx, \"Macho 2,5 mg/kg FLX\"),\n",
    "      get_data(m_vei, \"Macho controle\"),\n",
    "      get_data(f_flx, \"Fêmea 2,5 mg/kg FLX\"),\n",
    "      get_data(f_vei, \"Fêmea controle\")]\n",
    "\n",
    "df = pd.DataFrame(ls)\n",
    "\n",
    "with open(\"resultado_bayes.txt\", \"w\") as f:\n",
    "    f.write(df.to_latex())\n",
    "df"
   ]
  },
  {
   "cell_type": "code",
   "execution_count": 12,
   "metadata": {},
   "outputs": [],
   "source": [
    "# min(m_flx[\"data\"] )\n",
    "\n",
    "# fig, axs = plt.subplots(2,1, figsize = (14,12))\n",
    "# axs[1].hlines(1 , m_flx[\"hdi\"][0],  m_flx[\"hdi\"][1])"
   ]
  },
  {
   "cell_type": "code",
   "execution_count": 13,
   "metadata": {},
   "outputs": [
    {
     "data": {
      "text/plain": [
       "{'data': array([0.29489532, 0.22978002, 0.16474651, ..., 0.23826692, 0.24155303,\n",
       "        0.25424519]),\n",
       " 'x_weights': array([1.e-05, 1.e-05, 1.e-05, ..., 1.e-05, 1.e-05, 1.e-05]),\n",
       " 'mean': 0.23356417748187866,\n",
       " 'std': 0.02724465028111678,\n",
       " 'hdi': array([0.18345534, 0.28540327]),\n",
       " 'prob': [0.0, 0.0]}"
      ]
     },
     "execution_count": 13,
     "metadata": {},
     "output_type": "execute_result"
    }
   ],
   "source": [
    "m_flx"
   ]
  },
  {
   "cell_type": "code",
   "execution_count": 14,
   "metadata": {},
   "outputs": [],
   "source": [
    "def calcula_weights(data):\n",
    "    weights = np.ones_like(data) / len(data)\n",
    "    return weights\n",
    "# def create_graph(axs, df, group, sexo):\n",
    "#     mean  = np.mean(get_dados(df,group))\n",
    "#     std  = np.std(get_dados(df, group))\n",
    "#     data = np.random.normal(mean, std, 1000)\n",
    "#     weights = np.ones_like(data) / len(data)\n",
    "#     axs.hist(data, weights=weights)\n",
    "\n",
    "#     my_array = get_dados(df, group)\n",
    "#     weights = np.ones_like(my_array) / len(my_array)\n",
    "#     axs.hist(my_array, weights=weights)\n",
    "#     # axs.hist(data, bins=12, density=True)\n",
    "#     # axs.hist(my_array, bins=12, density=True)\n",
    "#     axs.set_ylim([0, 0.4])\n",
    "#     axs.set_xlim([0, 250])\n",
    "#     p= stats.shapiro(get_dados(df, group))\n",
    "#     # print()\n",
    "#     print(sexo, group, mean, std, p)\n",
    "#     return axs"
   ]
  },
  {
   "cell_type": "code",
   "execution_count": null,
   "metadata": {},
   "outputs": [],
   "source": []
  },
  {
   "cell_type": "code",
   "execution_count": null,
   "metadata": {},
   "outputs": [],
   "source": []
  },
  {
   "cell_type": "code",
   "execution_count": null,
   "metadata": {},
   "outputs": [],
   "source": []
  },
  {
   "cell_type": "code",
   "execution_count": 15,
   "metadata": {},
   "outputs": [
    {
     "name": "stderr",
     "output_type": "stream",
     "text": [
      "/tmp/ipykernel_1259584/1596824013.py:3: UserWarning: \n",
      "\n",
      "`distplot` is a deprecated function and will be removed in seaborn v0.14.0.\n",
      "\n",
      "Please adapt your code to use either `displot` (a figure-level function with\n",
      "similar flexibility) or `histplot` (an axes-level function for histograms).\n",
      "\n",
      "For a guide to updating your code to use the new functions, please see\n",
      "https://gist.github.com/mwaskom/de44147ed2974457ad6372750bbe5751\n",
      "\n",
      "  sns.distplot(m_dif_v_t[\"data\"],\n",
      "/tmp/ipykernel_1259584/1596824013.py:8: UserWarning: \n",
      "\n",
      "`distplot` is a deprecated function and will be removed in seaborn v0.14.0.\n",
      "\n",
      "Please adapt your code to use either `displot` (a figure-level function with\n",
      "similar flexibility) or `histplot` (an axes-level function for histograms).\n",
      "\n",
      "For a guide to updating your code to use the new functions, please see\n",
      "https://gist.github.com/mwaskom/de44147ed2974457ad6372750bbe5751\n",
      "\n",
      "  sns.distplot(f_dif_v_t[\"data\"],\n"
     ]
    },
    {
     "data": {
      "image/png": "[encoded data removed]",
      "text/plain": [
       "<Figure size 1400x800 with 1 Axes>"
      ]
     },
     "metadata": {},
     "output_type": "display_data"
    }
   ],
   "source": [
    "# figure(num=None, figsize=(14, 7), dpi=80, facecolor='w', edgecolor='k')\n",
    "fig, axs = plt.subplots(1,1, figsize = (14,8))\n",
    "sns.distplot(m_dif_v_t[\"data\"],\n",
    "             hist_kws={'weights': m_flx[\"x_weights\"]}, \n",
    "             kde=False, label=\"Macho\", ax=axs);\n",
    "\n",
    "\n",
    "sns.distplot(f_dif_v_t[\"data\"],\n",
    "             hist_kws={'weights': m_vei[\"x_weights\"]}, \n",
    "             kde=False, label=\"Fêmea\", ax=axs);\n",
    "\n",
    "\n",
    "# axs[0].hist(m_dif_v_t[\"data\"], weights=m_dif_v_t[\"x_weights\"], color=(0, 1, 0, 0.8), label=\"Macho \", bins=200)\n",
    "\n",
    "# axs[0].hist(f_dif_v_t[\"data\"], weights=f_dif_v_t[\"x_weights\"], color=(0, 0, 1, 0.8), label=\"Fêmea\", bins=200)\n",
    "\n",
    "\n",
    "# axs.tick_params(left = False,  labelleft = False)\n",
    "\n",
    "\n",
    "dif_m_f = et_b.data_saida(m_dif_v_t[\"data\"], f_dif_v_t[\"data\"])\n",
    "dif_m_f[\"prob\"] = [0.01, 0.01]\n",
    "\n",
    "sns.lineplot(x=\"hdi\", y=\"prob\", data=dif_m_f, ax=axs , color='black',  linestyle='dashed')#, label=\"HDI Macho Fluoxetina\")#, ax= axs[1])\n",
    "axs.text(0, 0.014, f'|d|={dif_m_f[\"cohen_d\"]:.2f}', horizontalalignment='center', verticalalignment='center')\n",
    "\n",
    "p_maior_macho = et_b.calc_p_menor_zero(m_dif_v_t[\"data\"])\n",
    "p_menor_femea = et_b.calc_p_maior(f_dif_v_t[\"data\"])\n",
    "\n",
    "sns.lineplot(x=\"hdi\", y=\"prob\", data=p_maior_macho, ax=axs, color='black')#, label=\"HDI Macho Fluoxetina\")#, ax= axs[1])\n",
    "axs.text(-0.1, 0.003 , f'p={p_maior_macho[\"p\"]:.2f}', horizontalalignment='center', verticalalignment='center')\n",
    "\n",
    "\n",
    "sns.lineplot(x=\"hdi\", y=\"prob\", data=p_menor_femea, ax=axs , color='black')#, label=\"HDI Macho Fluoxetina\")#, ax= axs[1])\n",
    "axs.text(0.1, 0.063 , f'p={p_menor_femea[\"p\"]:.2f}', horizontalalignment='center', verticalalignment='center')\n",
    "\n",
    "\n",
    "\n",
    "# axs.set_title(\"A diferença entre a Distribuição a Posteriori da frequencia de Imobilidade \\n do controle e do tratamento de machos e femêas \\n\")\n",
    "# plt.title(\"Diferença da probabilidade de Imobilidade\")\n",
    "axs.set_ylabel(\"Certeza\")\n",
    "axs.set_yticks([])\n",
    "# axs.set_xlabel(\"Diferença de probabilidade da expressão de imobilidade a cada segundo de análise entre controle e tratamento\")\n",
    "axs.set_xlabel(\"Proporção de Imobilidade do experimento\")\n",
    "axs.legend()\n",
    "# plt.show()\n",
    "\n",
    "# axs[1].hist(m_dif_v_t[\"data\"], weights=m_dif_v_t[\"x_weights\"], cumulative = True, color=(0, 1, 0, 0.8), label=\"Macho \", bins=200)\n",
    "# axs[1].hist(f_dif_v_t[\"data\"], weights=f_dif_v_t[\"x_weights\"], cumulative = True, color=(0, 0, 1, 0.8), label=\"Fêmea\", bins=200)\n",
    "\n",
    "plt.savefig('dif_dis_cohen.png')"
   ]
  },
  {
   "cell_type": "code",
   "execution_count": 16,
   "metadata": {},
   "outputs": [],
   "source": [
    "# - critica é em relação aos descritores usados, podem estar escondendo sutis diferenças\n",
    "# - critica em relação ao modelo frequentista de teste de hipotese.\n",
    "\n",
    "# - aumentar a quantidade de variedade usadas em modelos matematicos que possam aprender com os daos\n",
    "# - aumentar a variabilidade de modelos matematicos empregados\n",
    "# - dentro de um fluxo\n",
    "# - software aberto.\n",
    "\n",
    "# , metodologias de preprocessamento\n",
    "# - aumentar a variadade de funcionalidade de modelos matematicos, que possam aprneder com cados, no estudo"
   ]
  },
  {
   "cell_type": "code",
   "execution_count": 17,
   "metadata": {},
   "outputs": [],
   "source": [
    "# como refinar o modelo\n",
    "# - media, desvio padrão\n",
    "# - prior meta analise.\n",
    "# - analise da literatura das medias de duração\n",
    "# -"
   ]
  },
  {
   "cell_type": "code",
   "execution_count": 18,
   "metadata": {},
   "outputs": [],
   "source": [
    "# #Set context, increase font size\n",
    "# # sns.set_context(\"poster\", font_scale=1.5)\n",
    "# # #Create a figure\n",
    "# plt.figure(figsize=(15, 8))\n",
    "# sns.lineplot(x=\"hdi\", y=\"prob\", data=m_flx, label=\"HDI Macho Fluoxetina\")\n",
    "# sns.lineplot(x=\"hdi\", y=\"prob\", data=m_vei, label=\"HDI Macho controle\")\n",
    "\n",
    "# sns.lineplot(x=\"hdi\", y=\"prob\", data=f_flx, label=\"HDI Femea Fluoxetina\")\n",
    "# sns.lineplot(x=\"hdi\", y=\"prob\", data=f_vei, label=\"HDI Macho controle\")\n",
    "\n",
    "\n",
    "\n",
    "# # # #Define the axis object\n",
    "# # # ax = sns.barplot(x='optics graduates', y='inst_nm', data=data1, palette=\"Blues_d\")\n",
    "# # #set paramters\n",
    "# # ax.set(xlabel='Optics PhDs awarded', ylabel='Institution name', title= \"Top optics-granting institutions\")\n",
    "# # #show the plot\n",
    "# # plt.show()\n",
    "\n",
    "\n",
    "\n",
    "# # fig, ax = plt.subplots()\n",
    "# # ax.plot(activity, dog, label=\"dog\")\n",
    "# # ax.plot(activity, cat, label=\"cat\")\n",
    "# # ax.legend()\n",
    "\n",
    "\n",
    "\n",
    "# # plt.title(\"Distribuição a posteriori da probabilidade de expressão do comportamento de imobilidade de machos no TNF\")\n",
    "# # plt.ylabel(\"Distribuição da probabilidade de expressão da imobilidade\")\n",
    "# # plt.xlabel(\"Probabilidade da expressão de imobilidade a cada segundo de análise\")\n",
    "# plt.legend()\n",
    "# plt.show()"
   ]
  },
  {
   "cell_type": "code",
   "execution_count": 19,
   "metadata": {},
   "outputs": [],
   "source": [
    "# figure(num=None, figsize=(8, 6), dpi=80, facecolor='w', edgecolor='k')\n",
    "# graph = sns.distplot(m_dif_v_t[\"data\"],\n",
    "#              hist_kws={'weights': m_flx[\"x_weights\"]}, \n",
    "#              kde=False, label=\"Macho\");\n",
    "\n",
    "\n",
    "# data_maior = m_dif_v_t[\"data\"] < 0\n",
    "\n",
    "\n",
    "# saida = m_dif_v_t[\"data\"][data_maior]\n",
    "# weigh = len(saida) / len(m_dif_v_t[\"data\"])\n",
    "\n",
    "# wi = np.ones_like(saida) / len(m_dif_v_t[\"data\"])\n",
    "\n",
    "# # graph.axvline(0, label=\"0\")\n",
    "# sns.distplot(saida,\n",
    "#              hist_kws={'weights': wi}, \n",
    "#              kde=False, label=\"Femea\");\n",
    "\n",
    "\n",
    "# # graph.axhline(0.01, xmin=0.15, xmax=0.55)\n",
    "# # graph.axhspan(0.01, 0.005, facecolor='0.5', alpha=0.5)\n",
    "\n",
    "# plt.title(\"Distribuição a posteriori da probabilidade de expressão do comportamento de imobilidade de machos no TNF\")\n",
    "# plt.ylabel(\"Distribuição da probabilidade de expressão da imobilidade\")\n",
    "# plt.xlabel(\"Probabilidade da expressão de imobilidade a cada segundo de análise\")\n",
    "# plt.legend()\n",
    "# plt.show()"
   ]
  },
  {
   "cell_type": "code",
   "execution_count": 20,
   "metadata": {},
   "outputs": [],
   "source": [
    "# print(weigh)"
   ]
  },
  {
   "cell_type": "code",
   "execution_count": 21,
   "metadata": {},
   "outputs": [],
   "source": [
    "\n",
    "# saida = f_dif_v_t[\"data\"][data_maior]\n",
    "# saida"
   ]
  },
  {
   "cell_type": "code",
   "execution_count": null,
   "metadata": {},
   "outputs": [],
   "source": []
  },
  {
   "cell_type": "code",
   "execution_count": null,
   "metadata": {},
   "outputs": [],
   "source": []
  },
  {
   "cell_type": "code",
   "execution_count": 22,
   "metadata": {},
   "outputs": [],
   "source": [
    "# tips = sns.load_dataset(\"tips\")"
   ]
  },
  {
   "cell_type": "code",
   "execution_count": 23,
   "metadata": {},
   "outputs": [],
   "source": [
    "#     tips"
   ]
  },
  {
   "cell_type": "code",
   "execution_count": null,
   "metadata": {},
   "outputs": [],
   "source": []
  },
  {
   "cell_type": "code",
   "execution_count": null,
   "metadata": {},
   "outputs": [],
   "source": []
  },
  {
   "cell_type": "code",
   "execution_count": 24,
   "metadata": {},
   "outputs": [],
   "source": [
    "# data = np.random.normal(size=2000)\n",
    "# az.hdi(data, hdi_prob=.68)"
   ]
  },
  {
   "cell_type": "code",
   "execution_count": 25,
   "metadata": {},
   "outputs": [],
   "source": [
    "# az.stats.hdi\n"
   ]
  }
 ],
 "metadata": {
  "kernelspec": {
   "display_name": "Python 3 (ipykernel)",
   "language": "python",
   "name": "python3"
  },
  "language_info": {
   "codemirror_mode": {
    "name": "ipython",
    "version": 3
   },
   "file_extension": ".py",
   "mimetype": "text/x-python",
   "name": "python",
   "nbconvert_exporter": "python",
   "pygments_lexer": "ipython3",
   "version": "3.8.12"
  }
 },
 "nbformat": 4,
 "nbformat_minor": 4
}
