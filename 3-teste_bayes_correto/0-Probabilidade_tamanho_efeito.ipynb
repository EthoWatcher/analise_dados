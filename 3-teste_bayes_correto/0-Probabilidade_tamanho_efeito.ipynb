{
 "cells": [
  {
   "cell_type": "code",
   "execution_count": 1,
   "metadata": {},
   "outputs": [
    {
     "name": "stderr",
     "output_type": "stream",
     "text": [
      "/home/jmarcolan/anaconda3/envs/py36u/lib/python3.6/site-packages/theano/configdefaults.py:697: UserWarning: DeprecationWarning: there is no c++ compiler.This is deprecated and with Theano 0.11 a c++ compiler will be mandatory\n",
      "  \"DeprecationWarning: there is no c++ compiler.\"\n",
      "WARNING (theano.configdefaults): g++ not detected ! Theano will be unable to execute optimized C-implementations (for both CPU and GPU) and will default to Python implementations. Performance will be severely degraded. To remove this warning, set Theano flags cxx to an empty string.\n",
      "WARNING (theano.configdefaults): install mkl with `conda install mkl-service`: No module named 'mkl'\n",
      "WARNING (theano.tensor.blas): Using NumPy C-API based implementation for BLAS functions.\n"
     ]
    }
   ],
   "source": [
    "from pymc3 import Model, Uniform, Normal, Binomial, traceplot\n",
    "from pymc3 import fit\n",
    "from pymc3 import Deterministic"
   ]
  },
  {
   "cell_type": "code",
   "execution_count": 2,
   "metadata": {},
   "outputs": [],
   "source": [
    "import numpy as np\n",
    "import pandas as pd \n",
    "import matplotlib.pyplot as plt\n",
    "import math"
   ]
  },
  {
   "cell_type": "code",
   "execution_count": 3,
   "metadata": {},
   "outputs": [
    {
     "data": {
      "text/html": [
       "<div>\n",
       "<style scoped>\n",
       "    .dataframe tbody tr th:only-of-type {\n",
       "        vertical-align: middle;\n",
       "    }\n",
       "\n",
       "    .dataframe tbody tr th {\n",
       "        vertical-align: top;\n",
       "    }\n",
       "\n",
       "    .dataframe thead th {\n",
       "        text-align: right;\n",
       "    }\n",
       "</style>\n",
       "<table border=\"1\" class=\"dataframe\">\n",
       "  <thead>\n",
       "    <tr style=\"text-align: right;\">\n",
       "      <th></th>\n",
       "      <th>d_e_Immobility_s</th>\n",
       "      <th>d_total_experimento</th>\n",
       "      <th>path_experimento</th>\n",
       "      <th>id_eto</th>\n",
       "      <th>id_j</th>\n",
       "      <th>sexo</th>\n",
       "      <th>dosagem</th>\n",
       "      <th>unidade</th>\n",
       "    </tr>\n",
       "  </thead>\n",
       "  <tbody>\n",
       "    <tr>\n",
       "      <th>0</th>\n",
       "      <td>31.466667</td>\n",
       "      <td>300.0</td>\n",
       "      <td>C:/Mestrado Oficial Marino/Videos cegados/Cali...</td>\n",
       "      <td>5ea2305793f4d55ef029829b</td>\n",
       "      <td>5ea2305793f4d55ef0298297</td>\n",
       "      <td>macho</td>\n",
       "      <td>flx2.5mg</td>\n",
       "      <td>A1</td>\n",
       "    </tr>\n",
       "    <tr>\n",
       "      <th>1</th>\n",
       "      <td>34.566667</td>\n",
       "      <td>300.0</td>\n",
       "      <td>C:/Mestrado Oficial Marino/Videos cegados/Cali...</td>\n",
       "      <td>5ea2305793f4d55ef02982a4</td>\n",
       "      <td>5ea2305793f4d55ef02982a0</td>\n",
       "      <td>macho</td>\n",
       "      <td>flx2.5mg</td>\n",
       "      <td>A2</td>\n",
       "    </tr>\n",
       "    <tr>\n",
       "      <th>2</th>\n",
       "      <td>119.900000</td>\n",
       "      <td>300.0</td>\n",
       "      <td>C:/Mestrado Oficial Marino/Videos cegados/Cali...</td>\n",
       "      <td>5ea2305893f4d55ef02982c8</td>\n",
       "      <td>5ea2305893f4d55ef02982c4</td>\n",
       "      <td>macho</td>\n",
       "      <td>flx2.5mg</td>\n",
       "      <td>A3</td>\n",
       "    </tr>\n",
       "    <tr>\n",
       "      <th>3</th>\n",
       "      <td>64.633333</td>\n",
       "      <td>300.0</td>\n",
       "      <td>C:/Mestrado Oficial Marino/Videos cegados/Cali...</td>\n",
       "      <td>5ea2305993f4d55ef02982d1</td>\n",
       "      <td>5ea2305993f4d55ef02982cd</td>\n",
       "      <td>macho</td>\n",
       "      <td>flx2.5mg</td>\n",
       "      <td>A4</td>\n",
       "    </tr>\n",
       "    <tr>\n",
       "      <th>4</th>\n",
       "      <td>87.966667</td>\n",
       "      <td>300.0</td>\n",
       "      <td>C:/Mestrado Oficial Marino/Videos cegados/Cali...</td>\n",
       "      <td>5ea2305993f4d55ef02982da</td>\n",
       "      <td>5ea2305993f4d55ef02982d6</td>\n",
       "      <td>macho</td>\n",
       "      <td>flx2.5mg</td>\n",
       "      <td>A5</td>\n",
       "    </tr>\n",
       "    <tr>\n",
       "      <th>5</th>\n",
       "      <td>79.466667</td>\n",
       "      <td>300.0</td>\n",
       "      <td>C:/Mestrado Oficial Marino/Videos cegados/Cali...</td>\n",
       "      <td>5ea2305993f4d55ef02982e3</td>\n",
       "      <td>5ea2305993f4d55ef02982df</td>\n",
       "      <td>macho</td>\n",
       "      <td>flx2.5mg</td>\n",
       "      <td>A6</td>\n",
       "    </tr>\n",
       "    <tr>\n",
       "      <th>6</th>\n",
       "      <td>54.900000</td>\n",
       "      <td>300.0</td>\n",
       "      <td>C:/Mestrado Oficial Marino/Videos cegados/Cali...</td>\n",
       "      <td>5ea2305d93f4d55ef029834f</td>\n",
       "      <td>5ea2305d93f4d55ef029834b</td>\n",
       "      <td>macho</td>\n",
       "      <td>veiculo</td>\n",
       "      <td>A1</td>\n",
       "    </tr>\n",
       "    <tr>\n",
       "      <th>7</th>\n",
       "      <td>128.533333</td>\n",
       "      <td>300.0</td>\n",
       "      <td>C:/Mestrado Oficial Marino/Videos cegados/Cali...</td>\n",
       "      <td>5ea2305e93f4d55ef0298358</td>\n",
       "      <td>5ea2305e93f4d55ef0298354</td>\n",
       "      <td>macho</td>\n",
       "      <td>veiculo</td>\n",
       "      <td>A2</td>\n",
       "    </tr>\n",
       "    <tr>\n",
       "      <th>8</th>\n",
       "      <td>87.866667</td>\n",
       "      <td>300.0</td>\n",
       "      <td>C:/Mestrado Oficial Marino/Videos cegados/Cali...</td>\n",
       "      <td>5ea2305e93f4d55ef0298361</td>\n",
       "      <td>5ea2305e93f4d55ef029835d</td>\n",
       "      <td>macho</td>\n",
       "      <td>veiculo</td>\n",
       "      <td>A3</td>\n",
       "    </tr>\n",
       "    <tr>\n",
       "      <th>9</th>\n",
       "      <td>58.066667</td>\n",
       "      <td>300.0</td>\n",
       "      <td>C:/Mestrado Oficial Marino/Videos cegados/Cali...</td>\n",
       "      <td>5ea2305e93f4d55ef029836a</td>\n",
       "      <td>5ea2305e93f4d55ef0298366</td>\n",
       "      <td>macho</td>\n",
       "      <td>veiculo</td>\n",
       "      <td>A4</td>\n",
       "    </tr>\n",
       "    <tr>\n",
       "      <th>10</th>\n",
       "      <td>109.000000</td>\n",
       "      <td>300.0</td>\n",
       "      <td>C:/Mestrado Oficial Marino/Videos cegados/Cali...</td>\n",
       "      <td>5ea2305f93f4d55ef0298373</td>\n",
       "      <td>5ea2305f93f4d55ef029836f</td>\n",
       "      <td>macho</td>\n",
       "      <td>veiculo</td>\n",
       "      <td>A5</td>\n",
       "    </tr>\n",
       "    <tr>\n",
       "      <th>11</th>\n",
       "      <td>75.400000</td>\n",
       "      <td>300.0</td>\n",
       "      <td>C:/Mestrado Oficial Marino/Videos cegados/Cali...</td>\n",
       "      <td>5ea2305f93f4d55ef029837c</td>\n",
       "      <td>5ea2305f93f4d55ef0298378</td>\n",
       "      <td>macho</td>\n",
       "      <td>veiculo</td>\n",
       "      <td>A6</td>\n",
       "    </tr>\n",
       "  </tbody>\n",
       "</table>\n",
       "</div>"
      ],
      "text/plain": [
       "    d_e_Immobility_s  d_total_experimento  \\\n",
       "0          31.466667                300.0   \n",
       "1          34.566667                300.0   \n",
       "2         119.900000                300.0   \n",
       "3          64.633333                300.0   \n",
       "4          87.966667                300.0   \n",
       "5          79.466667                300.0   \n",
       "6          54.900000                300.0   \n",
       "7         128.533333                300.0   \n",
       "8          87.866667                300.0   \n",
       "9          58.066667                300.0   \n",
       "10        109.000000                300.0   \n",
       "11         75.400000                300.0   \n",
       "\n",
       "                                     path_experimento  \\\n",
       "0   C:/Mestrado Oficial Marino/Videos cegados/Cali...   \n",
       "1   C:/Mestrado Oficial Marino/Videos cegados/Cali...   \n",
       "2   C:/Mestrado Oficial Marino/Videos cegados/Cali...   \n",
       "3   C:/Mestrado Oficial Marino/Videos cegados/Cali...   \n",
       "4   C:/Mestrado Oficial Marino/Videos cegados/Cali...   \n",
       "5   C:/Mestrado Oficial Marino/Videos cegados/Cali...   \n",
       "6   C:/Mestrado Oficial Marino/Videos cegados/Cali...   \n",
       "7   C:/Mestrado Oficial Marino/Videos cegados/Cali...   \n",
       "8   C:/Mestrado Oficial Marino/Videos cegados/Cali...   \n",
       "9   C:/Mestrado Oficial Marino/Videos cegados/Cali...   \n",
       "10  C:/Mestrado Oficial Marino/Videos cegados/Cali...   \n",
       "11  C:/Mestrado Oficial Marino/Videos cegados/Cali...   \n",
       "\n",
       "                      id_eto                      id_j   sexo   dosagem  \\\n",
       "0   5ea2305793f4d55ef029829b  5ea2305793f4d55ef0298297  macho  flx2.5mg   \n",
       "1   5ea2305793f4d55ef02982a4  5ea2305793f4d55ef02982a0  macho  flx2.5mg   \n",
       "2   5ea2305893f4d55ef02982c8  5ea2305893f4d55ef02982c4  macho  flx2.5mg   \n",
       "3   5ea2305993f4d55ef02982d1  5ea2305993f4d55ef02982cd  macho  flx2.5mg   \n",
       "4   5ea2305993f4d55ef02982da  5ea2305993f4d55ef02982d6  macho  flx2.5mg   \n",
       "5   5ea2305993f4d55ef02982e3  5ea2305993f4d55ef02982df  macho  flx2.5mg   \n",
       "6   5ea2305d93f4d55ef029834f  5ea2305d93f4d55ef029834b  macho   veiculo   \n",
       "7   5ea2305e93f4d55ef0298358  5ea2305e93f4d55ef0298354  macho   veiculo   \n",
       "8   5ea2305e93f4d55ef0298361  5ea2305e93f4d55ef029835d  macho   veiculo   \n",
       "9   5ea2305e93f4d55ef029836a  5ea2305e93f4d55ef0298366  macho   veiculo   \n",
       "10  5ea2305f93f4d55ef0298373  5ea2305f93f4d55ef029836f  macho   veiculo   \n",
       "11  5ea2305f93f4d55ef029837c  5ea2305f93f4d55ef0298378  macho   veiculo   \n",
       "\n",
       "   unidade  \n",
       "0       A1  \n",
       "1       A2  \n",
       "2       A3  \n",
       "3       A4  \n",
       "4       A5  \n",
       "5       A6  \n",
       "6       A1  \n",
       "7       A2  \n",
       "8       A3  \n",
       "9       A4  \n",
       "10      A5  \n",
       "11      A6  "
      ]
     },
     "execution_count": 3,
     "metadata": {},
     "output_type": "execute_result"
    }
   ],
   "source": [
    "dados_experimento = pd.read_csv(\"Dados_duracao_macho.csv\")\n",
    "\n",
    "\n",
    "\n",
    "def map_300_all(x):\n",
    "    return 300.0\n",
    "\n",
    "\n",
    "dados_experimento[\"d_total_experimento\" ] = dados_experimento[\"d_total_experimento\"].apply(map_300_all)\n",
    "\n",
    "dados_experimento"
   ]
  },
  {
   "cell_type": "code",
   "execution_count": 4,
   "metadata": {},
   "outputs": [
    {
     "data": {
      "text/html": [
       "<div>\n",
       "<style scoped>\n",
       "    .dataframe tbody tr th:only-of-type {\n",
       "        vertical-align: middle;\n",
       "    }\n",
       "\n",
       "    .dataframe tbody tr th {\n",
       "        vertical-align: top;\n",
       "    }\n",
       "\n",
       "    .dataframe thead th {\n",
       "        text-align: right;\n",
       "    }\n",
       "</style>\n",
       "<table border=\"1\" class=\"dataframe\">\n",
       "  <thead>\n",
       "    <tr style=\"text-align: right;\">\n",
       "      <th></th>\n",
       "      <th>d_e_Immobility_s</th>\n",
       "      <th>d_total_experimento</th>\n",
       "      <th>path_experimento</th>\n",
       "      <th>id_eto</th>\n",
       "      <th>id_j</th>\n",
       "      <th>sexo</th>\n",
       "      <th>dosagem</th>\n",
       "      <th>unidade</th>\n",
       "    </tr>\n",
       "  </thead>\n",
       "  <tbody>\n",
       "    <tr>\n",
       "      <th>0</th>\n",
       "      <td>32</td>\n",
       "      <td>300.0</td>\n",
       "      <td>C:/Mestrado Oficial Marino/Videos cegados/Cali...</td>\n",
       "      <td>5ea2305793f4d55ef029829b</td>\n",
       "      <td>5ea2305793f4d55ef0298297</td>\n",
       "      <td>macho</td>\n",
       "      <td>flx2.5mg</td>\n",
       "      <td>A1</td>\n",
       "    </tr>\n",
       "    <tr>\n",
       "      <th>1</th>\n",
       "      <td>35</td>\n",
       "      <td>300.0</td>\n",
       "      <td>C:/Mestrado Oficial Marino/Videos cegados/Cali...</td>\n",
       "      <td>5ea2305793f4d55ef02982a4</td>\n",
       "      <td>5ea2305793f4d55ef02982a0</td>\n",
       "      <td>macho</td>\n",
       "      <td>flx2.5mg</td>\n",
       "      <td>A2</td>\n",
       "    </tr>\n",
       "    <tr>\n",
       "      <th>2</th>\n",
       "      <td>120</td>\n",
       "      <td>300.0</td>\n",
       "      <td>C:/Mestrado Oficial Marino/Videos cegados/Cali...</td>\n",
       "      <td>5ea2305893f4d55ef02982c8</td>\n",
       "      <td>5ea2305893f4d55ef02982c4</td>\n",
       "      <td>macho</td>\n",
       "      <td>flx2.5mg</td>\n",
       "      <td>A3</td>\n",
       "    </tr>\n",
       "    <tr>\n",
       "      <th>3</th>\n",
       "      <td>65</td>\n",
       "      <td>300.0</td>\n",
       "      <td>C:/Mestrado Oficial Marino/Videos cegados/Cali...</td>\n",
       "      <td>5ea2305993f4d55ef02982d1</td>\n",
       "      <td>5ea2305993f4d55ef02982cd</td>\n",
       "      <td>macho</td>\n",
       "      <td>flx2.5mg</td>\n",
       "      <td>A4</td>\n",
       "    </tr>\n",
       "    <tr>\n",
       "      <th>4</th>\n",
       "      <td>88</td>\n",
       "      <td>300.0</td>\n",
       "      <td>C:/Mestrado Oficial Marino/Videos cegados/Cali...</td>\n",
       "      <td>5ea2305993f4d55ef02982da</td>\n",
       "      <td>5ea2305993f4d55ef02982d6</td>\n",
       "      <td>macho</td>\n",
       "      <td>flx2.5mg</td>\n",
       "      <td>A5</td>\n",
       "    </tr>\n",
       "  </tbody>\n",
       "</table>\n",
       "</div>"
      ],
      "text/plain": [
       "   d_e_Immobility_s  d_total_experimento  \\\n",
       "0                32                300.0   \n",
       "1                35                300.0   \n",
       "2               120                300.0   \n",
       "3                65                300.0   \n",
       "4                88                300.0   \n",
       "\n",
       "                                    path_experimento  \\\n",
       "0  C:/Mestrado Oficial Marino/Videos cegados/Cali...   \n",
       "1  C:/Mestrado Oficial Marino/Videos cegados/Cali...   \n",
       "2  C:/Mestrado Oficial Marino/Videos cegados/Cali...   \n",
       "3  C:/Mestrado Oficial Marino/Videos cegados/Cali...   \n",
       "4  C:/Mestrado Oficial Marino/Videos cegados/Cali...   \n",
       "\n",
       "                     id_eto                      id_j   sexo   dosagem unidade  \n",
       "0  5ea2305793f4d55ef029829b  5ea2305793f4d55ef0298297  macho  flx2.5mg      A1  \n",
       "1  5ea2305793f4d55ef02982a4  5ea2305793f4d55ef02982a0  macho  flx2.5mg      A2  \n",
       "2  5ea2305893f4d55ef02982c8  5ea2305893f4d55ef02982c4  macho  flx2.5mg      A3  \n",
       "3  5ea2305993f4d55ef02982d1  5ea2305993f4d55ef02982cd  macho  flx2.5mg      A4  \n",
       "4  5ea2305993f4d55ef02982da  5ea2305993f4d55ef02982d6  macho  flx2.5mg      A5  "
      ]
     },
     "execution_count": 4,
     "metadata": {},
     "output_type": "execute_result"
    }
   ],
   "source": [
    "# Arrendondando os valores\n",
    "\n",
    "dados_experimento[\"d_e_Immobility_s\"] = dados_experimento[\"d_e_Immobility_s\"].apply(math.ceil)\n",
    "\n",
    "dados_experimento.head()"
   ]
  },
  {
   "cell_type": "code",
   "execution_count": null,
   "metadata": {},
   "outputs": [],
   "source": []
  },
  {
   "cell_type": "code",
   "execution_count": 5,
   "metadata": {},
   "outputs": [
    {
     "data": {
      "text/html": [
       "<div>\n",
       "<style scoped>\n",
       "    .dataframe tbody tr th:only-of-type {\n",
       "        vertical-align: middle;\n",
       "    }\n",
       "\n",
       "    .dataframe tbody tr th {\n",
       "        vertical-align: top;\n",
       "    }\n",
       "\n",
       "    .dataframe thead th {\n",
       "        text-align: right;\n",
       "    }\n",
       "</style>\n",
       "<table border=\"1\" class=\"dataframe\">\n",
       "  <thead>\n",
       "    <tr style=\"text-align: right;\">\n",
       "      <th></th>\n",
       "      <th>d_e_Immobility_s</th>\n",
       "      <th>d_total_experimento</th>\n",
       "      <th>path_experimento</th>\n",
       "      <th>id_eto</th>\n",
       "      <th>id_j</th>\n",
       "      <th>sexo</th>\n",
       "      <th>dosagem</th>\n",
       "      <th>unidade</th>\n",
       "    </tr>\n",
       "  </thead>\n",
       "  <tbody>\n",
       "    <tr>\n",
       "      <th>6</th>\n",
       "      <td>55</td>\n",
       "      <td>300.0</td>\n",
       "      <td>C:/Mestrado Oficial Marino/Videos cegados/Cali...</td>\n",
       "      <td>5ea2305d93f4d55ef029834f</td>\n",
       "      <td>5ea2305d93f4d55ef029834b</td>\n",
       "      <td>macho</td>\n",
       "      <td>veiculo</td>\n",
       "      <td>A1</td>\n",
       "    </tr>\n",
       "    <tr>\n",
       "      <th>7</th>\n",
       "      <td>129</td>\n",
       "      <td>300.0</td>\n",
       "      <td>C:/Mestrado Oficial Marino/Videos cegados/Cali...</td>\n",
       "      <td>5ea2305e93f4d55ef0298358</td>\n",
       "      <td>5ea2305e93f4d55ef0298354</td>\n",
       "      <td>macho</td>\n",
       "      <td>veiculo</td>\n",
       "      <td>A2</td>\n",
       "    </tr>\n",
       "    <tr>\n",
       "      <th>8</th>\n",
       "      <td>88</td>\n",
       "      <td>300.0</td>\n",
       "      <td>C:/Mestrado Oficial Marino/Videos cegados/Cali...</td>\n",
       "      <td>5ea2305e93f4d55ef0298361</td>\n",
       "      <td>5ea2305e93f4d55ef029835d</td>\n",
       "      <td>macho</td>\n",
       "      <td>veiculo</td>\n",
       "      <td>A3</td>\n",
       "    </tr>\n",
       "    <tr>\n",
       "      <th>9</th>\n",
       "      <td>59</td>\n",
       "      <td>300.0</td>\n",
       "      <td>C:/Mestrado Oficial Marino/Videos cegados/Cali...</td>\n",
       "      <td>5ea2305e93f4d55ef029836a</td>\n",
       "      <td>5ea2305e93f4d55ef0298366</td>\n",
       "      <td>macho</td>\n",
       "      <td>veiculo</td>\n",
       "      <td>A4</td>\n",
       "    </tr>\n",
       "    <tr>\n",
       "      <th>10</th>\n",
       "      <td>109</td>\n",
       "      <td>300.0</td>\n",
       "      <td>C:/Mestrado Oficial Marino/Videos cegados/Cali...</td>\n",
       "      <td>5ea2305f93f4d55ef0298373</td>\n",
       "      <td>5ea2305f93f4d55ef029836f</td>\n",
       "      <td>macho</td>\n",
       "      <td>veiculo</td>\n",
       "      <td>A5</td>\n",
       "    </tr>\n",
       "    <tr>\n",
       "      <th>11</th>\n",
       "      <td>76</td>\n",
       "      <td>300.0</td>\n",
       "      <td>C:/Mestrado Oficial Marino/Videos cegados/Cali...</td>\n",
       "      <td>5ea2305f93f4d55ef029837c</td>\n",
       "      <td>5ea2305f93f4d55ef0298378</td>\n",
       "      <td>macho</td>\n",
       "      <td>veiculo</td>\n",
       "      <td>A6</td>\n",
       "    </tr>\n",
       "  </tbody>\n",
       "</table>\n",
       "</div>"
      ],
      "text/plain": [
       "    d_e_Immobility_s  d_total_experimento  \\\n",
       "6                 55                300.0   \n",
       "7                129                300.0   \n",
       "8                 88                300.0   \n",
       "9                 59                300.0   \n",
       "10               109                300.0   \n",
       "11                76                300.0   \n",
       "\n",
       "                                     path_experimento  \\\n",
       "6   C:/Mestrado Oficial Marino/Videos cegados/Cali...   \n",
       "7   C:/Mestrado Oficial Marino/Videos cegados/Cali...   \n",
       "8   C:/Mestrado Oficial Marino/Videos cegados/Cali...   \n",
       "9   C:/Mestrado Oficial Marino/Videos cegados/Cali...   \n",
       "10  C:/Mestrado Oficial Marino/Videos cegados/Cali...   \n",
       "11  C:/Mestrado Oficial Marino/Videos cegados/Cali...   \n",
       "\n",
       "                      id_eto                      id_j   sexo  dosagem unidade  \n",
       "6   5ea2305d93f4d55ef029834f  5ea2305d93f4d55ef029834b  macho  veiculo      A1  \n",
       "7   5ea2305e93f4d55ef0298358  5ea2305e93f4d55ef0298354  macho  veiculo      A2  \n",
       "8   5ea2305e93f4d55ef0298361  5ea2305e93f4d55ef029835d  macho  veiculo      A3  \n",
       "9   5ea2305e93f4d55ef029836a  5ea2305e93f4d55ef0298366  macho  veiculo      A4  \n",
       "10  5ea2305f93f4d55ef0298373  5ea2305f93f4d55ef029836f  macho  veiculo      A5  \n",
       "11  5ea2305f93f4d55ef029837c  5ea2305f93f4d55ef0298378  macho  veiculo      A6  "
      ]
     },
     "execution_count": 5,
     "metadata": {},
     "output_type": "execute_result"
    }
   ],
   "source": [
    "dados_veiculo = dados_experimento[dados_experimento[\"dosagem\"] ==\"veiculo\"]\n",
    "dados_veiculo"
   ]
  },
  {
   "cell_type": "code",
   "execution_count": 6,
   "metadata": {},
   "outputs": [
    {
     "data": {
      "text/html": [
       "<div>\n",
       "<style scoped>\n",
       "    .dataframe tbody tr th:only-of-type {\n",
       "        vertical-align: middle;\n",
       "    }\n",
       "\n",
       "    .dataframe tbody tr th {\n",
       "        vertical-align: top;\n",
       "    }\n",
       "\n",
       "    .dataframe thead th {\n",
       "        text-align: right;\n",
       "    }\n",
       "</style>\n",
       "<table border=\"1\" class=\"dataframe\">\n",
       "  <thead>\n",
       "    <tr style=\"text-align: right;\">\n",
       "      <th></th>\n",
       "      <th>d_e_Immobility_s</th>\n",
       "      <th>d_total_experimento</th>\n",
       "      <th>path_experimento</th>\n",
       "      <th>id_eto</th>\n",
       "      <th>id_j</th>\n",
       "      <th>sexo</th>\n",
       "      <th>dosagem</th>\n",
       "      <th>unidade</th>\n",
       "    </tr>\n",
       "  </thead>\n",
       "  <tbody>\n",
       "    <tr>\n",
       "      <th>0</th>\n",
       "      <td>32</td>\n",
       "      <td>300.0</td>\n",
       "      <td>C:/Mestrado Oficial Marino/Videos cegados/Cali...</td>\n",
       "      <td>5ea2305793f4d55ef029829b</td>\n",
       "      <td>5ea2305793f4d55ef0298297</td>\n",
       "      <td>macho</td>\n",
       "      <td>flx2.5mg</td>\n",
       "      <td>A1</td>\n",
       "    </tr>\n",
       "    <tr>\n",
       "      <th>1</th>\n",
       "      <td>35</td>\n",
       "      <td>300.0</td>\n",
       "      <td>C:/Mestrado Oficial Marino/Videos cegados/Cali...</td>\n",
       "      <td>5ea2305793f4d55ef02982a4</td>\n",
       "      <td>5ea2305793f4d55ef02982a0</td>\n",
       "      <td>macho</td>\n",
       "      <td>flx2.5mg</td>\n",
       "      <td>A2</td>\n",
       "    </tr>\n",
       "    <tr>\n",
       "      <th>2</th>\n",
       "      <td>120</td>\n",
       "      <td>300.0</td>\n",
       "      <td>C:/Mestrado Oficial Marino/Videos cegados/Cali...</td>\n",
       "      <td>5ea2305893f4d55ef02982c8</td>\n",
       "      <td>5ea2305893f4d55ef02982c4</td>\n",
       "      <td>macho</td>\n",
       "      <td>flx2.5mg</td>\n",
       "      <td>A3</td>\n",
       "    </tr>\n",
       "    <tr>\n",
       "      <th>3</th>\n",
       "      <td>65</td>\n",
       "      <td>300.0</td>\n",
       "      <td>C:/Mestrado Oficial Marino/Videos cegados/Cali...</td>\n",
       "      <td>5ea2305993f4d55ef02982d1</td>\n",
       "      <td>5ea2305993f4d55ef02982cd</td>\n",
       "      <td>macho</td>\n",
       "      <td>flx2.5mg</td>\n",
       "      <td>A4</td>\n",
       "    </tr>\n",
       "    <tr>\n",
       "      <th>4</th>\n",
       "      <td>88</td>\n",
       "      <td>300.0</td>\n",
       "      <td>C:/Mestrado Oficial Marino/Videos cegados/Cali...</td>\n",
       "      <td>5ea2305993f4d55ef02982da</td>\n",
       "      <td>5ea2305993f4d55ef02982d6</td>\n",
       "      <td>macho</td>\n",
       "      <td>flx2.5mg</td>\n",
       "      <td>A5</td>\n",
       "    </tr>\n",
       "    <tr>\n",
       "      <th>5</th>\n",
       "      <td>80</td>\n",
       "      <td>300.0</td>\n",
       "      <td>C:/Mestrado Oficial Marino/Videos cegados/Cali...</td>\n",
       "      <td>5ea2305993f4d55ef02982e3</td>\n",
       "      <td>5ea2305993f4d55ef02982df</td>\n",
       "      <td>macho</td>\n",
       "      <td>flx2.5mg</td>\n",
       "      <td>A6</td>\n",
       "    </tr>\n",
       "  </tbody>\n",
       "</table>\n",
       "</div>"
      ],
      "text/plain": [
       "   d_e_Immobility_s  d_total_experimento  \\\n",
       "0                32                300.0   \n",
       "1                35                300.0   \n",
       "2               120                300.0   \n",
       "3                65                300.0   \n",
       "4                88                300.0   \n",
       "5                80                300.0   \n",
       "\n",
       "                                    path_experimento  \\\n",
       "0  C:/Mestrado Oficial Marino/Videos cegados/Cali...   \n",
       "1  C:/Mestrado Oficial Marino/Videos cegados/Cali...   \n",
       "2  C:/Mestrado Oficial Marino/Videos cegados/Cali...   \n",
       "3  C:/Mestrado Oficial Marino/Videos cegados/Cali...   \n",
       "4  C:/Mestrado Oficial Marino/Videos cegados/Cali...   \n",
       "5  C:/Mestrado Oficial Marino/Videos cegados/Cali...   \n",
       "\n",
       "                     id_eto                      id_j   sexo   dosagem unidade  \n",
       "0  5ea2305793f4d55ef029829b  5ea2305793f4d55ef0298297  macho  flx2.5mg      A1  \n",
       "1  5ea2305793f4d55ef02982a4  5ea2305793f4d55ef02982a0  macho  flx2.5mg      A2  \n",
       "2  5ea2305893f4d55ef02982c8  5ea2305893f4d55ef02982c4  macho  flx2.5mg      A3  \n",
       "3  5ea2305993f4d55ef02982d1  5ea2305993f4d55ef02982cd  macho  flx2.5mg      A4  \n",
       "4  5ea2305993f4d55ef02982da  5ea2305993f4d55ef02982d6  macho  flx2.5mg      A5  \n",
       "5  5ea2305993f4d55ef02982e3  5ea2305993f4d55ef02982df  macho  flx2.5mg      A6  "
      ]
     },
     "execution_count": 6,
     "metadata": {},
     "output_type": "execute_result"
    }
   ],
   "source": [
    "dados_flx = dados_experimento[dados_experimento[\"dosagem\"] ==\"flx2.5mg\"]\n",
    "dados_flx"
   ]
  },
  {
   "cell_type": "code",
   "execution_count": null,
   "metadata": {},
   "outputs": [],
   "source": []
  },
  {
   "cell_type": "code",
   "execution_count": 7,
   "metadata": {},
   "outputs": [],
   "source": [
    "# duracao_imobilidade = dados_veiculo[\"d_e_Immobility_s\"]\n",
    "n_veiculo = dados_veiculo[\"d_total_experimento\"]\n",
    "n_flx = dados_flx[\"d_total_experimento\"]\n",
    "with Model() as imobilidade_model_veiculo:\n",
    "#     probabilidade do animal adotar a postura de imobilidade vai de 0% até 100\n",
    "    p_imobilidade_veiculo = Uniform(\"p_imobilidade_veiculo\", lower=0, upper=1)\n",
    "    imobilidade_dado_p_veiculo = Binomial('imobilidade_dado_p_veiculo', p=p_imobilidade_veiculo, observed=dados_veiculo[\"d_e_Immobility_s\"], n=n_veiculo)\n",
    "    \n",
    "    p_imobilidade_flx = Uniform(\"p_imobilidade_flx\", lower=0, upper=1)\n",
    "    imobilidade_dado_p_flx = Binomial('imobilidade_dado_p_flx', p=p_imobilidade_flx, observed=dados_flx[\"d_e_Immobility_s\"], n=n_flx)\n",
    "    dif_p = Deterministic('dif_p', p_imobilidade_flx - p_imobilidade_veiculo )\n",
    "    \n",
    "    \n",
    "    \n",
    "    #     samples_flx =  fit(random_seed=10000).sample(100000)"
   ]
  },
  {
   "cell_type": "code",
   "execution_count": 8,
   "metadata": {},
   "outputs": [],
   "source": [
    "# with imobilidade_model_veiculo:\n",
    "#     diff_of_means = Deterministic('difference of means', p_imobilidade_flx - p_imobilidade_veiculo)   \n",
    "#     effect_size = Deterministic('effect size',\n",
    "#                                 diff_of_means / np.sqrt((σ_1**2 + σ_0**2) / 2))\n",
    "    \n",
    "    "
   ]
  },
  {
   "cell_type": "code",
   "execution_count": 9,
   "metadata": {},
   "outputs": [
    {
     "data": {
      "text/html": [
       "\n",
       "    <div>\n",
       "        <style>\n",
       "            /* Turns off some styling */\n",
       "            progress {\n",
       "                /* gets rid of default border in Firefox and Opera. */\n",
       "                border: none;\n",
       "                /* Needs to be in here for Safari polyfill so background images work as expected. */\n",
       "                background-size: auto;\n",
       "            }\n",
       "            .progress-bar-interrupted, .progress-bar-interrupted::-webkit-progress-bar {\n",
       "                background: #F44336;\n",
       "            }\n",
       "        </style>\n",
       "      <progress value='10000' class='' max='10000' style='width:300px; height:20px; vertical-align: middle;'></progress>\n",
       "      100.00% [10000/10000 00:27<00:00 Average Loss = 135.36]\n",
       "    </div>\n",
       "    "
      ],
      "text/plain": [
       "<IPython.core.display.HTML object>"
      ]
     },
     "metadata": {},
     "output_type": "display_data"
    },
    {
     "name": "stderr",
     "output_type": "stream",
     "text": [
      "Finished [100%]: Average Loss = 135.34\n"
     ]
    }
   ],
   "source": [
    "tamanho_amostra = 100000\n",
    "with imobilidade_model_veiculo:\n",
    "    samples =  fit(random_seed=10000).sample(tamanho_amostra)"
   ]
  },
  {
   "cell_type": "code",
   "execution_count": 10,
   "metadata": {},
   "outputs": [],
   "source": [
    "from pymc3 import plot_posterior"
   ]
  },
  {
   "cell_type": "code",
   "execution_count": 11,
   "metadata": {},
   "outputs": [
    {
     "name": "stderr",
     "output_type": "stream",
     "text": [
      "/home/jmarcolan/anaconda3/envs/py36u/lib/python3.6/site-packages/pymc3/plots/__init__.py:36: UserWarning: Keyword argument `varnames` renamed to `var_names`, and will be removed in pymc3 3.8\n",
      "  f\"Keyword argument `{old}` renamed to `{new}`, and will be removed in pymc3 3.8\"\n",
      "/home/jmarcolan/anaconda3/envs/py36u/lib/python3.6/site-packages/arviz/data/io_pymc3.py:92: FutureWarning: Using `from_pymc3` without the model will be deprecated in a future release. Not using the model will return less accurate and less useful results. Make sure you use the model argument or call from_pymc3 within a model context.\n",
      "  FutureWarning,\n"
     ]
    },
    {
     "data": {
      "text/plain": [
       "array([<AxesSubplot:title={'center':'p_imobilidade_veiculo'}>,\n",
       "       <AxesSubplot:title={'center':'p_imobilidade_flx'}>], dtype=object)"
      ]
     },
     "execution_count": 11,
     "metadata": {},
     "output_type": "execute_result"
    },
    {
     "data": {
      "image/png": "[encoded data removed]",
      "text/plain": [
       "<Figure size 993.6x331.2 with 2 Axes>"
      ]
     },
     "metadata": {
      "needs_background": "light"
     },
     "output_type": "display_data"
    }
   ],
   "source": [
    "plot_posterior(samples, varnames=[\"p_imobilidade_veiculo\", \"p_imobilidade_flx\"], color=\"LightSeaGreen\")"
   ]
  },
  {
   "cell_type": "code",
   "execution_count": 12,
   "metadata": {},
   "outputs": [
    {
     "name": "stderr",
     "output_type": "stream",
     "text": [
      "/home/jmarcolan/anaconda3/envs/py36u/lib/python3.6/site-packages/arviz/data/io_pymc3.py:92: FutureWarning: Using `from_pymc3` without the model will be deprecated in a future release. Not using the model will return less accurate and less useful results. Make sure you use the model argument or call from_pymc3 within a model context.\n",
      "  FutureWarning,\n"
     ]
    },
    {
     "data": {
      "text/plain": [
       "array([[<AxesSubplot:title={'center':'p_imobilidade_veiculo'}>,\n",
       "        <AxesSubplot:title={'center':'p_imobilidade_veiculo'}>],\n",
       "       [<AxesSubplot:title={'center':'p_imobilidade_flx'}>,\n",
       "        <AxesSubplot:title={'center':'p_imobilidade_flx'}>],\n",
       "       [<AxesSubplot:title={'center':'dif_p'}>,\n",
       "        <AxesSubplot:title={'center':'dif_p'}>]], dtype=object)"
      ]
     },
     "execution_count": 12,
     "metadata": {},
     "output_type": "execute_result"
    },
    {
     "data": {
      "image/png": "[encoded data removed]",
      "text/plain": [
       "<Figure size 864x432 with 6 Axes>"
      ]
     },
     "metadata": {
      "needs_background": "light"
     },
     "output_type": "display_data"
    }
   ],
   "source": [
    "traceplot(samples)"
   ]
  },
  {
   "cell_type": "code",
   "execution_count": 13,
   "metadata": {},
   "outputs": [
    {
     "data": {
      "text/plain": [
       "0.2882240206945801"
      ]
     },
     "execution_count": 13,
     "metadata": {},
     "output_type": "execute_result"
    }
   ],
   "source": [
    "np.mean(samples[\"p_imobilidade_veiculo\"])"
   ]
  },
  {
   "cell_type": "code",
   "execution_count": 14,
   "metadata": {},
   "outputs": [],
   "source": [
    "def calculo_tamanho_efeito(veiculo, tratado):\n",
    "    m_veiculo = np.mean(veiculo)\n",
    "    m_tratado = np.mean(tratado)\n",
    "    var_veiculo = np.var(veiculo)\n",
    "    var_tratado = np.var(tratado)\n",
    "    # cohen tamanho do efeito, simplificado.\n",
    "    diff_of_means =  m_tratado - m_veiculo\n",
    "    effect_size = diff_of_means / np.sqrt((var_veiculo + var_tratado) / 2)\n",
    "    return effect_size"
   ]
  },
  {
   "cell_type": "code",
   "execution_count": null,
   "metadata": {},
   "outputs": [],
   "source": []
  },
  {
   "cell_type": "code",
   "execution_count": null,
   "metadata": {},
   "outputs": [],
   "source": []
  },
  {
   "cell_type": "code",
   "execution_count": 15,
   "metadata": {},
   "outputs": [
    {
     "name": "stdout",
     "output_type": "stream",
     "text": [
      "O tamanho do efeito, usando a formula de Cohen, foi de: -1.9622034920351035 . Medido em des\n"
     ]
    }
   ],
   "source": [
    "print(f'O tamanho do efeito, usando a formula de Cohen, foi de: {calculo_tamanho_efeito(samples[\"p_imobilidade_veiculo\"], samples[\"p_imobilidade_flx\"])} . Medido em des')"
   ]
  },
  {
   "cell_type": "code",
   "execution_count": 16,
   "metadata": {},
   "outputs": [],
   "source": [
    "from matplotlib.pyplot import figure"
   ]
  },
  {
   "cell_type": "code",
   "execution_count": 17,
   "metadata": {},
   "outputs": [
    {
     "data": {
      "image/png": "[encoded data removed]",
      "text/plain": [
       "<Figure size 640x480 with 1 Axes>"
      ]
     },
     "metadata": {},
     "output_type": "display_data"
    }
   ],
   "source": [
    "figure(num=None, figsize=(8, 6), dpi=80, facecolor='w', edgecolor='k')\n",
    "plt.hist( samples[\"p_imobilidade_flx\"], bins= 100,\n",
    "         weights=np.full(tamanho_amostra , 1/tamanho_amostra), label=\"fluoxetina2.5mg\", alpha=0.5)\n",
    "plt.hist( samples[\"p_imobilidade_veiculo\"], bins= 100, \n",
    "         weights=np.full(tamanho_amostra , 1/tamanho_amostra), label=\"veiculo\", alpha=0.5)\n",
    "plt.hist( samples[\"dif_p\"], bins= 100, \n",
    "         weights=np.full(tamanho_amostra , 1/tamanho_amostra), label=\"diferenca fluoxetina veiculo\", alpha=0.3)\n",
    "\n",
    "\n",
    "plt.title(\"Distribuição a posteriori da probabilidade de expressão do comportamento de imobilidade de machos no TNF\")\n",
    "plt.ylabel(\"Distribuição da probabilidade de expressão da imobilidade\")\n",
    "plt.xlabel(\"Probabilidade da expressão de imobilidade a cada segundo de análise\")\n",
    "plt.legend()\n",
    "plt.show()"
   ]
  },
  {
   "cell_type": "code",
   "execution_count": null,
   "metadata": {},
   "outputs": [],
   "source": []
  },
  {
   "cell_type": "code",
   "execution_count": 18,
   "metadata": {},
   "outputs": [
    {
     "name": "stdout",
     "output_type": "stream",
     "text": [
      "O tamanho do efeito, usando a formula de Cohen, foi de: -1.9622034920351035 . Medido em desvio padrão\n"
     ]
    }
   ],
   "source": [
    "print(f'O tamanho do efeito, usando a formula de Cohen, foi de: {calculo_tamanho_efeito(samples[\"p_imobilidade_veiculo\"], samples[\"p_imobilidade_flx\"])} . Medido em desvio padrão')"
   ]
  },
  {
   "cell_type": "code",
   "execution_count": 19,
   "metadata": {},
   "outputs": [
    {
     "name": "stdout",
     "output_type": "stream",
     "text": [
      "A diferença entre o controle e o tratado ser menor que 0 é de : 91.794%\n"
     ]
    }
   ],
   "source": [
    "dif = samples[\"dif_p\"]\n",
    "tamanho_amostra = len(dif) \n",
    "filt_dif = dif <0 \n",
    "\n",
    "menor_0 = len(dif[filt_dif])\n",
    "p_ser_menor_0 = menor_0 /tamanho_amostra\n",
    "\n",
    "print(f\"A diferença entre o controle e o tratado ser menor que 0 é de : {100*p_ser_menor_0}%\")"
   ]
  },
  {
   "cell_type": "code",
   "execution_count": 20,
   "metadata": {},
   "outputs": [
    {
     "name": "stdout",
     "output_type": "stream",
     "text": [
      "A probabilidade de que a diferença entre o controle e o tratado ser maior que 0 é de : 8.206%\n"
     ]
    }
   ],
   "source": [
    "filt_dif_maior = dif >0 \n",
    "\n",
    "maior_0 = len(dif[filt_dif_maior])\n",
    "p_ser_maior_0 = maior_0 /tamanho_amostra\n",
    "\n",
    "\n",
    "print(f\"A probabilidade de que a diferença entre o controle e o tratado ser maior que 0 é de : {100*p_ser_maior_0}%\")"
   ]
  },
  {
   "cell_type": "code",
   "execution_count": 21,
   "metadata": {},
   "outputs": [],
   "source": [
    "import pandas as pd"
   ]
  },
  {
   "cell_type": "code",
   "execution_count": 22,
   "metadata": {},
   "outputs": [],
   "source": [
    "df = pd.DataFrame()"
   ]
  },
  {
   "cell_type": "code",
   "execution_count": 23,
   "metadata": {},
   "outputs": [
    {
     "data": {
      "text/html": [
       "<div>\n",
       "<style scoped>\n",
       "    .dataframe tbody tr th:only-of-type {\n",
       "        vertical-align: middle;\n",
       "    }\n",
       "\n",
       "    .dataframe tbody tr th {\n",
       "        vertical-align: top;\n",
       "    }\n",
       "\n",
       "    .dataframe thead th {\n",
       "        text-align: right;\n",
       "    }\n",
       "</style>\n",
       "<table border=\"1\" class=\"dataframe\">\n",
       "  <thead>\n",
       "    <tr style=\"text-align: right;\">\n",
       "      <th></th>\n",
       "      <th>macho_p_imobilidade_flx</th>\n",
       "      <th>macho_p_imobilidade_veiculo</th>\n",
       "      <th>macho_dif_p</th>\n",
       "    </tr>\n",
       "  </thead>\n",
       "  <tbody>\n",
       "    <tr>\n",
       "      <th>0</th>\n",
       "      <td>0.294895</td>\n",
       "      <td>0.303008</td>\n",
       "      <td>-0.008113</td>\n",
       "    </tr>\n",
       "    <tr>\n",
       "      <th>1</th>\n",
       "      <td>0.229780</td>\n",
       "      <td>0.317713</td>\n",
       "      <td>-0.087933</td>\n",
       "    </tr>\n",
       "    <tr>\n",
       "      <th>2</th>\n",
       "      <td>0.164747</td>\n",
       "      <td>0.263492</td>\n",
       "      <td>-0.098745</td>\n",
       "    </tr>\n",
       "    <tr>\n",
       "      <th>3</th>\n",
       "      <td>0.228981</td>\n",
       "      <td>0.294211</td>\n",
       "      <td>-0.065230</td>\n",
       "    </tr>\n",
       "    <tr>\n",
       "      <th>4</th>\n",
       "      <td>0.235410</td>\n",
       "      <td>0.277256</td>\n",
       "      <td>-0.041846</td>\n",
       "    </tr>\n",
       "  </tbody>\n",
       "</table>\n",
       "</div>"
      ],
      "text/plain": [
       "   macho_p_imobilidade_flx  macho_p_imobilidade_veiculo  macho_dif_p\n",
       "0                 0.294895                     0.303008    -0.008113\n",
       "1                 0.229780                     0.317713    -0.087933\n",
       "2                 0.164747                     0.263492    -0.098745\n",
       "3                 0.228981                     0.294211    -0.065230\n",
       "4                 0.235410                     0.277256    -0.041846"
      ]
     },
     "execution_count": 23,
     "metadata": {},
     "output_type": "execute_result"
    }
   ],
   "source": [
    "df[\"macho_p_imobilidade_flx\"] = samples[\"p_imobilidade_flx\"]\n",
    "df[\"macho_p_imobilidade_veiculo\"] = samples[\"p_imobilidade_veiculo\"]\n",
    "df[\"macho_dif_p\"] = samples[\"dif_p\"]\n",
    "df.head()"
   ]
  },
  {
   "cell_type": "code",
   "execution_count": 24,
   "metadata": {},
   "outputs": [],
   "source": [
    "df.to_csv(\"macho_bayes.csv\", index= False)"
   ]
  }
 ],
 "metadata": {
  "kernelspec": {
   "display_name": "Python 3 (ipykernel)",
   "language": "python",
   "name": "python3"
  },
  "language_info": {
   "codemirror_mode": {
    "name": "ipython",
    "version": 3
   },
   "file_extension": ".py",
   "mimetype": "text/x-python",
   "name": "python",
   "nbconvert_exporter": "python",
   "pygments_lexer": "ipython3",
   "version": "3.8.12"
  }
 },
 "nbformat": 4,
 "nbformat_minor": 4
}
