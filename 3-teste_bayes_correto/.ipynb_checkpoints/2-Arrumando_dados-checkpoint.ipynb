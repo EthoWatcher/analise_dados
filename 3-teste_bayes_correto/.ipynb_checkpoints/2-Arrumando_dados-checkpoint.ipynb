{
 "cells": [
  {
   "cell_type": "code",
   "execution_count": 1,
   "metadata": {},
   "outputs": [],
   "source": [
    "import pandas as pd\n"
   ]
  },
  {
   "cell_type": "code",
   "execution_count": 2,
   "metadata": {},
   "outputs": [],
   "source": [
    "df_femea = pd.read_csv(\"macho_bayes.csv\")\n",
    "df_macho = pd.read_csv(\"femea_bayes.csv\")"
   ]
  },
  {
   "cell_type": "code",
   "execution_count": 3,
   "metadata": {},
   "outputs": [
    {
     "data": {
      "text/html": [
       "<div>\n",
       "<style scoped>\n",
       "    .dataframe tbody tr th:only-of-type {\n",
       "        vertical-align: middle;\n",
       "    }\n",
       "\n",
       "    .dataframe tbody tr th {\n",
       "        vertical-align: top;\n",
       "    }\n",
       "\n",
       "    .dataframe thead th {\n",
       "        text-align: right;\n",
       "    }\n",
       "</style>\n",
       "<table border=\"1\" class=\"dataframe\">\n",
       "  <thead>\n",
       "    <tr style=\"text-align: right;\">\n",
       "      <th></th>\n",
       "      <th>macho_p_imobilidade_flx</th>\n",
       "      <th>macho_p_imobilidade_veiculo</th>\n",
       "      <th>macho_dif_p</th>\n",
       "    </tr>\n",
       "  </thead>\n",
       "  <tbody>\n",
       "    <tr>\n",
       "      <th>0</th>\n",
       "      <td>0.294895</td>\n",
       "      <td>0.303008</td>\n",
       "      <td>-0.008113</td>\n",
       "    </tr>\n",
       "    <tr>\n",
       "      <th>1</th>\n",
       "      <td>0.229780</td>\n",
       "      <td>0.317713</td>\n",
       "      <td>-0.087933</td>\n",
       "    </tr>\n",
       "    <tr>\n",
       "      <th>2</th>\n",
       "      <td>0.164747</td>\n",
       "      <td>0.263492</td>\n",
       "      <td>-0.098745</td>\n",
       "    </tr>\n",
       "    <tr>\n",
       "      <th>3</th>\n",
       "      <td>0.228981</td>\n",
       "      <td>0.294211</td>\n",
       "      <td>-0.065230</td>\n",
       "    </tr>\n",
       "    <tr>\n",
       "      <th>4</th>\n",
       "      <td>0.235410</td>\n",
       "      <td>0.277256</td>\n",
       "      <td>-0.041846</td>\n",
       "    </tr>\n",
       "  </tbody>\n",
       "</table>\n",
       "</div>"
      ],
      "text/plain": [
       "   macho_p_imobilidade_flx  macho_p_imobilidade_veiculo  macho_dif_p\n",
       "0                 0.294895                     0.303008    -0.008113\n",
       "1                 0.229780                     0.317713    -0.087933\n",
       "2                 0.164747                     0.263492    -0.098745\n",
       "3                 0.228981                     0.294211    -0.065230\n",
       "4                 0.235410                     0.277256    -0.041846"
      ]
     },
     "execution_count": 3,
     "metadata": {},
     "output_type": "execute_result"
    }
   ],
   "source": [
    "df_femea.head()"
   ]
  },
  {
   "cell_type": "code",
   "execution_count": 4,
   "metadata": {},
   "outputs": [
    {
     "data": {
      "text/html": [
       "<div>\n",
       "<style scoped>\n",
       "    .dataframe tbody tr th:only-of-type {\n",
       "        vertical-align: middle;\n",
       "    }\n",
       "\n",
       "    .dataframe tbody tr th {\n",
       "        vertical-align: top;\n",
       "    }\n",
       "\n",
       "    .dataframe thead th {\n",
       "        text-align: right;\n",
       "    }\n",
       "</style>\n",
       "<table border=\"1\" class=\"dataframe\">\n",
       "  <thead>\n",
       "    <tr style=\"text-align: right;\">\n",
       "      <th></th>\n",
       "      <th>femea_p_imobilidade_flx</th>\n",
       "      <th>femea_p_imobilidade_veiculo</th>\n",
       "      <th>femea_dif_p</th>\n",
       "    </tr>\n",
       "  </thead>\n",
       "  <tbody>\n",
       "    <tr>\n",
       "      <th>0</th>\n",
       "      <td>0.313319</td>\n",
       "      <td>0.313710</td>\n",
       "      <td>-0.000391</td>\n",
       "    </tr>\n",
       "    <tr>\n",
       "      <th>1</th>\n",
       "      <td>0.327894</td>\n",
       "      <td>0.249025</td>\n",
       "      <td>0.078869</td>\n",
       "    </tr>\n",
       "    <tr>\n",
       "      <th>2</th>\n",
       "      <td>0.273994</td>\n",
       "      <td>0.182879</td>\n",
       "      <td>0.091115</td>\n",
       "    </tr>\n",
       "    <tr>\n",
       "      <th>3</th>\n",
       "      <td>0.304585</td>\n",
       "      <td>0.248223</td>\n",
       "      <td>0.056362</td>\n",
       "    </tr>\n",
       "    <tr>\n",
       "      <th>4</th>\n",
       "      <td>0.287720</td>\n",
       "      <td>0.254672</td>\n",
       "      <td>0.033047</td>\n",
       "    </tr>\n",
       "  </tbody>\n",
       "</table>\n",
       "</div>"
      ],
      "text/plain": [
       "   femea_p_imobilidade_flx  femea_p_imobilidade_veiculo  femea_dif_p\n",
       "0                 0.313319                     0.313710    -0.000391\n",
       "1                 0.327894                     0.249025     0.078869\n",
       "2                 0.273994                     0.182879     0.091115\n",
       "3                 0.304585                     0.248223     0.056362\n",
       "4                 0.287720                     0.254672     0.033047"
      ]
     },
     "execution_count": 4,
     "metadata": {},
     "output_type": "execute_result"
    }
   ],
   "source": [
    "df_macho.head()"
   ]
  },
  {
   "cell_type": "code",
   "execution_count": 5,
   "metadata": {},
   "outputs": [],
   "source": [
    "result = pd.concat([df_femea, df_macho], axis=1, sort=False)"
   ]
  },
  {
   "cell_type": "code",
   "execution_count": 6,
   "metadata": {},
   "outputs": [],
   "source": [
    "result.to_csv(\"resultado_bayes.csv\", index = False)"
   ]
  }
 ],
 "metadata": {
  "kernelspec": {
   "display_name": "Python 3",
   "language": "python",
   "name": "python3"
  },
  "language_info": {
   "codemirror_mode": {
    "name": "ipython",
    "version": 3
   },
   "file_extension": ".py",
   "mimetype": "text/x-python",
   "name": "python",
   "nbconvert_exporter": "python",
   "pygments_lexer": "ipython3",
   "version": "3.6.12"
  }
 },
 "nbformat": 4,
 "nbformat_minor": 4
}
