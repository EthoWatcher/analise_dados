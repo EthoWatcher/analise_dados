{
 "cells": [
  {
   "cell_type": "code",
   "execution_count": 1,
   "metadata": {},
   "outputs": [
    {
     "name": "stderr",
     "output_type": "stream",
     "text": [
      "WARNING (theano.tensor.blas): Using NumPy C-API based implementation for BLAS functions.\n"
     ]
    }
   ],
   "source": [
    "from pymc3 import Model, Uniform, Normal, Binomial, traceplot\n",
    "from pymc3 import fit\n",
    "from pymc3 import Deterministic"
   ]
  },
  {
   "cell_type": "code",
   "execution_count": 2,
   "metadata": {},
   "outputs": [],
   "source": [
    "import numpy as np\n",
    "import pandas as pd \n",
    "import matplotlib.pyplot as plt\n",
    "import math"
   ]
  },
  {
   "cell_type": "code",
   "execution_count": 3,
   "metadata": {},
   "outputs": [
    {
     "data": {
      "text/html": [
       "<div>\n",
       "<style scoped>\n",
       "    .dataframe tbody tr th:only-of-type {\n",
       "        vertical-align: middle;\n",
       "    }\n",
       "\n",
       "    .dataframe tbody tr th {\n",
       "        vertical-align: top;\n",
       "    }\n",
       "\n",
       "    .dataframe thead th {\n",
       "        text-align: right;\n",
       "    }\n",
       "</style>\n",
       "<table border=\"1\" class=\"dataframe\">\n",
       "  <thead>\n",
       "    <tr style=\"text-align: right;\">\n",
       "      <th></th>\n",
       "      <th>d_e_Immobility_s</th>\n",
       "      <th>d_total_experimento</th>\n",
       "      <th>path_experimento</th>\n",
       "      <th>id_eto</th>\n",
       "      <th>id_j</th>\n",
       "      <th>sexo</th>\n",
       "      <th>dosagem</th>\n",
       "      <th>unidade</th>\n",
       "    </tr>\n",
       "  </thead>\n",
       "  <tbody>\n",
       "    <tr>\n",
       "      <th>0</th>\n",
       "      <td>72.500000</td>\n",
       "      <td>300.0</td>\n",
       "      <td>C:/Mestrado Oficial Marino/Videos cegados/Cali...</td>\n",
       "      <td>5ea2305b93f4d55ef0298307</td>\n",
       "      <td>5ea2305b93f4d55ef0298303</td>\n",
       "      <td>femea</td>\n",
       "      <td>flx2.5mg</td>\n",
       "      <td>A1</td>\n",
       "    </tr>\n",
       "    <tr>\n",
       "      <th>1</th>\n",
       "      <td>40.000000</td>\n",
       "      <td>300.0</td>\n",
       "      <td>C:/Mestrado Oficial Marino/Videos cegados/Cali...</td>\n",
       "      <td>5ea2305b93f4d55ef0298310</td>\n",
       "      <td>5ea2305b93f4d55ef029830c</td>\n",
       "      <td>femea</td>\n",
       "      <td>flx2.5mg</td>\n",
       "      <td>A2</td>\n",
       "    </tr>\n",
       "    <tr>\n",
       "      <th>2</th>\n",
       "      <td>124.666667</td>\n",
       "      <td>300.0</td>\n",
       "      <td>C:/Mestrado Oficial Marino/Videos cegados/Cali...</td>\n",
       "      <td>5ea2305b93f4d55ef0298319</td>\n",
       "      <td>5ea2305b93f4d55ef0298315</td>\n",
       "      <td>femea</td>\n",
       "      <td>flx2.5mg</td>\n",
       "      <td>A3</td>\n",
       "    </tr>\n",
       "    <tr>\n",
       "      <th>3</th>\n",
       "      <td>101.500000</td>\n",
       "      <td>300.0</td>\n",
       "      <td>C:/Mestrado Oficial Marino/Videos cegados/Cali...</td>\n",
       "      <td>5ea2305c93f4d55ef0298322</td>\n",
       "      <td>5ea2305c93f4d55ef029831e</td>\n",
       "      <td>femea</td>\n",
       "      <td>flx2.5mg</td>\n",
       "      <td>A4</td>\n",
       "    </tr>\n",
       "    <tr>\n",
       "      <th>4</th>\n",
       "      <td>38.766667</td>\n",
       "      <td>300.0</td>\n",
       "      <td>C:/Mestrado Oficial Marino/Videos cegados/Cali...</td>\n",
       "      <td>5ea2305c93f4d55ef029832b</td>\n",
       "      <td>5ea2305c93f4d55ef0298327</td>\n",
       "      <td>femea</td>\n",
       "      <td>flx2.5mg</td>\n",
       "      <td>A5</td>\n",
       "    </tr>\n",
       "    <tr>\n",
       "      <th>5</th>\n",
       "      <td>63.800000</td>\n",
       "      <td>300.0</td>\n",
       "      <td>C:/Mestrado Oficial Marino/Videos cegados/Cali...</td>\n",
       "      <td>5ea2305c93f4d55ef0298334</td>\n",
       "      <td>5ea2305c93f4d55ef0298330</td>\n",
       "      <td>femea</td>\n",
       "      <td>flx2.5mg</td>\n",
       "      <td>A6</td>\n",
       "    </tr>\n",
       "    <tr>\n",
       "      <th>6</th>\n",
       "      <td>68.666667</td>\n",
       "      <td>300.0</td>\n",
       "      <td>C:/Mestrado Oficial Marino/Videos cegados/Cali...</td>\n",
       "      <td>5ea2305d93f4d55ef029833d</td>\n",
       "      <td>5ea2305d93f4d55ef0298339</td>\n",
       "      <td>femea</td>\n",
       "      <td>flx2.5mg</td>\n",
       "      <td>A7</td>\n",
       "    </tr>\n",
       "    <tr>\n",
       "      <th>7</th>\n",
       "      <td>200.166667</td>\n",
       "      <td>300.0</td>\n",
       "      <td>C:/Mestrado Oficial Marino/Videos cegados/Cali...</td>\n",
       "      <td>5ea2305d93f4d55ef0298346</td>\n",
       "      <td>5ea2305d93f4d55ef0298342</td>\n",
       "      <td>femea</td>\n",
       "      <td>flx2.5mg</td>\n",
       "      <td>A8</td>\n",
       "    </tr>\n",
       "    <tr>\n",
       "      <th>8</th>\n",
       "      <td>51.300000</td>\n",
       "      <td>300.0</td>\n",
       "      <td>C:/Mestrado Oficial Marino/Videos cegados/Cali...</td>\n",
       "      <td>5ea2305f93f4d55ef0298385</td>\n",
       "      <td>5ea2305f93f4d55ef0298381</td>\n",
       "      <td>femea</td>\n",
       "      <td>veiculo</td>\n",
       "      <td>A1</td>\n",
       "    </tr>\n",
       "    <tr>\n",
       "      <th>9</th>\n",
       "      <td>82.933333</td>\n",
       "      <td>300.0</td>\n",
       "      <td>C:/Mestrado Oficial Marino/Videos cegados/Cali...</td>\n",
       "      <td>5ea2306093f4d55ef029838e</td>\n",
       "      <td>5ea2306093f4d55ef029838a</td>\n",
       "      <td>femea</td>\n",
       "      <td>veiculo</td>\n",
       "      <td>A2</td>\n",
       "    </tr>\n",
       "    <tr>\n",
       "      <th>10</th>\n",
       "      <td>85.200000</td>\n",
       "      <td>300.0</td>\n",
       "      <td>C:/Mestrado Oficial Marino/Videos cegados/Cali...</td>\n",
       "      <td>5ea2306093f4d55ef0298397</td>\n",
       "      <td>5ea2306093f4d55ef0298393</td>\n",
       "      <td>femea</td>\n",
       "      <td>veiculo</td>\n",
       "      <td>A3</td>\n",
       "    </tr>\n",
       "    <tr>\n",
       "      <th>11</th>\n",
       "      <td>48.133333</td>\n",
       "      <td>300.0</td>\n",
       "      <td>C:/Mestrado Oficial Marino/Videos cegados/Cali...</td>\n",
       "      <td>5ea2306193f4d55ef02983a0</td>\n",
       "      <td>5ea2306193f4d55ef029839c</td>\n",
       "      <td>femea</td>\n",
       "      <td>veiculo</td>\n",
       "      <td>A4</td>\n",
       "    </tr>\n",
       "    <tr>\n",
       "      <th>12</th>\n",
       "      <td>34.100000</td>\n",
       "      <td>300.0</td>\n",
       "      <td>C:/Mestrado Oficial Marino/Videos cegados/Cali...</td>\n",
       "      <td>5ea2306193f4d55ef02983a9</td>\n",
       "      <td>5ea2306193f4d55ef02983a5</td>\n",
       "      <td>femea</td>\n",
       "      <td>veiculo</td>\n",
       "      <td>A5</td>\n",
       "    </tr>\n",
       "    <tr>\n",
       "      <th>13</th>\n",
       "      <td>75.166667</td>\n",
       "      <td>300.0</td>\n",
       "      <td>C:/Mestrado Oficial Marino/Videos cegados/Cali...</td>\n",
       "      <td>5ea2306193f4d55ef02983b2</td>\n",
       "      <td>5ea2306193f4d55ef02983ae</td>\n",
       "      <td>femea</td>\n",
       "      <td>veiculo</td>\n",
       "      <td>A6</td>\n",
       "    </tr>\n",
       "    <tr>\n",
       "      <th>14</th>\n",
       "      <td>116.366667</td>\n",
       "      <td>300.0</td>\n",
       "      <td>C:/Mestrado Oficial Marino/Videos cegados/Cali...</td>\n",
       "      <td>5ea2306293f4d55ef02983bb</td>\n",
       "      <td>5ea2306293f4d55ef02983b7</td>\n",
       "      <td>femea</td>\n",
       "      <td>veiculo</td>\n",
       "      <td>A7</td>\n",
       "    </tr>\n",
       "    <tr>\n",
       "      <th>15</th>\n",
       "      <td>107.933333</td>\n",
       "      <td>300.0</td>\n",
       "      <td>C:/Mestrado Oficial Marino/Videos cegados/Cali...</td>\n",
       "      <td>5ea2306293f4d55ef02983c4</td>\n",
       "      <td>5ea2306293f4d55ef02983c0</td>\n",
       "      <td>femea</td>\n",
       "      <td>veiculo</td>\n",
       "      <td>A8</td>\n",
       "    </tr>\n",
       "    <tr>\n",
       "      <th>16</th>\n",
       "      <td>75.533333</td>\n",
       "      <td>300.0</td>\n",
       "      <td>C:/Mestrado Oficial Marino/Videos cegados/Cali...</td>\n",
       "      <td>5ea2306293f4d55ef02983cd</td>\n",
       "      <td>5ea2306293f4d55ef02983c9</td>\n",
       "      <td>femea</td>\n",
       "      <td>veiculo</td>\n",
       "      <td>A9</td>\n",
       "    </tr>\n",
       "  </tbody>\n",
       "</table>\n",
       "</div>"
      ],
      "text/plain": [
       "    d_e_Immobility_s  d_total_experimento  \\\n",
       "0          72.500000                300.0   \n",
       "1          40.000000                300.0   \n",
       "2         124.666667                300.0   \n",
       "3         101.500000                300.0   \n",
       "4          38.766667                300.0   \n",
       "5          63.800000                300.0   \n",
       "6          68.666667                300.0   \n",
       "7         200.166667                300.0   \n",
       "8          51.300000                300.0   \n",
       "9          82.933333                300.0   \n",
       "10         85.200000                300.0   \n",
       "11         48.133333                300.0   \n",
       "12         34.100000                300.0   \n",
       "13         75.166667                300.0   \n",
       "14        116.366667                300.0   \n",
       "15        107.933333                300.0   \n",
       "16         75.533333                300.0   \n",
       "\n",
       "                                     path_experimento  \\\n",
       "0   C:/Mestrado Oficial Marino/Videos cegados/Cali...   \n",
       "1   C:/Mestrado Oficial Marino/Videos cegados/Cali...   \n",
       "2   C:/Mestrado Oficial Marino/Videos cegados/Cali...   \n",
       "3   C:/Mestrado Oficial Marino/Videos cegados/Cali...   \n",
       "4   C:/Mestrado Oficial Marino/Videos cegados/Cali...   \n",
       "5   C:/Mestrado Oficial Marino/Videos cegados/Cali...   \n",
       "6   C:/Mestrado Oficial Marino/Videos cegados/Cali...   \n",
       "7   C:/Mestrado Oficial Marino/Videos cegados/Cali...   \n",
       "8   C:/Mestrado Oficial Marino/Videos cegados/Cali...   \n",
       "9   C:/Mestrado Oficial Marino/Videos cegados/Cali...   \n",
       "10  C:/Mestrado Oficial Marino/Videos cegados/Cali...   \n",
       "11  C:/Mestrado Oficial Marino/Videos cegados/Cali...   \n",
       "12  C:/Mestrado Oficial Marino/Videos cegados/Cali...   \n",
       "13  C:/Mestrado Oficial Marino/Videos cegados/Cali...   \n",
       "14  C:/Mestrado Oficial Marino/Videos cegados/Cali...   \n",
       "15  C:/Mestrado Oficial Marino/Videos cegados/Cali...   \n",
       "16  C:/Mestrado Oficial Marino/Videos cegados/Cali...   \n",
       "\n",
       "                      id_eto                      id_j   sexo   dosagem  \\\n",
       "0   5ea2305b93f4d55ef0298307  5ea2305b93f4d55ef0298303  femea  flx2.5mg   \n",
       "1   5ea2305b93f4d55ef0298310  5ea2305b93f4d55ef029830c  femea  flx2.5mg   \n",
       "2   5ea2305b93f4d55ef0298319  5ea2305b93f4d55ef0298315  femea  flx2.5mg   \n",
       "3   5ea2305c93f4d55ef0298322  5ea2305c93f4d55ef029831e  femea  flx2.5mg   \n",
       "4   5ea2305c93f4d55ef029832b  5ea2305c93f4d55ef0298327  femea  flx2.5mg   \n",
       "5   5ea2305c93f4d55ef0298334  5ea2305c93f4d55ef0298330  femea  flx2.5mg   \n",
       "6   5ea2305d93f4d55ef029833d  5ea2305d93f4d55ef0298339  femea  flx2.5mg   \n",
       "7   5ea2305d93f4d55ef0298346  5ea2305d93f4d55ef0298342  femea  flx2.5mg   \n",
       "8   5ea2305f93f4d55ef0298385  5ea2305f93f4d55ef0298381  femea   veiculo   \n",
       "9   5ea2306093f4d55ef029838e  5ea2306093f4d55ef029838a  femea   veiculo   \n",
       "10  5ea2306093f4d55ef0298397  5ea2306093f4d55ef0298393  femea   veiculo   \n",
       "11  5ea2306193f4d55ef02983a0  5ea2306193f4d55ef029839c  femea   veiculo   \n",
       "12  5ea2306193f4d55ef02983a9  5ea2306193f4d55ef02983a5  femea   veiculo   \n",
       "13  5ea2306193f4d55ef02983b2  5ea2306193f4d55ef02983ae  femea   veiculo   \n",
       "14  5ea2306293f4d55ef02983bb  5ea2306293f4d55ef02983b7  femea   veiculo   \n",
       "15  5ea2306293f4d55ef02983c4  5ea2306293f4d55ef02983c0  femea   veiculo   \n",
       "16  5ea2306293f4d55ef02983cd  5ea2306293f4d55ef02983c9  femea   veiculo   \n",
       "\n",
       "   unidade  \n",
       "0       A1  \n",
       "1       A2  \n",
       "2       A3  \n",
       "3       A4  \n",
       "4       A5  \n",
       "5       A6  \n",
       "6       A7  \n",
       "7       A8  \n",
       "8       A1  \n",
       "9       A2  \n",
       "10      A3  \n",
       "11      A4  \n",
       "12      A5  \n",
       "13      A6  \n",
       "14      A7  \n",
       "15      A8  \n",
       "16      A9  "
      ]
     },
     "execution_count": 3,
     "metadata": {},
     "output_type": "execute_result"
    }
   ],
   "source": [
    "dados_experimento = pd.read_csv(\"Dados_duracao_femea.csv\")\n",
    "\n",
    "\n",
    "\n",
    "def map_300_all(x):\n",
    "    return 300.0\n",
    "\n",
    "\n",
    "dados_experimento[\"d_total_experimento\" ] = dados_experimento[\"d_total_experimento\"].apply(map_300_all)\n",
    "\n",
    "dados_experimento"
   ]
  },
  {
   "cell_type": "code",
   "execution_count": 4,
   "metadata": {},
   "outputs": [],
   "source": [
    "# Arrendondando os valores"
   ]
  },
  {
   "cell_type": "code",
   "execution_count": 5,
   "metadata": {},
   "outputs": [],
   "source": [
    "dados_experimento[\"d_e_Immobility_s\"] = dados_experimento[\"d_e_Immobility_s\"].apply(math.ceil)"
   ]
  },
  {
   "cell_type": "code",
   "execution_count": 6,
   "metadata": {},
   "outputs": [
    {
     "data": {
      "text/html": [
       "<div>\n",
       "<style scoped>\n",
       "    .dataframe tbody tr th:only-of-type {\n",
       "        vertical-align: middle;\n",
       "    }\n",
       "\n",
       "    .dataframe tbody tr th {\n",
       "        vertical-align: top;\n",
       "    }\n",
       "\n",
       "    .dataframe thead th {\n",
       "        text-align: right;\n",
       "    }\n",
       "</style>\n",
       "<table border=\"1\" class=\"dataframe\">\n",
       "  <thead>\n",
       "    <tr style=\"text-align: right;\">\n",
       "      <th></th>\n",
       "      <th>d_e_Immobility_s</th>\n",
       "      <th>d_total_experimento</th>\n",
       "      <th>path_experimento</th>\n",
       "      <th>id_eto</th>\n",
       "      <th>id_j</th>\n",
       "      <th>sexo</th>\n",
       "      <th>dosagem</th>\n",
       "      <th>unidade</th>\n",
       "    </tr>\n",
       "  </thead>\n",
       "  <tbody>\n",
       "    <tr>\n",
       "      <th>0</th>\n",
       "      <td>73</td>\n",
       "      <td>300.0</td>\n",
       "      <td>C:/Mestrado Oficial Marino/Videos cegados/Cali...</td>\n",
       "      <td>5ea2305b93f4d55ef0298307</td>\n",
       "      <td>5ea2305b93f4d55ef0298303</td>\n",
       "      <td>femea</td>\n",
       "      <td>flx2.5mg</td>\n",
       "      <td>A1</td>\n",
       "    </tr>\n",
       "    <tr>\n",
       "      <th>1</th>\n",
       "      <td>40</td>\n",
       "      <td>300.0</td>\n",
       "      <td>C:/Mestrado Oficial Marino/Videos cegados/Cali...</td>\n",
       "      <td>5ea2305b93f4d55ef0298310</td>\n",
       "      <td>5ea2305b93f4d55ef029830c</td>\n",
       "      <td>femea</td>\n",
       "      <td>flx2.5mg</td>\n",
       "      <td>A2</td>\n",
       "    </tr>\n",
       "    <tr>\n",
       "      <th>2</th>\n",
       "      <td>125</td>\n",
       "      <td>300.0</td>\n",
       "      <td>C:/Mestrado Oficial Marino/Videos cegados/Cali...</td>\n",
       "      <td>5ea2305b93f4d55ef0298319</td>\n",
       "      <td>5ea2305b93f4d55ef0298315</td>\n",
       "      <td>femea</td>\n",
       "      <td>flx2.5mg</td>\n",
       "      <td>A3</td>\n",
       "    </tr>\n",
       "    <tr>\n",
       "      <th>3</th>\n",
       "      <td>102</td>\n",
       "      <td>300.0</td>\n",
       "      <td>C:/Mestrado Oficial Marino/Videos cegados/Cali...</td>\n",
       "      <td>5ea2305c93f4d55ef0298322</td>\n",
       "      <td>5ea2305c93f4d55ef029831e</td>\n",
       "      <td>femea</td>\n",
       "      <td>flx2.5mg</td>\n",
       "      <td>A4</td>\n",
       "    </tr>\n",
       "    <tr>\n",
       "      <th>4</th>\n",
       "      <td>39</td>\n",
       "      <td>300.0</td>\n",
       "      <td>C:/Mestrado Oficial Marino/Videos cegados/Cali...</td>\n",
       "      <td>5ea2305c93f4d55ef029832b</td>\n",
       "      <td>5ea2305c93f4d55ef0298327</td>\n",
       "      <td>femea</td>\n",
       "      <td>flx2.5mg</td>\n",
       "      <td>A5</td>\n",
       "    </tr>\n",
       "  </tbody>\n",
       "</table>\n",
       "</div>"
      ],
      "text/plain": [
       "   d_e_Immobility_s  d_total_experimento  \\\n",
       "0                73                300.0   \n",
       "1                40                300.0   \n",
       "2               125                300.0   \n",
       "3               102                300.0   \n",
       "4                39                300.0   \n",
       "\n",
       "                                    path_experimento  \\\n",
       "0  C:/Mestrado Oficial Marino/Videos cegados/Cali...   \n",
       "1  C:/Mestrado Oficial Marino/Videos cegados/Cali...   \n",
       "2  C:/Mestrado Oficial Marino/Videos cegados/Cali...   \n",
       "3  C:/Mestrado Oficial Marino/Videos cegados/Cali...   \n",
       "4  C:/Mestrado Oficial Marino/Videos cegados/Cali...   \n",
       "\n",
       "                     id_eto                      id_j   sexo   dosagem unidade  \n",
       "0  5ea2305b93f4d55ef0298307  5ea2305b93f4d55ef0298303  femea  flx2.5mg      A1  \n",
       "1  5ea2305b93f4d55ef0298310  5ea2305b93f4d55ef029830c  femea  flx2.5mg      A2  \n",
       "2  5ea2305b93f4d55ef0298319  5ea2305b93f4d55ef0298315  femea  flx2.5mg      A3  \n",
       "3  5ea2305c93f4d55ef0298322  5ea2305c93f4d55ef029831e  femea  flx2.5mg      A4  \n",
       "4  5ea2305c93f4d55ef029832b  5ea2305c93f4d55ef0298327  femea  flx2.5mg      A5  "
      ]
     },
     "execution_count": 6,
     "metadata": {},
     "output_type": "execute_result"
    }
   ],
   "source": [
    "dados_experimento.head()"
   ]
  },
  {
   "cell_type": "code",
   "execution_count": 7,
   "metadata": {},
   "outputs": [
    {
     "data": {
      "text/html": [
       "<div>\n",
       "<style scoped>\n",
       "    .dataframe tbody tr th:only-of-type {\n",
       "        vertical-align: middle;\n",
       "    }\n",
       "\n",
       "    .dataframe tbody tr th {\n",
       "        vertical-align: top;\n",
       "    }\n",
       "\n",
       "    .dataframe thead th {\n",
       "        text-align: right;\n",
       "    }\n",
       "</style>\n",
       "<table border=\"1\" class=\"dataframe\">\n",
       "  <thead>\n",
       "    <tr style=\"text-align: right;\">\n",
       "      <th></th>\n",
       "      <th>d_e_Immobility_s</th>\n",
       "      <th>d_total_experimento</th>\n",
       "      <th>path_experimento</th>\n",
       "      <th>id_eto</th>\n",
       "      <th>id_j</th>\n",
       "      <th>sexo</th>\n",
       "      <th>dosagem</th>\n",
       "      <th>unidade</th>\n",
       "    </tr>\n",
       "  </thead>\n",
       "  <tbody>\n",
       "    <tr>\n",
       "      <th>8</th>\n",
       "      <td>52</td>\n",
       "      <td>300.0</td>\n",
       "      <td>C:/Mestrado Oficial Marino/Videos cegados/Cali...</td>\n",
       "      <td>5ea2305f93f4d55ef0298385</td>\n",
       "      <td>5ea2305f93f4d55ef0298381</td>\n",
       "      <td>femea</td>\n",
       "      <td>veiculo</td>\n",
       "      <td>A1</td>\n",
       "    </tr>\n",
       "    <tr>\n",
       "      <th>9</th>\n",
       "      <td>83</td>\n",
       "      <td>300.0</td>\n",
       "      <td>C:/Mestrado Oficial Marino/Videos cegados/Cali...</td>\n",
       "      <td>5ea2306093f4d55ef029838e</td>\n",
       "      <td>5ea2306093f4d55ef029838a</td>\n",
       "      <td>femea</td>\n",
       "      <td>veiculo</td>\n",
       "      <td>A2</td>\n",
       "    </tr>\n",
       "    <tr>\n",
       "      <th>10</th>\n",
       "      <td>86</td>\n",
       "      <td>300.0</td>\n",
       "      <td>C:/Mestrado Oficial Marino/Videos cegados/Cali...</td>\n",
       "      <td>5ea2306093f4d55ef0298397</td>\n",
       "      <td>5ea2306093f4d55ef0298393</td>\n",
       "      <td>femea</td>\n",
       "      <td>veiculo</td>\n",
       "      <td>A3</td>\n",
       "    </tr>\n",
       "    <tr>\n",
       "      <th>11</th>\n",
       "      <td>49</td>\n",
       "      <td>300.0</td>\n",
       "      <td>C:/Mestrado Oficial Marino/Videos cegados/Cali...</td>\n",
       "      <td>5ea2306193f4d55ef02983a0</td>\n",
       "      <td>5ea2306193f4d55ef029839c</td>\n",
       "      <td>femea</td>\n",
       "      <td>veiculo</td>\n",
       "      <td>A4</td>\n",
       "    </tr>\n",
       "    <tr>\n",
       "      <th>12</th>\n",
       "      <td>35</td>\n",
       "      <td>300.0</td>\n",
       "      <td>C:/Mestrado Oficial Marino/Videos cegados/Cali...</td>\n",
       "      <td>5ea2306193f4d55ef02983a9</td>\n",
       "      <td>5ea2306193f4d55ef02983a5</td>\n",
       "      <td>femea</td>\n",
       "      <td>veiculo</td>\n",
       "      <td>A5</td>\n",
       "    </tr>\n",
       "    <tr>\n",
       "      <th>13</th>\n",
       "      <td>76</td>\n",
       "      <td>300.0</td>\n",
       "      <td>C:/Mestrado Oficial Marino/Videos cegados/Cali...</td>\n",
       "      <td>5ea2306193f4d55ef02983b2</td>\n",
       "      <td>5ea2306193f4d55ef02983ae</td>\n",
       "      <td>femea</td>\n",
       "      <td>veiculo</td>\n",
       "      <td>A6</td>\n",
       "    </tr>\n",
       "    <tr>\n",
       "      <th>14</th>\n",
       "      <td>117</td>\n",
       "      <td>300.0</td>\n",
       "      <td>C:/Mestrado Oficial Marino/Videos cegados/Cali...</td>\n",
       "      <td>5ea2306293f4d55ef02983bb</td>\n",
       "      <td>5ea2306293f4d55ef02983b7</td>\n",
       "      <td>femea</td>\n",
       "      <td>veiculo</td>\n",
       "      <td>A7</td>\n",
       "    </tr>\n",
       "    <tr>\n",
       "      <th>15</th>\n",
       "      <td>108</td>\n",
       "      <td>300.0</td>\n",
       "      <td>C:/Mestrado Oficial Marino/Videos cegados/Cali...</td>\n",
       "      <td>5ea2306293f4d55ef02983c4</td>\n",
       "      <td>5ea2306293f4d55ef02983c0</td>\n",
       "      <td>femea</td>\n",
       "      <td>veiculo</td>\n",
       "      <td>A8</td>\n",
       "    </tr>\n",
       "    <tr>\n",
       "      <th>16</th>\n",
       "      <td>76</td>\n",
       "      <td>300.0</td>\n",
       "      <td>C:/Mestrado Oficial Marino/Videos cegados/Cali...</td>\n",
       "      <td>5ea2306293f4d55ef02983cd</td>\n",
       "      <td>5ea2306293f4d55ef02983c9</td>\n",
       "      <td>femea</td>\n",
       "      <td>veiculo</td>\n",
       "      <td>A9</td>\n",
       "    </tr>\n",
       "  </tbody>\n",
       "</table>\n",
       "</div>"
      ],
      "text/plain": [
       "    d_e_Immobility_s  d_total_experimento  \\\n",
       "8                 52                300.0   \n",
       "9                 83                300.0   \n",
       "10                86                300.0   \n",
       "11                49                300.0   \n",
       "12                35                300.0   \n",
       "13                76                300.0   \n",
       "14               117                300.0   \n",
       "15               108                300.0   \n",
       "16                76                300.0   \n",
       "\n",
       "                                     path_experimento  \\\n",
       "8   C:/Mestrado Oficial Marino/Videos cegados/Cali...   \n",
       "9   C:/Mestrado Oficial Marino/Videos cegados/Cali...   \n",
       "10  C:/Mestrado Oficial Marino/Videos cegados/Cali...   \n",
       "11  C:/Mestrado Oficial Marino/Videos cegados/Cali...   \n",
       "12  C:/Mestrado Oficial Marino/Videos cegados/Cali...   \n",
       "13  C:/Mestrado Oficial Marino/Videos cegados/Cali...   \n",
       "14  C:/Mestrado Oficial Marino/Videos cegados/Cali...   \n",
       "15  C:/Mestrado Oficial Marino/Videos cegados/Cali...   \n",
       "16  C:/Mestrado Oficial Marino/Videos cegados/Cali...   \n",
       "\n",
       "                      id_eto                      id_j   sexo  dosagem unidade  \n",
       "8   5ea2305f93f4d55ef0298385  5ea2305f93f4d55ef0298381  femea  veiculo      A1  \n",
       "9   5ea2306093f4d55ef029838e  5ea2306093f4d55ef029838a  femea  veiculo      A2  \n",
       "10  5ea2306093f4d55ef0298397  5ea2306093f4d55ef0298393  femea  veiculo      A3  \n",
       "11  5ea2306193f4d55ef02983a0  5ea2306193f4d55ef029839c  femea  veiculo      A4  \n",
       "12  5ea2306193f4d55ef02983a9  5ea2306193f4d55ef02983a5  femea  veiculo      A5  \n",
       "13  5ea2306193f4d55ef02983b2  5ea2306193f4d55ef02983ae  femea  veiculo      A6  \n",
       "14  5ea2306293f4d55ef02983bb  5ea2306293f4d55ef02983b7  femea  veiculo      A7  \n",
       "15  5ea2306293f4d55ef02983c4  5ea2306293f4d55ef02983c0  femea  veiculo      A8  \n",
       "16  5ea2306293f4d55ef02983cd  5ea2306293f4d55ef02983c9  femea  veiculo      A9  "
      ]
     },
     "execution_count": 7,
     "metadata": {},
     "output_type": "execute_result"
    }
   ],
   "source": [
    "dados_veiculo = dados_experimento[dados_experimento[\"dosagem\"] ==\"veiculo\"]\n",
    "dados_veiculo"
   ]
  },
  {
   "cell_type": "code",
   "execution_count": 8,
   "metadata": {},
   "outputs": [
    {
     "data": {
      "text/html": [
       "<div>\n",
       "<style scoped>\n",
       "    .dataframe tbody tr th:only-of-type {\n",
       "        vertical-align: middle;\n",
       "    }\n",
       "\n",
       "    .dataframe tbody tr th {\n",
       "        vertical-align: top;\n",
       "    }\n",
       "\n",
       "    .dataframe thead th {\n",
       "        text-align: right;\n",
       "    }\n",
       "</style>\n",
       "<table border=\"1\" class=\"dataframe\">\n",
       "  <thead>\n",
       "    <tr style=\"text-align: right;\">\n",
       "      <th></th>\n",
       "      <th>d_e_Immobility_s</th>\n",
       "      <th>d_total_experimento</th>\n",
       "      <th>path_experimento</th>\n",
       "      <th>id_eto</th>\n",
       "      <th>id_j</th>\n",
       "      <th>sexo</th>\n",
       "      <th>dosagem</th>\n",
       "      <th>unidade</th>\n",
       "    </tr>\n",
       "  </thead>\n",
       "  <tbody>\n",
       "    <tr>\n",
       "      <th>0</th>\n",
       "      <td>73</td>\n",
       "      <td>300.0</td>\n",
       "      <td>C:/Mestrado Oficial Marino/Videos cegados/Cali...</td>\n",
       "      <td>5ea2305b93f4d55ef0298307</td>\n",
       "      <td>5ea2305b93f4d55ef0298303</td>\n",
       "      <td>femea</td>\n",
       "      <td>flx2.5mg</td>\n",
       "      <td>A1</td>\n",
       "    </tr>\n",
       "    <tr>\n",
       "      <th>1</th>\n",
       "      <td>40</td>\n",
       "      <td>300.0</td>\n",
       "      <td>C:/Mestrado Oficial Marino/Videos cegados/Cali...</td>\n",
       "      <td>5ea2305b93f4d55ef0298310</td>\n",
       "      <td>5ea2305b93f4d55ef029830c</td>\n",
       "      <td>femea</td>\n",
       "      <td>flx2.5mg</td>\n",
       "      <td>A2</td>\n",
       "    </tr>\n",
       "    <tr>\n",
       "      <th>2</th>\n",
       "      <td>125</td>\n",
       "      <td>300.0</td>\n",
       "      <td>C:/Mestrado Oficial Marino/Videos cegados/Cali...</td>\n",
       "      <td>5ea2305b93f4d55ef0298319</td>\n",
       "      <td>5ea2305b93f4d55ef0298315</td>\n",
       "      <td>femea</td>\n",
       "      <td>flx2.5mg</td>\n",
       "      <td>A3</td>\n",
       "    </tr>\n",
       "    <tr>\n",
       "      <th>3</th>\n",
       "      <td>102</td>\n",
       "      <td>300.0</td>\n",
       "      <td>C:/Mestrado Oficial Marino/Videos cegados/Cali...</td>\n",
       "      <td>5ea2305c93f4d55ef0298322</td>\n",
       "      <td>5ea2305c93f4d55ef029831e</td>\n",
       "      <td>femea</td>\n",
       "      <td>flx2.5mg</td>\n",
       "      <td>A4</td>\n",
       "    </tr>\n",
       "    <tr>\n",
       "      <th>4</th>\n",
       "      <td>39</td>\n",
       "      <td>300.0</td>\n",
       "      <td>C:/Mestrado Oficial Marino/Videos cegados/Cali...</td>\n",
       "      <td>5ea2305c93f4d55ef029832b</td>\n",
       "      <td>5ea2305c93f4d55ef0298327</td>\n",
       "      <td>femea</td>\n",
       "      <td>flx2.5mg</td>\n",
       "      <td>A5</td>\n",
       "    </tr>\n",
       "    <tr>\n",
       "      <th>5</th>\n",
       "      <td>64</td>\n",
       "      <td>300.0</td>\n",
       "      <td>C:/Mestrado Oficial Marino/Videos cegados/Cali...</td>\n",
       "      <td>5ea2305c93f4d55ef0298334</td>\n",
       "      <td>5ea2305c93f4d55ef0298330</td>\n",
       "      <td>femea</td>\n",
       "      <td>flx2.5mg</td>\n",
       "      <td>A6</td>\n",
       "    </tr>\n",
       "    <tr>\n",
       "      <th>6</th>\n",
       "      <td>69</td>\n",
       "      <td>300.0</td>\n",
       "      <td>C:/Mestrado Oficial Marino/Videos cegados/Cali...</td>\n",
       "      <td>5ea2305d93f4d55ef029833d</td>\n",
       "      <td>5ea2305d93f4d55ef0298339</td>\n",
       "      <td>femea</td>\n",
       "      <td>flx2.5mg</td>\n",
       "      <td>A7</td>\n",
       "    </tr>\n",
       "    <tr>\n",
       "      <th>7</th>\n",
       "      <td>201</td>\n",
       "      <td>300.0</td>\n",
       "      <td>C:/Mestrado Oficial Marino/Videos cegados/Cali...</td>\n",
       "      <td>5ea2305d93f4d55ef0298346</td>\n",
       "      <td>5ea2305d93f4d55ef0298342</td>\n",
       "      <td>femea</td>\n",
       "      <td>flx2.5mg</td>\n",
       "      <td>A8</td>\n",
       "    </tr>\n",
       "  </tbody>\n",
       "</table>\n",
       "</div>"
      ],
      "text/plain": [
       "   d_e_Immobility_s  d_total_experimento  \\\n",
       "0                73                300.0   \n",
       "1                40                300.0   \n",
       "2               125                300.0   \n",
       "3               102                300.0   \n",
       "4                39                300.0   \n",
       "5                64                300.0   \n",
       "6                69                300.0   \n",
       "7               201                300.0   \n",
       "\n",
       "                                    path_experimento  \\\n",
       "0  C:/Mestrado Oficial Marino/Videos cegados/Cali...   \n",
       "1  C:/Mestrado Oficial Marino/Videos cegados/Cali...   \n",
       "2  C:/Mestrado Oficial Marino/Videos cegados/Cali...   \n",
       "3  C:/Mestrado Oficial Marino/Videos cegados/Cali...   \n",
       "4  C:/Mestrado Oficial Marino/Videos cegados/Cali...   \n",
       "5  C:/Mestrado Oficial Marino/Videos cegados/Cali...   \n",
       "6  C:/Mestrado Oficial Marino/Videos cegados/Cali...   \n",
       "7  C:/Mestrado Oficial Marino/Videos cegados/Cali...   \n",
       "\n",
       "                     id_eto                      id_j   sexo   dosagem unidade  \n",
       "0  5ea2305b93f4d55ef0298307  5ea2305b93f4d55ef0298303  femea  flx2.5mg      A1  \n",
       "1  5ea2305b93f4d55ef0298310  5ea2305b93f4d55ef029830c  femea  flx2.5mg      A2  \n",
       "2  5ea2305b93f4d55ef0298319  5ea2305b93f4d55ef0298315  femea  flx2.5mg      A3  \n",
       "3  5ea2305c93f4d55ef0298322  5ea2305c93f4d55ef029831e  femea  flx2.5mg      A4  \n",
       "4  5ea2305c93f4d55ef029832b  5ea2305c93f4d55ef0298327  femea  flx2.5mg      A5  \n",
       "5  5ea2305c93f4d55ef0298334  5ea2305c93f4d55ef0298330  femea  flx2.5mg      A6  \n",
       "6  5ea2305d93f4d55ef029833d  5ea2305d93f4d55ef0298339  femea  flx2.5mg      A7  \n",
       "7  5ea2305d93f4d55ef0298346  5ea2305d93f4d55ef0298342  femea  flx2.5mg      A8  "
      ]
     },
     "execution_count": 8,
     "metadata": {},
     "output_type": "execute_result"
    }
   ],
   "source": [
    "dados_flx = dados_experimento[dados_experimento[\"dosagem\"] ==\"flx2.5mg\"]\n",
    "dados_flx"
   ]
  },
  {
   "cell_type": "code",
   "execution_count": null,
   "metadata": {},
   "outputs": [],
   "source": []
  },
  {
   "cell_type": "code",
   "execution_count": 9,
   "metadata": {},
   "outputs": [],
   "source": [
    "# duracao_imobilidade = dados_veiculo[\"d_e_Immobility_s\"]\n",
    "n_veiculo = dados_veiculo[\"d_total_experimento\"]\n",
    "n_flx = dados_flx[\"d_total_experimento\"]\n",
    "with Model() as imobilidade_model_veiculo:\n",
    "#     probabilidade do animal adotar a postura de imobilidade vai de 0% até 100\n",
    "    p_imobilidade_veiculo = Uniform(\"p_imobilidade_veiculo\", lower=0, upper=1)\n",
    "    imobilidade_dado_p_veiculo = Binomial('imobilidade_dado_p_veiculo', p=p_imobilidade_veiculo, observed=dados_veiculo[\"d_e_Immobility_s\"], n=n_veiculo)\n",
    "    \n",
    "    p_imobilidade_flx = Uniform(\"p_imobilidade_flx\", lower=0, upper=1)\n",
    "    imobilidade_dado_p_flx = Binomial('imobilidade_dado_p_flx', p=p_imobilidade_flx, observed=dados_flx[\"d_e_Immobility_s\"], n=n_flx)\n",
    "    dif_p = Deterministic('dif_p', p_imobilidade_flx - p_imobilidade_veiculo )\n",
    "    \n",
    "    \n",
    "    \n",
    "    #     samples_flx =  fit(random_seed=10000).sample(100000)"
   ]
  },
  {
   "cell_type": "code",
   "execution_count": 10,
   "metadata": {},
   "outputs": [],
   "source": [
    "# with imobilidade_model_veiculo:\n",
    "#     diff_of_means = Deterministic('difference of means', p_imobilidade_flx - p_imobilidade_veiculo)   \n",
    "#     effect_size = Deterministic('effect size',\n",
    "#                                 diff_of_means / np.sqrt((σ_1**2 + σ_0**2) / 2))\n",
    "    \n",
    "    "
   ]
  },
  {
   "cell_type": "code",
   "execution_count": 11,
   "metadata": {},
   "outputs": [
    {
     "name": "stderr",
     "output_type": "stream",
     "text": [
      "Average Loss = 274.74: 100%|████████████████████████████████████████████████████████████████████████| 10000/10000 [00:02<00:00, 4247.36it/s]\n",
      "Finished [100%]: Average Loss = 274.7\n"
     ]
    }
   ],
   "source": [
    "tamanho_amostra = 100000\n",
    "with imobilidade_model_veiculo:\n",
    "    samples =  fit(random_seed=10000).sample(tamanho_amostra)"
   ]
  },
  {
   "cell_type": "code",
   "execution_count": 12,
   "metadata": {},
   "outputs": [],
   "source": [
    "from pymc3 import plot_posterior"
   ]
  },
  {
   "cell_type": "code",
   "execution_count": 13,
   "metadata": {},
   "outputs": [
    {
     "name": "stderr",
     "output_type": "stream",
     "text": [
      "C:\\Users\\zn_jo\\AppData\\Local\\Programs\\Python\\Python37\\lib\\site-packages\\pymc3\\plots\\__init__.py:21: UserWarning: Keyword argument `varnames` renamed to `var_names`, and will be removed in pymc3 3.8\n",
      "  warnings.warn('Keyword argument `{old}` renamed to `{new}`, and will be removed in pymc3 3.8'.format(old=old, new=new))\n"
     ]
    },
    {
     "data": {
      "text/plain": [
       "array([<matplotlib.axes._subplots.AxesSubplot object at 0x0000019156EFA2C8>,\n",
       "       <matplotlib.axes._subplots.AxesSubplot object at 0x0000019159494408>],\n",
       "      dtype=object)"
      ]
     },
     "execution_count": 13,
     "metadata": {},
     "output_type": "execute_result"
    },
    {
     "data": {
      "image/png": "[encoded data removed]",
      "text/plain": [
       "<Figure size 993.6x331.2 with 2 Axes>"
      ]
     },
     "metadata": {
      "needs_background": "light"
     },
     "output_type": "display_data"
    }
   ],
   "source": [
    "plot_posterior(samples, varnames=[\"p_imobilidade_veiculo\", \"p_imobilidade_flx\"], color=\"LightSeaGreen\")"
   ]
  },
  {
   "cell_type": "code",
   "execution_count": 14,
   "metadata": {},
   "outputs": [
    {
     "name": "stderr",
     "output_type": "stream",
     "text": [
      "C:\\Users\\zn_jo\\AppData\\Local\\Programs\\Python\\Python37\\lib\\site-packages\\pymc3\\plots\\__init__.py:21: UserWarning: Keyword argument `varnames` renamed to `var_names`, and will be removed in pymc3 3.8\n",
      "  warnings.warn('Keyword argument `{old}` renamed to `{new}`, and will be removed in pymc3 3.8'.format(old=old, new=new))\n"
     ]
    },
    {
     "data": {
      "text/plain": [
       "array([[<matplotlib.axes._subplots.AxesSubplot object at 0x0000019159693988>,\n",
       "        <matplotlib.axes._subplots.AxesSubplot object at 0x000001915AF4AE48>],\n",
       "       [<matplotlib.axes._subplots.AxesSubplot object at 0x000001915E11F288>,\n",
       "        <matplotlib.axes._subplots.AxesSubplot object at 0x000001915AA1D688>],\n",
       "       [<matplotlib.axes._subplots.AxesSubplot object at 0x000001915E0FA088>,\n",
       "        <matplotlib.axes._subplots.AxesSubplot object at 0x00000191605E7448>]],\n",
       "      dtype=object)"
      ]
     },
     "execution_count": 14,
     "metadata": {},
     "output_type": "execute_result"
    },
    {
     "data": {
      "image/png": "[encoded data removed]",
      "text/plain": [
       "<Figure size 864x432 with 6 Axes>"
      ]
     },
     "metadata": {
      "needs_background": "light"
     },
     "output_type": "display_data"
    }
   ],
   "source": [
    "traceplot(samples , varnames=['p_imobilidade_veiculo', 'p_imobilidade_flx', 'dif_p'])"
   ]
  },
  {
   "cell_type": "code",
   "execution_count": 15,
   "metadata": {},
   "outputs": [
    {
     "data": {
      "text/plain": [
       "0.2540262914810466"
      ]
     },
     "execution_count": 15,
     "metadata": {},
     "output_type": "execute_result"
    }
   ],
   "source": [
    "np.mean(samples[\"p_imobilidade_veiculo\"])"
   ]
  },
  {
   "cell_type": "code",
   "execution_count": 16,
   "metadata": {},
   "outputs": [],
   "source": [
    "def calculo_tamanho_efeito(veiculo, tratado):\n",
    "    m_veiculo = np.mean(veiculo)\n",
    "    m_tratado = np.mean(tratado)\n",
    "    var_veiculo = np.var(veiculo)\n",
    "    var_tratado = np.var(tratado)\n",
    "    # cohen tamanho do efeito, simplificado.\n",
    "    diff_of_means =  m_tratado - m_veiculo\n",
    "    effect_size = diff_of_means / np.sqrt((var_veiculo + var_tratado) / 2)\n",
    "    return effect_size"
   ]
  },
  {
   "cell_type": "code",
   "execution_count": null,
   "metadata": {},
   "outputs": [],
   "source": []
  },
  {
   "cell_type": "code",
   "execution_count": 17,
   "metadata": {},
   "outputs": [
    {
     "name": "stdout",
     "output_type": "stream",
     "text": [
      "O tamanho do efeito, usando a formula de Cohen, foi de: 1.5525068860715971 . Medido em des\n"
     ]
    }
   ],
   "source": [
    "print(f'O tamanho do efeito, usando a formula de Cohen, foi de: {calculo_tamanho_efeito(samples[\"p_imobilidade_veiculo\"], samples[\"p_imobilidade_flx\"])} . Medido em des')"
   ]
  },
  {
   "cell_type": "code",
   "execution_count": null,
   "metadata": {},
   "outputs": [],
   "source": []
  },
  {
   "cell_type": "code",
   "execution_count": null,
   "metadata": {},
   "outputs": [],
   "source": []
  },
  {
   "cell_type": "code",
   "execution_count": 18,
   "metadata": {},
   "outputs": [],
   "source": [
    "from matplotlib.pyplot import figure"
   ]
  },
  {
   "cell_type": "code",
   "execution_count": 19,
   "metadata": {
    "scrolled": true
   },
   "outputs": [
    {
     "data": {
      "image/png": "[encoded data removed]",
      "text/plain": [
       "<Figure size 640x480 with 1 Axes>"
      ]
     },
     "metadata": {},
     "output_type": "display_data"
    }
   ],
   "source": [
    "figure(num=None, figsize=(8, 6), dpi=80, facecolor='w', edgecolor='k')\n",
    "plt.hist( samples[\"p_imobilidade_flx\"], bins= 100,\n",
    "         weights=np.full(tamanho_amostra , 1/tamanho_amostra), label=\"fluoxetina2.5mg\", alpha=0.5)\n",
    "plt.hist( samples[\"p_imobilidade_veiculo\"], bins= 100, \n",
    "         weights=np.full(tamanho_amostra , 1/tamanho_amostra), label=\"veiculo\", alpha=0.5)\n",
    "plt.hist( samples[\"dif_p\"], bins= 100, \n",
    "         weights=np.full(tamanho_amostra , 1/tamanho_amostra), label=\"diferenca fluoxetina veiculo\", alpha=0.3)\n",
    "\n",
    "\n",
    "plt.title(\"Distribuição a posteriori da probabilidade de expressão do comportamento de imobilidade de machos no TNF\")\n",
    "plt.ylabel(\"Distribuição da probabilidade de expressão da imobilidade\")\n",
    "plt.xlabel(\"Probabilidade da expressão de imobilidade a cada segundo de análise\")\n",
    "plt.legend()\n",
    "plt.show()"
   ]
  },
  {
   "cell_type": "code",
   "execution_count": 20,
   "metadata": {},
   "outputs": [],
   "source": [
    "import pandas as pd"
   ]
  },
  {
   "cell_type": "code",
   "execution_count": 21,
   "metadata": {},
   "outputs": [],
   "source": [
    "df = pd.DataFrame()"
   ]
  },
  {
   "cell_type": "code",
   "execution_count": 22,
   "metadata": {},
   "outputs": [
    {
     "data": {
      "text/html": [
       "<div>\n",
       "<style scoped>\n",
       "    .dataframe tbody tr th:only-of-type {\n",
       "        vertical-align: middle;\n",
       "    }\n",
       "\n",
       "    .dataframe tbody tr th {\n",
       "        vertical-align: top;\n",
       "    }\n",
       "\n",
       "    .dataframe thead th {\n",
       "        text-align: right;\n",
       "    }\n",
       "</style>\n",
       "<table border=\"1\" class=\"dataframe\">\n",
       "  <thead>\n",
       "    <tr style=\"text-align: right;\">\n",
       "      <th></th>\n",
       "      <th>femea_p_imobilidade_flx</th>\n",
       "      <th>femea_p_imobilidade_veiculo</th>\n",
       "      <th>femea_dif_p</th>\n",
       "    </tr>\n",
       "  </thead>\n",
       "  <tbody>\n",
       "    <tr>\n",
       "      <th>0</th>\n",
       "      <td>0.359942</td>\n",
       "      <td>0.267964</td>\n",
       "      <td>0.091977</td>\n",
       "    </tr>\n",
       "    <tr>\n",
       "      <th>1</th>\n",
       "      <td>0.293547</td>\n",
       "      <td>0.282066</td>\n",
       "      <td>0.011482</td>\n",
       "    </tr>\n",
       "    <tr>\n",
       "      <th>2</th>\n",
       "      <td>0.222901</td>\n",
       "      <td>0.230481</td>\n",
       "      <td>-0.007581</td>\n",
       "    </tr>\n",
       "    <tr>\n",
       "      <th>3</th>\n",
       "      <td>0.292709</td>\n",
       "      <td>0.259568</td>\n",
       "      <td>0.033141</td>\n",
       "    </tr>\n",
       "    <tr>\n",
       "      <th>4</th>\n",
       "      <td>0.299441</td>\n",
       "      <td>0.243469</td>\n",
       "      <td>0.055972</td>\n",
       "    </tr>\n",
       "  </tbody>\n",
       "</table>\n",
       "</div>"
      ],
      "text/plain": [
       "   femea_p_imobilidade_flx  femea_p_imobilidade_veiculo  femea_dif_p\n",
       "0                 0.359942                     0.267964     0.091977\n",
       "1                 0.293547                     0.282066     0.011482\n",
       "2                 0.222901                     0.230481    -0.007581\n",
       "3                 0.292709                     0.259568     0.033141\n",
       "4                 0.299441                     0.243469     0.055972"
      ]
     },
     "execution_count": 22,
     "metadata": {},
     "output_type": "execute_result"
    }
   ],
   "source": [
    "df[\"femea_p_imobilidade_flx\"] = samples[\"p_imobilidade_flx\"]\n",
    "df[\"femea_p_imobilidade_veiculo\"] = samples[\"p_imobilidade_veiculo\"]\n",
    "df[\"femea_dif_p\"] = samples[\"dif_p\"]\n",
    "df.head()"
   ]
  },
  {
   "cell_type": "code",
   "execution_count": 23,
   "metadata": {},
   "outputs": [],
   "source": [
    "# df.to_csv(\"femea_bayes.csv\", index= False)"
   ]
  },
  {
   "cell_type": "code",
   "execution_count": null,
   "metadata": {},
   "outputs": [],
   "source": []
  },
  {
   "cell_type": "code",
   "execution_count": 24,
   "metadata": {},
   "outputs": [
    {
     "name": "stdout",
     "output_type": "stream",
     "text": [
      "O tamanho do efeito, usando a formula de Cohen, foi de: 1.5525068860715971 . Medido em desvio padrão\n"
     ]
    }
   ],
   "source": [
    "print(f'O tamanho do efeito, usando a formula de Cohen, foi de: {calculo_tamanho_efeito(samples[\"p_imobilidade_veiculo\"], samples[\"p_imobilidade_flx\"])} . Medido em desvio padrão')"
   ]
  },
  {
   "cell_type": "code",
   "execution_count": 25,
   "metadata": {},
   "outputs": [
    {
     "name": "stdout",
     "output_type": "stream",
     "text": [
      "A diferença entre o controle e o tratado ser menor que 0 é de : 13.642999999999999%\n"
     ]
    }
   ],
   "source": [
    "dif = samples[\"dif_p\"]\n",
    "tamanho_amostra = len(dif) \n",
    "filt_dif = dif <0 \n",
    "\n",
    "menor_0 = len(dif[filt_dif])\n",
    "p_ser_menor_0 = menor_0 /tamanho_amostra\n",
    "\n",
    "print(f\"A diferença entre o controle e o tratado ser menor que 0 é de : {100*p_ser_menor_0}%\")"
   ]
  },
  {
   "cell_type": "code",
   "execution_count": 26,
   "metadata": {},
   "outputs": [
    {
     "name": "stdout",
     "output_type": "stream",
     "text": [
      "A probabilidade de que a diferença entre o controle e o tratado ser maior que 0 é de : 86.357%\n"
     ]
    }
   ],
   "source": [
    "filt_dif_maior = dif >0 \n",
    "\n",
    "maior_0 = len(dif[filt_dif_maior])\n",
    "p_ser_maior_0 = maior_0 /tamanho_amostra\n",
    "\n",
    "\n",
    "print(f\"A probabilidade de que a diferença entre o controle e o tratado ser maior que 0 é de : {100*p_ser_maior_0}%\")"
   ]
  },
  {
   "cell_type": "code",
   "execution_count": 27,
   "metadata": {},
   "outputs": [],
   "source": [
    "import seaborn as sns\n",
    "import arviz as az"
   ]
  },
  {
   "cell_type": "code",
   "execution_count": 28,
   "metadata": {},
   "outputs": [],
   "source": [
    "sns.set(color_codes=True)\n"
   ]
  },
  {
   "cell_type": "code",
   "execution_count": 29,
   "metadata": {},
   "outputs": [],
   "source": [
    "def creat_struct_saida(data):\n",
    "    saida = {}\n",
    "    saida[\"data\"] = data\n",
    "    saida[\"x_weights\"] = np.ones_like(data) / len(data)\n",
    "    \n",
    "    saida[\"hdi\"] = az.hdi(data, hdi_prob=.94)\n",
    "    saida[\"prob\"] =[0.01, 0.01]\n",
    "    return saida\n",
    "    "
   ]
  },
  {
   "cell_type": "code",
   "execution_count": 30,
   "metadata": {},
   "outputs": [],
   "source": [
    "p_imob_flx_femea = samples[\"p_imobilidade_flx\"]\n",
    "\n",
    "\n",
    "\n",
    "# data = samples[\"p_imobilidade_flx\"]\n",
    "\n",
    "# x_weights = np.ones_like(data) / len(data)\n",
    "\n",
    "# sns.distplot(data, hist_kws={'weights': x_weights}, kde=False);\n",
    "# fmri = {}\n",
    "# fmri[\"hdi\"] = az.hdi(data, hdi_prob=.94)\n",
    "# fmri[\"prob\"] =[0.01, 0.01]\n",
    "\n",
    "\n",
    "# sns.lineplot(x=\"hdi\", y=\"prob\", data=fmri)"
   ]
  },
  {
   "cell_type": "code",
   "execution_count": 31,
   "metadata": {},
   "outputs": [
    {
     "data": {
      "text/plain": [
       "{'data': array([0.35994162, 0.29354737, 0.22290054, ..., 0.30241893, 0.305835  ,\n",
       "        0.3189334 ]),\n",
       " 'x_weights': array([1.e-05, 1.e-05, 1.e-05, ..., 1.e-05, 1.e-05, 1.e-05]),\n",
       " 'hdi': array([0.24375447, 0.35048665]),\n",
       " 'prob': [0.01, 0.01]}"
      ]
     },
     "execution_count": 31,
     "metadata": {},
     "output_type": "execute_result"
    }
   ],
   "source": [
    "creat_struct_saida(samples[\"p_imobilidade_flx\"])"
   ]
  },
  {
   "cell_type": "code",
   "execution_count": 32,
   "metadata": {},
   "outputs": [
    {
     "ename": "NameError",
     "evalue": "name 'fmri' is not defined",
     "output_type": "error",
     "traceback": [
      "\u001b[1;31m---------------------------------------------------------------------------\u001b[0m",
      "\u001b[1;31mNameError\u001b[0m                                 Traceback (most recent call last)",
      "\u001b[1;32m<ipython-input-32-27f0fa99253f>\u001b[0m in \u001b[0;36m<module>\u001b[1;34m\u001b[0m\n\u001b[1;32m----> 1\u001b[1;33m \u001b[0mprint\u001b[0m\u001b[1;33m(\u001b[0m\u001b[0mfmri\u001b[0m\u001b[1;33m[\u001b[0m\u001b[1;34m\"hdi\"\u001b[0m\u001b[1;33m]\u001b[0m \u001b[1;33m)\u001b[0m\u001b[1;33m\u001b[0m\u001b[1;33m\u001b[0m\u001b[0m\n\u001b[0m",
      "\u001b[1;31mNameError\u001b[0m: name 'fmri' is not defined"
     ]
    }
   ],
   "source": [
    "print(fmri[\"hdi\"] )"
   ]
  },
  {
   "cell_type": "code",
   "execution_count": null,
   "metadata": {},
   "outputs": [],
   "source": []
  }
 ],
 "metadata": {
  "kernelspec": {
   "display_name": "Python 3",
   "language": "python",
   "name": "python3"
  },
  "language_info": {
   "codemirror_mode": {
    "name": "ipython",
    "version": 3
   },
   "file_extension": ".py",
   "mimetype": "text/x-python",
   "name": "python",
   "nbconvert_exporter": "python",
   "pygments_lexer": "ipython3",
   "version": "3.6.12"
  }
 },
 "nbformat": 4,
 "nbformat_minor": 4
}
