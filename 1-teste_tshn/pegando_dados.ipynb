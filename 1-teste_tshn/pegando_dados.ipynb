{
 "cells": [
  {
   "cell_type": "code",
   "execution_count": 2,
   "id": "a1914fca",
   "metadata": {},
   "outputs": [],
   "source": [
    "import deposito_watcher.fusao_variaveis as fus\n",
    "import pandas as pd\n",
    "from bson.objectid import ObjectId"
   ]
  },
  {
   "cell_type": "code",
   "execution_count": 6,
   "id": "5a07f361",
   "metadata": {},
   "outputs": [],
   "source": [
    "ID_EXPERIMENTO =\"5f8f5503d3d64947e0da22e0\""
   ]
  },
  {
   "cell_type": "code",
   "execution_count": 13,
   "id": "43f47ecc",
   "metadata": {},
   "outputs": [],
   "source": [
    "dict_query = { \"$and\": [{\"id_experimento\": ObjectId(ID_EXPERIMENTO)}, \n",
    "                        {\"$or\": [{\"var_ind.sexo\":\"macho\"}, {\"var_ind.sexo\":\"femea\"} ]},\n",
    "                        {\"$or\": [{\"var_ind.dosagem\": \"flx2.5mg\"},{\"var_ind.dosagem\": \"veiculo\"} ]},\n",
    "                        {\"var_ind.analise\": \"primeira\"} \n",
    "                        ]}\n",
    "fs = fus.Fusao_variaveis(dict_query)\n",
    "fs.set_variaveis_rastreamento([\"@Vd\", \"@Van\"])\n",
    "fs.set_variaveis_etografia([\"nome\", \"trecho\", \"q_inicial\", \"q_final\"])\n",
    "fs.set_variaveis_juncao([\"sexo\", \"dosagem\", \"unidade\"])\n",
    "df = fs.get_dados_fundidos()"
   ]
  },
  {
   "cell_type": "code",
   "execution_count": 14,
   "id": "ec55a978",
   "metadata": {},
   "outputs": [
    {
     "data": {
      "text/html": [
       "<div>\n",
       "<style scoped>\n",
       "    .dataframe tbody tr th:only-of-type {\n",
       "        vertical-align: middle;\n",
       "    }\n",
       "\n",
       "    .dataframe tbody tr th {\n",
       "        vertical-align: top;\n",
       "    }\n",
       "\n",
       "    .dataframe thead th {\n",
       "        text-align: right;\n",
       "    }\n",
       "</style>\n",
       "<table border=\"1\" class=\"dataframe\">\n",
       "  <thead>\n",
       "    <tr style=\"text-align: right;\">\n",
       "      <th></th>\n",
       "      <th>categoria</th>\n",
       "      <th>trecho</th>\n",
       "      <th>q_inicio</th>\n",
       "      <th>q_fim</th>\n",
       "      <th>id_j</th>\n",
       "      <th>@f</th>\n",
       "      <th>@Vd</th>\n",
       "      <th>@Van</th>\n",
       "      <th>sexo</th>\n",
       "      <th>dosagem</th>\n",
       "      <th>unidade</th>\n",
       "    </tr>\n",
       "  </thead>\n",
       "  <tbody>\n",
       "    <tr>\n",
       "      <th>0</th>\n",
       "      <td>Swimming</td>\n",
       "      <td>0</td>\n",
       "      <td>143</td>\n",
       "      <td>150</td>\n",
       "      <td>5f8f5518d3d64947e0da2433</td>\n",
       "      <td>143</td>\n",
       "      <td>-48.230276</td>\n",
       "      <td>-11.650200</td>\n",
       "      <td>femea</td>\n",
       "      <td>veiculo</td>\n",
       "      <td>A9</td>\n",
       "    </tr>\n",
       "    <tr>\n",
       "      <th>1</th>\n",
       "      <td>Swimming</td>\n",
       "      <td>0</td>\n",
       "      <td>143</td>\n",
       "      <td>150</td>\n",
       "      <td>5f8f5518d3d64947e0da2433</td>\n",
       "      <td>144</td>\n",
       "      <td>-52.693052</td>\n",
       "      <td>-12.728200</td>\n",
       "      <td>femea</td>\n",
       "      <td>veiculo</td>\n",
       "      <td>A9</td>\n",
       "    </tr>\n",
       "    <tr>\n",
       "      <th>2</th>\n",
       "      <td>Swimming</td>\n",
       "      <td>0</td>\n",
       "      <td>143</td>\n",
       "      <td>150</td>\n",
       "      <td>5f8f5518d3d64947e0da2433</td>\n",
       "      <td>145</td>\n",
       "      <td>-0.694707</td>\n",
       "      <td>-0.167809</td>\n",
       "      <td>femea</td>\n",
       "      <td>veiculo</td>\n",
       "      <td>A9</td>\n",
       "    </tr>\n",
       "    <tr>\n",
       "      <th>3</th>\n",
       "      <td>Swimming</td>\n",
       "      <td>0</td>\n",
       "      <td>143</td>\n",
       "      <td>150</td>\n",
       "      <td>5f8f5518d3d64947e0da2433</td>\n",
       "      <td>146</td>\n",
       "      <td>-8.097331</td>\n",
       "      <td>-1.955940</td>\n",
       "      <td>femea</td>\n",
       "      <td>veiculo</td>\n",
       "      <td>A9</td>\n",
       "    </tr>\n",
       "    <tr>\n",
       "      <th>4</th>\n",
       "      <td>Swimming</td>\n",
       "      <td>0</td>\n",
       "      <td>143</td>\n",
       "      <td>150</td>\n",
       "      <td>5f8f5518d3d64947e0da2433</td>\n",
       "      <td>147</td>\n",
       "      <td>0.000000</td>\n",
       "      <td>0.000000</td>\n",
       "      <td>femea</td>\n",
       "      <td>veiculo</td>\n",
       "      <td>A9</td>\n",
       "    </tr>\n",
       "  </tbody>\n",
       "</table>\n",
       "</div>"
      ],
      "text/plain": [
       "  categoria  trecho  q_inicio  q_fim                      id_j   @f  \\\n",
       "0  Swimming       0       143    150  5f8f5518d3d64947e0da2433  143   \n",
       "1  Swimming       0       143    150  5f8f5518d3d64947e0da2433  144   \n",
       "2  Swimming       0       143    150  5f8f5518d3d64947e0da2433  145   \n",
       "3  Swimming       0       143    150  5f8f5518d3d64947e0da2433  146   \n",
       "4  Swimming       0       143    150  5f8f5518d3d64947e0da2433  147   \n",
       "\n",
       "         @Vd       @Van   sexo  dosagem unidade  \n",
       "0 -48.230276 -11.650200  femea  veiculo      A9  \n",
       "1 -52.693052 -12.728200  femea  veiculo      A9  \n",
       "2  -0.694707  -0.167809  femea  veiculo      A9  \n",
       "3  -8.097331  -1.955940  femea  veiculo      A9  \n",
       "4   0.000000   0.000000  femea  veiculo      A9  "
      ]
     },
     "execution_count": 14,
     "metadata": {},
     "output_type": "execute_result"
    }
   ],
   "source": [
    "df.head()"
   ]
  },
  {
   "cell_type": "code",
   "execution_count": 15,
   "id": "6ac7f26c",
   "metadata": {},
   "outputs": [],
   "source": [
    "df.to_csv(\"dados_flx25_controle_machos_femeas.csv\", index=False)"
   ]
  }
 ],
 "metadata": {
  "kernelspec": {
   "display_name": "Python 3 (ipykernel)",
   "language": "python",
   "name": "python3"
  },
  "language_info": {
   "codemirror_mode": {
    "name": "ipython",
    "version": 3
   },
   "file_extension": ".py",
   "mimetype": "text/x-python",
   "name": "python",
   "nbconvert_exporter": "python",
   "pygments_lexer": "ipython3",
   "version": "3.10.4"
  }
 },
 "nbformat": 4,
 "nbformat_minor": 5
}
