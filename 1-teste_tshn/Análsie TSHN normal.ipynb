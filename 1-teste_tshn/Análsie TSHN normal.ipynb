{
 "cells": [
  {
   "cell_type": "code",
   "execution_count": 1,
   "metadata": {},
   "outputs": [],
   "source": [
    "import pandas as pd\n",
    "import numpy as np\n",
    "import matplotlib.pyplot as plt\n",
    "# import calc_power as cp\n",
    "from scipy import stats"
   ]
  },
  {
   "cell_type": "code",
   "execution_count": 2,
   "metadata": {},
   "outputs": [],
   "source": [
    "# pagina 283\n",
    "# plt.rcParams[\"font.family\"] = \"Times New Roman\""
   ]
  },
  {
   "cell_type": "code",
   "execution_count": 3,
   "metadata": {},
   "outputs": [
    {
     "data": {
      "text/html": [
       "<div>\n",
       "<style scoped>\n",
       "    .dataframe tbody tr th:only-of-type {\n",
       "        vertical-align: middle;\n",
       "    }\n",
       "\n",
       "    .dataframe tbody tr th {\n",
       "        vertical-align: top;\n",
       "    }\n",
       "\n",
       "    .dataframe thead th {\n",
       "        text-align: right;\n",
       "    }\n",
       "</style>\n",
       "<table border=\"1\" class=\"dataframe\">\n",
       "  <thead>\n",
       "    <tr style=\"text-align: right;\">\n",
       "      <th></th>\n",
       "      <th>d_e_Immobility_s</th>\n",
       "      <th>d_total_experimento</th>\n",
       "      <th>path_experimento</th>\n",
       "      <th>id_eto</th>\n",
       "      <th>id_j</th>\n",
       "      <th>sexo</th>\n",
       "      <th>dosagem</th>\n",
       "      <th>unidade</th>\n",
       "    </tr>\n",
       "  </thead>\n",
       "  <tbody>\n",
       "    <tr>\n",
       "      <th>0</th>\n",
       "      <td>31.466667</td>\n",
       "      <td>297.500000</td>\n",
       "      <td>C:/Mestrado Oficial Marino/Videos cegados/Cali...</td>\n",
       "      <td>5ea2305793f4d55ef029829b</td>\n",
       "      <td>5ea2305793f4d55ef0298297</td>\n",
       "      <td>macho</td>\n",
       "      <td>flx2.5mg</td>\n",
       "      <td>A1</td>\n",
       "    </tr>\n",
       "    <tr>\n",
       "      <th>1</th>\n",
       "      <td>34.566667</td>\n",
       "      <td>247.800000</td>\n",
       "      <td>C:/Mestrado Oficial Marino/Videos cegados/Cali...</td>\n",
       "      <td>5ea2305793f4d55ef02982a4</td>\n",
       "      <td>5ea2305793f4d55ef02982a0</td>\n",
       "      <td>macho</td>\n",
       "      <td>flx2.5mg</td>\n",
       "      <td>A2</td>\n",
       "    </tr>\n",
       "    <tr>\n",
       "      <th>2</th>\n",
       "      <td>119.900000</td>\n",
       "      <td>246.666667</td>\n",
       "      <td>C:/Mestrado Oficial Marino/Videos cegados/Cali...</td>\n",
       "      <td>5ea2305893f4d55ef02982c8</td>\n",
       "      <td>5ea2305893f4d55ef02982c4</td>\n",
       "      <td>macho</td>\n",
       "      <td>flx2.5mg</td>\n",
       "      <td>A3</td>\n",
       "    </tr>\n",
       "    <tr>\n",
       "      <th>3</th>\n",
       "      <td>64.633333</td>\n",
       "      <td>245.700000</td>\n",
       "      <td>C:/Mestrado Oficial Marino/Videos cegados/Cali...</td>\n",
       "      <td>5ea2305993f4d55ef02982d1</td>\n",
       "      <td>5ea2305993f4d55ef02982cd</td>\n",
       "      <td>macho</td>\n",
       "      <td>flx2.5mg</td>\n",
       "      <td>A4</td>\n",
       "    </tr>\n",
       "    <tr>\n",
       "      <th>4</th>\n",
       "      <td>87.966667</td>\n",
       "      <td>247.500000</td>\n",
       "      <td>C:/Mestrado Oficial Marino/Videos cegados/Cali...</td>\n",
       "      <td>5ea2305993f4d55ef02982da</td>\n",
       "      <td>5ea2305993f4d55ef02982d6</td>\n",
       "      <td>macho</td>\n",
       "      <td>flx2.5mg</td>\n",
       "      <td>A5</td>\n",
       "    </tr>\n",
       "    <tr>\n",
       "      <th>5</th>\n",
       "      <td>79.466667</td>\n",
       "      <td>247.700000</td>\n",
       "      <td>C:/Mestrado Oficial Marino/Videos cegados/Cali...</td>\n",
       "      <td>5ea2305993f4d55ef02982e3</td>\n",
       "      <td>5ea2305993f4d55ef02982df</td>\n",
       "      <td>macho</td>\n",
       "      <td>flx2.5mg</td>\n",
       "      <td>A6</td>\n",
       "    </tr>\n",
       "    <tr>\n",
       "      <th>6</th>\n",
       "      <td>54.900000</td>\n",
       "      <td>269.033333</td>\n",
       "      <td>C:/Mestrado Oficial Marino/Videos cegados/Cali...</td>\n",
       "      <td>5ea2305d93f4d55ef029834f</td>\n",
       "      <td>5ea2305d93f4d55ef029834b</td>\n",
       "      <td>macho</td>\n",
       "      <td>veiculo</td>\n",
       "      <td>A1</td>\n",
       "    </tr>\n",
       "    <tr>\n",
       "      <th>7</th>\n",
       "      <td>128.533333</td>\n",
       "      <td>247.666667</td>\n",
       "      <td>C:/Mestrado Oficial Marino/Videos cegados/Cali...</td>\n",
       "      <td>5ea2305e93f4d55ef0298358</td>\n",
       "      <td>5ea2305e93f4d55ef0298354</td>\n",
       "      <td>macho</td>\n",
       "      <td>veiculo</td>\n",
       "      <td>A2</td>\n",
       "    </tr>\n",
       "    <tr>\n",
       "      <th>8</th>\n",
       "      <td>87.866667</td>\n",
       "      <td>247.333333</td>\n",
       "      <td>C:/Mestrado Oficial Marino/Videos cegados/Cali...</td>\n",
       "      <td>5ea2305e93f4d55ef0298361</td>\n",
       "      <td>5ea2305e93f4d55ef029835d</td>\n",
       "      <td>macho</td>\n",
       "      <td>veiculo</td>\n",
       "      <td>A3</td>\n",
       "    </tr>\n",
       "    <tr>\n",
       "      <th>9</th>\n",
       "      <td>58.066667</td>\n",
       "      <td>247.533333</td>\n",
       "      <td>C:/Mestrado Oficial Marino/Videos cegados/Cali...</td>\n",
       "      <td>5ea2305e93f4d55ef029836a</td>\n",
       "      <td>5ea2305e93f4d55ef0298366</td>\n",
       "      <td>macho</td>\n",
       "      <td>veiculo</td>\n",
       "      <td>A4</td>\n",
       "    </tr>\n",
       "    <tr>\n",
       "      <th>10</th>\n",
       "      <td>109.000000</td>\n",
       "      <td>245.633333</td>\n",
       "      <td>C:/Mestrado Oficial Marino/Videos cegados/Cali...</td>\n",
       "      <td>5ea2305f93f4d55ef0298373</td>\n",
       "      <td>5ea2305f93f4d55ef029836f</td>\n",
       "      <td>macho</td>\n",
       "      <td>veiculo</td>\n",
       "      <td>A5</td>\n",
       "    </tr>\n",
       "    <tr>\n",
       "      <th>11</th>\n",
       "      <td>75.400000</td>\n",
       "      <td>248.533333</td>\n",
       "      <td>C:/Mestrado Oficial Marino/Videos cegados/Cali...</td>\n",
       "      <td>5ea2305f93f4d55ef029837c</td>\n",
       "      <td>5ea2305f93f4d55ef0298378</td>\n",
       "      <td>macho</td>\n",
       "      <td>veiculo</td>\n",
       "      <td>A6</td>\n",
       "    </tr>\n",
       "  </tbody>\n",
       "</table>\n",
       "</div>"
      ],
      "text/plain": [
       "    d_e_Immobility_s  d_total_experimento  \\\n",
       "0          31.466667           297.500000   \n",
       "1          34.566667           247.800000   \n",
       "2         119.900000           246.666667   \n",
       "3          64.633333           245.700000   \n",
       "4          87.966667           247.500000   \n",
       "5          79.466667           247.700000   \n",
       "6          54.900000           269.033333   \n",
       "7         128.533333           247.666667   \n",
       "8          87.866667           247.333333   \n",
       "9          58.066667           247.533333   \n",
       "10        109.000000           245.633333   \n",
       "11         75.400000           248.533333   \n",
       "\n",
       "                                     path_experimento  \\\n",
       "0   C:/Mestrado Oficial Marino/Videos cegados/Cali...   \n",
       "1   C:/Mestrado Oficial Marino/Videos cegados/Cali...   \n",
       "2   C:/Mestrado Oficial Marino/Videos cegados/Cali...   \n",
       "3   C:/Mestrado Oficial Marino/Videos cegados/Cali...   \n",
       "4   C:/Mestrado Oficial Marino/Videos cegados/Cali...   \n",
       "5   C:/Mestrado Oficial Marino/Videos cegados/Cali...   \n",
       "6   C:/Mestrado Oficial Marino/Videos cegados/Cali...   \n",
       "7   C:/Mestrado Oficial Marino/Videos cegados/Cali...   \n",
       "8   C:/Mestrado Oficial Marino/Videos cegados/Cali...   \n",
       "9   C:/Mestrado Oficial Marino/Videos cegados/Cali...   \n",
       "10  C:/Mestrado Oficial Marino/Videos cegados/Cali...   \n",
       "11  C:/Mestrado Oficial Marino/Videos cegados/Cali...   \n",
       "\n",
       "                      id_eto                      id_j   sexo   dosagem  \\\n",
       "0   5ea2305793f4d55ef029829b  5ea2305793f4d55ef0298297  macho  flx2.5mg   \n",
       "1   5ea2305793f4d55ef02982a4  5ea2305793f4d55ef02982a0  macho  flx2.5mg   \n",
       "2   5ea2305893f4d55ef02982c8  5ea2305893f4d55ef02982c4  macho  flx2.5mg   \n",
       "3   5ea2305993f4d55ef02982d1  5ea2305993f4d55ef02982cd  macho  flx2.5mg   \n",
       "4   5ea2305993f4d55ef02982da  5ea2305993f4d55ef02982d6  macho  flx2.5mg   \n",
       "5   5ea2305993f4d55ef02982e3  5ea2305993f4d55ef02982df  macho  flx2.5mg   \n",
       "6   5ea2305d93f4d55ef029834f  5ea2305d93f4d55ef029834b  macho   veiculo   \n",
       "7   5ea2305e93f4d55ef0298358  5ea2305e93f4d55ef0298354  macho   veiculo   \n",
       "8   5ea2305e93f4d55ef0298361  5ea2305e93f4d55ef029835d  macho   veiculo   \n",
       "9   5ea2305e93f4d55ef029836a  5ea2305e93f4d55ef0298366  macho   veiculo   \n",
       "10  5ea2305f93f4d55ef0298373  5ea2305f93f4d55ef029836f  macho   veiculo   \n",
       "11  5ea2305f93f4d55ef029837c  5ea2305f93f4d55ef0298378  macho   veiculo   \n",
       "\n",
       "   unidade  \n",
       "0       A1  \n",
       "1       A2  \n",
       "2       A3  \n",
       "3       A4  \n",
       "4       A5  \n",
       "5       A6  \n",
       "6       A1  \n",
       "7       A2  \n",
       "8       A3  \n",
       "9       A4  \n",
       "10      A5  \n",
       "11      A6  "
      ]
     },
     "execution_count": 3,
     "metadata": {},
     "output_type": "execute_result"
    }
   ],
   "source": [
    "df_m = pd.read_csv(\"Dados_duracao_macho.csv\")\n",
    "df_m.head(15)\n"
   ]
  },
  {
   "cell_type": "code",
   "execution_count": 4,
   "metadata": {},
   "outputs": [
    {
     "data": {
      "text/html": [
       "<div>\n",
       "<style scoped>\n",
       "    .dataframe tbody tr th:only-of-type {\n",
       "        vertical-align: middle;\n",
       "    }\n",
       "\n",
       "    .dataframe tbody tr th {\n",
       "        vertical-align: top;\n",
       "    }\n",
       "\n",
       "    .dataframe thead th {\n",
       "        text-align: right;\n",
       "    }\n",
       "</style>\n",
       "<table border=\"1\" class=\"dataframe\">\n",
       "  <thead>\n",
       "    <tr style=\"text-align: right;\">\n",
       "      <th></th>\n",
       "      <th>d_e_Immobility_s</th>\n",
       "      <th>d_total_experimento</th>\n",
       "      <th>path_experimento</th>\n",
       "      <th>id_eto</th>\n",
       "      <th>id_j</th>\n",
       "      <th>sexo</th>\n",
       "      <th>dosagem</th>\n",
       "      <th>unidade</th>\n",
       "    </tr>\n",
       "  </thead>\n",
       "  <tbody>\n",
       "    <tr>\n",
       "      <th>0</th>\n",
       "      <td>72.500000</td>\n",
       "      <td>247.033333</td>\n",
       "      <td>C:/Mestrado Oficial Marino/Videos cegados/Cali...</td>\n",
       "      <td>5ea2305b93f4d55ef0298307</td>\n",
       "      <td>5ea2305b93f4d55ef0298303</td>\n",
       "      <td>femea</td>\n",
       "      <td>flx2.5mg</td>\n",
       "      <td>A1</td>\n",
       "    </tr>\n",
       "    <tr>\n",
       "      <th>1</th>\n",
       "      <td>40.000000</td>\n",
       "      <td>248.433333</td>\n",
       "      <td>C:/Mestrado Oficial Marino/Videos cegados/Cali...</td>\n",
       "      <td>5ea2305b93f4d55ef0298310</td>\n",
       "      <td>5ea2305b93f4d55ef029830c</td>\n",
       "      <td>femea</td>\n",
       "      <td>flx2.5mg</td>\n",
       "      <td>A2</td>\n",
       "    </tr>\n",
       "    <tr>\n",
       "      <th>2</th>\n",
       "      <td>124.666667</td>\n",
       "      <td>246.100000</td>\n",
       "      <td>C:/Mestrado Oficial Marino/Videos cegados/Cali...</td>\n",
       "      <td>5ea2305b93f4d55ef0298319</td>\n",
       "      <td>5ea2305b93f4d55ef0298315</td>\n",
       "      <td>femea</td>\n",
       "      <td>flx2.5mg</td>\n",
       "      <td>A3</td>\n",
       "    </tr>\n",
       "    <tr>\n",
       "      <th>3</th>\n",
       "      <td>101.500000</td>\n",
       "      <td>248.000000</td>\n",
       "      <td>C:/Mestrado Oficial Marino/Videos cegados/Cali...</td>\n",
       "      <td>5ea2305c93f4d55ef0298322</td>\n",
       "      <td>5ea2305c93f4d55ef029831e</td>\n",
       "      <td>femea</td>\n",
       "      <td>flx2.5mg</td>\n",
       "      <td>A4</td>\n",
       "    </tr>\n",
       "    <tr>\n",
       "      <th>4</th>\n",
       "      <td>38.766667</td>\n",
       "      <td>246.166667</td>\n",
       "      <td>C:/Mestrado Oficial Marino/Videos cegados/Cali...</td>\n",
       "      <td>5ea2305c93f4d55ef029832b</td>\n",
       "      <td>5ea2305c93f4d55ef0298327</td>\n",
       "      <td>femea</td>\n",
       "      <td>flx2.5mg</td>\n",
       "      <td>A5</td>\n",
       "    </tr>\n",
       "    <tr>\n",
       "      <th>5</th>\n",
       "      <td>63.800000</td>\n",
       "      <td>245.266667</td>\n",
       "      <td>C:/Mestrado Oficial Marino/Videos cegados/Cali...</td>\n",
       "      <td>5ea2305c93f4d55ef0298334</td>\n",
       "      <td>5ea2305c93f4d55ef0298330</td>\n",
       "      <td>femea</td>\n",
       "      <td>flx2.5mg</td>\n",
       "      <td>A6</td>\n",
       "    </tr>\n",
       "    <tr>\n",
       "      <th>6</th>\n",
       "      <td>68.666667</td>\n",
       "      <td>245.900000</td>\n",
       "      <td>C:/Mestrado Oficial Marino/Videos cegados/Cali...</td>\n",
       "      <td>5ea2305d93f4d55ef029833d</td>\n",
       "      <td>5ea2305d93f4d55ef0298339</td>\n",
       "      <td>femea</td>\n",
       "      <td>flx2.5mg</td>\n",
       "      <td>A7</td>\n",
       "    </tr>\n",
       "    <tr>\n",
       "      <th>7</th>\n",
       "      <td>200.166667</td>\n",
       "      <td>247.400000</td>\n",
       "      <td>C:/Mestrado Oficial Marino/Videos cegados/Cali...</td>\n",
       "      <td>5ea2305d93f4d55ef0298346</td>\n",
       "      <td>5ea2305d93f4d55ef0298342</td>\n",
       "      <td>femea</td>\n",
       "      <td>flx2.5mg</td>\n",
       "      <td>A8</td>\n",
       "    </tr>\n",
       "    <tr>\n",
       "      <th>8</th>\n",
       "      <td>51.300000</td>\n",
       "      <td>249.533333</td>\n",
       "      <td>C:/Mestrado Oficial Marino/Videos cegados/Cali...</td>\n",
       "      <td>5ea2305f93f4d55ef0298385</td>\n",
       "      <td>5ea2305f93f4d55ef0298381</td>\n",
       "      <td>femea</td>\n",
       "      <td>veiculo</td>\n",
       "      <td>A1</td>\n",
       "    </tr>\n",
       "    <tr>\n",
       "      <th>9</th>\n",
       "      <td>82.933333</td>\n",
       "      <td>247.066667</td>\n",
       "      <td>C:/Mestrado Oficial Marino/Videos cegados/Cali...</td>\n",
       "      <td>5ea2306093f4d55ef029838e</td>\n",
       "      <td>5ea2306093f4d55ef029838a</td>\n",
       "      <td>femea</td>\n",
       "      <td>veiculo</td>\n",
       "      <td>A2</td>\n",
       "    </tr>\n",
       "    <tr>\n",
       "      <th>10</th>\n",
       "      <td>85.200000</td>\n",
       "      <td>248.566667</td>\n",
       "      <td>C:/Mestrado Oficial Marino/Videos cegados/Cali...</td>\n",
       "      <td>5ea2306093f4d55ef0298397</td>\n",
       "      <td>5ea2306093f4d55ef0298393</td>\n",
       "      <td>femea</td>\n",
       "      <td>veiculo</td>\n",
       "      <td>A3</td>\n",
       "    </tr>\n",
       "    <tr>\n",
       "      <th>11</th>\n",
       "      <td>48.133333</td>\n",
       "      <td>246.900000</td>\n",
       "      <td>C:/Mestrado Oficial Marino/Videos cegados/Cali...</td>\n",
       "      <td>5ea2306193f4d55ef02983a0</td>\n",
       "      <td>5ea2306193f4d55ef029839c</td>\n",
       "      <td>femea</td>\n",
       "      <td>veiculo</td>\n",
       "      <td>A4</td>\n",
       "    </tr>\n",
       "    <tr>\n",
       "      <th>12</th>\n",
       "      <td>34.100000</td>\n",
       "      <td>249.000000</td>\n",
       "      <td>C:/Mestrado Oficial Marino/Videos cegados/Cali...</td>\n",
       "      <td>5ea2306193f4d55ef02983a9</td>\n",
       "      <td>5ea2306193f4d55ef02983a5</td>\n",
       "      <td>femea</td>\n",
       "      <td>veiculo</td>\n",
       "      <td>A5</td>\n",
       "    </tr>\n",
       "    <tr>\n",
       "      <th>13</th>\n",
       "      <td>75.166667</td>\n",
       "      <td>247.166667</td>\n",
       "      <td>C:/Mestrado Oficial Marino/Videos cegados/Cali...</td>\n",
       "      <td>5ea2306193f4d55ef02983b2</td>\n",
       "      <td>5ea2306193f4d55ef02983ae</td>\n",
       "      <td>femea</td>\n",
       "      <td>veiculo</td>\n",
       "      <td>A6</td>\n",
       "    </tr>\n",
       "    <tr>\n",
       "      <th>14</th>\n",
       "      <td>116.366667</td>\n",
       "      <td>247.466667</td>\n",
       "      <td>C:/Mestrado Oficial Marino/Videos cegados/Cali...</td>\n",
       "      <td>5ea2306293f4d55ef02983bb</td>\n",
       "      <td>5ea2306293f4d55ef02983b7</td>\n",
       "      <td>femea</td>\n",
       "      <td>veiculo</td>\n",
       "      <td>A7</td>\n",
       "    </tr>\n",
       "    <tr>\n",
       "      <th>15</th>\n",
       "      <td>107.933333</td>\n",
       "      <td>247.266667</td>\n",
       "      <td>C:/Mestrado Oficial Marino/Videos cegados/Cali...</td>\n",
       "      <td>5ea2306293f4d55ef02983c4</td>\n",
       "      <td>5ea2306293f4d55ef02983c0</td>\n",
       "      <td>femea</td>\n",
       "      <td>veiculo</td>\n",
       "      <td>A8</td>\n",
       "    </tr>\n",
       "    <tr>\n",
       "      <th>16</th>\n",
       "      <td>75.533333</td>\n",
       "      <td>247.066667</td>\n",
       "      <td>C:/Mestrado Oficial Marino/Videos cegados/Cali...</td>\n",
       "      <td>5ea2306293f4d55ef02983cd</td>\n",
       "      <td>5ea2306293f4d55ef02983c9</td>\n",
       "      <td>femea</td>\n",
       "      <td>veiculo</td>\n",
       "      <td>A9</td>\n",
       "    </tr>\n",
       "  </tbody>\n",
       "</table>\n",
       "</div>"
      ],
      "text/plain": [
       "    d_e_Immobility_s  d_total_experimento  \\\n",
       "0          72.500000           247.033333   \n",
       "1          40.000000           248.433333   \n",
       "2         124.666667           246.100000   \n",
       "3         101.500000           248.000000   \n",
       "4          38.766667           246.166667   \n",
       "5          63.800000           245.266667   \n",
       "6          68.666667           245.900000   \n",
       "7         200.166667           247.400000   \n",
       "8          51.300000           249.533333   \n",
       "9          82.933333           247.066667   \n",
       "10         85.200000           248.566667   \n",
       "11         48.133333           246.900000   \n",
       "12         34.100000           249.000000   \n",
       "13         75.166667           247.166667   \n",
       "14        116.366667           247.466667   \n",
       "15        107.933333           247.266667   \n",
       "16         75.533333           247.066667   \n",
       "\n",
       "                                     path_experimento  \\\n",
       "0   C:/Mestrado Oficial Marino/Videos cegados/Cali...   \n",
       "1   C:/Mestrado Oficial Marino/Videos cegados/Cali...   \n",
       "2   C:/Mestrado Oficial Marino/Videos cegados/Cali...   \n",
       "3   C:/Mestrado Oficial Marino/Videos cegados/Cali...   \n",
       "4   C:/Mestrado Oficial Marino/Videos cegados/Cali...   \n",
       "5   C:/Mestrado Oficial Marino/Videos cegados/Cali...   \n",
       "6   C:/Mestrado Oficial Marino/Videos cegados/Cali...   \n",
       "7   C:/Mestrado Oficial Marino/Videos cegados/Cali...   \n",
       "8   C:/Mestrado Oficial Marino/Videos cegados/Cali...   \n",
       "9   C:/Mestrado Oficial Marino/Videos cegados/Cali...   \n",
       "10  C:/Mestrado Oficial Marino/Videos cegados/Cali...   \n",
       "11  C:/Mestrado Oficial Marino/Videos cegados/Cali...   \n",
       "12  C:/Mestrado Oficial Marino/Videos cegados/Cali...   \n",
       "13  C:/Mestrado Oficial Marino/Videos cegados/Cali...   \n",
       "14  C:/Mestrado Oficial Marino/Videos cegados/Cali...   \n",
       "15  C:/Mestrado Oficial Marino/Videos cegados/Cali...   \n",
       "16  C:/Mestrado Oficial Marino/Videos cegados/Cali...   \n",
       "\n",
       "                      id_eto                      id_j   sexo   dosagem  \\\n",
       "0   5ea2305b93f4d55ef0298307  5ea2305b93f4d55ef0298303  femea  flx2.5mg   \n",
       "1   5ea2305b93f4d55ef0298310  5ea2305b93f4d55ef029830c  femea  flx2.5mg   \n",
       "2   5ea2305b93f4d55ef0298319  5ea2305b93f4d55ef0298315  femea  flx2.5mg   \n",
       "3   5ea2305c93f4d55ef0298322  5ea2305c93f4d55ef029831e  femea  flx2.5mg   \n",
       "4   5ea2305c93f4d55ef029832b  5ea2305c93f4d55ef0298327  femea  flx2.5mg   \n",
       "5   5ea2305c93f4d55ef0298334  5ea2305c93f4d55ef0298330  femea  flx2.5mg   \n",
       "6   5ea2305d93f4d55ef029833d  5ea2305d93f4d55ef0298339  femea  flx2.5mg   \n",
       "7   5ea2305d93f4d55ef0298346  5ea2305d93f4d55ef0298342  femea  flx2.5mg   \n",
       "8   5ea2305f93f4d55ef0298385  5ea2305f93f4d55ef0298381  femea   veiculo   \n",
       "9   5ea2306093f4d55ef029838e  5ea2306093f4d55ef029838a  femea   veiculo   \n",
       "10  5ea2306093f4d55ef0298397  5ea2306093f4d55ef0298393  femea   veiculo   \n",
       "11  5ea2306193f4d55ef02983a0  5ea2306193f4d55ef029839c  femea   veiculo   \n",
       "12  5ea2306193f4d55ef02983a9  5ea2306193f4d55ef02983a5  femea   veiculo   \n",
       "13  5ea2306193f4d55ef02983b2  5ea2306193f4d55ef02983ae  femea   veiculo   \n",
       "14  5ea2306293f4d55ef02983bb  5ea2306293f4d55ef02983b7  femea   veiculo   \n",
       "15  5ea2306293f4d55ef02983c4  5ea2306293f4d55ef02983c0  femea   veiculo   \n",
       "16  5ea2306293f4d55ef02983cd  5ea2306293f4d55ef02983c9  femea   veiculo   \n",
       "\n",
       "   unidade  \n",
       "0       A1  \n",
       "1       A2  \n",
       "2       A3  \n",
       "3       A4  \n",
       "4       A5  \n",
       "5       A6  \n",
       "6       A7  \n",
       "7       A8  \n",
       "8       A1  \n",
       "9       A2  \n",
       "10      A3  \n",
       "11      A4  \n",
       "12      A5  \n",
       "13      A6  \n",
       "14      A7  \n",
       "15      A8  \n",
       "16      A9  "
      ]
     },
     "execution_count": 4,
     "metadata": {},
     "output_type": "execute_result"
    }
   ],
   "source": [
    "df_f = pd.read_csv(\"Dados_duracao_femea.csv\")\n",
    "df_f.head(20)"
   ]
  },
  {
   "cell_type": "code",
   "execution_count": null,
   "metadata": {},
   "outputs": [],
   "source": []
  },
  {
   "cell_type": "code",
   "execution_count": 5,
   "metadata": {},
   "outputs": [],
   "source": [
    "def get_dados(df, categoria):\n",
    "    df_saida = df[df[\"dosagem\"] == categoria]\n",
    "    return np.array(df_saida[\"d_e_Immobility_s\"])"
   ]
  },
  {
   "cell_type": "code",
   "execution_count": 6,
   "metadata": {},
   "outputs": [
    {
     "data": {
      "text/plain": [
       "array([ 31.46666667,  34.56666667, 119.9       ,  64.63333333,\n",
       "        87.96666667,  79.46666667])"
      ]
     },
     "execution_count": 6,
     "metadata": {},
     "output_type": "execute_result"
    }
   ],
   "source": [
    "np.array(get_dados(df_m,\"flx2.5mg\")) \n"
   ]
  },
  {
   "cell_type": "code",
   "execution_count": 7,
   "metadata": {},
   "outputs": [],
   "source": [
    "animais =  [get_dados(df_m,\"veiculo\"), get_dados(df_m,\"flx2.5mg\"), get_dados(df_f,\"veiculo\"), get_dados(df_f,\"flx2.5mg\")]\n"
   ]
  },
  {
   "cell_type": "code",
   "execution_count": 8,
   "metadata": {},
   "outputs": [],
   "source": [
    "def shapiro(x):\n",
    "    _ , p =stats.shapiro(x)\n",
    "    return p*100"
   ]
  },
  {
   "cell_type": "code",
   "execution_count": 9,
   "metadata": {},
   "outputs": [
    {
     "name": "stdout",
     "output_type": "stream",
     "text": [
      "ShapiroResult(statistic=0.9371453523635864, pvalue=0.6362926363945007)\n",
      "ShapiroResult(statistic=0.9438129663467407, pvalue=0.6900469660758972)\n",
      "ShapiroResult(statistic=0.9573196768760681, pvalue=0.7698919773101807)\n",
      "ShapiroResult(statistic=0.8600625991821289, pvalue=0.12024760246276855)\n"
     ]
    }
   ],
   "source": [
    "# Teste de shapiro a hipotese nula é q eles vem da normal\n",
    "# Teste alternativa que ele não vem da normal\n",
    "\n",
    "print(stats.shapiro(get_dados(df_m,\"veiculo\")))\n",
    "print(stats.shapiro(get_dados(df_m,\"flx2.5mg\")))\n",
    "print(stats.shapiro(get_dados(df_f,\"veiculo\")))\n",
    "print(stats.shapiro(get_dados(df_f,\"flx2.5mg\")))"
   ]
  },
  {
   "cell_type": "code",
   "execution_count": 10,
   "metadata": {},
   "outputs": [],
   "source": [
    "grupos= ['M_veículo', 'M_flx2.5mg', 'F_veículo', 'F_flx2.5mg']\n",
    "values = list(map(shapiro,animais))\n"
   ]
  },
  {
   "cell_type": "code",
   "execution_count": 11,
   "metadata": {},
   "outputs": [
    {
     "data": {
      "image/png": "[encoded data removed]",
      "text/plain": [
       "<Figure size 640x480 with 1 Axes>"
      ]
     },
     "metadata": {},
     "output_type": "display_data"
    }
   ],
   "source": [
    "plt.scatter(grupos,values)\n",
    "plt.plot(grupos, values)\n",
    "plt.plot(grupos, [5,5,5,5])\n",
    "plt.xlabel(\"Grupos experimentais\")\n",
    "plt.ylabel(\"Valor de p(%)\")\n",
    "plt.savefig(\"Shapiro_dados.png\")"
   ]
  },
  {
   "cell_type": "code",
   "execution_count": 12,
   "metadata": {},
   "outputs": [],
   "source": [
    "def create_graph(axs, df, group, sexo):\n",
    "    mean  = np.mean(get_dados(df,group))\n",
    "    std  = np.std(get_dados(df, group))\n",
    "    data = np.random.normal(mean, std, 1000)\n",
    "    weights = np.ones_like(data) / len(data)\n",
    "    axs.hist(data, weights=weights)\n",
    "\n",
    "    my_array = get_dados(df, group)\n",
    "    weights = np.ones_like(my_array) / len(my_array)\n",
    "    axs.hist(my_array, weights=weights)\n",
    "    # axs.hist(data, bins=12, density=True)\n",
    "    # axs.hist(my_array, bins=12, density=True)\n",
    "    axs.set_xlabel(\"Duração do comportamento de imobilidade (s)\")\n",
    "    axs.set_ylabel(\"Probabilidade\")\n",
    "    axs.set_ylim([0, 0.4])\n",
    "    axs.set_xlim([0, 250])\n",
    "    # axs.set_ticks([])\n",
    "    axs.set_yticklabels([])\n",
    "    p= stats.shapiro(get_dados(df, group))\n",
    "    # print()\n",
    "    print(sexo, group, mean, std, p)\n",
    "    return axs\n"
   ]
  },
  {
   "cell_type": "code",
   "execution_count": 13,
   "metadata": {},
   "outputs": [
    {
     "name": "stdout",
     "output_type": "stream",
     "text": [
      "macho veiculo 85.62777777777778 26.45933579319942 ShapiroResult(statistic=0.9371453523635864, pvalue=0.6362926363945007)\n",
      "macho flx2.5mg 69.66666666666667 30.74329797484926 ShapiroResult(statistic=0.9438129663467407, pvalue=0.6900469660758972)\n",
      "femea veiculo 75.18518518518519 25.645239305566648 ShapiroResult(statistic=0.9573196768760681, pvalue=0.7698919773101807)\n",
      "femea flx2.5mg 88.75833333333333 50.03878981461393 ShapiroResult(statistic=0.8600625991821289, pvalue=0.12024760246276855)\n"
     ]
    },
    {
     "data": {
      "image/png": "[encoded data removed]",
      "text/plain": [
       "<Figure size 800x600 with 4 Axes>"
      ]
     },
     "metadata": {},
     "output_type": "display_data"
    }
   ],
   "source": [
    "\n",
    "fig, axs = plt.subplots(2, 2, sharey=True, tight_layout=True, figsize=(8,6))\n",
    "\n",
    "# We can set the number of bins with the *bins* keyword argument.\n",
    "create_graph(axs[0][0], df_m, \"veiculo\", \"macho\")\n",
    "create_graph(axs[0][1], df_m, \"flx2.5mg\", \"macho\")\n",
    "create_graph(axs[1][0], df_f, \"veiculo\", \"femea\")\n",
    "create_graph(axs[1][1], df_f, \"flx2.5mg\", \"femea\")\n",
    "\n",
    "\n",
    "# axs[0][0].hist(data, bins=12, density=True)\n",
    "# axs[0][0].hist(get_dados(df_m,\"veiculo\"), bins=12, density=True)\n",
    "\n",
    "# axs[0][1].hist(get_dados(df_m,\"flx2.5mg\") , bins=4)\n",
    "# axs[1][0].hist(get_dados(df_f,\"veiculo\"), bins=4)\n",
    "# axs[1][1].hist(get_dados(df_f,\"flx2.5mg\"), bins=4 )\n",
    "plt.savefig(\"teste levene.jpg\")"
   ]
  },
  {
   "cell_type": "raw",
   "metadata": {},
   "source": []
  },
  {
   "cell_type": "code",
   "execution_count": 14,
   "metadata": {},
   "outputs": [
    {
     "data": {
      "text/plain": [
       "LeveneResult(statistic=1.276128044965548, pvalue=0.30412183578625596)"
      ]
     },
     "execution_count": 14,
     "metadata": {},
     "output_type": "execute_result"
    }
   ],
   "source": [
    "stats.levene(get_dados(df_m,\"veiculo\"), get_dados(df_m,\"flx2.5mg\"), get_dados(df_f,\"veiculo\"), get_dados(df_f,\"flx2.5mg\"), center=\"mean\")"
   ]
  },
  {
   "cell_type": "code",
   "execution_count": null,
   "metadata": {},
   "outputs": [],
   "source": []
  },
  {
   "cell_type": "code",
   "execution_count": 15,
   "metadata": {},
   "outputs": [],
   "source": [
    "def calcula_p_test( grupo_nome, grupo_1, grupo_2, ):\n",
    "    sl, pl = stats.levene(grupo_1 ,grupo_2, center=\"mean\")\n",
    "    st, pt = stats.ttest_ind(grupo_1,grupo_2)\n",
    "    d = {\"Diferença entre os grupos\": grupo_nome,\n",
    "     \"Resultado do teste Levene\": f\"{pl:.4}\",\n",
    "     \"Resultado do teste T\": f\"{pt:.4}\"}\n",
    "    return d"
   ]
  },
  {
   "cell_type": "code",
   "execution_count": null,
   "metadata": {},
   "outputs": [],
   "source": []
  },
  {
   "cell_type": "code",
   "execution_count": 16,
   "metadata": {},
   "outputs": [],
   "source": [
    "# print(get_dados(df_m,\"veiculo\"),get_dados(df_m,\"flx2.5mg\"))"
   ]
  },
  {
   "cell_type": "code",
   "execution_count": 17,
   "metadata": {},
   "outputs": [
    {
     "name": "stdout",
     "output_type": "stream",
     "text": [
      "LeveneResult(statistic=0.12116822146575594, pvalue=0.7349872241826486)\n",
      "LeveneResult(statistic=2.5927275031176076, pvalue=0.12819392158739862)\n",
      "LeveneResult(statistic=0.08257543549461756, pvalue=0.7783666268496943)\n",
      "LeveneResult(statistic=0.9035787906308599, pvalue=0.36057713521709084)\n"
     ]
    }
   ],
   "source": [
    "# Teste de levene a hipotese nula é q eles tem homogeneidade de variancia\n",
    "# Teste alternativa que ele não vem da normal\n",
    "\n",
    "\n",
    "\n",
    "# \"Machos controle e tratados\"\n",
    "print(stats.levene(get_dados(df_m,\"veiculo\"),get_dados(df_m,\"flx2.5mg\"), center=\"mean\"))\n",
    "print(stats.levene(get_dados(df_f,\"veiculo\"), get_dados(df_f,\"flx2.5mg\"), center=\"mean\"))\n",
    "print(stats.levene(get_dados(df_m,\"veiculo\"), get_dados(df_f,\"veiculo\"), center=\"mean\"))\n",
    "print(stats.levene(get_dados(df_m,\"flx2.5mg\"), get_dados(df_f,\"flx2.5mg\"), center=\"mean\"))\n",
    "\n",
    "# tem homegeneidade de variancia.\n",
    "\n",
    "# gera_grafico_controle(get_dados(df_m,\"veiculo\"), get_dados(df_m,\"flx2.5mg\"),\"Machos controle e tratados\", axes[0][0])\n",
    "# gera_grafico_controle(get_dados(df_f,\"veiculo\"), get_dados(df_f,\"flx2.5mg\"),\"Fêmeas controle e tratadas\", axes[0][1])\n",
    "# gera_grafico_controle(get_dados(df_m,\"veiculo\"), get_dados(df_f,\"veiculo\"),  \"Machos e fêmeas controle\", axes[1][0])\n",
    "# gera_grafico_controle(get_dados(df_m,\"flx2.5mg\"), get_dados(df_f,\"flx2.5mg\"),\"Machos e fêmeas tratados\", axes[1][1])\n"
   ]
  },
  {
   "cell_type": "code",
   "execution_count": null,
   "metadata": {},
   "outputs": [],
   "source": []
  },
  {
   "cell_type": "code",
   "execution_count": 18,
   "metadata": {},
   "outputs": [
    {
     "name": "stdout",
     "output_type": "stream",
     "text": [
      "Ttest_indResult(statistic=0.8798985315254637, pvalue=0.3995657051300694)\n",
      "Ttest_indResult(statistic=-0.6715805070088504, pvalue=0.5120618558764538)\n",
      "Ttest_indResult(statistic=0.7101462509335389, pvalue=0.49015705426086387)\n",
      "Ttest_indResult(statistic=-0.7638499643206486, pvalue=0.45971248253316466)\n"
     ]
    }
   ],
   "source": [
    "print(stats.ttest_ind(get_dados(df_m,\"veiculo\"),get_dados(df_m,\"flx2.5mg\")))\n",
    "print(stats.ttest_ind(get_dados(df_f,\"veiculo\"),get_dados(df_f,\"flx2.5mg\")))\n",
    "print(stats.ttest_ind(get_dados(df_m,\"veiculo\"),get_dados(df_f,\"veiculo\")))\n",
    "print(stats.ttest_ind(get_dados(df_m,\"flx2.5mg\"),get_dados(df_f,\"flx2.5mg\")))"
   ]
  },
  {
   "cell_type": "code",
   "execution_count": 19,
   "metadata": {},
   "outputs": [],
   "source": [
    "ls = [calcula_p_test(\"Machos controle e tratados\", get_dados(df_m,\"veiculo\"),get_dados(df_m,\"flx2.5mg\")),\n",
    "      calcula_p_test(\"Fêmeas controle e tratadas\", get_dados(df_f,\"veiculo\"), get_dados(df_f,\"flx2.5mg\")),\n",
    "      calcula_p_test(\"Machos e fêmeas controle\", get_dados(df_m,\"veiculo\"), get_dados(df_f,\"veiculo\")),\n",
    "      calcula_p_test(\"Machos e fêmeas tratados\", get_dados(df_m,\"flx2.5mg\"), get_dados(df_f,\"flx2.5mg\"))]"
   ]
  },
  {
   "cell_type": "code",
   "execution_count": 20,
   "metadata": {},
   "outputs": [
    {
     "data": {
      "text/html": [
       "<div>\n",
       "<style scoped>\n",
       "    .dataframe tbody tr th:only-of-type {\n",
       "        vertical-align: middle;\n",
       "    }\n",
       "\n",
       "    .dataframe tbody tr th {\n",
       "        vertical-align: top;\n",
       "    }\n",
       "\n",
       "    .dataframe thead th {\n",
       "        text-align: right;\n",
       "    }\n",
       "</style>\n",
       "<table border=\"1\" class=\"dataframe\">\n",
       "  <thead>\n",
       "    <tr style=\"text-align: right;\">\n",
       "      <th></th>\n",
       "      <th>Diferença entre os grupos</th>\n",
       "      <th>Resultado do teste Levene</th>\n",
       "      <th>Resultado do teste T</th>\n",
       "    </tr>\n",
       "  </thead>\n",
       "  <tbody>\n",
       "    <tr>\n",
       "      <th>0</th>\n",
       "      <td>Machos controle e tratados</td>\n",
       "      <td>0.735</td>\n",
       "      <td>0.3996</td>\n",
       "    </tr>\n",
       "    <tr>\n",
       "      <th>1</th>\n",
       "      <td>Fêmeas controle e tratadas</td>\n",
       "      <td>0.1282</td>\n",
       "      <td>0.5121</td>\n",
       "    </tr>\n",
       "    <tr>\n",
       "      <th>2</th>\n",
       "      <td>Machos e fêmeas controle</td>\n",
       "      <td>0.7784</td>\n",
       "      <td>0.4902</td>\n",
       "    </tr>\n",
       "    <tr>\n",
       "      <th>3</th>\n",
       "      <td>Machos e fêmeas tratados</td>\n",
       "      <td>0.3606</td>\n",
       "      <td>0.4597</td>\n",
       "    </tr>\n",
       "  </tbody>\n",
       "</table>\n",
       "</div>"
      ],
      "text/plain": [
       "    Diferença entre os grupos Resultado do teste Levene Resultado do teste T\n",
       "0  Machos controle e tratados                     0.735               0.3996\n",
       "1  Fêmeas controle e tratadas                    0.1282               0.5121\n",
       "2    Machos e fêmeas controle                    0.7784               0.4902\n",
       "3    Machos e fêmeas tratados                    0.3606               0.4597"
      ]
     },
     "execution_count": 20,
     "metadata": {},
     "output_type": "execute_result"
    }
   ],
   "source": [
    "df = pd.DataFrame(ls)\n",
    "df"
   ]
  },
  {
   "cell_type": "code",
   "execution_count": 21,
   "metadata": {},
   "outputs": [],
   "source": [
    "with open(\"latex1_txt\", \"w\") as f:\n",
    "    f.write(df.to_latex())\n"
   ]
  },
  {
   "cell_type": "code",
   "execution_count": null,
   "metadata": {},
   "outputs": [],
   "source": []
  },
  {
   "cell_type": "code",
   "execution_count": null,
   "metadata": {},
   "outputs": [],
   "source": []
  },
  {
   "cell_type": "code",
   "execution_count": null,
   "metadata": {},
   "outputs": [],
   "source": []
  },
  {
   "cell_type": "code",
   "execution_count": null,
   "metadata": {},
   "outputs": [],
   "source": []
  },
  {
   "cell_type": "code",
   "execution_count": 22,
   "metadata": {},
   "outputs": [],
   "source": [
    "ind = np.arange(4)    # the x locations for the groups\n",
    "width = 0.35       # the width of the bars: can also be len(x) sequence\n"
   ]
  },
  {
   "cell_type": "code",
   "execution_count": 23,
   "metadata": {},
   "outputs": [],
   "source": [
    "def media(x):\n",
    "    return np.mean(x)\n",
    "def erro_me(x):\n",
    "    return np.std(x)\n",
    "\n",
    "animais_med = list(map(media, animais))\n",
    "animais_stdv = list(map(erro_me, animais))"
   ]
  },
  {
   "cell_type": "code",
   "execution_count": 24,
   "metadata": {},
   "outputs": [
    {
     "data": {
      "image/png": "[encoded data removed]",
      "text/plain": [
       "<Figure size 640x480 with 1 Axes>"
      ]
     },
     "metadata": {},
     "output_type": "display_data"
    }
   ],
   "source": [
    "p1 = plt.bar(ind, animais_med, width, yerr=animais_stdv)\n",
    "# plt.xticks(ind, ('M_veículo', 'M_flx2.5mg', 'F_veículo', 'F_flx2.5mg'))\n",
    "plt.xticks(ind, ('1. Veículo', '2. 2,5 mg/kg FLX', '1. Veículo', '2. 2,5 mg/kg FLX'))\n",
    "plt.xlabel(\"Grupos experimentais\")\n",
    "plt.ylabel(\"Duração do comportamento\\n de Imobilidade (s)\")\n",
    "plt.savefig(\"Bar_duracao_Imobilidade.png\")"
   ]
  },
  {
   "cell_type": "code",
   "execution_count": 25,
   "metadata": {},
   "outputs": [],
   "source": [
    "# stats.f.ppf(1-0.05, dfn=2-1, dfd=(len(get_dados(df_m,\"veiculo\")) + len(get_dados(df_m,\"flx2.5mg\")) -2))"
   ]
  },
  {
   "cell_type": "code",
   "execution_count": 26,
   "metadata": {},
   "outputs": [],
   "source": [
    "# get_dados(df_f,\"veiculo\")\n",
    "# s,p =stats.levene(get_dados(df_m,\"veiculo\"),get_dados(df_m,\"flx2.5mg\"))\n",
    "# p*100"
   ]
  },
  {
   "cell_type": "code",
   "execution_count": 27,
   "metadata": {},
   "outputs": [],
   "source": [
    "# 0.05*100"
   ]
  },
  {
   "cell_type": "code",
   "execution_count": 28,
   "metadata": {},
   "outputs": [],
   "source": [
    "\n",
    "# controle = np.array( [6.9, 7.6, 7.3, 7.6, 6.8, 7.2, 8.0, 5.5, 5.8, 7.3, 8.2, 6.9, 6.8, 5.7, 8.6])\n",
    "# tratamento = np.array( [6.4, 6.7, 5.4, 8.2, 5.3, 6.6, 5.8, 5.7, 6.2, 7.1, 7, 6.9, 5.6, 4.2, 6.8]) \n",
    "\n",
    "# # qnt_dados = 15\n",
    "# qt_medicoes_boots= 1000"
   ]
  },
  {
   "cell_type": "code",
   "execution_count": 29,
   "metadata": {},
   "outputs": [],
   "source": [
    "# controle = get_dados(df_m,\"veiculo\")\n",
    "# tratamento = get_dados(df_m,\"flx2.5mg\")\n",
    "# qnt_aniamis = len(controle)\n",
    "# lis_qnt_m, lis_powa_m = cp.Calc_poder(controle, tratamento, stats.mannwhitneyu, qnt_aniamis).get_list_qnt_powa()\n",
    "# lis_qnt_t, lis_powa_t = cp.Calc_poder(controle, tratamento, stats.ttest_ind, qnt_aniamis).get_list_qnt_powa()\n",
    "# lis_qnt_k, lis_powa_k = cp.Calc_poder(controle, tratamento, stats.kruskal, qnt_aniamis).get_list_qnt_powa()\n",
    "# def gera_grafico_controle(controle, tratamento, titulo, axes):\n",
    "\n",
    "#     qnt_aniamis = len(controle)\n",
    "#     lis_qnt_m, lis_powa_m = cp.Calc_poder(controle, tratamento, stats.mannwhitneyu, qnt_aniamis).get_list_qnt_powa()\n",
    "#     lis_qnt_t, lis_powa_t = cp.Calc_poder(controle, tratamento, stats.ttest_ind, qnt_aniamis).get_list_qnt_powa()\n",
    "#     lis_qnt_k, lis_powa_k = cp.Calc_poder(controle, tratamento, stats.kruskal, qnt_aniamis).get_list_qnt_powa()\n",
    "    \n",
    "# #     fig, axes = plt.subplots(ncols=1, nrows=1, constrained_layout=True)\n",
    "# #     fig.set_size_inches(7, 7)\n",
    "#     axes.scatter(lis_qnt_m, lis_powa_m, s=50, label=\"Mann-Whitney\")\n",
    "#     axes.scatter(lis_qnt_t, lis_powa_t, s=50, label=\"T teste\")\n",
    "#     axes.scatter(lis_qnt_k, lis_powa_k, s=50, label=\"Kruskal-Wallis\")\n",
    "#     axes.set_title(titulo)\n",
    "#     axes.set_xlim([0, 60])\n",
    "#     axes.set_ylim([0, 60])\n",
    "#     axes.legend(fontsize=14)\n",
    "#     axes.grid(color='r', linestyle='--', linewidth=1)\n",
    "#     axes.set_ylabel(\"Poder da análise (%)\", fontsize=18)\n",
    "#     axes.set_xlabel(\"Quantidade de \\n dados na amostra\", fontsize=18)\n",
    "\n",
    "#     plt.savefig(\"poder_analise_tshn_boots.png\")\n"
   ]
  },
  {
   "cell_type": "code",
   "execution_count": 30,
   "metadata": {},
   "outputs": [],
   "source": [
    "# len(controle)"
   ]
  },
  {
   "cell_type": "code",
   "execution_count": 31,
   "metadata": {},
   "outputs": [],
   "source": [
    "# fig, axes = plt.subplots(ncols=1, nrows=1, constrained_layout=True)\n",
    "# fig.set_size_inches(7, 7)\n",
    "# axes.scatter(lis_qnt_m, lis_powa_m, s=50, label=\"mannwhitneyu\")\n",
    "# axes.scatter(lis_qnt_t, lis_powa_t, s=50, label=\"ttest_ind\")\n",
    "# axes.scatter(lis_qnt_k, lis_powa_k, s=50, label=\"kruskal\")\n",
    "# axes.legend()\n",
    "# axes.grid(color='r', linestyle='--', linewidth=1)\n",
    "# axes.set_ylabel(\"Poder da análise (%)\", fontsize=18)\n",
    "# axes.set_xlabel(\"Quantidade de \\n dados na amostra\", fontsize=18)\n",
    "\n",
    "# plt.savefig(\"poder_analise_tshn_boots.png\")\n",
    "# fig, axes = plt.subplots(ncols=2, nrows=2, constrained_layout=True)\n",
    "# fig.set_size_inches(12, 12)\n",
    "# gera_grafico_controle(get_dados(df_m,\"veiculo\"), get_dados(df_m,\"flx2.5mg\"),\"TSHN usando o descritor de duração de Imobilidade \\n entre os grupos de \\nmachos controle e tratado\", axes[0][0])\n",
    "# gera_grafico_controle(get_dados(df_f,\"veiculo\"), get_dados(df_f,\"flx2.5mg\"),\"TSHN usando o descritor de duração de Imobilidade \\n entre os grupos de \\nfêmeas controle e tratado\", axes[0][1])\n",
    "# gera_grafico_controle(get_dados(df_m,\"veiculo\"), get_dados(df_f,\"veiculo\"),\"TSHN usando o descritor de duração de Imobilidade \\n entre os grupos \\ncontrole de machos e fêmeas\", axes[1][0])\n",
    "# gera_grafico_controle(get_dados(df_m,\"flx2.5mg\"), get_dados(df_f,\"flx2.5mg\"),\"TSHN usando o descritor de duração de Imobilidade \\n entre os grupos \\ntratado de machos e fêmeas\", axes[1][1])\n",
    "\n",
    "# plt.savefig(\"poder_analise_tshn_boots_TCC.png\")"
   ]
  },
  {
   "cell_type": "code",
   "execution_count": null,
   "metadata": {},
   "outputs": [],
   "source": [
    "\n",
    "\n",
    "    \n",
    "    "
   ]
  },
  {
   "cell_type": "code",
   "execution_count": 32,
   "metadata": {},
   "outputs": [],
   "source": [
    "# Teste de Kolgomirov-Smornov\n",
    "# print(\n",
    "#     stats.kstest(get_dados(df_m,\"veiculo\"),'norm',\n",
    "#                  args=(np.mean(get_dados(df_m,\"veiculo\")), np.std(get_dados(df_m,\"veiculo\"))),\n",
    "#                   N=len(get_dados(df_m,\"veiculo\")))\n",
    "#     )\n",
    "\n",
    "# print(\n",
    "#     stats.kstest(get_dados(df_m,\"flx2.5mg\"),'norm',\n",
    "#                  args=(np.mean(get_dados(df_m,\"flx2.5mg\")), np.std(get_dados(df_m,\"flx2.5mg\"))),\n",
    "#                   N=len(get_dados(df_m,\"flx2.5mg\")))\n",
    "#     )\n",
    "\n",
    "# print(\n",
    "#     stats.kstest(get_dados(df_f,\"veiculo\"),'norm',\n",
    "#                  args=(np.mean(get_dados(df_f,\"veiculo\")), np.std(get_dados(df_f,\"veiculo\"))),\n",
    "#                   N=len(get_dados(df_f,\"veiculo\")))\n",
    "#     )\n",
    "# print(\n",
    "#     stats.kstest(get_dados(df_f,\"flx2.5mg\"),'norm',\n",
    "#                  args=(np.mean(get_dados(df_f,\"flx2.5mg\")), np.std(get_dados(df_m,\"flx2.5mg\"))),\n",
    "#                   N=len(get_dados(df_f,\"flx2.5mg\")))\n",
    "#     )\n",
    "\n",
    "# print(stats.kstest(get_dados(df_m,\"veiculo\"),'norm'))\n",
    "# print(stats.kstest(get_dados(df_m,\"flx2.5mg\"),'norm'))\n",
    "# print(stats.kstest(get_dados(df_f,\"veiculo\"),'norm'))\n",
    "# print(stats.kstest(get_dados(df_f,\"flx2.5mg\"),'norm'))"
   ]
  },
  {
   "cell_type": "code",
   "execution_count": 33,
   "metadata": {
    "scrolled": true
   },
   "outputs": [],
   "source": [
    "# gera_grafico_controle(get_dados(df_f,\"veiculo\"), get_dados(df_f,\"flx2.5mg\"))\n"
   ]
  },
  {
   "cell_type": "code",
   "execution_count": 34,
   "metadata": {},
   "outputs": [],
   "source": [
    "# gera_grafico_controle(get_dados(df_m,\"veiculo\"), get_dados(df_f,\"veiculo\"))"
   ]
  },
  {
   "cell_type": "code",
   "execution_count": 35,
   "metadata": {},
   "outputs": [],
   "source": [
    "# gera_grafico_controle(get_dados(df_m,\"flx2.5mg\"), get_dados(df_f,\"flx2.5mg\"))\n",
    "\n",
    "# qnt_aniamis = len(controle)\n",
    "# qnt_aniamis"
   ]
  },
  {
   "cell_type": "code",
   "execution_count": null,
   "metadata": {},
   "outputs": [],
   "source": []
  },
  {
   "cell_type": "code",
   "execution_count": 36,
   "metadata": {},
   "outputs": [],
   "source": [
    "# def gera_novas_observacoes(todos_dados, qnt_dados):\n",
    "#     saida = np.random.choice(todos_dados, qnt_dados, replace=True)\n",
    "#     return saida"
   ]
  },
  {
   "cell_type": "code",
   "execution_count": 37,
   "metadata": {},
   "outputs": [],
   "source": [
    "# def get_novas_observacoes(dados_reamostrar, qnt_dados, qnt_vezes=1000):\n",
    "#     reamostrado_dados_reamostra= [] \n",
    "#     for a in range(qnt_vezes):\n",
    "#         reamostrado_dados_reamostra.append(gera_novas_observacoes(dados_reamostrar, qnt_dados))\n",
    "#     return reamostrado_dados_reamostra"
   ]
  },
  {
   "cell_type": "code",
   "execution_count": 38,
   "metadata": {},
   "outputs": [],
   "source": [
    "# ls_reamostra_controle = get_novas_observacoes(controle, 15,100)\n",
    "# ls_reamostra_tratamen = get_novas_observacoes(tratamento, 15,100)\n"
   ]
  },
  {
   "cell_type": "code",
   "execution_count": 39,
   "metadata": {},
   "outputs": [],
   "source": [
    "# def get_powa(ls_reamostra_controle, ls_reamostra_tratamen, TSHN):\n",
    "#     b=0\n",
    "#     qnt_dados = len(ls_reamostra_controle)\n",
    "#     for rea_controle, rea_tratamen in zip(ls_reamostra_controle, ls_reamostra_tratamen):\n",
    "#         t_1 = ct.test_hipotese_scipy(rea_controle, rea_tratamen, TSHN)\n",
    "#         r_rejeitou = t_1.get_p()\n",
    "#     #     print(r_rejeitou)\n",
    "#         if r_rejeitou:\n",
    "#             b+=1\n",
    "\n",
    "#     return b/qnt_dados * 100\n",
    "    "
   ]
  },
  {
   "cell_type": "code",
   "execution_count": 40,
   "metadata": {},
   "outputs": [],
   "source": [
    "# s,p = stats.mannwhitneyu(ls_reamostra_controle[0], ls_reamostra_tratamen[0])\n",
    "# p*100"
   ]
  },
  {
   "cell_type": "code",
   "execution_count": 41,
   "metadata": {},
   "outputs": [],
   "source": [
    "# stats.mannwhitneyu(ls_reamostra_controle[0], ls_reamostra_tratamen[0])"
   ]
  },
  {
   "cell_type": "code",
   "execution_count": 42,
   "metadata": {},
   "outputs": [],
   "source": [
    "# lis_qnt = [5, 10, 15, 20, 25, 30]\n",
    "# lis_powa = []\n",
    "# for qnt in lis_qnt:\n",
    "#     ls_reamostra_controle = get_novas_observacoes(controle, qnt, 100)\n",
    "#     ls_reamostra_tratamen = get_novas_observacoes(tratamento, qnt, 100)\n",
    "#     lis_powa.append(get_powa(ls_reamostra_controle,ls_reamostra_tratamen, stats.mannwhitneyu))\n"
   ]
  },
  {
   "cell_type": "code",
   "execution_count": 43,
   "metadata": {},
   "outputs": [],
   "source": [
    "# lis_qnt = [5, 10, 15, 20, 25, 30]\n",
    "# lis_powa_2 = []\n",
    "# for qnt in lis_qnt:\n",
    "#     ls_reamostra_controle = get_novas_observacoes(controle, qnt, 100)\n",
    "#     ls_reamostra_tratamen = get_novas_observacoes(tratamento, qnt, 100)\n",
    "#     lis_powa_2.append(get_powa(ls_reamostra_controle,ls_reamostra_tratamen, stats.ttest_ind))"
   ]
  },
  {
   "cell_type": "code",
   "execution_count": 44,
   "metadata": {},
   "outputs": [],
   "source": [
    "# ls_reamostra_controle\n",
    "# print(lis_qnt, lis_powa)"
   ]
  },
  {
   "cell_type": "code",
   "execution_count": null,
   "metadata": {},
   "outputs": [],
   "source": []
  },
  {
   "cell_type": "code",
   "execution_count": 45,
   "metadata": {},
   "outputs": [],
   "source": [
    "# lis_qnt = [5, 10, 15, 20, 25, 30]\n",
    "# lis_powa_1 = []\n",
    "# for qnt in lis_qnt:\n",
    "#     ls_reamostra_controle = get_novas_observacoes(controle, qnt, 100)\n",
    "#     ls_reamostra_tratamen = get_novas_observacoes(tratamento, qnt, 100)\n",
    "#     lis_powa_1.append(get_powa(ls_reamostra_controle,ls_reamostra_tratamen, stats.kruskal))"
   ]
  },
  {
   "cell_type": "code",
   "execution_count": 46,
   "metadata": {},
   "outputs": [],
   "source": [
    "# fig, axes = plt.subplots(ncols=1, nrows=1, constrained_layout=True)\n",
    "# fig.set_size_inches(7, 7)\n",
    "# axes.scatter(lis_qnt, lis_powa_2, s=50)\n",
    "# axes.scatter(lis_qnt, lis_powa_1, s=50)\n",
    "# axes.scatter(lis_qnt, lis_powa, s=50)\n",
    "# axes.grid(color='r', linestyle='--', linewidth=1)\n",
    "# axes.set_ylabel(\"Poder da análise (%)\", fontsize=18)\n",
    "# axes.set_xlabel(\"Quantidade de \\n dados na amostra\", fontsize=18)"
   ]
  },
  {
   "cell_type": "code",
   "execution_count": 47,
   "metadata": {},
   "outputs": [],
   "source": [
    "# print(controle)\n",
    "# print(tratamento)\n",
    "# print(todos_dados)"
   ]
  },
  {
   "cell_type": "code",
   "execution_count": 48,
   "metadata": {},
   "outputs": [],
   "source": [
    "# def gera_novas_observacoes(todos_dados, qnt_dados):\n",
    "#     saida = np.random.choice(todos_dados, qnt_dados, replace=True)\n",
    "#     return saida\n",
    "\n",
    "# def get_dif_medias(controle, tratamento):\n",
    "#     return np.mean(tratamento) - np.mean(controle)"
   ]
  },
  {
   "cell_type": "code",
   "execution_count": 49,
   "metadata": {},
   "outputs": [],
   "source": [
    "# class Novo_experimento():\n",
    "#     def __init__(self, todos_dados, qnt_dados):\n",
    "#         self.todos_dados = todos_dados\n",
    "#         self.qnt_dados = qnt_dados\n",
    "#         self.controle = gera_novas_observacoes(todos_dados, qnt_dados)\n",
    "#         self.controle_media = np.mean(self.controle)\n",
    "        \n",
    "#         self.tratamento = gera_novas_observacoes(todos_dados, qnt_dados)\n",
    "#         self.tratamento_media = np.mean(self.tratamento)\n",
    "        \n",
    "#     def get_diferenca_entre_medias(self):\n",
    "#         return get_dif_medias(self.controle, self.tratamento)"
   ]
  },
  {
   "cell_type": "code",
   "execution_count": 50,
   "metadata": {},
   "outputs": [],
   "source": [
    "# np.mean(gera_novas_observacoes(todos_dados, qnt_dados)) "
   ]
  },
  {
   "cell_type": "code",
   "execution_count": 51,
   "metadata": {},
   "outputs": [],
   "source": [
    "# medicoes_boostrap = []\n",
    "# # qt_medicoes_boots= 1000\n",
    "\n",
    "\n",
    "# for _ in range(qt_medicoes_boots):\n",
    "#     nova_medicao_exp = Novo_experimento(todos_dados, qnt_dados)\n",
    "#     medicoes_boostrap.append(nova_medicao_exp)"
   ]
  },
  {
   "cell_type": "code",
   "execution_count": 52,
   "metadata": {},
   "outputs": [],
   "source": [
    "# def map_dif_medias(nova_medicao_experimento: Novo_experimento):\n",
    "#     return nova_medicao_experimento.get_diferenca_entre_medias()\n",
    "\n",
    "# list_dif_meidas = list(map(map_dif_medias,medicoes_boostrap ))"
   ]
  },
  {
   "cell_type": "code",
   "execution_count": 53,
   "metadata": {},
   "outputs": [],
   "source": [
    "# list_dif_meidas"
   ]
  },
  {
   "cell_type": "code",
   "execution_count": 54,
   "metadata": {},
   "outputs": [],
   "source": [
    "# n, bins, patches = plt.hist(list_dif_meidas, 50, density=True, facecolor='g', alpha=0.75)"
   ]
  },
  {
   "cell_type": "code",
   "execution_count": 55,
   "metadata": {},
   "outputs": [],
   "source": [
    "# def desenha_histo(data, qtn_dados, ax):\n",
    "#     media_dif_medida_original = get_dif_medias(tratamento, controle)\n",
    "# #     plt.rcParams.update({'font.size': 18,\n",
    "# #                         'figure.figsize': (10,8)})\n",
    "#     ax.hist(data, 50, facecolor='g', alpha=0.75)\n",
    "#     ax.axis([-1.5, 1.5, 0,70]) \n",
    "#     ax.axvline(x=media_dif_medida_original)\n",
    "    \n",
    "    \n",
    "# #     plt.text(-1, 50, \"n={}\".format(qtn_dados), fontsize=18)\n",
    "#     ax.text(0.73, 50, \"Média observada \\nno experimento\", fontsize=18, rotation=270)\n",
    "#     ax.set_title(\"Gerado {} observações \".format(qtn_dados), fontsize=18)\n",
    "#     ax.set_xlabel(\"Diferença da média \\nmedida entre o grupo tratado \\ne o controle\", fontsize=18)\n",
    "#     ax.set_ylabel(\"Quantidade de \\nexperimentos\", fontsize=18)\n",
    "# #     \n"
   ]
  },
  {
   "cell_type": "code",
   "execution_count": 56,
   "metadata": {},
   "outputs": [],
   "source": [
    "# len(list_dif_meidas[0:100])"
   ]
  },
  {
   "cell_type": "code",
   "execution_count": 57,
   "metadata": {},
   "outputs": [],
   "source": [
    "# fig, axes = plt.subplots(ncols=2, nrows=5, constrained_layout=True)\n",
    "# fig.set_size_inches(15.5, 20.5)\n",
    "# plt.title(\"Distribuição da amostra\\n pela técnica da Bootstrap\", fontsize=18)\n",
    "# desenha_histo(list_dif_meidas[0:100],100,axes[0,0])\n",
    "# desenha_histo(list_dif_meidas[0:200],200,axes[0,1])\n",
    "# desenha_histo(list_dif_meidas[0:300],300,axes[1,0] )\n",
    "# desenha_histo(list_dif_meidas[0:400],400,axes[1,1])\n",
    "# desenha_histo(list_dif_meidas[0:500],500,axes[2,0])\n",
    "# desenha_histo(list_dif_meidas[0:600],600,axes[2,1])\n",
    "# desenha_histo(list_dif_meidas[0:700],700,axes[3,0])\n",
    "# desenha_histo(list_dif_meidas[0:800],800,axes[3,1])\n",
    "# desenha_histo(list_dif_meidas[0:900],900,axes[4,0])\n",
    "# desenha_histo(list_dif_meidas[0:1000],1000,axes[4,1])\n",
    "# plt.savefig(\"bootstrao_tshn_subplot.png\")"
   ]
  },
  {
   "cell_type": "code",
   "execution_count": null,
   "metadata": {},
   "outputs": [],
   "source": []
  },
  {
   "cell_type": "code",
   "execution_count": 58,
   "metadata": {},
   "outputs": [],
   "source": [
    "# media_dif_medida_original = get_dif_medias(tratamento, controle)\n",
    "# plt.rcParams.update({'font.size': 18,\n",
    "#                     'figure.figsize': (10,8)})\n",
    "# plt.hist(list_dif_meidas, 50, facecolor='g', alpha=0.75)\n",
    "# plt.axvline(x=media_dif_medida_original)\n",
    "# plt.text(-1, 50, \"n=1000\", fontsize=18)\n",
    "# plt.text(0.73, 50, \"Média observada \\nno experimento\", fontsize=18, rotation=270)\n",
    "# plt.title(\"Tecnica da reamostragem\")\n",
    "# plt.xlabel(\"Diferença da média medida entre o grupo tratado e o controle\")\n",
    "# plt.ylabel(\"Quantidade de experimentos\")\n",
    "# plt.savefig(\"bootstrao_tshn.png\")\n"
   ]
  },
  {
   "cell_type": "code",
   "execution_count": 59,
   "metadata": {},
   "outputs": [],
   "source": [
    "# def filt_experimento_mais_improvaveis_med(media_dif_medida_original):\n",
    "#     def filter_aray(media_boots):\n",
    "#         r_medicao_positiva = media_dif_medida_original >= 0\n",
    "#         print(r_medicao_positiva)\n",
    "        \n",
    "#         if(r_medicao_positiva):\n",
    "#             r_medicao_mais_improvavel = media_boots >= media_dif_medida_original\n",
    "#             return r_medicao_mais_improvavel\n",
    "#         else:\n",
    "#             r_medicao_mais_improvavel = media_boots <= media_dif_medida_original\n",
    "            \n",
    "#             return r_medicao_mais_improvavel"
   ]
  },
  {
   "cell_type": "code",
   "execution_count": 60,
   "metadata": {},
   "outputs": [],
   "source": [
    "\n",
    "# print(media_dif_medida_original)"
   ]
  },
  {
   "cell_type": "code",
   "execution_count": 61,
   "metadata": {},
   "outputs": [],
   "source": [
    "# list_experimento_mais_imp = list(filter(filt_experimento_mais_improvaveis_med(media_dif_medida_original),list_dif_meidas))"
   ]
  },
  {
   "cell_type": "code",
   "execution_count": 62,
   "metadata": {},
   "outputs": [],
   "source": [
    "# print(len(list_dif_meidas),len(list_experimento_mais_imp))"
   ]
  },
  {
   "cell_type": "code",
   "execution_count": 63,
   "metadata": {},
   "outputs": [],
   "source": [
    "# a =0\n",
    "# b=0\n",
    "# r_medicao_positiva = media_dif_medida_original >= 0\n",
    "# print(r_medicao_positiva)\n",
    "# for a in range(1000):\n",
    "# #     print(list_dif_meidas[a] )\n",
    "# #     print(media_dif_medida_original)\n",
    "#     if list_dif_meidas[a] >= media_dif_medida_original:\n",
    "#         b +=1\n",
    "#         print(b)"
   ]
  },
  {
   "cell_type": "code",
   "execution_count": null,
   "metadata": {},
   "outputs": [],
   "source": [
    "\n",
    "            "
   ]
  },
  {
   "cell_type": "code",
   "execution_count": 64,
   "metadata": {},
   "outputs": [],
   "source": [
    "\n",
    "# def filter_aray(media_dif_medida_original, media_boots):\n",
    "#     r_medicao_positiva = media_dif_medida_original >= 0\n",
    "# #     print(r_medicao_positiva)\n",
    "\n",
    "#     if(r_medicao_positiva):\n",
    "#         r_medicao_mais_improvavel = media_boots >= media_dif_medida_original\n",
    "# #         print(r_medicao_mais_improvavel)\n",
    "#         return r_medicao_mais_improvavel\n",
    "#     else:\n",
    "#         r_medicao_mais_improvavel = media_boots <= media_dif_medida_original\n",
    "\n",
    "#         return r_medicao_mais_improvavel"
   ]
  },
  {
   "cell_type": "code",
   "execution_count": 65,
   "metadata": {},
   "outputs": [],
   "source": [
    "# def calc_p(media_dif_medida_original, list_dif_meidas):\n",
    "#     qnt_dados = len(list_dif_meidas)\n",
    "#     b =0\n",
    "#     for a in range(qnt_dados):\n",
    "#         r_valor_mais_infre = filter_aray(media_dif_medida_original, list_dif_meidas[a])\n",
    "#         if(r_valor_mais_infre):\n",
    "#             b+=1\n",
    "    \n",
    "#     return b/qnt_dados *100"
   ]
  },
  {
   "cell_type": "code",
   "execution_count": 66,
   "metadata": {},
   "outputs": [],
   "source": [
    "# calc_p(media_dif_medida_original, list_dif_meidas)\n",
    "# # print(calc_p(media_dif_medida_original, list_dif_meidas)<2.5)"
   ]
  },
  {
   "cell_type": "code",
   "execution_count": 67,
   "metadata": {},
   "outputs": [],
   "source": [
    "# print(media_dif_medida_original)\n",
    "# for a in range(1000):\n",
    "# #     print(list_dif_meidas[a] )\n",
    "# #     print(media_dif_medida_original)\n",
    "#     filter_aray(list_dif_meidas[a], media_dif_medida_original)\n"
   ]
  },
  {
   "cell_type": "code",
   "execution_count": 68,
   "metadata": {},
   "outputs": [],
   "source": [
    "# len(list_experimento_mais_imp)/qt_medicoes_boots"
   ]
  },
  {
   "cell_type": "code",
   "execution_count": 69,
   "metadata": {},
   "outputs": [],
   "source": [
    "# len(list_experimento_mais_imp)\n"
   ]
  },
  {
   "cell_type": "code",
   "execution_count": 70,
   "metadata": {},
   "outputs": [],
   "source": [
    "# class test_hipotese:\n",
    "#     def __init__(self,controle, tratamento, qt_medicoes_boots=1000):\n",
    "#         self.controle = controle\n",
    "#         self.tratamento = tratamento\n",
    "#         self.qt_medicoes_boots = qt_medicoes_boots\n",
    "#         self.todos_dados = np.concatenate([controle, tratamento])\n",
    "        \n",
    "        \n",
    "#         self.media_dif_medida_original = self._get_dif_medias(tratamento, controle)\n",
    "#         self._calcula()\n",
    "#         self._calc_list_medi()\n",
    "#         self._calc_p()\n",
    "    \n",
    "#     def get_p(self, alpha=2.5):\n",
    "#         print(self.p)\n",
    "#         return self.p <2.5\n",
    "    \n",
    "#     def _get_dif_medias(self, tratamento, controle):\n",
    "#         return np.mean(tratamento) - np.mean(controle)\n",
    "        \n",
    "#     def _calcula(self):\n",
    "#         self.medicoes_boostrap = []\n",
    "#         for _ in range(qt_medicoes_boots):\n",
    "#             nova_medicao_exp = Novo_experimento(todos_dados, qnt_dados)\n",
    "#             self.medicoes_boostrap.append(nova_medicao_exp)\n",
    "            \n",
    "\n",
    "#     def _calc_list_medi(self):\n",
    "#         self.list_dif_meidas = []\n",
    "#         def map_dif_medias(nova_medicao_experimento: Novo_experimento):\n",
    "#             return nova_medicao_experimento.get_diferenca_entre_medias()\n",
    "\n",
    "#         self.list_dif_meidas = list(map(map_dif_medias, self.medicoes_boostrap ))\n",
    "\n",
    "        \n",
    "#     def _calc_p(self):\n",
    "#         def filter_aray(media_dif_medida_original, media_boots):\n",
    "#             r_medicao_positiva = media_dif_medida_original >= 0\n",
    "            \n",
    "#             if(r_medicao_positiva):\n",
    "#                 r_medicao_mais_improvavel = media_boots >= media_dif_medida_original\n",
    "#                 return r_medicao_mais_improvavel\n",
    "#             else:\n",
    "#                 r_medicao_mais_improvavel = media_boots <= media_dif_medida_original\n",
    "#                 return r_medicao_mais_improvavel\n",
    "        \n",
    "#         def calc_p(media_dif_medida_original, list_dif_meidas):\n",
    "#             qnt_dados = len(list_dif_meidas)\n",
    "#             b =0\n",
    "#             for a in range(qnt_dados):\n",
    "#                 r_valor_mais_infre = filter_aray(media_dif_medida_original, list_dif_meidas[a])\n",
    "#                 if(r_valor_mais_infre):\n",
    "#                     b+=1\n",
    "  \n",
    "#             return b/qnt_dados *100\n",
    "\n",
    "#         self.p = calc_p(self.media_dif_medida_original, self.list_dif_meidas)"
   ]
  },
  {
   "cell_type": "code",
   "execution_count": 71,
   "metadata": {},
   "outputs": [],
   "source": [
    "# t_1 = test_hipotese(controle, tratamento)\n",
    "# t_1.get_p()"
   ]
  },
  {
   "cell_type": "code",
   "execution_count": null,
   "metadata": {},
   "outputs": [],
   "source": []
  },
  {
   "cell_type": "code",
   "execution_count": null,
   "metadata": {},
   "outputs": [],
   "source": []
  }
 ],
 "metadata": {
  "kernelspec": {
   "display_name": "Python 3 (ipykernel)",
   "language": "python",
   "name": "python3"
  },
  "language_info": {
   "codemirror_mode": {
    "name": "ipython",
    "version": 3
   },
   "file_extension": ".py",
   "mimetype": "text/x-python",
   "name": "python",
   "nbconvert_exporter": "python",
   "pygments_lexer": "ipython3",
   "version": "3.8.12"
  }
 },
 "nbformat": 4,
 "nbformat_minor": 4
}
