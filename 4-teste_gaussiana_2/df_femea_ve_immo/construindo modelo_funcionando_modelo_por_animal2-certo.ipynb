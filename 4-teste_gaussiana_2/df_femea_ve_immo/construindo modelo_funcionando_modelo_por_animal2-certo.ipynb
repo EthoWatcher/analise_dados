{
 "cells": [
  {
   "cell_type": "code",
   "execution_count": 1,
   "id": "01b5ab22",
   "metadata": {},
   "outputs": [],
   "source": [
    "import numpy as np\n",
    "import pandas as pd\n",
    "import pickle"
   ]
  },
  {
   "cell_type": "code",
   "execution_count": 2,
   "id": "950d4d48",
   "metadata": {},
   "outputs": [],
   "source": [
    "import scipy.stats as stats"
   ]
  },
  {
   "cell_type": "code",
   "execution_count": 3,
   "id": "fc5a9ad7",
   "metadata": {},
   "outputs": [],
   "source": [
    "\n",
    "from sklearn.mixture import GaussianMixture\n",
    "# from sklearn.mixture import GMM\n",
    "from sklearn import mixture"
   ]
  },
  {
   "cell_type": "code",
   "execution_count": 4,
   "id": "388f4e5a",
   "metadata": {},
   "outputs": [],
   "source": [
    "# https://www.astroml.org/book_figures/chapter4/fig_GMM_1D.html"
   ]
  },
  {
   "cell_type": "code",
   "execution_count": 5,
   "id": "ed7a4213",
   "metadata": {},
   "outputs": [],
   "source": [
    "from matplotlib import pyplot as plt"
   ]
  },
  {
   "cell_type": "code",
   "execution_count": 6,
   "id": "c1453ef8",
   "metadata": {},
   "outputs": [],
   "source": [
    "import cv2"
   ]
  },
  {
   "cell_type": "code",
   "execution_count": 7,
   "id": "70545158",
   "metadata": {},
   "outputs": [],
   "source": [
    "import deposito_watcher.api as api\n",
    "import deposito_watcher.video as vi"
   ]
  },
  {
   "cell_type": "code",
   "execution_count": 8,
   "id": "6010705e",
   "metadata": {},
   "outputs": [],
   "source": [
    "# # from IPython.display import display, clear_output\n",
    "# from ipywidgets import interact, interactive, fixed, interact_manual\n",
    "# import ipywidgets as widgets"
   ]
  },
  {
   "cell_type": "code",
   "execution_count": 9,
   "id": "fc1dcd92",
   "metadata": {},
   "outputs": [],
   "source": [
    "# https://www.youtube.com/watch?v=DODphRRL79c&ab_channel=MachineLearningTV"
   ]
  },
  {
   "cell_type": "code",
   "execution_count": 10,
   "id": "e6637683",
   "metadata": {},
   "outputs": [
    {
     "data": {
      "text/html": [
       "<div>\n",
       "<style scoped>\n",
       "    .dataframe tbody tr th:only-of-type {\n",
       "        vertical-align: middle;\n",
       "    }\n",
       "\n",
       "    .dataframe tbody tr th {\n",
       "        vertical-align: top;\n",
       "    }\n",
       "\n",
       "    .dataframe thead th {\n",
       "        text-align: right;\n",
       "    }\n",
       "</style>\n",
       "<table border=\"1\" class=\"dataframe\">\n",
       "  <thead>\n",
       "    <tr style=\"text-align: right;\">\n",
       "      <th></th>\n",
       "      <th>Unnamed: 0</th>\n",
       "      <th>median</th>\n",
       "      <th>mean</th>\n",
       "      <th>sum</th>\n",
       "    </tr>\n",
       "  </thead>\n",
       "  <tbody>\n",
       "    <tr>\n",
       "      <th>0</th>\n",
       "      <td>0</td>\n",
       "      <td>2.434490</td>\n",
       "      <td>2.434490</td>\n",
       "      <td>2.434490</td>\n",
       "    </tr>\n",
       "    <tr>\n",
       "      <th>1</th>\n",
       "      <td>1</td>\n",
       "      <td>2.319314</td>\n",
       "      <td>2.319314</td>\n",
       "      <td>2.319314</td>\n",
       "    </tr>\n",
       "    <tr>\n",
       "      <th>2</th>\n",
       "      <td>2</td>\n",
       "      <td>2.261682</td>\n",
       "      <td>2.261682</td>\n",
       "      <td>2.261682</td>\n",
       "    </tr>\n",
       "    <tr>\n",
       "      <th>3</th>\n",
       "      <td>3</td>\n",
       "      <td>2.232867</td>\n",
       "      <td>2.232867</td>\n",
       "      <td>2.232867</td>\n",
       "    </tr>\n",
       "    <tr>\n",
       "      <th>4</th>\n",
       "      <td>4</td>\n",
       "      <td>2.248662</td>\n",
       "      <td>2.248662</td>\n",
       "      <td>2.248662</td>\n",
       "    </tr>\n",
       "    <tr>\n",
       "      <th>...</th>\n",
       "      <td>...</td>\n",
       "      <td>...</td>\n",
       "      <td>...</td>\n",
       "      <td>...</td>\n",
       "    </tr>\n",
       "    <tr>\n",
       "      <th>20295</th>\n",
       "      <td>20295</td>\n",
       "      <td>1.962967</td>\n",
       "      <td>1.962967</td>\n",
       "      <td>1.962967</td>\n",
       "    </tr>\n",
       "    <tr>\n",
       "      <th>20296</th>\n",
       "      <td>20296</td>\n",
       "      <td>1.999997</td>\n",
       "      <td>1.999997</td>\n",
       "      <td>1.999997</td>\n",
       "    </tr>\n",
       "    <tr>\n",
       "      <th>20297</th>\n",
       "      <td>20297</td>\n",
       "      <td>1.999997</td>\n",
       "      <td>1.999997</td>\n",
       "      <td>1.999997</td>\n",
       "    </tr>\n",
       "    <tr>\n",
       "      <th>20298</th>\n",
       "      <td>20298</td>\n",
       "      <td>1.999997</td>\n",
       "      <td>1.999997</td>\n",
       "      <td>1.999997</td>\n",
       "    </tr>\n",
       "    <tr>\n",
       "      <th>20299</th>\n",
       "      <td>20299</td>\n",
       "      <td>1.933916</td>\n",
       "      <td>1.933916</td>\n",
       "      <td>1.933916</td>\n",
       "    </tr>\n",
       "  </tbody>\n",
       "</table>\n",
       "<p>20300 rows × 4 columns</p>\n",
       "</div>"
      ],
      "text/plain": [
       "       Unnamed: 0    median      mean       sum\n",
       "0               0  2.434490  2.434490  2.434490\n",
       "1               1  2.319314  2.319314  2.319314\n",
       "2               2  2.261682  2.261682  2.261682\n",
       "3               3  2.232867  2.232867  2.232867\n",
       "4               4  2.248662  2.248662  2.248662\n",
       "...           ...       ...       ...       ...\n",
       "20295       20295  1.962967  1.962967  1.962967\n",
       "20296       20296  1.999997  1.999997  1.999997\n",
       "20297       20297  1.999997  1.999997  1.999997\n",
       "20298       20298  1.999997  1.999997  1.999997\n",
       "20299       20299  1.933916  1.933916  1.933916\n",
       "\n",
       "[20300 rows x 4 columns]"
      ]
     },
     "execution_count": 10,
     "metadata": {},
     "output_type": "execute_result"
    }
   ],
   "source": [
    "df = pd.read_csv(\"1_all.csv\")\n",
    "df\n"
   ]
  },
  {
   "cell_type": "code",
   "execution_count": 11,
   "id": "8ca11601",
   "metadata": {},
   "outputs": [
    {
     "data": {
      "text/html": [
       "<div>\n",
       "<style scoped>\n",
       "    .dataframe tbody tr th:only-of-type {\n",
       "        vertical-align: middle;\n",
       "    }\n",
       "\n",
       "    .dataframe tbody tr th {\n",
       "        vertical-align: top;\n",
       "    }\n",
       "\n",
       "    .dataframe thead th {\n",
       "        text-align: right;\n",
       "    }\n",
       "</style>\n",
       "<table border=\"1\" class=\"dataframe\">\n",
       "  <thead>\n",
       "    <tr style=\"text-align: right;\">\n",
       "      <th></th>\n",
       "      <th>Unnamed: 0</th>\n",
       "      <th>median</th>\n",
       "      <th>mean</th>\n",
       "      <th>sum</th>\n",
       "    </tr>\n",
       "  </thead>\n",
       "  <tbody>\n",
       "    <tr>\n",
       "      <th>0</th>\n",
       "      <td>29</td>\n",
       "      <td>2.676486</td>\n",
       "      <td>2.721418</td>\n",
       "      <td>81.642528</td>\n",
       "    </tr>\n",
       "    <tr>\n",
       "      <th>1</th>\n",
       "      <td>30</td>\n",
       "      <td>2.706513</td>\n",
       "      <td>2.750648</td>\n",
       "      <td>82.519441</td>\n",
       "    </tr>\n",
       "    <tr>\n",
       "      <th>2</th>\n",
       "      <td>31</td>\n",
       "      <td>2.737881</td>\n",
       "      <td>2.783786</td>\n",
       "      <td>83.513565</td>\n",
       "    </tr>\n",
       "    <tr>\n",
       "      <th>3</th>\n",
       "      <td>32</td>\n",
       "      <td>2.747357</td>\n",
       "      <td>2.818660</td>\n",
       "      <td>84.559787</td>\n",
       "    </tr>\n",
       "    <tr>\n",
       "      <th>4</th>\n",
       "      <td>33</td>\n",
       "      <td>2.772958</td>\n",
       "      <td>2.852391</td>\n",
       "      <td>85.571719</td>\n",
       "    </tr>\n",
       "    <tr>\n",
       "      <th>...</th>\n",
       "      <td>...</td>\n",
       "      <td>...</td>\n",
       "      <td>...</td>\n",
       "      <td>...</td>\n",
       "    </tr>\n",
       "    <tr>\n",
       "      <th>20266</th>\n",
       "      <td>20295</td>\n",
       "      <td>1.962967</td>\n",
       "      <td>1.986192</td>\n",
       "      <td>59.585760</td>\n",
       "    </tr>\n",
       "    <tr>\n",
       "      <th>20267</th>\n",
       "      <td>20296</td>\n",
       "      <td>1.962967</td>\n",
       "      <td>1.984957</td>\n",
       "      <td>59.548718</td>\n",
       "    </tr>\n",
       "    <tr>\n",
       "      <th>20268</th>\n",
       "      <td>20297</td>\n",
       "      <td>1.962967</td>\n",
       "      <td>1.982728</td>\n",
       "      <td>59.481828</td>\n",
       "    </tr>\n",
       "    <tr>\n",
       "      <th>20269</th>\n",
       "      <td>20298</td>\n",
       "      <td>1.962967</td>\n",
       "      <td>1.980687</td>\n",
       "      <td>59.420604</td>\n",
       "    </tr>\n",
       "    <tr>\n",
       "      <th>20270</th>\n",
       "      <td>20299</td>\n",
       "      <td>1.962967</td>\n",
       "      <td>1.977249</td>\n",
       "      <td>59.317480</td>\n",
       "    </tr>\n",
       "  </tbody>\n",
       "</table>\n",
       "<p>20271 rows × 4 columns</p>\n",
       "</div>"
      ],
      "text/plain": [
       "       Unnamed: 0    median      mean        sum\n",
       "0              29  2.676486  2.721418  81.642528\n",
       "1              30  2.706513  2.750648  82.519441\n",
       "2              31  2.737881  2.783786  83.513565\n",
       "3              32  2.747357  2.818660  84.559787\n",
       "4              33  2.772958  2.852391  85.571719\n",
       "...           ...       ...       ...        ...\n",
       "20266       20295  1.962967  1.986192  59.585760\n",
       "20267       20296  1.962967  1.984957  59.548718\n",
       "20268       20297  1.962967  1.982728  59.481828\n",
       "20269       20298  1.962967  1.980687  59.420604\n",
       "20270       20299  1.962967  1.977249  59.317480\n",
       "\n",
       "[20271 rows x 4 columns]"
      ]
     },
     "execution_count": 11,
     "metadata": {},
     "output_type": "execute_result"
    }
   ],
   "source": [
    "df_30 = pd.read_csv(\"30_all.csv\")\n",
    "df_30\n"
   ]
  },
  {
   "cell_type": "code",
   "execution_count": 12,
   "id": "62543dbb",
   "metadata": {},
   "outputs": [
    {
     "data": {
      "text/html": [
       "<div>\n",
       "<style scoped>\n",
       "    .dataframe tbody tr th:only-of-type {\n",
       "        vertical-align: middle;\n",
       "    }\n",
       "\n",
       "    .dataframe tbody tr th {\n",
       "        vertical-align: top;\n",
       "    }\n",
       "\n",
       "    .dataframe thead th {\n",
       "        text-align: right;\n",
       "    }\n",
       "</style>\n",
       "<table border=\"1\" class=\"dataframe\">\n",
       "  <thead>\n",
       "    <tr style=\"text-align: right;\">\n",
       "      <th></th>\n",
       "      <th>Unnamed: 0</th>\n",
       "      <th>median</th>\n",
       "      <th>mean</th>\n",
       "      <th>sum</th>\n",
       "    </tr>\n",
       "  </thead>\n",
       "  <tbody>\n",
       "    <tr>\n",
       "      <th>0</th>\n",
       "      <td>59</td>\n",
       "      <td>2.583730</td>\n",
       "      <td>2.642508</td>\n",
       "      <td>158.550501</td>\n",
       "    </tr>\n",
       "    <tr>\n",
       "      <th>1</th>\n",
       "      <td>60</td>\n",
       "      <td>2.583730</td>\n",
       "      <td>2.642289</td>\n",
       "      <td>158.537315</td>\n",
       "    </tr>\n",
       "    <tr>\n",
       "      <th>2</th>\n",
       "      <td>61</td>\n",
       "      <td>2.583730</td>\n",
       "      <td>2.643928</td>\n",
       "      <td>158.635665</td>\n",
       "    </tr>\n",
       "    <tr>\n",
       "      <th>3</th>\n",
       "      <td>62</td>\n",
       "      <td>2.583730</td>\n",
       "      <td>2.646527</td>\n",
       "      <td>158.791646</td>\n",
       "    </tr>\n",
       "    <tr>\n",
       "      <th>4</th>\n",
       "      <td>63</td>\n",
       "      <td>2.583730</td>\n",
       "      <td>2.649607</td>\n",
       "      <td>158.976443</td>\n",
       "    </tr>\n",
       "    <tr>\n",
       "      <th>...</th>\n",
       "      <td>...</td>\n",
       "      <td>...</td>\n",
       "      <td>...</td>\n",
       "      <td>...</td>\n",
       "    </tr>\n",
       "    <tr>\n",
       "      <th>20236</th>\n",
       "      <td>20295</td>\n",
       "      <td>2.065830</td>\n",
       "      <td>2.098231</td>\n",
       "      <td>125.893856</td>\n",
       "    </tr>\n",
       "    <tr>\n",
       "      <th>20237</th>\n",
       "      <td>20296</td>\n",
       "      <td>2.064992</td>\n",
       "      <td>2.091930</td>\n",
       "      <td>125.515801</td>\n",
       "    </tr>\n",
       "    <tr>\n",
       "      <th>20238</th>\n",
       "      <td>20297</td>\n",
       "      <td>2.063107</td>\n",
       "      <td>2.087114</td>\n",
       "      <td>125.226834</td>\n",
       "    </tr>\n",
       "    <tr>\n",
       "      <th>20239</th>\n",
       "      <td>20298</td>\n",
       "      <td>2.050611</td>\n",
       "      <td>2.082883</td>\n",
       "      <td>124.972986</td>\n",
       "    </tr>\n",
       "    <tr>\n",
       "      <th>20240</th>\n",
       "      <td>20299</td>\n",
       "      <td>2.038521</td>\n",
       "      <td>2.077551</td>\n",
       "      <td>124.653056</td>\n",
       "    </tr>\n",
       "  </tbody>\n",
       "</table>\n",
       "<p>20241 rows × 4 columns</p>\n",
       "</div>"
      ],
      "text/plain": [
       "       Unnamed: 0    median      mean         sum\n",
       "0              59  2.583730  2.642508  158.550501\n",
       "1              60  2.583730  2.642289  158.537315\n",
       "2              61  2.583730  2.643928  158.635665\n",
       "3              62  2.583730  2.646527  158.791646\n",
       "4              63  2.583730  2.649607  158.976443\n",
       "...           ...       ...       ...         ...\n",
       "20236       20295  2.065830  2.098231  125.893856\n",
       "20237       20296  2.064992  2.091930  125.515801\n",
       "20238       20297  2.063107  2.087114  125.226834\n",
       "20239       20298  2.050611  2.082883  124.972986\n",
       "20240       20299  2.038521  2.077551  124.653056\n",
       "\n",
       "[20241 rows x 4 columns]"
      ]
     },
     "execution_count": 12,
     "metadata": {},
     "output_type": "execute_result"
    }
   ],
   "source": [
    "df_60 = pd.read_csv(\"60_all.csv\")\n",
    "df_60"
   ]
  },
  {
   "cell_type": "code",
   "execution_count": 13,
   "id": "946a4f93",
   "metadata": {},
   "outputs": [
    {
     "data": {
      "text/html": [
       "<div>\n",
       "<style scoped>\n",
       "    .dataframe tbody tr th:only-of-type {\n",
       "        vertical-align: middle;\n",
       "    }\n",
       "\n",
       "    .dataframe tbody tr th {\n",
       "        vertical-align: top;\n",
       "    }\n",
       "\n",
       "    .dataframe thead th {\n",
       "        text-align: right;\n",
       "    }\n",
       "</style>\n",
       "<table border=\"1\" class=\"dataframe\">\n",
       "  <thead>\n",
       "    <tr style=\"text-align: right;\">\n",
       "      <th></th>\n",
       "      <th>Unnamed: 0</th>\n",
       "      <th>median</th>\n",
       "      <th>mean</th>\n",
       "      <th>sum</th>\n",
       "    </tr>\n",
       "  </thead>\n",
       "  <tbody>\n",
       "    <tr>\n",
       "      <th>0</th>\n",
       "      <td>89</td>\n",
       "      <td>2.540324</td>\n",
       "      <td>2.617640</td>\n",
       "      <td>235.587608</td>\n",
       "    </tr>\n",
       "    <tr>\n",
       "      <th>1</th>\n",
       "      <td>90</td>\n",
       "      <td>2.540324</td>\n",
       "      <td>2.610633</td>\n",
       "      <td>234.956990</td>\n",
       "    </tr>\n",
       "    <tr>\n",
       "      <th>2</th>\n",
       "      <td>91</td>\n",
       "      <td>2.540324</td>\n",
       "      <td>2.604903</td>\n",
       "      <td>234.441267</td>\n",
       "    </tr>\n",
       "    <tr>\n",
       "      <th>3</th>\n",
       "      <td>92</td>\n",
       "      <td>2.540324</td>\n",
       "      <td>2.598522</td>\n",
       "      <td>233.866969</td>\n",
       "    </tr>\n",
       "    <tr>\n",
       "      <th>4</th>\n",
       "      <td>93</td>\n",
       "      <td>2.540324</td>\n",
       "      <td>2.592461</td>\n",
       "      <td>233.321486</td>\n",
       "    </tr>\n",
       "    <tr>\n",
       "      <th>...</th>\n",
       "      <td>...</td>\n",
       "      <td>...</td>\n",
       "      <td>...</td>\n",
       "      <td>...</td>\n",
       "    </tr>\n",
       "    <tr>\n",
       "      <th>20206</th>\n",
       "      <td>20295</td>\n",
       "      <td>2.204365</td>\n",
       "      <td>2.330689</td>\n",
       "      <td>209.762017</td>\n",
       "    </tr>\n",
       "    <tr>\n",
       "      <th>20207</th>\n",
       "      <td>20296</td>\n",
       "      <td>2.194321</td>\n",
       "      <td>2.315192</td>\n",
       "      <td>208.367279</td>\n",
       "    </tr>\n",
       "    <tr>\n",
       "      <th>20208</th>\n",
       "      <td>20297</td>\n",
       "      <td>2.194321</td>\n",
       "      <td>2.299576</td>\n",
       "      <td>206.961872</td>\n",
       "    </tr>\n",
       "    <tr>\n",
       "      <th>20209</th>\n",
       "      <td>20298</td>\n",
       "      <td>2.177604</td>\n",
       "      <td>2.293841</td>\n",
       "      <td>206.445733</td>\n",
       "    </tr>\n",
       "    <tr>\n",
       "      <th>20210</th>\n",
       "      <td>20299</td>\n",
       "      <td>2.160444</td>\n",
       "      <td>2.287372</td>\n",
       "      <td>205.863513</td>\n",
       "    </tr>\n",
       "  </tbody>\n",
       "</table>\n",
       "<p>20211 rows × 4 columns</p>\n",
       "</div>"
      ],
      "text/plain": [
       "       Unnamed: 0    median      mean         sum\n",
       "0              89  2.540324  2.617640  235.587608\n",
       "1              90  2.540324  2.610633  234.956990\n",
       "2              91  2.540324  2.604903  234.441267\n",
       "3              92  2.540324  2.598522  233.866969\n",
       "4              93  2.540324  2.592461  233.321486\n",
       "...           ...       ...       ...         ...\n",
       "20206       20295  2.204365  2.330689  209.762017\n",
       "20207       20296  2.194321  2.315192  208.367279\n",
       "20208       20297  2.194321  2.299576  206.961872\n",
       "20209       20298  2.177604  2.293841  206.445733\n",
       "20210       20299  2.160444  2.287372  205.863513\n",
       "\n",
       "[20211 rows x 4 columns]"
      ]
     },
     "execution_count": 13,
     "metadata": {},
     "output_type": "execute_result"
    }
   ],
   "source": [
    "df_90 = pd.read_csv(\"90_all.csv\")\n",
    "df_90"
   ]
  },
  {
   "cell_type": "code",
   "execution_count": 14,
   "id": "30af857f",
   "metadata": {},
   "outputs": [],
   "source": [
    "def gerera_models(df,name, qnt= 14):\n",
    "    X = df[name]\n",
    "    x_a = np.array(X)\n",
    "    s = x_a.reshape(-1, 1)\n",
    "    N = np.arange(1, qnt)\n",
    "    models = [None for i in range(len(N))]\n",
    "    all_models =[]\n",
    "    for i in range(len(N)):\n",
    "        ls_models = []\n",
    "        for an in range(30):\n",
    "            ls_models.append(GaussianMixture(N[i]).fit(s))\n",
    "            BIC_n = [m.bic(s)   for m in ls_models]\n",
    "            best_bic_n = np.argmin(BIC_n)\n",
    "        \n",
    "        all_models.append(ls_models)\n",
    "        models[i] = ls_models[best_bic_n]\n",
    "        print(i)\n",
    "    AIC = [m.aic(s)   for m in models]\n",
    "    BIC = [m.bic(s)   for m in models]\n",
    "    LL  = [m.score(s) for m in models] \n",
    "    best_aic = np.argmin(AIC)\n",
    "    best_bic = np.argmin(BIC)\n",
    "    b_model_gaussian = models[best_bic]\n",
    "    return {'name':name,'df_colun': df[name], 'ls_models':models,'all_models': all_models,\n",
    "            'AIC': AIC, 'BIC':BIC, 'LL': LL, 'qnt':qnt,\n",
    "           'best_aic': best_aic, 'best_bic': best_bic, 'best_model':b_model_gaussian }\n",
    "\n",
    "def gera_modelos_a(df):\n",
    "\n",
    "    ls_models =[]\n",
    "    # ls_df_colum = [df['Vd_m_sum_nor'], df['dif_max_min_nor'], df['Vd_m_median_nor']]\n",
    "    ls_df_name = ['median','mean', \"sum\"]\n",
    "    for name in ls_df_name:\n",
    "        ls_models.append(gerera_models(df, name, 15))\n",
    "        \n",
    "    return ls_models"
   ]
  },
  {
   "cell_type": "code",
   "execution_count": 15,
   "id": "6484f5f1",
   "metadata": {},
   "outputs": [
    {
     "name": "stdout",
     "output_type": "stream",
     "text": [
      "0\n",
      "1\n",
      "2\n",
      "3\n",
      "4\n",
      "5\n",
      "6\n",
      "7\n",
      "8\n",
      "9\n",
      "10\n",
      "11\n",
      "12\n",
      "13\n",
      "0\n",
      "1\n",
      "2\n",
      "3\n",
      "4\n",
      "5\n",
      "6\n",
      "7\n",
      "8\n",
      "9\n",
      "10\n",
      "11\n",
      "12\n",
      "13\n",
      "0\n",
      "1\n",
      "2\n",
      "3\n",
      "4\n",
      "5\n",
      "6\n",
      "7\n",
      "8\n",
      "9\n",
      "10\n",
      "11\n",
      "12\n",
      "13\n"
     ]
    }
   ],
   "source": [
    "ls_models_1 = gera_modelos_a(df)"
   ]
  },
  {
   "cell_type": "code",
   "execution_count": 16,
   "id": "454e7f7f",
   "metadata": {},
   "outputs": [
    {
     "name": "stdout",
     "output_type": "stream",
     "text": [
      "0\n",
      "1\n",
      "2\n",
      "3\n",
      "4\n",
      "5\n",
      "6\n",
      "7\n",
      "8\n",
      "9\n",
      "10\n",
      "11\n",
      "12\n",
      "13\n",
      "0\n",
      "1\n",
      "2\n",
      "3\n",
      "4\n",
      "5\n",
      "6\n",
      "7\n",
      "8\n",
      "9\n",
      "10\n",
      "11\n",
      "12\n",
      "13\n",
      "0\n",
      "1\n",
      "2\n",
      "3\n",
      "4\n",
      "5\n",
      "6\n",
      "7\n",
      "8\n",
      "9\n",
      "10\n",
      "11\n",
      "12\n",
      "13\n"
     ]
    }
   ],
   "source": [
    "ls_models_30 = gera_modelos_a(df_30)"
   ]
  },
  {
   "cell_type": "code",
   "execution_count": 17,
   "id": "b462c5cc",
   "metadata": {},
   "outputs": [
    {
     "name": "stdout",
     "output_type": "stream",
     "text": [
      "0\n",
      "1\n",
      "2\n",
      "3\n",
      "4\n",
      "5\n",
      "6\n",
      "7\n",
      "8\n",
      "9\n",
      "10\n",
      "11\n",
      "12\n",
      "13\n",
      "0\n",
      "1\n",
      "2\n",
      "3\n",
      "4\n",
      "5\n",
      "6\n",
      "7\n",
      "8\n",
      "9\n",
      "10\n",
      "11\n",
      "12\n",
      "13\n",
      "0\n",
      "1\n",
      "2\n",
      "3\n",
      "4\n",
      "5\n",
      "6\n",
      "7\n",
      "8\n",
      "9\n",
      "10\n",
      "11\n",
      "12\n",
      "13\n"
     ]
    }
   ],
   "source": [
    "ls_models_60 = gera_modelos_a(df_60)"
   ]
  },
  {
   "cell_type": "code",
   "execution_count": 18,
   "id": "44ed3c3a",
   "metadata": {},
   "outputs": [
    {
     "name": "stdout",
     "output_type": "stream",
     "text": [
      "0\n",
      "1\n",
      "2\n",
      "3\n",
      "4\n",
      "5\n",
      "6\n",
      "7\n",
      "8\n",
      "9\n",
      "10\n",
      "11\n",
      "12\n",
      "13\n",
      "0\n",
      "1\n",
      "2\n",
      "3\n",
      "4\n",
      "5\n",
      "6\n",
      "7\n",
      "8\n",
      "9\n",
      "10\n",
      "11\n",
      "12\n",
      "13\n",
      "0\n",
      "1\n",
      "2\n",
      "3\n",
      "4\n",
      "5\n",
      "6\n",
      "7\n",
      "8\n",
      "9\n",
      "10\n",
      "11\n",
      "12\n",
      "13\n"
     ]
    }
   ],
   "source": [
    "ls_models_90 = gera_modelos_a(df_90)"
   ]
  },
  {
   "cell_type": "code",
   "execution_count": 19,
   "id": "ccabb52b",
   "metadata": {},
   "outputs": [],
   "source": [
    "# ls_models\n",
    "def plot_bic_models(ax, ls_models, title):\n",
    "    for m in ls_models:\n",
    "        AIC = m['AIC']\n",
    "        BIC = m['BIC']\n",
    "        N = list(range(len(m['AIC'])))\n",
    "    #     ax.plot(N, AIC, '-k', label=f'AIC_{m.name}')\n",
    "    #     ax.plot(N, BIC, '--k', label=f'BIC_{m.name}')\n",
    "    #     ax.plot(N, AIC, label=f'AIC_{m[\"name\"]}')\n",
    "        ax.plot(N, BIC, label=f'BIC_{m[\"name\"]}')\n",
    "        ax.set_xlabel('n. components')\n",
    "        ax.set_ylabel('information criterion')\n",
    "        ax.legend(loc=1)\n",
    "        ax.set_title(title)\n",
    "        \n",
    "def plot_ll_models(ax, ls_models, title):\n",
    "    for m in ls_models:\n",
    "        LL = m['LL']\n",
    "    #     BIC = m['BIC']\n",
    "        N = list(range(len(m['LL'])))\n",
    "    #     ax.plot(N, AIC, '-k', label=f'AIC_{m.name}')\n",
    "    #     ax.plot(N, BIC, '--k', label=f'BIC_{m.name}')\n",
    "    #     ax.plot(N, AIC, label=f'AIC_{m[\"name\"]}')\n",
    "        ax.plot(N, LL, label=f'LL{m[\"name\"]}')\n",
    "        ax.set_xlabel('n. components')\n",
    "        ax.set_ylabel('information criterion')\n",
    "        ax.legend(loc=3)"
   ]
  },
  {
   "cell_type": "code",
   "execution_count": 20,
   "id": "5029b8ee",
   "metadata": {},
   "outputs": [],
   "source": [
    "def plt_gaussianas(ax, mo_dic, numero_modelo, title):\n",
    "#     numero_modelo = 8\n",
    "#     mo_dic = ls_models[2]\n",
    "    g = mo_dic['ls_models'][numero_modelo]\n",
    "    bic_m = mo_dic['BIC'][numero_modelo]\n",
    "    weights = g.weights_\n",
    "    means = g.means_\n",
    "    covars = g.covariances_\n",
    "#     print(bic_m, weights, means, covars)\n",
    "    \n",
    "    x = mo_dic['df_colun']\n",
    "    f = np.ravel(x).astype(np.float)\n",
    "    f = f.reshape(-1,1)\n",
    "#     plt.hist(f, bins=100, histtype='bar', density=True, ec='red', alpha=0.5)\n",
    "    \n",
    "    f_axis = f.copy().ravel()\n",
    "    f_axis.sort()\n",
    "    for i, valor in enumerate(g.weights_):\n",
    "        ax.plot(f_axis,weights[i]*stats.norm.pdf(f_axis,means[i],np.sqrt(covars[i])).ravel(), label= f'{i}')\n",
    "        ax.legend()\n",
    "    # plt.plot(f_axis,weights[1]*stats.norm.pdf(f_axis,means[1],np.sqrt(covars[1])).ravel(), c='red')\n",
    "    # plt.plot(f_axis,weights[2]*stats.norm.pdf(f_axis,means[2],np.sqrt(covars[2])).ravel(), c='red')\n",
    "    ax.hist(f, bins=100, histtype='bar', density=True, alpha=0.2)\n",
    "    ax.set_xlabel(\"Mediana de uma janela móvel de 100 quadros\")\n",
    "    ax.set_title(title)\n",
    "\n",
    "with open('femea_flx_veiculo.pkl', 'wb') as file: \n",
    "    pickle.dump({\n",
    "        \"ls_models_1\": ls_models_1,\n",
    "        \"ls_models_30\": ls_models_30,\n",
    "        \"ls_models_60\": ls_models_60,\n",
    "        \"ls_models_90\": ls_models_90    \n",
    "    }, file)\n"
   ]
  },
  {
   "cell_type": "code",
   "execution_count": 21,
   "id": "af1f02c1",
   "metadata": {},
   "outputs": [],
   "source": [
    "# s[\"ls_models\"]"
   ]
  },
  {
   "cell_type": "code",
   "execution_count": 22,
   "id": "b1d10734",
   "metadata": {},
   "outputs": [
    {
     "data": {
      "image/png": "[encoded data removed]",
      "text/plain": [
       "<Figure size 1000x2500 with 1 Axes>"
      ]
     },
     "metadata": {},
     "output_type": "display_data"
    }
   ],
   "source": [
    "fig = plt.figure(figsize=(10, 25))\n",
    "ax = fig.subplots(nrows=1, ncols=1)\n",
    "\n",
    "plot_bic_models(ax, ls_models_1, \"rool 1\") \n",
    "plot_bic_models(ax, ls_models_30, \"rool 30\") \n",
    "plot_bic_models(ax, ls_models_60, \"rool 60\") \n",
    "plot_bic_models(ax, ls_models_90, \"rool 90\") "
   ]
  },
  {
   "cell_type": "code",
   "execution_count": 23,
   "id": "3598cab7",
   "metadata": {},
   "outputs": [],
   "source": [
    "fig.savefig(\"train.jpg\")\n",
    "# df.head()\n",
    "# 'sexo', 'dosagem'\n",
    "# df.keys()"
   ]
  },
  {
   "cell_type": "code",
   "execution_count": 24,
   "id": "57103a40",
   "metadata": {},
   "outputs": [],
   "source": [
    "# df[['sexo', 'dosagem', \"unidade\"]]"
   ]
  },
  {
   "cell_type": "code",
   "execution_count": 25,
   "id": "0a1e7438",
   "metadata": {},
   "outputs": [
    {
     "name": "stderr",
     "output_type": "stream",
     "text": [
      "/tmp/ipykernel_885825/3703188546.py:12: DeprecationWarning: `np.float` is a deprecated alias for the builtin `float`. To silence this warning, use `float` by itself. Doing this will not modify any behavior and is safe. If you specifically wanted the numpy scalar type, use `np.float64` here.\n",
      "Deprecated in NumPy 1.20; for more details and guidance: https://numpy.org/devdocs/release/1.20.0-notes.html#deprecations\n",
      "  f = np.ravel(x).astype(np.float)\n"
     ]
    },
    {
     "data": {
      "image/png": "[encoded data removed]",
      "text/plain": [
       "<Figure size 1500x2500 with 8 Axes>"
      ]
     },
     "metadata": {},
     "output_type": "display_data"
    }
   ],
   "source": [
    "def plt_gaussianas(ax, mo_dic, numero_modelo, title):\n",
    "#     numero_modelo = 8\n",
    "#     mo_dic = ls_models[2]\n",
    "    g = mo_dic['ls_models'][numero_modelo]\n",
    "    bic_m = mo_dic['BIC'][numero_modelo]\n",
    "    weights = g.weights_\n",
    "    means = g.means_\n",
    "    covars = g.covariances_\n",
    "#     print(bic_m, weights, means, covars)\n",
    "    \n",
    "    x = mo_dic['df_colun']\n",
    "    f = np.ravel(x).astype(np.float)\n",
    "    f = f.reshape(-1,1)\n",
    "#     plt.hist(f, bins=100, histtype='bar', density=True, ec='red', alpha=0.5)\n",
    "    \n",
    "    f_axis = f.copy().ravel()\n",
    "    f_axis.sort()\n",
    "    for i, valor in enumerate(g.weights_):\n",
    "        ax.plot(f_axis,weights[i]*stats.norm.pdf(f_axis,means[i],np.sqrt(covars[i])).ravel(), label= f'{i}')\n",
    "        ax.legend()\n",
    "    # plt.plot(f_axis,weights[1]*stats.norm.pdf(f_axis,means[1],np.sqrt(covars[1])).ravel(), c='red')\n",
    "    # plt.plot(f_axis,weights[2]*stats.norm.pdf(f_axis,means[2],np.sqrt(covars[2])).ravel(), c='red')\n",
    "    ax.hist(f, bins=100, histtype='bar', density=True, alpha=0.2)\n",
    "    ax.set_xlabel(\"Mediana de uma janela móvel de 100 quadros\")\n",
    "    ax.set_title(title)\n",
    "    \n",
    "fig = plt.figure(figsize=(15, 25))\n",
    "ax = fig.subplots(nrows=4, ncols=2)\n",
    "plt_gaussianas(ax[0,0], ls_models_90[1], ls_models_90[1][\"best_bic\"], \"all\")"
   ]
  },
  {
   "cell_type": "code",
   "execution_count": null,
   "id": "80f49c6f",
   "metadata": {},
   "outputs": [],
   "source": []
  },
  {
   "cell_type": "code",
   "execution_count": 26,
   "id": "2cf7212a",
   "metadata": {},
   "outputs": [],
   "source": [
    "# df['Vd_sum'].max()"
   ]
  },
  {
   "cell_type": "code",
   "execution_count": 27,
   "id": "b6ce8000",
   "metadata": {},
   "outputs": [],
   "source": [
    "# df['Vd_sum'].min()"
   ]
  },
  {
   "cell_type": "code",
   "execution_count": 28,
   "id": "30a8aa46",
   "metadata": {},
   "outputs": [],
   "source": [
    "# VIDEO_PATH = \"D:/dados_gian_mongo_arrumados/arquivos_videos/\"\n",
    "# juncao[\"id_video\"]"
   ]
  },
  {
   "cell_type": "code",
   "execution_count": 29,
   "id": "5f4561ff",
   "metadata": {},
   "outputs": [],
   "source": [
    "# tocador = vi.Tocador_video(VIDEO_PATH, juncao[\"id_video\"])\n",
    "# # for imagem in tocador.get_video_gerador(100,300):\n",
    "# #     np_image = vi.c_image_to_np(imagem)\n",
    "# #     cv2.imshow(\"teste\", np_image)\n",
    "# #     k = cv2.waitKey(int(1/30*1000))\n",
    "# # cv2.destroyAllWindows()"
   ]
  },
  {
   "cell_type": "code",
   "execution_count": 30,
   "id": "ec4cc572",
   "metadata": {},
   "outputs": [],
   "source": [
    "# img = tocador.get_quadro_plt(146)\n",
    "# plt.imshow(img)\n",
    "# plt.show()"
   ]
  },
  {
   "cell_type": "code",
   "execution_count": 31,
   "id": "0010a7d3",
   "metadata": {},
   "outputs": [],
   "source": [
    "# vi.c_64_2_image(tocador.get_quadro(146))"
   ]
  },
  {
   "cell_type": "code",
   "execution_count": 32,
   "id": "20d67b0a",
   "metadata": {},
   "outputs": [],
   "source": [
    "# tocador.get_quadro(146)"
   ]
  },
  {
   "cell_type": "code",
   "execution_count": 33,
   "id": "1bb07109",
   "metadata": {},
   "outputs": [],
   "source": [
    "# img = vi.c_64_2_image(tocador.get_quadro(146))"
   ]
  },
  {
   "cell_type": "code",
   "execution_count": 34,
   "id": "767f507c",
   "metadata": {},
   "outputs": [],
   "source": [
    "# def map_juncao_quadro_img(id_j, quadro):\n",
    "#     r_acho, juncao = api.get_juncao_by_hash(id_j)\n",
    "#     tocador = vi.Tocador_video(VIDEO_PATH, juncao['id_video']) #juncao[\"id_video\"])\n",
    "#     img = tocador.get_quadro_plt(quadro)\n",
    "#     return img"
   ]
  },
  {
   "cell_type": "code",
   "execution_count": null,
   "id": "6a499d80",
   "metadata": {},
   "outputs": [],
   "source": []
  },
  {
   "cell_type": "code",
   "execution_count": null,
   "id": "3c8933fc",
   "metadata": {},
   "outputs": [],
   "source": []
  },
  {
   "cell_type": "code",
   "execution_count": 35,
   "id": "320953ee",
   "metadata": {},
   "outputs": [],
   "source": [
    "# vi.conver_string_opencv_img(vi.Tocador_video(VIDEO_PATH, juncao[\"id_video\"]).get_quadro(143))"
   ]
  },
  {
   "cell_type": "code",
   "execution_count": 36,
   "id": "fa70e9dc",
   "metadata": {},
   "outputs": [],
   "source": [
    "# df = pd.read_csv(\"dados_flx25_controle_machos_femeas.csv\")"
   ]
  },
  {
   "cell_type": "code",
   "execution_count": 37,
   "id": "18066690",
   "metadata": {},
   "outputs": [],
   "source": [
    "# df"
   ]
  },
  {
   "cell_type": "code",
   "execution_count": 38,
   "id": "a374b1d5",
   "metadata": {},
   "outputs": [],
   "source": [
    "# df_limpo = df[df['@Van'] != 0]\n",
    "# df_limpo"
   ]
  },
  {
   "cell_type": "code",
   "execution_count": 39,
   "id": "5871675a",
   "metadata": {},
   "outputs": [],
   "source": [
    "# df_limpo['id'] = [i for i in range(len(df_limpo['@Vd']))]"
   ]
  },
  {
   "cell_type": "code",
   "execution_count": 40,
   "id": "a00bad8f",
   "metadata": {},
   "outputs": [],
   "source": [
    "# def map_juncao_quadro_img(row):\n",
    "#     r_acho, juncao = api.get_juncao_by_hash(row['id_j'])\n",
    "#     if r_acho:\n",
    "#         tocador = vi.Tocador_video(VIDEO_PATH, juncao['id_video']) #juncao[\"id_video\"])\n",
    "#         img = tocador.get_quadro_plt(row['@f'])\n",
    "#         return img\n",
    "#     else:\n",
    "#         print(juncao, row['dosagem'], row['sexo'], row['unidade'] )\n",
    "#         return None\n"
   ]
  },
  {
   "cell_type": "code",
   "execution_count": 41,
   "id": "7a30e8ad",
   "metadata": {},
   "outputs": [],
   "source": [
    "# ls = df_limpo.apply(map_juncao_quadro_img, axis=1)"
   ]
  },
  {
   "cell_type": "code",
   "execution_count": 42,
   "id": "e9539251",
   "metadata": {},
   "outputs": [],
   "source": [
    "# df_limpo.iloc[0:10]"
   ]
  },
  {
   "cell_type": "code",
   "execution_count": null,
   "id": "be9461c2",
   "metadata": {},
   "outputs": [],
   "source": []
  },
  {
   "cell_type": "code",
   "execution_count": 43,
   "id": "a0ee773f",
   "metadata": {},
   "outputs": [],
   "source": [
    "# df_l_s = df_limpo[df_limpo[\"categoria\"] == \"Swimming\"]\n",
    "# x_s = df_limpo['@Vd']\n",
    "# x_s = df_limpo['id']               "
   ]
  },
  {
   "cell_type": "code",
   "execution_count": 44,
   "id": "dbbdd6ba",
   "metadata": {},
   "outputs": [],
   "source": [
    "# df_l_im = df_limpo[df_limpo[\"categoria\"] == \"Immobility\"]\n",
    "# x_s = df_limpo['@Vd']\n",
    "# x_s = df_limpo['id'] "
   ]
  },
  {
   "cell_type": "code",
   "execution_count": 45,
   "id": "ebdcbb64",
   "metadata": {},
   "outputs": [],
   "source": [
    "# X = df_limpo['@Vd']\n",
    "# tempo = [i for i in range(len(df_limpo['@Vd']))]\n",
    "\n"
   ]
  },
  {
   "cell_type": "code",
   "execution_count": 46,
   "id": "2ebc302a",
   "metadata": {},
   "outputs": [],
   "source": [
    "# X = df_limpo['@Vd']\n",
    "# tempo = [i for i in range(len(df_limpo['@Vd']))]"
   ]
  },
  {
   "cell_type": "code",
   "execution_count": 47,
   "id": "abeb27e3",
   "metadata": {},
   "outputs": [],
   "source": [
    "# fig = plt.figure(figsize=(10, 5))\n",
    "# plt.scatter(tempo, X)\n",
    "# plt.scatter(df_l_s['id'], df_l_s['@Vd'])\n",
    "# plt.scatter(df_l_im['id'], df_l_im['@Vd'])"
   ]
  },
  {
   "cell_type": "code",
   "execution_count": 48,
   "id": "bf573cc4",
   "metadata": {},
   "outputs": [],
   "source": [
    "# for i,row in df_limpo.iloc[0:200].iterrows():\n",
    "    \n",
    "# #     print(row)\n",
    "#     img = map_juncao_quadro_img(row['id_j'], row['@f'])\n",
    "#     plt.imshow(img)\n",
    "#     plt.show()\n",
    "#     k = cv2.waitKey(int(1/30*1000))\n",
    "# #     clear_output(wait=True)"
   ]
  },
  {
   "cell_type": "code",
   "execution_count": 49,
   "id": "d60ad68c",
   "metadata": {},
   "outputs": [],
   "source": [
    "# def f(x):\n",
    "#     return x\n",
    "# interact(f, x=10);"
   ]
  },
  {
   "cell_type": "code",
   "execution_count": 50,
   "id": "f8bfd295",
   "metadata": {},
   "outputs": [],
   "source": [
    "# @interact(x=True, y=1.0)\n",
    "# def g(x, y):\n",
    "#     return (x, y)"
   ]
  },
  {
   "cell_type": "code",
   "execution_count": 51,
   "id": "6a91909c",
   "metadata": {},
   "outputs": [],
   "source": [
    "# fig = plt.figure(figsize=(10, 5))\n",
    "# qnt = 100\n",
    "# inicio = 0\n",
    "# plt.scatter(tempo[inicio:qnt], X[inicio:qnt], label=\"todos\")\n",
    "# plt.scatter(df_l_s['id'][inicio:qnt], df_l_s['@Vd'][inicio:qnt], label=\"Swimming\")\n",
    "# plt.scatter(df_l_im['id'][inicio:qnt], df_l_im['@Vd'][inicio:qnt], label=\"Immobility\")\n",
    "# plt.legend()"
   ]
  },
  {
   "cell_type": "code",
   "execution_count": 52,
   "id": "fa411fb6",
   "metadata": {},
   "outputs": [
    {
     "ename": "KeyError",
     "evalue": "'sexo'",
     "output_type": "error",
     "traceback": [
      "\u001b[0;31m---------------------------------------------------------------------------\u001b[0m",
      "\u001b[0;31mKeyError\u001b[0m                                  Traceback (most recent call last)",
      "File \u001b[0;32m/opt/conda/lib/python3.8/site-packages/pandas/core/indexes/base.py:2898\u001b[0m, in \u001b[0;36mIndex.get_loc\u001b[0;34m(self, key, method, tolerance)\u001b[0m\n\u001b[1;32m   2897\u001b[0m \u001b[38;5;28;01mtry\u001b[39;00m:\n\u001b[0;32m-> 2898\u001b[0m     \u001b[38;5;28;01mreturn\u001b[39;00m \u001b[38;5;28;43mself\u001b[39;49m\u001b[38;5;241;43m.\u001b[39;49m\u001b[43m_engine\u001b[49m\u001b[38;5;241;43m.\u001b[39;49m\u001b[43mget_loc\u001b[49m\u001b[43m(\u001b[49m\u001b[43mcasted_key\u001b[49m\u001b[43m)\u001b[49m\n\u001b[1;32m   2899\u001b[0m \u001b[38;5;28;01mexcept\u001b[39;00m \u001b[38;5;167;01mKeyError\u001b[39;00m \u001b[38;5;28;01mas\u001b[39;00m err:\n",
      "File \u001b[0;32mpandas/_libs/index.pyx:70\u001b[0m, in \u001b[0;36mpandas._libs.index.IndexEngine.get_loc\u001b[0;34m()\u001b[0m\n",
      "File \u001b[0;32mpandas/_libs/index.pyx:101\u001b[0m, in \u001b[0;36mpandas._libs.index.IndexEngine.get_loc\u001b[0;34m()\u001b[0m\n",
      "File \u001b[0;32mpandas/_libs/hashtable_class_helper.pxi:1675\u001b[0m, in \u001b[0;36mpandas._libs.hashtable.PyObjectHashTable.get_item\u001b[0;34m()\u001b[0m\n",
      "File \u001b[0;32mpandas/_libs/hashtable_class_helper.pxi:1683\u001b[0m, in \u001b[0;36mpandas._libs.hashtable.PyObjectHashTable.get_item\u001b[0;34m()\u001b[0m\n",
      "\u001b[0;31mKeyError\u001b[0m: 'sexo'",
      "\nThe above exception was the direct cause of the following exception:\n",
      "\u001b[0;31mKeyError\u001b[0m                                  Traceback (most recent call last)",
      "Cell \u001b[0;32mIn[52], line 1\u001b[0m\n\u001b[0;32m----> 1\u001b[0m df_macho         \u001b[38;5;241m=\u001b[39m df[(\u001b[43mdf\u001b[49m\u001b[43m[\u001b[49m\u001b[38;5;124;43m'\u001b[39;49m\u001b[38;5;124;43msexo\u001b[39;49m\u001b[38;5;124;43m'\u001b[39;49m\u001b[43m]\u001b[49m \u001b[38;5;241m==\u001b[39m \u001b[38;5;124m\"\u001b[39m\u001b[38;5;124mmacho\u001b[39m\u001b[38;5;124m\"\u001b[39m)]\n\u001b[1;32m      2\u001b[0m df_femea         \u001b[38;5;241m=\u001b[39m df[(df[\u001b[38;5;124m'\u001b[39m\u001b[38;5;124msexo\u001b[39m\u001b[38;5;124m'\u001b[39m] \u001b[38;5;241m==\u001b[39m \u001b[38;5;124m\"\u001b[39m\u001b[38;5;124mfemea\u001b[39m\u001b[38;5;124m\"\u001b[39m)]\n\u001b[1;32m      3\u001b[0m df_macho_veiculo \u001b[38;5;241m=\u001b[39m df[(df[\u001b[38;5;124m'\u001b[39m\u001b[38;5;124msexo\u001b[39m\u001b[38;5;124m'\u001b[39m] \u001b[38;5;241m==\u001b[39m \u001b[38;5;124m\"\u001b[39m\u001b[38;5;124mmacho\u001b[39m\u001b[38;5;124m\"\u001b[39m) \u001b[38;5;241m&\u001b[39m (df[\u001b[38;5;124m'\u001b[39m\u001b[38;5;124mdosagem\u001b[39m\u001b[38;5;124m'\u001b[39m] \u001b[38;5;241m==\u001b[39m \u001b[38;5;124m'\u001b[39m\u001b[38;5;124mveiculo\u001b[39m\u001b[38;5;124m'\u001b[39m)]\n",
      "File \u001b[0;32m/opt/conda/lib/python3.8/site-packages/pandas/core/frame.py:2906\u001b[0m, in \u001b[0;36mDataFrame.__getitem__\u001b[0;34m(self, key)\u001b[0m\n\u001b[1;32m   2904\u001b[0m \u001b[38;5;28;01mif\u001b[39;00m \u001b[38;5;28mself\u001b[39m\u001b[38;5;241m.\u001b[39mcolumns\u001b[38;5;241m.\u001b[39mnlevels \u001b[38;5;241m>\u001b[39m \u001b[38;5;241m1\u001b[39m:\n\u001b[1;32m   2905\u001b[0m     \u001b[38;5;28;01mreturn\u001b[39;00m \u001b[38;5;28mself\u001b[39m\u001b[38;5;241m.\u001b[39m_getitem_multilevel(key)\n\u001b[0;32m-> 2906\u001b[0m indexer \u001b[38;5;241m=\u001b[39m \u001b[38;5;28;43mself\u001b[39;49m\u001b[38;5;241;43m.\u001b[39;49m\u001b[43mcolumns\u001b[49m\u001b[38;5;241;43m.\u001b[39;49m\u001b[43mget_loc\u001b[49m\u001b[43m(\u001b[49m\u001b[43mkey\u001b[49m\u001b[43m)\u001b[49m\n\u001b[1;32m   2907\u001b[0m \u001b[38;5;28;01mif\u001b[39;00m is_integer(indexer):\n\u001b[1;32m   2908\u001b[0m     indexer \u001b[38;5;241m=\u001b[39m [indexer]\n",
      "File \u001b[0;32m/opt/conda/lib/python3.8/site-packages/pandas/core/indexes/base.py:2900\u001b[0m, in \u001b[0;36mIndex.get_loc\u001b[0;34m(self, key, method, tolerance)\u001b[0m\n\u001b[1;32m   2898\u001b[0m         \u001b[38;5;28;01mreturn\u001b[39;00m \u001b[38;5;28mself\u001b[39m\u001b[38;5;241m.\u001b[39m_engine\u001b[38;5;241m.\u001b[39mget_loc(casted_key)\n\u001b[1;32m   2899\u001b[0m     \u001b[38;5;28;01mexcept\u001b[39;00m \u001b[38;5;167;01mKeyError\u001b[39;00m \u001b[38;5;28;01mas\u001b[39;00m err:\n\u001b[0;32m-> 2900\u001b[0m         \u001b[38;5;28;01mraise\u001b[39;00m \u001b[38;5;167;01mKeyError\u001b[39;00m(key) \u001b[38;5;28;01mfrom\u001b[39;00m \u001b[38;5;21;01merr\u001b[39;00m\n\u001b[1;32m   2902\u001b[0m \u001b[38;5;28;01mif\u001b[39;00m tolerance \u001b[38;5;129;01mis\u001b[39;00m \u001b[38;5;129;01mnot\u001b[39;00m \u001b[38;5;28;01mNone\u001b[39;00m:\n\u001b[1;32m   2903\u001b[0m     tolerance \u001b[38;5;241m=\u001b[39m \u001b[38;5;28mself\u001b[39m\u001b[38;5;241m.\u001b[39m_convert_tolerance(tolerance, np\u001b[38;5;241m.\u001b[39masarray(key))\n",
      "\u001b[0;31mKeyError\u001b[0m: 'sexo'"
     ]
    }
   ],
   "source": [
    "df_macho         = df[(df['sexo'] == \"macho\")]\n",
    "df_femea         = df[(df['sexo'] == \"femea\")]\n",
    "df_macho_veiculo = df[(df['sexo'] == \"macho\") & (df['dosagem'] == 'veiculo')]\n",
    "df_macho_flx25mg = df[(df['sexo'] == \"macho\") & (df['dosagem'] == 'flx2.5mg')]\n",
    "df_femea_veiculo = df[(df['sexo'] == \"femea\") & (df['dosagem'] == 'veiculo')]\n",
    "df_femea_flx25mg = df[(df['sexo'] == \"femea\") & (df['dosagem'] == 'flx2.5mg')]"
   ]
  },
  {
   "cell_type": "code",
   "execution_count": null,
   "id": "6a670e15",
   "metadata": {},
   "outputs": [],
   "source": [
    "df_femea_flx25mg"
   ]
  },
  {
   "cell_type": "code",
   "execution_count": null,
   "id": "6cbccb33",
   "metadata": {},
   "outputs": [],
   "source": [
    "# df['Vd_m_sum'].dropna()"
   ]
  },
  {
   "cell_type": "code",
   "execution_count": null,
   "id": "5bc0920b",
   "metadata": {},
   "outputs": [],
   "source": [
    "# X = df['Vd_m_sum']"
   ]
  },
  {
   "cell_type": "code",
   "execution_count": null,
   "id": "1d239ec9",
   "metadata": {},
   "outputs": [],
   "source": [
    "# X = df['Vd_m_sum_nor'] # df['Vd_m_sum_nor'] #\n",
    "# x_a = np.array(X)\n",
    "# s = x_a.reshape(-1, 1)"
   ]
  },
  {
   "cell_type": "markdown",
   "id": "51f6f55b",
   "metadata": {},
   "source": [
    "# Gerando models"
   ]
  },
  {
   "cell_type": "code",
   "execution_count": null,
   "id": "baa4abb8",
   "metadata": {},
   "outputs": [],
   "source": [
    "def gerera_models(df,name, qnt= 14):\n",
    "    X = df[name]\n",
    "    x_a = np.array(X)\n",
    "    s = x_a.reshape(-1, 1)\n",
    "    N = np.arange(1, qnt)\n",
    "    models = [None for i in range(len(N))]\n",
    "    for i in range(len(N)):\n",
    "        print(i)\n",
    "        models[i] = GaussianMixture(N[i]).fit(s)\n",
    "    AIC = [m.aic(s)   for m in models]\n",
    "    BIC = [m.bic(s)   for m in models]\n",
    "    LL  = [m.score(s) for m in models] \n",
    "    best_aic = np.argmin(AIC)\n",
    "    best_bic = np.argmin(BIC)\n",
    "    b_model_gaussian = models[best_bic]\n",
    "    return {'name':name,'df_colun': df[name], 'ls_models':models, \n",
    "            'AIC': AIC, 'BIC':BIC, 'LL': LL, 'qnt':qnt,\n",
    "           'best_aic': best_aic, 'best_bic': best_bic, 'best_model':b_model_gaussian }\n",
    "\n",
    "\n",
    "def gera_modelos(df):\n",
    "\n",
    "    ls_models =[]\n",
    "    # ls_df_colum = [df['Vd_m_sum_nor'], df['dif_max_min_nor'], df['Vd_m_median_nor']]\n",
    "    ls_df_name = ['Vd_m_sum_nor','dif_max_min_nor', 'Vd_m_median_nor' ]\n",
    "    for name in ls_df_name:\n",
    "        ls_models.append(gerera_models(df, name, 25))\n",
    "        \n",
    "    return ls_models"
   ]
  },
  {
   "cell_type": "code",
   "execution_count": null,
   "id": "f2c719e7",
   "metadata": {},
   "outputs": [],
   "source": [
    "dic_models = {}\n",
    "\n",
    "dic_models['all'] = gera_modelos(df)\n",
    "dic_models['all_macho'] = gera_modelos(df_macho)\n",
    "dic_models['all_femea'] = gera_modelos(df_femea)\n",
    "dic_models['df_macho_veiculo'] = gera_modelos(df_macho_veiculo)\n",
    "dic_models['df_macho_tratado'] = gera_modelos(df_macho_flx25mg)\n",
    "dic_models['df_femea_veiculo'] = gera_modelos(df_femea_veiculo)\n",
    "dic_models['df_femea_tratado'] = gera_modelos(df_femea_flx25mg)\n",
    "\n",
    "\n",
    "# ls_models[2]"
   ]
  },
  {
   "cell_type": "code",
   "execution_count": null,
   "id": "0ce06dff",
   "metadata": {},
   "outputs": [],
   "source": []
  },
  {
   "cell_type": "code",
   "execution_count": null,
   "id": "18fab42b",
   "metadata": {},
   "outputs": [],
   "source": [
    "from joblib import dump, load\n"
   ]
  },
  {
   "cell_type": "code",
   "execution_count": null,
   "id": "b07a44d0",
   "metadata": {},
   "outputs": [],
   "source": [
    "dump(dic_models, 'ls_modelos_treinados.joblib') "
   ]
  },
  {
   "cell_type": "markdown",
   "id": "c5051515",
   "metadata": {},
   "source": [
    "# Inicio da analise dos modelos"
   ]
  },
  {
   "cell_type": "code",
   "execution_count": null,
   "id": "2ed910c4",
   "metadata": {},
   "outputs": [],
   "source": [
    "# ls_models\n",
    "def plot_bic_models(ax, ls_models, title):\n",
    "    for m in ls_models:\n",
    "        AIC = m['AIC']\n",
    "        BIC = m['BIC']\n",
    "        N = list(range(len(m['AIC'])))\n",
    "    #     ax.plot(N, AIC, '-k', label=f'AIC_{m.name}')\n",
    "    #     ax.plot(N, BIC, '--k', label=f'BIC_{m.name}')\n",
    "    #     ax.plot(N, AIC, label=f'AIC_{m[\"name\"]}')\n",
    "        ax.plot(N, BIC, label=f'BIC_{m[\"name\"]}')\n",
    "        ax.set_xlabel('n. components')\n",
    "        ax.set_ylabel('information criterion')\n",
    "        ax.legend(loc=1)\n",
    "        ax.set_title(title)\n",
    "        \n",
    "def plot_ll_models(ax, ls_models, title):\n",
    "    for m in ls_models:\n",
    "        LL = m['LL']\n",
    "    #     BIC = m['BIC']\n",
    "        N = list(range(len(m['LL'])))\n",
    "    #     ax.plot(N, AIC, '-k', label=f'AIC_{m.name}')\n",
    "    #     ax.plot(N, BIC, '--k', label=f'BIC_{m.name}')\n",
    "    #     ax.plot(N, AIC, label=f'AIC_{m[\"name\"]}')\n",
    "        ax.plot(N, LL, label=f'LL{m[\"name\"]}')\n",
    "        ax.set_xlabel('n. components')\n",
    "        ax.set_ylabel('information criterion')\n",
    "        ax.legend(loc=3)"
   ]
  },
  {
   "cell_type": "code",
   "execution_count": null,
   "id": "86c0635c",
   "metadata": {},
   "outputs": [],
   "source": [
    "\n",
    "# plot 2: AIC and BIC\n",
    "fig = plt.figure(figsize=(10, 25))\n",
    "ax = fig.subplots(nrows=4, ncols=2)\n",
    "\n",
    "plot_bic_models(ax[0,0], dic_models[\"all\"], \"all\")\n",
    "\n",
    "plot_bic_models(ax[1,0], dic_models[\"all_macho\"], \"all_macho\")\n",
    "plot_bic_models(ax[1,1], dic_models[\"all_femea\"],\"all_femea\")\n",
    "\n",
    "plot_bic_models(ax[2,0], dic_models[\"df_macho_veiculo\"], \"df_macho_veiculo\")\n",
    "plot_bic_models(ax[2,1], dic_models[\"df_macho_tratado\"],\"df_macho_tratado\")\n",
    "\n",
    "plot_bic_models(ax[3,0], dic_models[\"df_femea_veiculo\"], \"df_femea_veiculo\")\n",
    "plot_bic_models(ax[3,1], dic_models[\"df_femea_tratado\"],\"df_femea_tratado\")\n",
    "\n",
    "\n",
    "\n",
    "# dic_models['all_femea'] = gera_modelos(df_femea)\n",
    "# dic_models['df_macho_veiculo'] = gera_modelos(df_macho_veiculo)\n",
    "# dic_models['df_macho_tratado'] = gera_modelos(df_macho_flx25mg)\n",
    "# dic_models['df_femea_veiculo'] = gera_modelos(df_femea_veiculo)\n",
    "# dic_models['df_femea_tratado'] = gera_modelos(df_femea_flx25mg)\n",
    "\n",
    "\n",
    "\n",
    "# for m in ls_models:\n",
    "#     AIC = m['AIC']\n",
    "#     BIC = m['BIC']\n",
    "#     N = list(range(len(m['AIC'])))\n",
    "# #     ax.plot(N, AIC, '-k', label=f'AIC_{m.name}')\n",
    "# #     ax.plot(N, BIC, '--k', label=f'BIC_{m.name}')\n",
    "# #     ax.plot(N, AIC, label=f'AIC_{m[\"name\"]}')\n",
    "#     ax.plot(N, BIC, label=f'BIC_{m[\"name\"]}')\n",
    "#     ax.set_xlabel('n. components')\n",
    "#     ax.set_ylabel('information criterion')\n",
    "#     ax.legend(loc=1)\n",
    "    \n",
    "    \n",
    "# AIC = [m.aic(s) for m in models]\n",
    "# BIC = [m.bic(s) for m in models]\n"
   ]
  },
  {
   "cell_type": "code",
   "execution_count": null,
   "id": "cba1efb0",
   "metadata": {},
   "outputs": [],
   "source": []
  },
  {
   "cell_type": "code",
   "execution_count": null,
   "id": "6c62148d",
   "metadata": {},
   "outputs": [],
   "source": [
    "def plt_gaussianas(ax, mo_dic, numero_modelo, title):\n",
    "#     numero_modelo = 8\n",
    "#     mo_dic = ls_models[2]\n",
    "    g = mo_dic['ls_models'][numero_modelo]\n",
    "    bic_m = mo_dic['BIC'][numero_modelo]\n",
    "    weights = g.weights_\n",
    "    means = g.means_\n",
    "    covars = g.covariances_\n",
    "#     print(bic_m, weights, means, covars)\n",
    "    \n",
    "    x = mo_dic['df_colun']\n",
    "    f = np.ravel(x).astype(np.float)\n",
    "    f = f.reshape(-1,1)\n",
    "#     plt.hist(f, bins=100, histtype='bar', density=True, ec='red', alpha=0.5)\n",
    "    \n",
    "    f_axis = f.copy().ravel()\n",
    "    f_axis.sort()\n",
    "    for i, valor in enumerate(g.weights_):\n",
    "        ax.plot(f_axis,weights[i]*stats.norm.pdf(f_axis,means[i],np.sqrt(covars[i])).ravel(), label= f'{i}')\n",
    "        ax.legend()\n",
    "    # plt.plot(f_axis,weights[1]*stats.norm.pdf(f_axis,means[1],np.sqrt(covars[1])).ravel(), c='red')\n",
    "    # plt.plot(f_axis,weights[2]*stats.norm.pdf(f_axis,means[2],np.sqrt(covars[2])).ravel(), c='red')\n",
    "    ax.hist(f, bins=100, histtype='bar', density=True, alpha=0.2)\n",
    "    ax.set_xlabel(\"Mediana de uma janela móvel de 100 quadros\")\n",
    "    ax.set_title(title)\n",
    "    #     f\n",
    "    \n",
    "    \n",
    "    "
   ]
  },
  {
   "cell_type": "code",
   "execution_count": null,
   "id": "60917678",
   "metadata": {},
   "outputs": [],
   "source": [
    "# o 2 é pq é o ultimo descritor, modelo = numero de guassianas + 1\n",
    "fig = plt.figure(figsize=(15, 25))\n",
    "ax = fig.subplots(nrows=4, ncols=2)\n",
    "\n",
    "\n",
    "# plt_gaussianas(ax[0,0] , dic_models[\"df_macho_veiculo\"][2], 9)\n",
    "# plt_gaussianas(ax[0,1] , dic_models[\"df_femea_veiculo\"][2], 9)\n",
    "\n",
    "\n",
    "plt_gaussianas(ax[0,0], dic_models[\"all\"][2], 9, \"all\")\n",
    "\n",
    "plt_gaussianas(ax[1,0], dic_models[\"all_macho\"][2], 9, \"all_macho\")\n",
    "plt_gaussianas(ax[1,1], dic_models[\"all_femea\"][2], 9,\"all_femea\")\n",
    "\n",
    "plt_gaussianas(ax[2,0], dic_models[\"df_macho_veiculo\"][2], 9, \"df_macho_veiculo\")\n",
    "plt_gaussianas(ax[2,1], dic_models[\"df_macho_tratado\"][2], 9,\"df_macho_tratado\")\n",
    "\n",
    "plt_gaussianas(ax[3,0], dic_models[\"df_femea_veiculo\"][2], 9, \"df_femea_veiculo\")\n",
    "plt_gaussianas(ax[3,1], dic_models[\"df_femea_tratado\"][2], 9, \"df_femea_tratado\")\n"
   ]
  },
  {
   "cell_type": "code",
   "execution_count": null,
   "id": "1309cfcd",
   "metadata": {},
   "outputs": [],
   "source": []
  },
  {
   "cell_type": "markdown",
   "id": "4eceec4e",
   "metadata": {},
   "source": [
    "## FALTA ARRUMAR O CLASSIFICADOR."
   ]
  },
  {
   "cell_type": "code",
   "execution_count": null,
   "id": "fcc808ce",
   "metadata": {},
   "outputs": [],
   "source": [
    "# fig = plt.figure(figsize=(10, 5))\n",
    "# ax = fig.add_subplot(111)\n",
    "# for m in ls_models:\n",
    "#     LL = m['LL']\n",
    "# #     BIC = m['BIC']\n",
    "#     N = list(range(len(m['LL'])))\n",
    "# #     ax.plot(N, AIC, '-k', label=f'AIC_{m.name}')\n",
    "# #     ax.plot(N, BIC, '--k', label=f'BIC_{m.name}')\n",
    "# #     ax.plot(N, AIC, label=f'AIC_{m[\"name\"]}')\n",
    "#     ax.plot(N, LL, label=f'LL{m[\"name\"]}')\n",
    "#     ax.set_xlabel('n. components')\n",
    "#     ax.set_ylabel('information criterion')\n",
    "#     ax.legend(loc=3)"
   ]
  },
  {
   "cell_type": "code",
   "execution_count": null,
   "id": "364809e3",
   "metadata": {},
   "outputs": [],
   "source": [
    "# ls_models[2]['LL']"
   ]
  },
  {
   "cell_type": "code",
   "execution_count": null,
   "id": "85a48fd0",
   "metadata": {},
   "outputs": [],
   "source": [
    "# m = ls_models[0]\n",
    "# #     BIC = m['BIC']\n",
    "# N = list(range(len(m['LL'])))\n",
    "# #     ax.plot(N, AIC, '-k', label=f'AIC_{m.name}')\n",
    "# #     ax.plot(N, BIC, '--k', label=f'BIC_{m.name}')\n",
    "# #     ax.plot(N, AIC, label=f'AIC_{m[\"name\"]}')\n",
    "# fig = plt.figure(figsize=(10, 5))\n",
    "# ax = fig.add_subplot(111)\n",
    "# ax.plot(N, LL, label=f'BIC_{m[\"name\"]}')\n",
    "# ax.set_xlabel('n. components')\n",
    "# ax.set_ylabel('information criterion')\n",
    "# ax.legend(loc=3)\n",
    "# plt.show()"
   ]
  },
  {
   "cell_type": "code",
   "execution_count": null,
   "id": "6a8605ab",
   "metadata": {},
   "outputs": [],
   "source": [
    "# m = ls_models[2]\n",
    "# m"
   ]
  },
  {
   "cell_type": "code",
   "execution_count": null,
   "id": "e6606a73",
   "metadata": {},
   "outputs": [],
   "source": [
    "# numero_modelo = 8\n",
    "# mo_dic = ls_models[2]\n",
    "# g = mo_dic['ls_models'][numero_modelo]\n",
    "# bic_m = mo_dic['BIC'][numero_modelo]\n",
    "# weights = g.weights_\n",
    "# means = g.means_\n",
    "# covars = g.covariances_\n",
    "# print(bic_m, weights, means, covars)"
   ]
  },
  {
   "cell_type": "code",
   "execution_count": null,
   "id": "54d0fb85",
   "metadata": {},
   "outputs": [],
   "source": [
    "# weights"
   ]
  },
  {
   "cell_type": "code",
   "execution_count": null,
   "id": "80b54301",
   "metadata": {},
   "outputs": [],
   "source": [
    "# x = mo_dic['df_colun']"
   ]
  },
  {
   "cell_type": "code",
   "execution_count": null,
   "id": "9a7e93f5",
   "metadata": {},
   "outputs": [],
   "source": [
    "# f = np.ravel(x).astype(np.float)\n",
    "# f=f.reshape(-1,1)\n",
    "# f"
   ]
  },
  {
   "cell_type": "code",
   "execution_count": null,
   "id": "e1421ef3",
   "metadata": {},
   "outputs": [],
   "source": [
    "# plt.hist(f, bins=100, histtype='bar', density=True, ec='red', alpha=0.5)"
   ]
  },
  {
   "cell_type": "code",
   "execution_count": null,
   "id": "88317092",
   "metadata": {},
   "outputs": [],
   "source": []
  },
  {
   "cell_type": "code",
   "execution_count": null,
   "id": "1d2cebb9",
   "metadata": {},
   "outputs": [],
   "source": [
    "# f_axis = f.copy().ravel()\n",
    "# f_axis.sort()\n",
    "# for i, valor in enumerate(g.weights_):\n",
    "#     plt.plot(f_axis,weights[i]*stats.norm.pdf(f_axis,means[i],np.sqrt(covars[i])).ravel(), label= f'{i}')\n",
    "#     plt.legend()\n",
    "# # plt.plot(f_axis,weights[1]*stats.norm.pdf(f_axis,means[1],np.sqrt(covars[1])).ravel(), c='red')\n",
    "# # plt.plot(f_axis,weights[2]*stats.norm.pdf(f_axis,means[2],np.sqrt(covars[2])).ravel(), c='red')\n",
    "# plt.hist(f, bins=100, histtype='bar', density=True, ec='red', alpha=0.5)\n",
    "# plt.xlabel(\"Mediana de uma janela móvel de 100 quadros\")"
   ]
  },
  {
   "cell_type": "code",
   "execution_count": null,
   "id": "9dc63979",
   "metadata": {},
   "outputs": [],
   "source": [
    "# https://stackoverflow.com/questions/23609756/how-can-i-plot-the-probability-density-function-for-a-fitted-gaussian-mixture-mo\n",
    "# https://stats.stackexchange.com/questions/398780/understanding-the-log-likelihood-score-in-scikit-learn-gmm"
   ]
  },
  {
   "cell_type": "code",
   "execution_count": null,
   "id": "c736924c",
   "metadata": {},
   "outputs": [],
   "source": [
    "# , c='red'"
   ]
  },
  {
   "cell_type": "code",
   "execution_count": null,
   "id": "0a633586",
   "metadata": {},
   "outputs": [],
   "source": [
    "# weights"
   ]
  },
  {
   "cell_type": "code",
   "execution_count": null,
   "id": "c70893ee",
   "metadata": {},
   "outputs": [],
   "source": [
    "# LL = ls_models[2]['LL']\n",
    "# #     BIC = m['BIC']\n",
    "# N = list(range(len(m['LL'])))\n",
    "# #     ax.plot(N, AIC, '-k', label=f'AIC_{m.name}')\n",
    "# #     ax.plot(N, BIC, '--k', label=f'BIC_{m.name}')\n",
    "# #     ax.plot(N, AIC, label=f'AIC_{m[\"name\"]}')\n",
    "# fig = plt.figure(figsize=(10, 5))\n",
    "# ax = fig.add_subplot(111)\n",
    "# ax.plot(N, LL, label=f'BIC_{m[\"name\"]}')\n",
    "# ax.set_xlabel('n. components')\n",
    "# ax.set_ylabel('information criterion')\n",
    "# ax.legend(loc=3)\n",
    "# plt.show()"
   ]
  },
  {
   "cell_type": "code",
   "execution_count": null,
   "id": "a2c426ff",
   "metadata": {},
   "outputs": [],
   "source": [
    "# b_model_gaussian = ls_models[2]['ls_models'][5]\n",
    "# b_model_gaussian"
   ]
  },
  {
   "cell_type": "code",
   "execution_count": null,
   "id": "1c691cef",
   "metadata": {},
   "outputs": [],
   "source": [
    "# fig = plt.figure(figsize=(10, 5))\n",
    "# ax = fig.add_subplot(111)\n",
    "# for m in ls_models:\n",
    "#     AIC = m['AIC']\n",
    "#     BIC = m['BIC']\n",
    "#     N = list(range(len(m['AIC'])))\n",
    "#     ax.plot(N, AIC, '-k', label='AIC')\n",
    "#     ax.plot(N, BIC, '--k', label='BIC')\n",
    "#     ax.set_xlabel('n. components')\n",
    "#     ax.set_ylabel('information criterion')\n",
    "#     ax.legend(loc=3)"
   ]
  },
  {
   "cell_type": "code",
   "execution_count": null,
   "id": "b97d65e6",
   "metadata": {},
   "outputs": [],
   "source": [
    "# AIC = [m.aic(s) for m in models]\n",
    "# BIC = [m.bic(s) for m in models]"
   ]
  },
  {
   "cell_type": "code",
   "execution_count": null,
   "id": "257affd5",
   "metadata": {},
   "outputs": [],
   "source": [
    "# best = np.argmin(AIC)\n",
    "# # M_best = models[np.argmin(best)]\n",
    "# best"
   ]
  },
  {
   "cell_type": "code",
   "execution_count": null,
   "id": "a3cb82e9",
   "metadata": {},
   "outputs": [],
   "source": [
    "# best = np.argmin(BIC)\n",
    "# # M_best = models[np.argmin(best)]\n",
    "# best"
   ]
  },
  {
   "cell_type": "code",
   "execution_count": null,
   "id": "82e7b841",
   "metadata": {},
   "outputs": [],
   "source": [
    "# BIC[7]"
   ]
  },
  {
   "cell_type": "code",
   "execution_count": null,
   "id": "d8134e76",
   "metadata": {},
   "outputs": [],
   "source": [
    "# best = np.argmin(BIC)\n",
    "# b_model_gaussian = models[best]"
   ]
  },
  {
   "cell_type": "code",
   "execution_count": null,
   "id": "9a9b86d1",
   "metadata": {},
   "outputs": [],
   "source": [
    "# b_model_gaussian.bic(s)"
   ]
  },
  {
   "cell_type": "code",
   "execution_count": null,
   "id": "d3169f78",
   "metadata": {},
   "outputs": [],
   "source": [
    "# https://scikit-learn.org/stable/auto_examples/mixture/plot_gmm_covariances.html\n",
    "# https://stackoverflow.com/questions/40874263/how-to-get-standard-deviation-from-each-components-in-sklearn-gmm-after-fit"
   ]
  },
  {
   "cell_type": "code",
   "execution_count": null,
   "id": "b87ad51b",
   "metadata": {},
   "outputs": [],
   "source": [
    "# b_model_gaussian.means_"
   ]
  },
  {
   "cell_type": "code",
   "execution_count": null,
   "id": "1b2b3a12",
   "metadata": {},
   "outputs": [],
   "source": [
    "# b_model_gaussian.covariances_"
   ]
  },
  {
   "cell_type": "code",
   "execution_count": null,
   "id": "8b66c1f6",
   "metadata": {},
   "outputs": [],
   "source": [
    "# b_model_gaussian.covariance_type"
   ]
  },
  {
   "cell_type": "code",
   "execution_count": null,
   "id": "af82130c",
   "metadata": {},
   "outputs": [],
   "source": [
    "# M_best.predict_proba(s)\n",
    "# s"
   ]
  },
  {
   "cell_type": "code",
   "execution_count": null,
   "id": "9fe3f4b9",
   "metadata": {},
   "outputs": [],
   "source": [
    "# ls_score = b_model_gaussian.predict(s)"
   ]
  },
  {
   "cell_type": "code",
   "execution_count": null,
   "id": "c040fa92",
   "metadata": {},
   "outputs": [],
   "source": [
    "# df['categoria_gaussiana'] = ls_score"
   ]
  },
  {
   "cell_type": "code",
   "execution_count": null,
   "id": "79eb63c8",
   "metadata": {},
   "outputs": [],
   "source": [
    "# df"
   ]
  },
  {
   "cell_type": "code",
   "execution_count": null,
   "id": "bbef6044",
   "metadata": {},
   "outputs": [],
   "source": [
    "# df.to_excel(\"saida_melhor_modelo.xlsx\", index=False)\n",
    "# df.to_excel(\"saida_melhor_modelo.xlsx\")\n",
    "# df.to_csv(\"saida_melhor_modle.csv\", index=False, sep=';')"
   ]
  },
  {
   "cell_type": "code",
   "execution_count": null,
   "id": "a60ee3ce",
   "metadata": {},
   "outputs": [],
   "source": [
    "# from joblib import dump, load\n",
    "# dump(b_model_gaussian, 'modelo_treinado1.joblib') "
   ]
  },
  {
   "cell_type": "code",
   "execution_count": null,
   "id": "74ef8e69",
   "metadata": {},
   "outputs": [],
   "source": [
    "# modelo = load('modelo_treinado1.joblib') "
   ]
  },
  {
   "cell_type": "code",
   "execution_count": null,
   "id": "30125926",
   "metadata": {},
   "outputs": [],
   "source": [
    "# modelo.means_"
   ]
  },
  {
   "cell_type": "code",
   "execution_count": null,
   "id": "ae2b365a",
   "metadata": {},
   "outputs": [],
   "source": [
    "# plt.hist(df['categoria_gaussiana'])\n",
    "# plt.show()"
   ]
  },
  {
   "cell_type": "code",
   "execution_count": null,
   "id": "d0559a4c",
   "metadata": {},
   "outputs": [],
   "source": [
    "# fig = plt.figure(figsize=(10, 5))\n",
    "# # fig.subplots_adjust(left=0.12, right=0.97,\n",
    "# #                     bottom=0.21, top=0.9, wspace=0.5)\n",
    "# ax = fig.add_subplot(111)\n",
    "# M_best = models[np.argmin(AIC)]\n",
    "\n",
    "# x = np.linspace(-6, 6, 1000)\n",
    "# logprob = M_best.score_samples(x.reshape(-1, 1))\n",
    "# responsibilities = M_best.predict_proba(x.reshape(-1, 1))\n",
    "# pdf = np.exp(logprob)\n",
    "# pdf_individual = responsibilities * pdf[:, np.newaxis]\n",
    "\n",
    "# ax.hist(X, 30, density=True, histtype='stepfilled', alpha=0.4)\n",
    "# ax.plot(x, pdf, '-k')\n",
    "# ax.plot(x, pdf_individual, '--k')\n",
    "# ax.text(0.04, 0.96, \"Best-fit Mixture\",\n",
    "#         ha='left', va='top', transform=ax.transAxes)\n",
    "# ax.set_xlabel('$x$')\n",
    "# ax.set_ylabel('$p(x)$')"
   ]
  },
  {
   "cell_type": "code",
   "execution_count": null,
   "id": "3f76da3e",
   "metadata": {},
   "outputs": [],
   "source": [
    "# plot 2: AIC and BIC\n",
    "# fig = plt.figure(figsize=(10, 5))\n",
    "# ax = fig.add_subplot(111)\n",
    "# ax.plot(N, AIC, '-k', label='AIC')\n",
    "# ax.plot(N, BIC, '--k', label='BIC')\n",
    "# ax.set_xlabel('n. components')\n",
    "# ax.set_ylabel('information criterion')\n",
    "# ax.legend(loc=3)"
   ]
  },
  {
   "cell_type": "code",
   "execution_count": null,
   "id": "85d80776",
   "metadata": {},
   "outputs": [],
   "source": [
    "# fig = plt.figure(figsize=(10, 5))\n",
    "# ax = fig.add_subplot(111)\n",
    "\n",
    "# p = responsibilities\n",
    "# p = p[:, (1, 0, 2)]  # rearrange order so the plot looks better\n",
    "# p = p.cumsum(1).T\n",
    "\n",
    "# ax.fill_between(x, 0, p[0], color='gray', alpha=0.3)\n",
    "# ax.fill_between(x, p[0], p[1], color='gray', alpha=0.5)\n",
    "# ax.fill_between(x, p[1], 1, color='gray', alpha=0.7)\n",
    "# ax.set_xlim(-6, 12)\n",
    "# ax.set_ylim(0, 1)\n",
    "# ax.set_xlabel('$x$')\n",
    "# ax.set_ylabel(r'$p({\\rm class}|x)$')\n",
    "\n",
    "# ax.text(-5, 0.3, 'class 1', rotation='vertical')\n",
    "# ax.text(0, 0.5, 'class 2', rotation='vertical')\n",
    "# ax.text(3, 0.3, 'class 3', rotation='vertical')\n",
    "\n",
    "# plt.show()"
   ]
  }
 ],
 "metadata": {
  "kernelspec": {
   "display_name": "Python 3 (ipykernel)",
   "language": "python",
   "name": "python3"
  },
  "language_info": {
   "codemirror_mode": {
    "name": "ipython",
    "version": 3
   },
   "file_extension": ".py",
   "mimetype": "text/x-python",
   "name": "python",
   "nbconvert_exporter": "python",
   "pygments_lexer": "ipython3",
   "version": "3.8.12"
  }
 },
 "nbformat": 4,
 "nbformat_minor": 5
}
