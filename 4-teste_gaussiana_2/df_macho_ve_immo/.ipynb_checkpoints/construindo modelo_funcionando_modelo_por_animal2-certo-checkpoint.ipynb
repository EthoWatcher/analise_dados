{
 "cells": [
  {
   "cell_type": "code",
   "execution_count": 1,
   "id": "01b5ab22",
   "metadata": {},
   "outputs": [],
   "source": [
    "import numpy as np\n",
    "import pandas as pd"
   ]
  },
  {
   "cell_type": "code",
   "execution_count": 2,
   "id": "950d4d48",
   "metadata": {},
   "outputs": [],
   "source": [
    "import scipy.stats as stats"
   ]
  },
  {
   "cell_type": "code",
   "execution_count": 3,
   "id": "fc5a9ad7",
   "metadata": {},
   "outputs": [],
   "source": [
    "\n",
    "from sklearn.mixture import GaussianMixture\n",
    "# from sklearn.mixture import GMM\n",
    "from sklearn import mixture"
   ]
  },
  {
   "cell_type": "code",
   "execution_count": 4,
   "id": "388f4e5a",
   "metadata": {},
   "outputs": [],
   "source": [
    "# https://www.astroml.org/book_figures/chapter4/fig_GMM_1D.html"
   ]
  },
  {
   "cell_type": "code",
   "execution_count": 5,
   "id": "ed7a4213",
   "metadata": {},
   "outputs": [],
   "source": [
    "from matplotlib import pyplot as plt"
   ]
  },
  {
   "cell_type": "code",
   "execution_count": 6,
   "id": "c1453ef8",
   "metadata": {},
   "outputs": [],
   "source": [
    "import cv2"
   ]
  },
  {
   "cell_type": "code",
   "execution_count": 7,
   "id": "70545158",
   "metadata": {},
   "outputs": [],
   "source": [
    "import deposito_watcher.api as api\n",
    "import deposito_watcher.video as vi"
   ]
  },
  {
   "cell_type": "code",
   "execution_count": 8,
   "id": "6010705e",
   "metadata": {},
   "outputs": [],
   "source": [
    "# # from IPython.display import display, clear_output\n",
    "# from ipywidgets import interact, interactive, fixed, interact_manual\n",
    "# import ipywidgets as widgets"
   ]
  },
  {
   "cell_type": "code",
   "execution_count": 9,
   "id": "fc1dcd92",
   "metadata": {},
   "outputs": [],
   "source": [
    "# https://www.youtube.com/watch?v=DODphRRL79c&ab_channel=MachineLearningTV"
   ]
  },
  {
   "cell_type": "code",
   "execution_count": 10,
   "id": "e6637683",
   "metadata": {},
   "outputs": [
    {
     "data": {
      "text/html": [
       "<div>\n",
       "<style scoped>\n",
       "    .dataframe tbody tr th:only-of-type {\n",
       "        vertical-align: middle;\n",
       "    }\n",
       "\n",
       "    .dataframe tbody tr th {\n",
       "        vertical-align: top;\n",
       "    }\n",
       "\n",
       "    .dataframe thead th {\n",
       "        text-align: right;\n",
       "    }\n",
       "</style>\n",
       "<table border=\"1\" class=\"dataframe\">\n",
       "  <thead>\n",
       "    <tr style=\"text-align: right;\">\n",
       "      <th></th>\n",
       "      <th>Unnamed: 0</th>\n",
       "      <th>median</th>\n",
       "      <th>mean</th>\n",
       "      <th>sum</th>\n",
       "    </tr>\n",
       "  </thead>\n",
       "  <tbody>\n",
       "    <tr>\n",
       "      <th>0</th>\n",
       "      <td>0</td>\n",
       "      <td>2.149101</td>\n",
       "      <td>2.149101</td>\n",
       "      <td>2.149101</td>\n",
       "    </tr>\n",
       "    <tr>\n",
       "      <th>1</th>\n",
       "      <td>1</td>\n",
       "      <td>2.149101</td>\n",
       "      <td>2.149101</td>\n",
       "      <td>2.149101</td>\n",
       "    </tr>\n",
       "    <tr>\n",
       "      <th>2</th>\n",
       "      <td>2</td>\n",
       "      <td>1.680299</td>\n",
       "      <td>1.680299</td>\n",
       "      <td>1.680299</td>\n",
       "    </tr>\n",
       "    <tr>\n",
       "      <th>3</th>\n",
       "      <td>3</td>\n",
       "      <td>2.521082</td>\n",
       "      <td>2.521082</td>\n",
       "      <td>2.521082</td>\n",
       "    </tr>\n",
       "    <tr>\n",
       "      <th>4</th>\n",
       "      <td>4</td>\n",
       "      <td>2.521082</td>\n",
       "      <td>2.521082</td>\n",
       "      <td>2.521082</td>\n",
       "    </tr>\n",
       "    <tr>\n",
       "      <th>...</th>\n",
       "      <td>...</td>\n",
       "      <td>...</td>\n",
       "      <td>...</td>\n",
       "      <td>...</td>\n",
       "    </tr>\n",
       "    <tr>\n",
       "      <th>15408</th>\n",
       "      <td>15408</td>\n",
       "      <td>1.782609</td>\n",
       "      <td>1.782609</td>\n",
       "      <td>1.782609</td>\n",
       "    </tr>\n",
       "    <tr>\n",
       "      <th>15409</th>\n",
       "      <td>15409</td>\n",
       "      <td>1.782609</td>\n",
       "      <td>1.782609</td>\n",
       "      <td>1.782609</td>\n",
       "    </tr>\n",
       "    <tr>\n",
       "      <th>15410</th>\n",
       "      <td>15410</td>\n",
       "      <td>1.782609</td>\n",
       "      <td>1.782609</td>\n",
       "      <td>1.782609</td>\n",
       "    </tr>\n",
       "    <tr>\n",
       "      <th>15411</th>\n",
       "      <td>15411</td>\n",
       "      <td>1.760000</td>\n",
       "      <td>1.760000</td>\n",
       "      <td>1.760000</td>\n",
       "    </tr>\n",
       "    <tr>\n",
       "      <th>15412</th>\n",
       "      <td>15412</td>\n",
       "      <td>1.760000</td>\n",
       "      <td>1.760000</td>\n",
       "      <td>1.760000</td>\n",
       "    </tr>\n",
       "  </tbody>\n",
       "</table>\n",
       "<p>15413 rows × 4 columns</p>\n",
       "</div>"
      ],
      "text/plain": [
       "       Unnamed: 0    median      mean       sum\n",
       "0               0  2.149101  2.149101  2.149101\n",
       "1               1  2.149101  2.149101  2.149101\n",
       "2               2  1.680299  1.680299  1.680299\n",
       "3               3  2.521082  2.521082  2.521082\n",
       "4               4  2.521082  2.521082  2.521082\n",
       "...           ...       ...       ...       ...\n",
       "15408       15408  1.782609  1.782609  1.782609\n",
       "15409       15409  1.782609  1.782609  1.782609\n",
       "15410       15410  1.782609  1.782609  1.782609\n",
       "15411       15411  1.760000  1.760000  1.760000\n",
       "15412       15412  1.760000  1.760000  1.760000\n",
       "\n",
       "[15413 rows x 4 columns]"
      ]
     },
     "execution_count": 10,
     "metadata": {},
     "output_type": "execute_result"
    }
   ],
   "source": [
    "df = pd.read_csv(\"1_all.csv\")\n",
    "df\n"
   ]
  },
  {
   "cell_type": "code",
   "execution_count": 11,
   "id": "8ca11601",
   "metadata": {},
   "outputs": [
    {
     "data": {
      "text/html": [
       "<div>\n",
       "<style scoped>\n",
       "    .dataframe tbody tr th:only-of-type {\n",
       "        vertical-align: middle;\n",
       "    }\n",
       "\n",
       "    .dataframe tbody tr th {\n",
       "        vertical-align: top;\n",
       "    }\n",
       "\n",
       "    .dataframe thead th {\n",
       "        text-align: right;\n",
       "    }\n",
       "</style>\n",
       "<table border=\"1\" class=\"dataframe\">\n",
       "  <thead>\n",
       "    <tr style=\"text-align: right;\">\n",
       "      <th></th>\n",
       "      <th>Unnamed: 0</th>\n",
       "      <th>median</th>\n",
       "      <th>mean</th>\n",
       "      <th>sum</th>\n",
       "    </tr>\n",
       "  </thead>\n",
       "  <tbody>\n",
       "    <tr>\n",
       "      <th>0</th>\n",
       "      <td>29</td>\n",
       "      <td>2.699019</td>\n",
       "      <td>2.659209</td>\n",
       "      <td>79.776273</td>\n",
       "    </tr>\n",
       "    <tr>\n",
       "      <th>1</th>\n",
       "      <td>30</td>\n",
       "      <td>2.699019</td>\n",
       "      <td>2.647297</td>\n",
       "      <td>79.418914</td>\n",
       "    </tr>\n",
       "    <tr>\n",
       "      <th>2</th>\n",
       "      <td>31</td>\n",
       "      <td>2.699019</td>\n",
       "      <td>2.635385</td>\n",
       "      <td>79.061554</td>\n",
       "    </tr>\n",
       "    <tr>\n",
       "      <th>3</th>\n",
       "      <td>32</td>\n",
       "      <td>2.699019</td>\n",
       "      <td>2.629375</td>\n",
       "      <td>78.881255</td>\n",
       "    </tr>\n",
       "    <tr>\n",
       "      <th>4</th>\n",
       "      <td>33</td>\n",
       "      <td>2.699019</td>\n",
       "      <td>2.587090</td>\n",
       "      <td>77.612700</td>\n",
       "    </tr>\n",
       "    <tr>\n",
       "      <th>...</th>\n",
       "      <td>...</td>\n",
       "      <td>...</td>\n",
       "      <td>...</td>\n",
       "      <td>...</td>\n",
       "    </tr>\n",
       "    <tr>\n",
       "      <th>15379</th>\n",
       "      <td>15408</td>\n",
       "      <td>1.801428</td>\n",
       "      <td>1.810583</td>\n",
       "      <td>54.317486</td>\n",
       "    </tr>\n",
       "    <tr>\n",
       "      <th>15380</th>\n",
       "      <td>15409</td>\n",
       "      <td>1.790293</td>\n",
       "      <td>1.807692</td>\n",
       "      <td>54.230755</td>\n",
       "    </tr>\n",
       "    <tr>\n",
       "      <th>15381</th>\n",
       "      <td>15410</td>\n",
       "      <td>1.782609</td>\n",
       "      <td>1.804834</td>\n",
       "      <td>54.145027</td>\n",
       "    </tr>\n",
       "    <tr>\n",
       "      <th>15382</th>\n",
       "      <td>15411</td>\n",
       "      <td>1.782609</td>\n",
       "      <td>1.801578</td>\n",
       "      <td>54.047347</td>\n",
       "    </tr>\n",
       "    <tr>\n",
       "      <th>15383</th>\n",
       "      <td>15412</td>\n",
       "      <td>1.782609</td>\n",
       "      <td>1.801578</td>\n",
       "      <td>54.047347</td>\n",
       "    </tr>\n",
       "  </tbody>\n",
       "</table>\n",
       "<p>15384 rows × 4 columns</p>\n",
       "</div>"
      ],
      "text/plain": [
       "       Unnamed: 0    median      mean        sum\n",
       "0              29  2.699019  2.659209  79.776273\n",
       "1              30  2.699019  2.647297  79.418914\n",
       "2              31  2.699019  2.635385  79.061554\n",
       "3              32  2.699019  2.629375  78.881255\n",
       "4              33  2.699019  2.587090  77.612700\n",
       "...           ...       ...       ...        ...\n",
       "15379       15408  1.801428  1.810583  54.317486\n",
       "15380       15409  1.790293  1.807692  54.230755\n",
       "15381       15410  1.782609  1.804834  54.145027\n",
       "15382       15411  1.782609  1.801578  54.047347\n",
       "15383       15412  1.782609  1.801578  54.047347\n",
       "\n",
       "[15384 rows x 4 columns]"
      ]
     },
     "execution_count": 11,
     "metadata": {},
     "output_type": "execute_result"
    }
   ],
   "source": [
    "df_30 = pd.read_csv(\"30_all.csv\")\n",
    "df_30\n"
   ]
  },
  {
   "cell_type": "code",
   "execution_count": 12,
   "id": "62543dbb",
   "metadata": {},
   "outputs": [
    {
     "data": {
      "text/html": [
       "<div>\n",
       "<style scoped>\n",
       "    .dataframe tbody tr th:only-of-type {\n",
       "        vertical-align: middle;\n",
       "    }\n",
       "\n",
       "    .dataframe tbody tr th {\n",
       "        vertical-align: top;\n",
       "    }\n",
       "\n",
       "    .dataframe thead th {\n",
       "        text-align: right;\n",
       "    }\n",
       "</style>\n",
       "<table border=\"1\" class=\"dataframe\">\n",
       "  <thead>\n",
       "    <tr style=\"text-align: right;\">\n",
       "      <th></th>\n",
       "      <th>Unnamed: 0</th>\n",
       "      <th>median</th>\n",
       "      <th>mean</th>\n",
       "      <th>sum</th>\n",
       "    </tr>\n",
       "  </thead>\n",
       "  <tbody>\n",
       "    <tr>\n",
       "      <th>0</th>\n",
       "      <td>59</td>\n",
       "      <td>2.194732</td>\n",
       "      <td>2.208558</td>\n",
       "      <td>132.513455</td>\n",
       "    </tr>\n",
       "    <tr>\n",
       "      <th>1</th>\n",
       "      <td>60</td>\n",
       "      <td>2.224331</td>\n",
       "      <td>2.214739</td>\n",
       "      <td>132.884351</td>\n",
       "    </tr>\n",
       "    <tr>\n",
       "      <th>2</th>\n",
       "      <td>61</td>\n",
       "      <td>2.224331</td>\n",
       "      <td>2.220921</td>\n",
       "      <td>133.255248</td>\n",
       "    </tr>\n",
       "    <tr>\n",
       "      <th>3</th>\n",
       "      <td>62</td>\n",
       "      <td>2.348083</td>\n",
       "      <td>2.234916</td>\n",
       "      <td>134.094947</td>\n",
       "    </tr>\n",
       "    <tr>\n",
       "      <th>4</th>\n",
       "      <td>63</td>\n",
       "      <td>2.307027</td>\n",
       "      <td>2.232726</td>\n",
       "      <td>133.963589</td>\n",
       "    </tr>\n",
       "    <tr>\n",
       "      <th>...</th>\n",
       "      <td>...</td>\n",
       "      <td>...</td>\n",
       "      <td>...</td>\n",
       "      <td>...</td>\n",
       "    </tr>\n",
       "    <tr>\n",
       "      <th>15349</th>\n",
       "      <td>15408</td>\n",
       "      <td>1.807695</td>\n",
       "      <td>1.826890</td>\n",
       "      <td>109.613426</td>\n",
       "    </tr>\n",
       "    <tr>\n",
       "      <th>15350</th>\n",
       "      <td>15409</td>\n",
       "      <td>1.807695</td>\n",
       "      <td>1.827703</td>\n",
       "      <td>109.662174</td>\n",
       "    </tr>\n",
       "    <tr>\n",
       "      <th>15351</th>\n",
       "      <td>15410</td>\n",
       "      <td>1.807695</td>\n",
       "      <td>1.829421</td>\n",
       "      <td>109.765247</td>\n",
       "    </tr>\n",
       "    <tr>\n",
       "      <th>15352</th>\n",
       "      <td>15411</td>\n",
       "      <td>1.807695</td>\n",
       "      <td>1.830762</td>\n",
       "      <td>109.845710</td>\n",
       "    </tr>\n",
       "    <tr>\n",
       "      <th>15353</th>\n",
       "      <td>15412</td>\n",
       "      <td>1.807695</td>\n",
       "      <td>1.833012</td>\n",
       "      <td>109.980712</td>\n",
       "    </tr>\n",
       "  </tbody>\n",
       "</table>\n",
       "<p>15354 rows × 4 columns</p>\n",
       "</div>"
      ],
      "text/plain": [
       "       Unnamed: 0    median      mean         sum\n",
       "0              59  2.194732  2.208558  132.513455\n",
       "1              60  2.224331  2.214739  132.884351\n",
       "2              61  2.224331  2.220921  133.255248\n",
       "3              62  2.348083  2.234916  134.094947\n",
       "4              63  2.307027  2.232726  133.963589\n",
       "...           ...       ...       ...         ...\n",
       "15349       15408  1.807695  1.826890  109.613426\n",
       "15350       15409  1.807695  1.827703  109.662174\n",
       "15351       15410  1.807695  1.829421  109.765247\n",
       "15352       15411  1.807695  1.830762  109.845710\n",
       "15353       15412  1.807695  1.833012  109.980712\n",
       "\n",
       "[15354 rows x 4 columns]"
      ]
     },
     "execution_count": 12,
     "metadata": {},
     "output_type": "execute_result"
    }
   ],
   "source": [
    "df_60 = pd.read_csv(\"60_all.csv\")\n",
    "df_60"
   ]
  },
  {
   "cell_type": "code",
   "execution_count": 13,
   "id": "946a4f93",
   "metadata": {},
   "outputs": [
    {
     "data": {
      "text/html": [
       "<div>\n",
       "<style scoped>\n",
       "    .dataframe tbody tr th:only-of-type {\n",
       "        vertical-align: middle;\n",
       "    }\n",
       "\n",
       "    .dataframe tbody tr th {\n",
       "        vertical-align: top;\n",
       "    }\n",
       "\n",
       "    .dataframe thead th {\n",
       "        text-align: right;\n",
       "    }\n",
       "</style>\n",
       "<table border=\"1\" class=\"dataframe\">\n",
       "  <thead>\n",
       "    <tr style=\"text-align: right;\">\n",
       "      <th></th>\n",
       "      <th>Unnamed: 0</th>\n",
       "      <th>median</th>\n",
       "      <th>mean</th>\n",
       "      <th>sum</th>\n",
       "    </tr>\n",
       "  </thead>\n",
       "  <tbody>\n",
       "    <tr>\n",
       "      <th>0</th>\n",
       "      <td>89</td>\n",
       "      <td>2.294837</td>\n",
       "      <td>2.249566</td>\n",
       "      <td>202.460982</td>\n",
       "    </tr>\n",
       "    <tr>\n",
       "      <th>1</th>\n",
       "      <td>90</td>\n",
       "      <td>2.342281</td>\n",
       "      <td>2.255245</td>\n",
       "      <td>202.972071</td>\n",
       "    </tr>\n",
       "    <tr>\n",
       "      <th>2</th>\n",
       "      <td>91</td>\n",
       "      <td>2.408045</td>\n",
       "      <td>2.260924</td>\n",
       "      <td>203.483160</td>\n",
       "    </tr>\n",
       "    <tr>\n",
       "      <th>3</th>\n",
       "      <td>92</td>\n",
       "      <td>2.426366</td>\n",
       "      <td>2.271022</td>\n",
       "      <td>204.391961</td>\n",
       "    </tr>\n",
       "    <tr>\n",
       "      <th>4</th>\n",
       "      <td>93</td>\n",
       "      <td>2.426366</td>\n",
       "      <td>2.272295</td>\n",
       "      <td>204.506545</td>\n",
       "    </tr>\n",
       "    <tr>\n",
       "      <th>...</th>\n",
       "      <td>...</td>\n",
       "      <td>...</td>\n",
       "      <td>...</td>\n",
       "      <td>...</td>\n",
       "    </tr>\n",
       "    <tr>\n",
       "      <th>15319</th>\n",
       "      <td>15408</td>\n",
       "      <td>1.856039</td>\n",
       "      <td>1.930450</td>\n",
       "      <td>173.740498</td>\n",
       "    </tr>\n",
       "    <tr>\n",
       "      <th>15320</th>\n",
       "      <td>15409</td>\n",
       "      <td>1.853127</td>\n",
       "      <td>1.927360</td>\n",
       "      <td>173.462379</td>\n",
       "    </tr>\n",
       "    <tr>\n",
       "      <th>15321</th>\n",
       "      <td>15410</td>\n",
       "      <td>1.851855</td>\n",
       "      <td>1.919070</td>\n",
       "      <td>172.716255</td>\n",
       "    </tr>\n",
       "    <tr>\n",
       "      <th>15322</th>\n",
       "      <td>15411</td>\n",
       "      <td>1.851855</td>\n",
       "      <td>1.910528</td>\n",
       "      <td>171.947522</td>\n",
       "    </tr>\n",
       "    <tr>\n",
       "      <th>15323</th>\n",
       "      <td>15412</td>\n",
       "      <td>1.845927</td>\n",
       "      <td>1.904158</td>\n",
       "      <td>171.374189</td>\n",
       "    </tr>\n",
       "  </tbody>\n",
       "</table>\n",
       "<p>15324 rows × 4 columns</p>\n",
       "</div>"
      ],
      "text/plain": [
       "       Unnamed: 0    median      mean         sum\n",
       "0              89  2.294837  2.249566  202.460982\n",
       "1              90  2.342281  2.255245  202.972071\n",
       "2              91  2.408045  2.260924  203.483160\n",
       "3              92  2.426366  2.271022  204.391961\n",
       "4              93  2.426366  2.272295  204.506545\n",
       "...           ...       ...       ...         ...\n",
       "15319       15408  1.856039  1.930450  173.740498\n",
       "15320       15409  1.853127  1.927360  173.462379\n",
       "15321       15410  1.851855  1.919070  172.716255\n",
       "15322       15411  1.851855  1.910528  171.947522\n",
       "15323       15412  1.845927  1.904158  171.374189\n",
       "\n",
       "[15324 rows x 4 columns]"
      ]
     },
     "execution_count": 13,
     "metadata": {},
     "output_type": "execute_result"
    }
   ],
   "source": [
    "df_90 = pd.read_csv(\"90_all.csv\")\n",
    "df_90"
   ]
  },
  {
   "cell_type": "code",
   "execution_count": 14,
   "id": "30af857f",
   "metadata": {},
   "outputs": [],
   "source": [
    "def gerera_models(df,name, qnt= 14):\n",
    "    X = df[name]\n",
    "    x_a = np.array(X)\n",
    "    s = x_a.reshape(-1, 1)\n",
    "    N = np.arange(1, qnt)\n",
    "    models = [None for i in range(len(N))]\n",
    "    for i in range(len(N)):\n",
    "        print(i)\n",
    "        models[i] = GaussianMixture(N[i]).fit(s)\n",
    "    AIC = [m.aic(s)   for m in models]\n",
    "    BIC = [m.bic(s)   for m in models]\n",
    "    LL  = [m.score(s) for m in models] \n",
    "    best_aic = np.argmin(AIC)\n",
    "    best_bic = np.argmin(BIC)\n",
    "    b_model_gaussian = models[best_bic]\n",
    "    return {'name':name,'df_colun': df[name], 'ls_models':models, \n",
    "            'AIC': AIC, 'BIC':BIC, 'LL': LL, 'qnt':qnt,\n",
    "           'best_aic': best_aic, 'best_bic': best_bic, 'best_model':b_model_gaussian }\n",
    "\n",
    "\n",
    "\n",
    "def gera_modelos(df):\n",
    "\n",
    "    ls_models =[]\n",
    "    # ls_df_colum = [df['Vd_m_sum_nor'], df['dif_max_min_nor'], df['Vd_m_median_nor']]\n",
    "    ls_df_name = ['Vd_m_sum_nor','dif_max_min_nor', 'Vd_m_median_nor' ]\n",
    "    for name in ls_df_name:\n",
    "        ls_models.append(gerera_models(df, name, 25))\n",
    "        \n",
    "    return ls_models\n",
    "\n",
    "def gera_modelos_a(df):\n",
    "\n",
    "    ls_models =[]\n",
    "    # ls_df_colum = [df['Vd_m_sum_nor'], df['dif_max_min_nor'], df['Vd_m_median_nor']]\n",
    "    ls_df_name = ['median','mean' ]\n",
    "    for name in ls_df_name:\n",
    "        ls_models.append(gerera_models(df, name, 15))\n",
    "        \n",
    "    return ls_models"
   ]
  },
  {
   "cell_type": "code",
   "execution_count": 15,
   "id": "6484f5f1",
   "metadata": {},
   "outputs": [
    {
     "name": "stdout",
     "output_type": "stream",
     "text": [
      "0\n",
      "1\n",
      "2\n",
      "3\n",
      "4\n",
      "5\n",
      "6\n",
      "7\n",
      "8\n",
      "9\n",
      "10\n",
      "11\n",
      "12\n",
      "13\n",
      "0\n",
      "1\n",
      "2\n",
      "3\n",
      "4\n",
      "5\n",
      "6\n",
      "7\n",
      "8\n",
      "9\n",
      "10\n",
      "11\n",
      "12\n",
      "13\n"
     ]
    }
   ],
   "source": [
    "ls_models_1 = gera_modelos_a(df)"
   ]
  },
  {
   "cell_type": "code",
   "execution_count": 16,
   "id": "454e7f7f",
   "metadata": {},
   "outputs": [
    {
     "name": "stdout",
     "output_type": "stream",
     "text": [
      "0\n",
      "1\n",
      "2\n",
      "3\n",
      "4\n",
      "5\n",
      "6\n",
      "7\n",
      "8\n",
      "9\n",
      "10\n",
      "11\n",
      "12\n",
      "13\n",
      "0\n",
      "1\n",
      "2\n",
      "3\n",
      "4\n",
      "5\n",
      "6\n",
      "7\n",
      "8\n",
      "9\n",
      "10\n",
      "11\n",
      "12\n",
      "13\n"
     ]
    }
   ],
   "source": [
    "ls_models_30 = gera_modelos_a(df_30)"
   ]
  },
  {
   "cell_type": "code",
   "execution_count": 17,
   "id": "b462c5cc",
   "metadata": {},
   "outputs": [
    {
     "name": "stdout",
     "output_type": "stream",
     "text": [
      "0\n",
      "1\n",
      "2\n",
      "3\n",
      "4\n",
      "5\n",
      "6\n",
      "7\n",
      "8\n",
      "9\n",
      "10\n",
      "11\n",
      "12\n",
      "13\n",
      "0\n",
      "1\n",
      "2\n",
      "3\n",
      "4\n",
      "5\n",
      "6\n",
      "7\n",
      "8\n",
      "9\n",
      "10\n",
      "11\n",
      "12\n",
      "13\n"
     ]
    }
   ],
   "source": [
    "ls_models_60 = gera_modelos_a(df_60)"
   ]
  },
  {
   "cell_type": "code",
   "execution_count": 18,
   "id": "44ed3c3a",
   "metadata": {},
   "outputs": [
    {
     "name": "stdout",
     "output_type": "stream",
     "text": [
      "0\n",
      "1\n",
      "2\n",
      "3\n",
      "4\n",
      "5\n",
      "6\n",
      "7\n",
      "8\n",
      "9\n",
      "10\n",
      "11\n",
      "12\n",
      "13\n",
      "0\n",
      "1\n",
      "2\n",
      "3\n",
      "4\n",
      "5\n",
      "6\n",
      "7\n",
      "8\n",
      "9\n",
      "10\n",
      "11\n",
      "12\n",
      "13\n"
     ]
    }
   ],
   "source": [
    "ls_models_90 = gera_modelos_a(df_90)"
   ]
  },
  {
   "cell_type": "code",
   "execution_count": 47,
   "id": "ccabb52b",
   "metadata": {},
   "outputs": [],
   "source": [
    "# ls_models\n",
    "def plot_bic_models(ax, ls_models, title):\n",
    "    for m in ls_models:\n",
    "        AIC = m['AIC']\n",
    "        BIC = m['BIC']\n",
    "        N = list(range(len(m['AIC'])))\n",
    "    #     ax.plot(N, AIC, '-k', label=f'AIC_{m.name}')\n",
    "    #     ax.plot(N, BIC, '--k', label=f'BIC_{m.name}')\n",
    "    #     ax.plot(N, AIC, label=f'AIC_{m[\"name\"]}')\n",
    "        N_qnt_ = list(map(lambda x: x+1, N))\n",
    "        ax.plot(N_qnt_, BIC, label=f'BIC_{m[\"name\"]}')\n",
    "        ax.set_xlabel('n. components')\n",
    "        ax.set_ylabel('information criterion')\n",
    "        ax.legend(loc=1)\n",
    "        ax.set_title(title)\n",
    "        \n",
    "def plot_ll_models(ax, ls_models, title):\n",
    "    for m in ls_models:\n",
    "        LL = m['LL']\n",
    "    #     BIC = m['BIC']\n",
    "        N = list(range(len(m['LL'])))\n",
    "    #     ax.plot(N, AIC, '-k', label=f'AIC_{m.name}')\n",
    "    #     ax.plot(N, BIC, '--k', label=f'BIC_{m.name}')\n",
    "    #     ax.plot(N, AIC, label=f'AIC_{m[\"name\"]}')\n",
    "        ax.plot(N, LL, label=f'LL{m[\"name\"]}')\n",
    "        ax.set_xlabel('n. components')\n",
    "        ax.set_ylabel('information criterion')\n",
    "        ax.legend(loc=3)"
   ]
  },
  {
   "cell_type": "code",
   "execution_count": null,
   "id": "cb33607d",
   "metadata": {},
   "outputs": [],
   "source": [
    "def plot_bic_models_ls(ax, ls_models, title):\n",
    "    for m in ls_models:\n",
    "        AIC = m['AIC']\n",
    "        BIC = m['BIC']\n",
    "        N = list(range(len(m['AIC'])))\n",
    "    #     ax.plot(N, AIC, '-k', label=f'AIC_{m.name}')\n",
    "    #     ax.plot(N, BIC, '--k', label=f'BIC_{m.name}')\n",
    "    #     ax.plot(N, AIC, label=f'AIC_{m[\"name\"]}')\n",
    "        N_qnt_ = list(map(lambda x: x+1, N))\n",
    "        ax.plot(N_qnt_, BIC, label=f'BIC_{m[\"name\"]}')\n",
    "        ax.set_xlabel('n. components')\n",
    "        ax.set_ylabel('information criterion')\n",
    "        ax.legend(loc=1)\n",
    "        ax.set_title(title)"
   ]
  },
  {
   "cell_type": "code",
   "execution_count": 20,
   "id": "5029b8ee",
   "metadata": {},
   "outputs": [],
   "source": [
    "# s = gerera_models(df, \"@form\", 15)\n",
    "# s"
   ]
  },
  {
   "cell_type": "code",
   "execution_count": 21,
   "id": "af1f02c1",
   "metadata": {},
   "outputs": [],
   "source": [
    "# s[\"ls_models\"]"
   ]
  },
  {
   "cell_type": "code",
   "execution_count": 48,
   "id": "b1d10734",
   "metadata": {},
   "outputs": [
    {
     "data": {
      "image/png": "[encoded data removed]",
      "text/plain": [
       "<Figure size 720x1800 with 4 Axes>"
      ]
     },
     "metadata": {
      "needs_background": "light"
     },
     "output_type": "display_data"
    }
   ],
   "source": [
    "fig = plt.figure(figsize=(10, 25))\n",
    "ax = fig.subplots(nrows=2, ncols=2)\n",
    "\n",
    "plot_bic_models(ax[0,0], ls_models_1, \"rool 1\") \n",
    "plot_bic_models(ax[0,1], ls_models_30, \"rool 30\") \n",
    "plot_bic_models(ax[1,0], ls_models_60, \"rool 60\") \n",
    "plot_bic_models(ax[1,1], ls_models_90, \"rool 90\") "
   ]
  },
  {
   "cell_type": "code",
   "execution_count": 23,
   "id": "3598cab7",
   "metadata": {},
   "outputs": [],
   "source": [
    "fig.savefig(\"train.jpg\")"
   ]
  },
  {
   "cell_type": "code",
   "execution_count": 73,
   "id": "57103a40",
   "metadata": {},
   "outputs": [],
   "source": [
    "ls_models_90[1][\"title\"] = \"rooling 90\""
   ]
  },
  {
   "cell_type": "code",
   "execution_count": 74,
   "id": "6e053537",
   "metadata": {},
   "outputs": [
    {
     "data": {
      "text/plain": [
       "{'name': 'mean',\n",
       " 'df_colun': 0        2.249566\n",
       " 1        2.255245\n",
       " 2        2.260924\n",
       " 3        2.271022\n",
       " 4        2.272295\n",
       "            ...   \n",
       " 15319    1.930450\n",
       " 15320    1.927360\n",
       " 15321    1.919070\n",
       " 15322    1.910528\n",
       " 15323    1.904158\n",
       " Name: mean, Length: 15324, dtype: float64,\n",
       " 'ls_models': [GaussianMixture(),\n",
       "  GaussianMixture(n_components=2),\n",
       "  GaussianMixture(n_components=3),\n",
       "  GaussianMixture(n_components=4),\n",
       "  GaussianMixture(n_components=5),\n",
       "  GaussianMixture(n_components=6),\n",
       "  GaussianMixture(n_components=7),\n",
       "  GaussianMixture(n_components=8),\n",
       "  GaussianMixture(n_components=9),\n",
       "  GaussianMixture(n_components=10),\n",
       "  GaussianMixture(n_components=11),\n",
       "  GaussianMixture(n_components=12),\n",
       "  GaussianMixture(n_components=13),\n",
       "  GaussianMixture(n_components=14)],\n",
       " 'AIC': [2142.5270716956284,\n",
       "  1602.8419000583879,\n",
       "  1441.4404371394098,\n",
       "  1485.2176166021927,\n",
       "  1527.3214454032282,\n",
       "  1528.0310960527665,\n",
       "  1456.410631176087,\n",
       "  1354.5359061905156,\n",
       "  1374.7318560601007,\n",
       "  1325.1526563289958,\n",
       "  1293.8183956721698,\n",
       "  1305.7920962140824,\n",
       "  1265.3406446357326,\n",
       "  1285.9034914544998],\n",
       " 'BIC': [2157.8014227072695,\n",
       "  1641.0277775874906,\n",
       "  1502.5378411859742,\n",
       "  1569.2265471662186,\n",
       "  1634.2419024847156,\n",
       "  1657.8630796517157,\n",
       "  1609.1541412924978,\n",
       "  1530.190942824388,\n",
       "  1573.2984192114347,\n",
       "  1546.6307459977916,\n",
       "  1538.2080118584272,\n",
       "  1573.0932389178013,\n",
       "  1555.553313856913,\n",
       "  1599.027687193142],\n",
       " 'LL': [-0.06977705141267386,\n",
       "  -0.051972131951787646,\n",
       "  -0.046510063858633835,\n",
       "  -0.04774267869362414,\n",
       "  -0.048920694511982124,\n",
       "  -0.04874807804922887,\n",
       "  -0.04621543432446121,\n",
       "  -0.042695637763981845,\n",
       "  -0.043158831116552485,\n",
       "  -0.04134536205719772,\n",
       "  -0.0401271990234981,\n",
       "  -0.040322112249219604,\n",
       "  -0.03880646843630033,\n",
       "  -0.039281633106711684],\n",
       " 'qnt': 15,\n",
       " 'best_aic': 12,\n",
       " 'best_bic': 2,\n",
       " 'best_model': GaussianMixture(n_components=3),\n",
       " 'title': 'rooling 90'}"
      ]
     },
     "execution_count": 74,
     "metadata": {},
     "output_type": "execute_result"
    }
   ],
   "source": [
    "ls_models_90[1]"
   ]
  },
  {
   "cell_type": "code",
   "execution_count": 62,
   "id": "855d8ecf",
   "metadata": {},
   "outputs": [
    {
     "data": {
      "text/plain": [
       "[(2157.8014227072695, GaussianMixture(), 0),\n",
       " (1641.0277775874906, GaussianMixture(n_components=2), 1),\n",
       " (1502.5378411859742, GaussianMixture(n_components=3), 2),\n",
       " (1569.2265471662186, GaussianMixture(n_components=4), 3),\n",
       " (1634.2419024847156, GaussianMixture(n_components=5), 4),\n",
       " (1657.8630796517157, GaussianMixture(n_components=6), 5),\n",
       " (1609.1541412924978, GaussianMixture(n_components=7), 6),\n",
       " (1530.190942824388, GaussianMixture(n_components=8), 7),\n",
       " (1573.2984192114347, GaussianMixture(n_components=9), 8),\n",
       " (1546.6307459977916, GaussianMixture(n_components=10), 9),\n",
       " (1538.2080118584272, GaussianMixture(n_components=11), 10),\n",
       " (1573.0932389178013, GaussianMixture(n_components=12), 11),\n",
       " (1555.553313856913, GaussianMixture(n_components=13), 12),\n",
       " (1599.027687193142, GaussianMixture(n_components=14), 13)]"
      ]
     },
     "execution_count": 62,
     "metadata": {},
     "output_type": "execute_result"
    }
   ],
   "source": [
    "tes = list(zip(ls_models_90[1][\"BIC\"],ls_models_90[1][\"ls_models\"], list(map(lambda x:x[0], enumerate(ls_models_90[1][\"BIC\"])))))\n",
    "# tes = list(map(lambda x: x[]))\n",
    "tes"
   ]
  },
  {
   "cell_type": "code",
   "execution_count": 63,
   "id": "ea92fef3",
   "metadata": {},
   "outputs": [
    {
     "data": {
      "text/plain": [
       "0        2.249566\n",
       "1        2.255245\n",
       "2        2.260924\n",
       "3        2.271022\n",
       "4        2.272295\n",
       "           ...   \n",
       "15319    1.930450\n",
       "15320    1.927360\n",
       "15321    1.919070\n",
       "15322    1.910528\n",
       "15323    1.904158\n",
       "Name: mean, Length: 15324, dtype: float64"
      ]
     },
     "execution_count": 63,
     "metadata": {},
     "output_type": "execute_result"
    }
   ],
   "source": [
    "ls_models_90[1][\"df_colun\"]"
   ]
  },
  {
   "cell_type": "code",
   "execution_count": 68,
   "id": "d169bc3f",
   "metadata": {},
   "outputs": [
    {
     "data": {
      "text/plain": [
       "(1502.5378411859742, GaussianMixture(n_components=3), 2)"
      ]
     },
     "execution_count": 68,
     "metadata": {},
     "output_type": "execute_result"
    }
   ],
   "source": [
    "bic, model, numero_modelo = min(tes, key=lambda x:x[0])\n",
    "bic, model, numero_modelo"
   ]
  },
  {
   "cell_type": "code",
   "execution_count": 70,
   "id": "0a1e7438",
   "metadata": {},
   "outputs": [
    {
     "name": "stderr",
     "output_type": "stream",
     "text": [
      "C:\\Users\\User\\.conda\\envs\\cripto37\\lib\\site-packages\\ipykernel_launcher.py:12: DeprecationWarning: `np.float` is a deprecated alias for the builtin `float`. To silence this warning, use `float` by itself. Doing this will not modify any behavior and is safe. If you specifically wanted the numpy scalar type, use `np.float64` here.\n",
      "Deprecated in NumPy 1.20; for more details and guidance: https://numpy.org/devdocs/release/1.20.0-notes.html#deprecations\n",
      "  if sys.path[0] == \"\":\n"
     ]
    },
    {
     "data": {
      "image/png": "[encoded data removed]",
      "text/plain": [
       "<Figure size 1080x1800 with 8 Axes>"
      ]
     },
     "metadata": {
      "needs_background": "light"
     },
     "output_type": "display_data"
    }
   ],
   "source": [
    "fig = plt.figure(figsize=(15, 25))\n",
    "ax = fig.subplots(nrows=4, ncols=2)\n",
    "\n",
    "\n",
    "# plt_gaussianas(ax[0,0] , dic_models[\"df_macho_veiculo\"][2], 9)\n",
    "# plt_gaussianas(ax[0,1] , dic_models[\"df_femea_veiculo\"][2], 9)\n",
    "\n",
    "\n",
    "plt_gaussianas(ax[0,0], ls_models_90[1], numero_modelo, \"all\")"
   ]
  },
  {
   "cell_type": "code",
   "execution_count": 67,
   "id": "80f49c6f",
   "metadata": {},
   "outputs": [],
   "source": [
    "def plt_gaussianas(ax, mo_dic, numero_modelo, title):\n",
    "#     numero_modelo = 8\n",
    "#     mo_dic = ls_models[2]\n",
    "    g = mo_dic['ls_models'][numero_modelo]\n",
    "    bic_m = mo_dic['BIC'][numero_modelo]\n",
    "    weights = g.weights_\n",
    "    means = g.means_\n",
    "    covars = g.covariances_\n",
    "#     print(bic_m, weights, means, covars)\n",
    "    \n",
    "    x = mo_dic['df_colun']\n",
    "    f = np.ravel(x).astype(np.float)\n",
    "    f = f.reshape(-1,1)\n",
    "#     plt.hist(f, bins=100, histtype='bar', density=True, ec='red', alpha=0.5)\n",
    "    \n",
    "    f_axis = f.copy().ravel()\n",
    "    f_axis.sort()\n",
    "    for i, valor in enumerate(g.weights_):\n",
    "        ax.plot(f_axis,weights[i]*stats.norm.pdf(f_axis,means[i],np.sqrt(covars[i])).ravel(), label= f'{i}')\n",
    "        ax.legend()\n",
    "    # plt.plot(f_axis,weights[1]*stats.norm.pdf(f_axis,means[1],np.sqrt(covars[1])).ravel(), c='red')\n",
    "    # plt.plot(f_axis,weights[2]*stats.norm.pdf(f_axis,means[2],np.sqrt(covars[2])).ravel(), c='red')\n",
    "    ax.hist(f, bins=100, histtype='bar', density=True, alpha=0.2)\n",
    "    ax.set_xlabel(\"Mediana de uma janela móvel de 100 quadros\")\n",
    "    ax.set_title(title)\n",
    "    #     f\n",
    "    \n",
    "    \n",
    "    "
   ]
  },
  {
   "cell_type": "code",
   "execution_count": 26,
   "id": "2cf7212a",
   "metadata": {},
   "outputs": [],
   "source": [
    "# df['Vd_sum'].max()"
   ]
  },
  {
   "cell_type": "code",
   "execution_count": 27,
   "id": "b6ce8000",
   "metadata": {},
   "outputs": [],
   "source": [
    "# df['Vd_sum'].min()"
   ]
  },
  {
   "cell_type": "code",
   "execution_count": null,
   "id": "30a8aa46",
   "metadata": {},
   "outputs": [],
   "source": [
    "# VIDEO_PATH = \"D:/dados_gian_mongo_arrumados/arquivos_videos/\"\n",
    "# juncao[\"id_video\"]"
   ]
  },
  {
   "cell_type": "code",
   "execution_count": null,
   "id": "5f4561ff",
   "metadata": {},
   "outputs": [],
   "source": [
    "# tocador = vi.Tocador_video(VIDEO_PATH, juncao[\"id_video\"])\n",
    "# # for imagem in tocador.get_video_gerador(100,300):\n",
    "# #     np_image = vi.c_image_to_np(imagem)\n",
    "# #     cv2.imshow(\"teste\", np_image)\n",
    "# #     k = cv2.waitKey(int(1/30*1000))\n",
    "# # cv2.destroyAllWindows()"
   ]
  },
  {
   "cell_type": "code",
   "execution_count": null,
   "id": "ec4cc572",
   "metadata": {},
   "outputs": [],
   "source": [
    "# img = tocador.get_quadro_plt(146)\n",
    "# plt.imshow(img)\n",
    "# plt.show()"
   ]
  },
  {
   "cell_type": "code",
   "execution_count": null,
   "id": "0010a7d3",
   "metadata": {},
   "outputs": [],
   "source": [
    "# vi.c_64_2_image(tocador.get_quadro(146))"
   ]
  },
  {
   "cell_type": "code",
   "execution_count": null,
   "id": "20d67b0a",
   "metadata": {},
   "outputs": [],
   "source": [
    "# tocador.get_quadro(146)"
   ]
  },
  {
   "cell_type": "code",
   "execution_count": null,
   "id": "1bb07109",
   "metadata": {},
   "outputs": [],
   "source": [
    "# img = vi.c_64_2_image(tocador.get_quadro(146))"
   ]
  },
  {
   "cell_type": "code",
   "execution_count": null,
   "id": "767f507c",
   "metadata": {},
   "outputs": [],
   "source": [
    "# def map_juncao_quadro_img(id_j, quadro):\n",
    "#     r_acho, juncao = api.get_juncao_by_hash(id_j)\n",
    "#     tocador = vi.Tocador_video(VIDEO_PATH, juncao['id_video']) #juncao[\"id_video\"])\n",
    "#     img = tocador.get_quadro_plt(quadro)\n",
    "#     return img"
   ]
  },
  {
   "cell_type": "code",
   "execution_count": null,
   "id": "6a499d80",
   "metadata": {},
   "outputs": [],
   "source": []
  },
  {
   "cell_type": "code",
   "execution_count": null,
   "id": "3c8933fc",
   "metadata": {},
   "outputs": [],
   "source": []
  },
  {
   "cell_type": "code",
   "execution_count": null,
   "id": "320953ee",
   "metadata": {},
   "outputs": [],
   "source": [
    "# vi.conver_string_opencv_img(vi.Tocador_video(VIDEO_PATH, juncao[\"id_video\"]).get_quadro(143))"
   ]
  },
  {
   "cell_type": "code",
   "execution_count": null,
   "id": "fa70e9dc",
   "metadata": {},
   "outputs": [],
   "source": [
    "# df = pd.read_csv(\"dados_flx25_controle_machos_femeas.csv\")"
   ]
  },
  {
   "cell_type": "code",
   "execution_count": null,
   "id": "18066690",
   "metadata": {},
   "outputs": [],
   "source": [
    "# df"
   ]
  },
  {
   "cell_type": "code",
   "execution_count": null,
   "id": "a374b1d5",
   "metadata": {},
   "outputs": [],
   "source": [
    "# df_limpo = df[df['@Van'] != 0]\n",
    "# df_limpo"
   ]
  },
  {
   "cell_type": "code",
   "execution_count": null,
   "id": "5871675a",
   "metadata": {},
   "outputs": [],
   "source": [
    "# df_limpo['id'] = [i for i in range(len(df_limpo['@Vd']))]"
   ]
  },
  {
   "cell_type": "code",
   "execution_count": null,
   "id": "a00bad8f",
   "metadata": {},
   "outputs": [],
   "source": [
    "# def map_juncao_quadro_img(row):\n",
    "#     r_acho, juncao = api.get_juncao_by_hash(row['id_j'])\n",
    "#     if r_acho:\n",
    "#         tocador = vi.Tocador_video(VIDEO_PATH, juncao['id_video']) #juncao[\"id_video\"])\n",
    "#         img = tocador.get_quadro_plt(row['@f'])\n",
    "#         return img\n",
    "#     else:\n",
    "#         print(juncao, row['dosagem'], row['sexo'], row['unidade'] )\n",
    "#         return None\n"
   ]
  },
  {
   "cell_type": "code",
   "execution_count": null,
   "id": "7a30e8ad",
   "metadata": {},
   "outputs": [],
   "source": [
    "# ls = df_limpo.apply(map_juncao_quadro_img, axis=1)"
   ]
  },
  {
   "cell_type": "code",
   "execution_count": null,
   "id": "e9539251",
   "metadata": {},
   "outputs": [],
   "source": [
    "# df_limpo.iloc[0:10]"
   ]
  },
  {
   "cell_type": "code",
   "execution_count": null,
   "id": "be9461c2",
   "metadata": {},
   "outputs": [],
   "source": []
  },
  {
   "cell_type": "code",
   "execution_count": null,
   "id": "a0ee773f",
   "metadata": {},
   "outputs": [],
   "source": [
    "# df_l_s = df_limpo[df_limpo[\"categoria\"] == \"Swimming\"]\n",
    "# x_s = df_limpo['@Vd']\n",
    "# x_s = df_limpo['id']               "
   ]
  },
  {
   "cell_type": "code",
   "execution_count": null,
   "id": "dbbdd6ba",
   "metadata": {},
   "outputs": [],
   "source": [
    "# df_l_im = df_limpo[df_limpo[\"categoria\"] == \"Immobility\"]\n",
    "# x_s = df_limpo['@Vd']\n",
    "# x_s = df_limpo['id'] "
   ]
  },
  {
   "cell_type": "code",
   "execution_count": null,
   "id": "ebdcbb64",
   "metadata": {},
   "outputs": [],
   "source": [
    "# X = df_limpo['@Vd']\n",
    "# tempo = [i for i in range(len(df_limpo['@Vd']))]\n",
    "\n"
   ]
  },
  {
   "cell_type": "code",
   "execution_count": null,
   "id": "2ebc302a",
   "metadata": {},
   "outputs": [],
   "source": [
    "# X = df_limpo['@Vd']\n",
    "# tempo = [i for i in range(len(df_limpo['@Vd']))]"
   ]
  },
  {
   "cell_type": "code",
   "execution_count": null,
   "id": "abeb27e3",
   "metadata": {},
   "outputs": [],
   "source": [
    "# fig = plt.figure(figsize=(10, 5))\n",
    "# plt.scatter(tempo, X)\n",
    "# plt.scatter(df_l_s['id'], df_l_s['@Vd'])\n",
    "# plt.scatter(df_l_im['id'], df_l_im['@Vd'])"
   ]
  },
  {
   "cell_type": "code",
   "execution_count": null,
   "id": "bf573cc4",
   "metadata": {},
   "outputs": [],
   "source": [
    "# for i,row in df_limpo.iloc[0:200].iterrows():\n",
    "    \n",
    "# #     print(row)\n",
    "#     img = map_juncao_quadro_img(row['id_j'], row['@f'])\n",
    "#     plt.imshow(img)\n",
    "#     plt.show()\n",
    "#     k = cv2.waitKey(int(1/30*1000))\n",
    "# #     clear_output(wait=True)"
   ]
  },
  {
   "cell_type": "code",
   "execution_count": null,
   "id": "d60ad68c",
   "metadata": {},
   "outputs": [],
   "source": [
    "# def f(x):\n",
    "#     return x\n",
    "# interact(f, x=10);"
   ]
  },
  {
   "cell_type": "code",
   "execution_count": null,
   "id": "f8bfd295",
   "metadata": {},
   "outputs": [],
   "source": [
    "# @interact(x=True, y=1.0)\n",
    "# def g(x, y):\n",
    "#     return (x, y)"
   ]
  },
  {
   "cell_type": "code",
   "execution_count": null,
   "id": "6a91909c",
   "metadata": {},
   "outputs": [],
   "source": [
    "# fig = plt.figure(figsize=(10, 5))\n",
    "# qnt = 100\n",
    "# inicio = 0\n",
    "# plt.scatter(tempo[inicio:qnt], X[inicio:qnt], label=\"todos\")\n",
    "# plt.scatter(df_l_s['id'][inicio:qnt], df_l_s['@Vd'][inicio:qnt], label=\"Swimming\")\n",
    "# plt.scatter(df_l_im['id'][inicio:qnt], df_l_im['@Vd'][inicio:qnt], label=\"Immobility\")\n",
    "# plt.legend()"
   ]
  },
  {
   "cell_type": "code",
   "execution_count": 28,
   "id": "fa411fb6",
   "metadata": {},
   "outputs": [],
   "source": [
    "# df_macho         = df[(df['sexo'] == \"macho\")]\n",
    "# df_femea         = df[(df['sexo'] == \"femea\")]\n",
    "# df_macho_veiculo = df[(df['sexo'] == \"macho\") & (df['dosagem'] == 'veiculo')]\n",
    "# df_macho_flx25mg = df[(df['sexo'] == \"macho\") & (df['dosagem'] == 'flx2.5mg')]\n",
    "# df_femea_veiculo = df[(df['sexo'] == \"femea\") & (df['dosagem'] == 'veiculo')]\n",
    "# df_femea_flx25mg = df[(df['sexo'] == \"femea\") & (df['dosagem'] == 'flx2.5mg')]"
   ]
  },
  {
   "cell_type": "code",
   "execution_count": null,
   "id": "6a670e15",
   "metadata": {},
   "outputs": [],
   "source": [
    "df_femea_flx25mg"
   ]
  },
  {
   "cell_type": "code",
   "execution_count": null,
   "id": "6cbccb33",
   "metadata": {},
   "outputs": [],
   "source": [
    "# df['Vd_m_sum'].dropna()"
   ]
  },
  {
   "cell_type": "code",
   "execution_count": null,
   "id": "5bc0920b",
   "metadata": {},
   "outputs": [],
   "source": [
    "# X = df['Vd_m_sum']"
   ]
  },
  {
   "cell_type": "code",
   "execution_count": null,
   "id": "1d239ec9",
   "metadata": {},
   "outputs": [],
   "source": [
    "# X = df['Vd_m_sum_nor'] # df['Vd_m_sum_nor'] #\n",
    "# x_a = np.array(X)\n",
    "# s = x_a.reshape(-1, 1)"
   ]
  },
  {
   "cell_type": "markdown",
   "id": "51f6f55b",
   "metadata": {},
   "source": [
    "# Gerando models"
   ]
  },
  {
   "cell_type": "code",
   "execution_count": 29,
   "id": "baa4abb8",
   "metadata": {},
   "outputs": [],
   "source": [
    "# def gerera_models(df,name, qnt= 14):\n",
    "#     X = df[name]\n",
    "#     x_a = np.array(X)\n",
    "#     s = x_a.reshape(-1, 1)\n",
    "#     N = np.arange(1, qnt)\n",
    "#     models = [None for i in range(len(N))]\n",
    "#     for i in range(len(N)):\n",
    "#         print(i)\n",
    "#         models[i] = GaussianMixture(N[i]).fit(s)\n",
    "#     AIC = [m.aic(s)   for m in models]\n",
    "#     BIC = [m.bic(s)   for m in models]\n",
    "#     LL  = [m.score(s) for m in models] \n",
    "#     best_aic = np.argmin(AIC)\n",
    "#     best_bic = np.argmin(BIC)\n",
    "#     b_model_gaussian = models[best_bic]\n",
    "#     return {'name':name,'df_colun': df[name], 'ls_models':models, \n",
    "#             'AIC': AIC, 'BIC':BIC, 'LL': LL, 'qnt':qnt,\n",
    "#            'best_aic': best_aic, 'best_bic': best_bic, 'best_model':b_model_gaussian }\n",
    "\n",
    "\n",
    "# def gera_modelos(df):\n",
    "\n",
    "#     ls_models =[]\n",
    "#     # ls_df_colum = [df['Vd_m_sum_nor'], df['dif_max_min_nor'], df['Vd_m_median_nor']]\n",
    "#     ls_df_name = ['Vd_m_sum_nor','dif_max_min_nor', 'Vd_m_median_nor' ]\n",
    "#     for name in ls_df_name:\n",
    "#         ls_models.append(gerera_models(df, name, 25))\n",
    "        \n",
    "#     return ls_models"
   ]
  },
  {
   "cell_type": "code",
   "execution_count": 30,
   "id": "f2c719e7",
   "metadata": {},
   "outputs": [],
   "source": [
    "# dic_models = {}\n",
    "\n",
    "# dic_models['all'] = gera_modelos(df)\n",
    "# dic_models['all_macho'] = gera_modelos(df_macho)\n",
    "# dic_models['all_femea'] = gera_modelos(df_femea)\n",
    "# dic_models['df_macho_veiculo'] = gera_modelos(df_macho_veiculo)\n",
    "# dic_models['df_macho_tratado'] = gera_modelos(df_macho_flx25mg)\n",
    "# dic_models['df_femea_veiculo'] = gera_modelos(df_femea_veiculo)\n",
    "# dic_models['df_femea_tratado'] = gera_modelos(df_femea_flx25mg)\n",
    "\n",
    "\n",
    "# # ls_models[2]"
   ]
  },
  {
   "cell_type": "code",
   "execution_count": null,
   "id": "0ce06dff",
   "metadata": {},
   "outputs": [],
   "source": []
  },
  {
   "cell_type": "code",
   "execution_count": null,
   "id": "18fab42b",
   "metadata": {},
   "outputs": [],
   "source": [
    "# from joblib import dump, load\n"
   ]
  },
  {
   "cell_type": "code",
   "execution_count": 31,
   "id": "b07a44d0",
   "metadata": {},
   "outputs": [],
   "source": [
    "# dump(dic_models, 'ls_modelos_treinados.joblib') "
   ]
  },
  {
   "cell_type": "markdown",
   "id": "c5051515",
   "metadata": {},
   "source": [
    "# Inicio da analise dos modelos"
   ]
  },
  {
   "cell_type": "code",
   "execution_count": null,
   "id": "2ed910c4",
   "metadata": {},
   "outputs": [],
   "source": [
    "# # ls_models\n",
    "# def plot_bic_models(ax, ls_models, title):\n",
    "#     for m in ls_models:\n",
    "#         AIC = m['AIC']\n",
    "#         BIC = m['BIC']\n",
    "#         N = list(range(len(m['AIC'])))\n",
    "#     #     ax.plot(N, AIC, '-k', label=f'AIC_{m.name}')\n",
    "#     #     ax.plot(N, BIC, '--k', label=f'BIC_{m.name}')\n",
    "#     #     ax.plot(N, AIC, label=f'AIC_{m[\"name\"]}')\n",
    "#         ax.plot(N, BIC, label=f'BIC_{m[\"name\"]}')\n",
    "#         ax.set_xlabel('n. components')\n",
    "#         ax.set_ylabel('information criterion')\n",
    "#         ax.legend(loc=1)\n",
    "#         ax.set_title(title)\n",
    "        \n",
    "# def plot_ll_models(ax, ls_models, title):\n",
    "#     for m in ls_models:\n",
    "#         LL = m['LL']\n",
    "#     #     BIC = m['BIC']\n",
    "#         N = list(range(len(m['LL'])))\n",
    "#     #     ax.plot(N, AIC, '-k', label=f'AIC_{m.name}')\n",
    "#     #     ax.plot(N, BIC, '--k', label=f'BIC_{m.name}')\n",
    "#     #     ax.plot(N, AIC, label=f'AIC_{m[\"name\"]}')\n",
    "#         ax.plot(N, LL, label=f'LL{m[\"name\"]}')\n",
    "#         ax.set_xlabel('n. components')\n",
    "#         ax.set_ylabel('information criterion')\n",
    "#         ax.legend(loc=3)"
   ]
  },
  {
   "cell_type": "code",
   "execution_count": 32,
   "id": "86c0635c",
   "metadata": {},
   "outputs": [],
   "source": [
    "\n",
    "# # plot 2: AIC and BIC\n",
    "# fig = plt.figure(figsize=(10, 25))\n",
    "# ax = fig.subplots(nrows=4, ncols=2)\n",
    "\n",
    "# plot_bic_models(ax[0,0], dic_models[\"all\"], \"all\")\n",
    "\n",
    "# plot_bic_models(ax[1,0], dic_models[\"all_macho\"], \"all_macho\")\n",
    "# plot_bic_models(ax[1,1], dic_models[\"all_femea\"],\"all_femea\")\n",
    "\n",
    "# plot_bic_models(ax[2,0], dic_models[\"df_macho_veiculo\"], \"df_macho_veiculo\")\n",
    "# plot_bic_models(ax[2,1], dic_models[\"df_macho_tratado\"],\"df_macho_tratado\")\n",
    "\n",
    "# plot_bic_models(ax[3,0], dic_models[\"df_femea_veiculo\"], \"df_femea_veiculo\")\n",
    "# plot_bic_models(ax[3,1], dic_models[\"df_femea_tratado\"],\"df_femea_tratado\")\n",
    "\n",
    "\n",
    "\n",
    "# # dic_models['all_femea'] = gera_modelos(df_femea)\n",
    "# # dic_models['df_macho_veiculo'] = gera_modelos(df_macho_veiculo)\n",
    "# # dic_models['df_macho_tratado'] = gera_modelos(df_macho_flx25mg)\n",
    "# # dic_models['df_femea_veiculo'] = gera_modelos(df_femea_veiculo)\n",
    "# # dic_models['df_femea_tratado'] = gera_modelos(df_femea_flx25mg)\n",
    "\n",
    "\n",
    "\n",
    "# # for m in ls_models:\n",
    "# #     AIC = m['AIC']\n",
    "# #     BIC = m['BIC']\n",
    "# #     N = list(range(len(m['AIC'])))\n",
    "# # #     ax.plot(N, AIC, '-k', label=f'AIC_{m.name}')\n",
    "# # #     ax.plot(N, BIC, '--k', label=f'BIC_{m.name}')\n",
    "# # #     ax.plot(N, AIC, label=f'AIC_{m[\"name\"]}')\n",
    "# #     ax.plot(N, BIC, label=f'BIC_{m[\"name\"]}')\n",
    "# #     ax.set_xlabel('n. components')\n",
    "# #     ax.set_ylabel('information criterion')\n",
    "# #     ax.legend(loc=1)\n",
    "    \n",
    "    \n",
    "# # AIC = [m.aic(s) for m in models]\n",
    "# # BIC = [m.bic(s) for m in models]\n"
   ]
  },
  {
   "cell_type": "code",
   "execution_count": null,
   "id": "cba1efb0",
   "metadata": {},
   "outputs": [],
   "source": [
    "def plt_gaus(ax, model):\n",
    "    weights = g.weights_\n",
    "    means = g.means_\n",
    "    covars = g.covariances_\n",
    "#     print(bic_m, weights, means, covars)\n",
    "    \n",
    "    x = mo_dic['df_colun']\n",
    "    f = np.ravel(x).astype(np.float)\n",
    "    f = f.reshape(-1,1)\n",
    "#     plt.hist(f, bins=100, histtype='bar', density=True, ec='red', alpha=0.5)\n",
    "    \n",
    "    f_axis = f.copy().ravel()\n",
    "    f_axis.sort()\n",
    "    for i, valor in enumerate(g.weights_):\n",
    "        ax.plot(f_axis,weights[i]*stats.norm.pdf(f_axis,means[i],np.sqrt(covars[i])).ravel(), label= f'{i}')\n",
    "        ax.legend()\n",
    "    # plt.plot(f_axis,weights[1]*stats.norm.pdf(f_axis,means[1],np.sqrt(covars[1])).ravel(), c='red')\n",
    "    # plt.plot(f_axis,weights[2]*stats.norm.pdf(f_axis,means[2],np.sqrt(covars[2])).ravel(), c='red')\n",
    "    ax.hist(f, bins=100, histtype='bar', density=True, alpha=0.2)\n",
    "    ax.set_xlabel(\"Mediana de uma janela móvel de 100 quadros\")\n",
    "    ax.set_title(title)"
   ]
  },
  {
   "cell_type": "code",
   "execution_count": null,
   "id": "6c62148d",
   "metadata": {},
   "outputs": [],
   "source": [
    "def plt_gaussianas(ax, mo_dic, numero_modelo, title):\n",
    "#     numero_modelo = 8\n",
    "#     mo_dic = ls_models[2]\n",
    "    g = mo_dic['ls_models'][numero_modelo]\n",
    "    bic_m = mo_dic['BIC'][numero_modelo]\n",
    "    weights = g.weights_\n",
    "    means = g.means_\n",
    "    covars = g.covariances_\n",
    "#     print(bic_m, weights, means, covars)\n",
    "    \n",
    "    x = mo_dic['df_colun']\n",
    "    f = np.ravel(x).astype(np.float)\n",
    "    f = f.reshape(-1,1)\n",
    "#     plt.hist(f, bins=100, histtype='bar', density=True, ec='red', alpha=0.5)\n",
    "    \n",
    "    f_axis = f.copy().ravel()\n",
    "    f_axis.sort()\n",
    "    for i, valor in enumerate(g.weights_):\n",
    "        ax.plot(f_axis,weights[i]*stats.norm.pdf(f_axis,means[i],np.sqrt(covars[i])).ravel(), label= f'{i}')\n",
    "        ax.legend()\n",
    "    # plt.plot(f_axis,weights[1]*stats.norm.pdf(f_axis,means[1],np.sqrt(covars[1])).ravel(), c='red')\n",
    "    # plt.plot(f_axis,weights[2]*stats.norm.pdf(f_axis,means[2],np.sqrt(covars[2])).ravel(), c='red')\n",
    "    ax.hist(f, bins=100, histtype='bar', density=True, alpha=0.2)\n",
    "    ax.set_xlabel(\"Mediana de uma janela móvel de 100 quadros\")\n",
    "    ax.set_title(title)\n",
    "    #     f\n",
    "    \n",
    "    \n",
    "    "
   ]
  },
  {
   "cell_type": "code",
   "execution_count": null,
   "id": "60917678",
   "metadata": {},
   "outputs": [],
   "source": [
    "# o 2 é pq é o ultimo descritor, modelo = numero de guassianas + 1\n",
    "fig = plt.figure(figsize=(15, 25))\n",
    "ax = fig.subplots(nrows=4, ncols=2)\n",
    "\n",
    "\n",
    "# plt_gaussianas(ax[0,0] , dic_models[\"df_macho_veiculo\"][2], 9)\n",
    "# plt_gaussianas(ax[0,1] , dic_models[\"df_femea_veiculo\"][2], 9)\n",
    "\n",
    "\n",
    "plt_gaussianas(ax[0,0], dic_models[\"all\"][2], 9, \"all\")\n",
    "\n",
    "plt_gaussianas(ax[1,0], dic_models[\"all_macho\"][2], 9, \"all_macho\")\n",
    "plt_gaussianas(ax[1,1], dic_models[\"all_femea\"][2], 9,\"all_femea\")\n",
    "\n",
    "plt_gaussianas(ax[2,0], dic_models[\"df_macho_veiculo\"][2], 9, \"df_macho_veiculo\")\n",
    "plt_gaussianas(ax[2,1], dic_models[\"df_macho_tratado\"][2], 9,\"df_macho_tratado\")\n",
    "\n",
    "plt_gaussianas(ax[3,0], dic_models[\"df_femea_veiculo\"][2], 9, \"df_femea_veiculo\")\n",
    "plt_gaussianas(ax[3,1], dic_models[\"df_femea_tratado\"][2], 9, \"df_femea_tratado\")\n"
   ]
  },
  {
   "cell_type": "code",
   "execution_count": null,
   "id": "1309cfcd",
   "metadata": {},
   "outputs": [],
   "source": []
  },
  {
   "cell_type": "markdown",
   "id": "4eceec4e",
   "metadata": {},
   "source": [
    "## FALTA ARRUMAR O CLASSIFICADOR."
   ]
  },
  {
   "cell_type": "code",
   "execution_count": null,
   "id": "fcc808ce",
   "metadata": {},
   "outputs": [],
   "source": [
    "# fig = plt.figure(figsize=(10, 5))\n",
    "# ax = fig.add_subplot(111)\n",
    "# for m in ls_models:\n",
    "#     LL = m['LL']\n",
    "# #     BIC = m['BIC']\n",
    "#     N = list(range(len(m['LL'])))\n",
    "# #     ax.plot(N, AIC, '-k', label=f'AIC_{m.name}')\n",
    "# #     ax.plot(N, BIC, '--k', label=f'BIC_{m.name}')\n",
    "# #     ax.plot(N, AIC, label=f'AIC_{m[\"name\"]}')\n",
    "#     ax.plot(N, LL, label=f'LL{m[\"name\"]}')\n",
    "#     ax.set_xlabel('n. components')\n",
    "#     ax.set_ylabel('information criterion')\n",
    "#     ax.legend(loc=3)"
   ]
  },
  {
   "cell_type": "code",
   "execution_count": null,
   "id": "364809e3",
   "metadata": {},
   "outputs": [],
   "source": [
    "# ls_models[2]['LL']"
   ]
  },
  {
   "cell_type": "code",
   "execution_count": null,
   "id": "85a48fd0",
   "metadata": {},
   "outputs": [],
   "source": [
    "# m = ls_models[0]\n",
    "# #     BIC = m['BIC']\n",
    "# N = list(range(len(m['LL'])))\n",
    "# #     ax.plot(N, AIC, '-k', label=f'AIC_{m.name}')\n",
    "# #     ax.plot(N, BIC, '--k', label=f'BIC_{m.name}')\n",
    "# #     ax.plot(N, AIC, label=f'AIC_{m[\"name\"]}')\n",
    "# fig = plt.figure(figsize=(10, 5))\n",
    "# ax = fig.add_subplot(111)\n",
    "# ax.plot(N, LL, label=f'BIC_{m[\"name\"]}')\n",
    "# ax.set_xlabel('n. components')\n",
    "# ax.set_ylabel('information criterion')\n",
    "# ax.legend(loc=3)\n",
    "# plt.show()"
   ]
  },
  {
   "cell_type": "code",
   "execution_count": null,
   "id": "6a8605ab",
   "metadata": {},
   "outputs": [],
   "source": [
    "# m = ls_models[2]\n",
    "# m"
   ]
  },
  {
   "cell_type": "code",
   "execution_count": null,
   "id": "e6606a73",
   "metadata": {},
   "outputs": [],
   "source": [
    "# numero_modelo = 8\n",
    "# mo_dic = ls_models[2]\n",
    "# g = mo_dic['ls_models'][numero_modelo]\n",
    "# bic_m = mo_dic['BIC'][numero_modelo]\n",
    "# weights = g.weights_\n",
    "# means = g.means_\n",
    "# covars = g.covariances_\n",
    "# print(bic_m, weights, means, covars)"
   ]
  },
  {
   "cell_type": "code",
   "execution_count": null,
   "id": "54d0fb85",
   "metadata": {},
   "outputs": [],
   "source": [
    "# weights"
   ]
  },
  {
   "cell_type": "code",
   "execution_count": null,
   "id": "80b54301",
   "metadata": {},
   "outputs": [],
   "source": [
    "# x = mo_dic['df_colun']"
   ]
  },
  {
   "cell_type": "code",
   "execution_count": null,
   "id": "9a7e93f5",
   "metadata": {},
   "outputs": [],
   "source": [
    "# f = np.ravel(x).astype(np.float)\n",
    "# f=f.reshape(-1,1)\n",
    "# f"
   ]
  },
  {
   "cell_type": "code",
   "execution_count": null,
   "id": "e1421ef3",
   "metadata": {},
   "outputs": [],
   "source": [
    "# plt.hist(f, bins=100, histtype='bar', density=True, ec='red', alpha=0.5)"
   ]
  },
  {
   "cell_type": "code",
   "execution_count": null,
   "id": "88317092",
   "metadata": {},
   "outputs": [],
   "source": []
  },
  {
   "cell_type": "code",
   "execution_count": null,
   "id": "1d2cebb9",
   "metadata": {},
   "outputs": [],
   "source": [
    "# f_axis = f.copy().ravel()\n",
    "# f_axis.sort()\n",
    "# for i, valor in enumerate(g.weights_):\n",
    "#     plt.plot(f_axis,weights[i]*stats.norm.pdf(f_axis,means[i],np.sqrt(covars[i])).ravel(), label= f'{i}')\n",
    "#     plt.legend()\n",
    "# # plt.plot(f_axis,weights[1]*stats.norm.pdf(f_axis,means[1],np.sqrt(covars[1])).ravel(), c='red')\n",
    "# # plt.plot(f_axis,weights[2]*stats.norm.pdf(f_axis,means[2],np.sqrt(covars[2])).ravel(), c='red')\n",
    "# plt.hist(f, bins=100, histtype='bar', density=True, ec='red', alpha=0.5)\n",
    "# plt.xlabel(\"Mediana de uma janela móvel de 100 quadros\")"
   ]
  },
  {
   "cell_type": "code",
   "execution_count": null,
   "id": "9dc63979",
   "metadata": {},
   "outputs": [],
   "source": [
    "# https://stackoverflow.com/questions/23609756/how-can-i-plot-the-probability-density-function-for-a-fitted-gaussian-mixture-mo\n",
    "# https://stats.stackexchange.com/questions/398780/understanding-the-log-likelihood-score-in-scikit-learn-gmm"
   ]
  },
  {
   "cell_type": "code",
   "execution_count": null,
   "id": "c736924c",
   "metadata": {},
   "outputs": [],
   "source": [
    "# , c='red'"
   ]
  },
  {
   "cell_type": "code",
   "execution_count": null,
   "id": "0a633586",
   "metadata": {},
   "outputs": [],
   "source": [
    "# weights"
   ]
  },
  {
   "cell_type": "code",
   "execution_count": null,
   "id": "c70893ee",
   "metadata": {},
   "outputs": [],
   "source": [
    "# LL = ls_models[2]['LL']\n",
    "# #     BIC = m['BIC']\n",
    "# N = list(range(len(m['LL'])))\n",
    "# #     ax.plot(N, AIC, '-k', label=f'AIC_{m.name}')\n",
    "# #     ax.plot(N, BIC, '--k', label=f'BIC_{m.name}')\n",
    "# #     ax.plot(N, AIC, label=f'AIC_{m[\"name\"]}')\n",
    "# fig = plt.figure(figsize=(10, 5))\n",
    "# ax = fig.add_subplot(111)\n",
    "# ax.plot(N, LL, label=f'BIC_{m[\"name\"]}')\n",
    "# ax.set_xlabel('n. components')\n",
    "# ax.set_ylabel('information criterion')\n",
    "# ax.legend(loc=3)\n",
    "# plt.show()"
   ]
  },
  {
   "cell_type": "code",
   "execution_count": null,
   "id": "a2c426ff",
   "metadata": {},
   "outputs": [],
   "source": [
    "# b_model_gaussian = ls_models[2]['ls_models'][5]\n",
    "# b_model_gaussian"
   ]
  },
  {
   "cell_type": "code",
   "execution_count": null,
   "id": "1c691cef",
   "metadata": {},
   "outputs": [],
   "source": [
    "# fig = plt.figure(figsize=(10, 5))\n",
    "# ax = fig.add_subplot(111)\n",
    "# for m in ls_models:\n",
    "#     AIC = m['AIC']\n",
    "#     BIC = m['BIC']\n",
    "#     N = list(range(len(m['AIC'])))\n",
    "#     ax.plot(N, AIC, '-k', label='AIC')\n",
    "#     ax.plot(N, BIC, '--k', label='BIC')\n",
    "#     ax.set_xlabel('n. components')\n",
    "#     ax.set_ylabel('information criterion')\n",
    "#     ax.legend(loc=3)"
   ]
  },
  {
   "cell_type": "code",
   "execution_count": null,
   "id": "b97d65e6",
   "metadata": {},
   "outputs": [],
   "source": [
    "# AIC = [m.aic(s) for m in models]\n",
    "# BIC = [m.bic(s) for m in models]"
   ]
  },
  {
   "cell_type": "code",
   "execution_count": null,
   "id": "257affd5",
   "metadata": {},
   "outputs": [],
   "source": [
    "# best = np.argmin(AIC)\n",
    "# # M_best = models[np.argmin(best)]\n",
    "# best"
   ]
  },
  {
   "cell_type": "code",
   "execution_count": null,
   "id": "a3cb82e9",
   "metadata": {},
   "outputs": [],
   "source": [
    "# best = np.argmin(BIC)\n",
    "# # M_best = models[np.argmin(best)]\n",
    "# best"
   ]
  },
  {
   "cell_type": "code",
   "execution_count": null,
   "id": "82e7b841",
   "metadata": {},
   "outputs": [],
   "source": [
    "# BIC[7]"
   ]
  },
  {
   "cell_type": "code",
   "execution_count": null,
   "id": "d8134e76",
   "metadata": {},
   "outputs": [],
   "source": [
    "# best = np.argmin(BIC)\n",
    "# b_model_gaussian = models[best]"
   ]
  },
  {
   "cell_type": "code",
   "execution_count": null,
   "id": "9a9b86d1",
   "metadata": {},
   "outputs": [],
   "source": [
    "# b_model_gaussian.bic(s)"
   ]
  },
  {
   "cell_type": "code",
   "execution_count": null,
   "id": "d3169f78",
   "metadata": {},
   "outputs": [],
   "source": [
    "# https://scikit-learn.org/stable/auto_examples/mixture/plot_gmm_covariances.html\n",
    "# https://stackoverflow.com/questions/40874263/how-to-get-standard-deviation-from-each-components-in-sklearn-gmm-after-fit"
   ]
  },
  {
   "cell_type": "code",
   "execution_count": null,
   "id": "b87ad51b",
   "metadata": {},
   "outputs": [],
   "source": [
    "# b_model_gaussian.means_"
   ]
  },
  {
   "cell_type": "code",
   "execution_count": null,
   "id": "1b2b3a12",
   "metadata": {},
   "outputs": [],
   "source": [
    "# b_model_gaussian.covariances_"
   ]
  },
  {
   "cell_type": "code",
   "execution_count": null,
   "id": "8b66c1f6",
   "metadata": {},
   "outputs": [],
   "source": [
    "# b_model_gaussian.covariance_type"
   ]
  },
  {
   "cell_type": "code",
   "execution_count": null,
   "id": "af82130c",
   "metadata": {},
   "outputs": [],
   "source": [
    "# M_best.predict_proba(s)\n",
    "# s"
   ]
  },
  {
   "cell_type": "code",
   "execution_count": null,
   "id": "9fe3f4b9",
   "metadata": {},
   "outputs": [],
   "source": [
    "# ls_score = b_model_gaussian.predict(s)"
   ]
  },
  {
   "cell_type": "code",
   "execution_count": null,
   "id": "c040fa92",
   "metadata": {},
   "outputs": [],
   "source": [
    "# df['categoria_gaussiana'] = ls_score"
   ]
  },
  {
   "cell_type": "code",
   "execution_count": null,
   "id": "79eb63c8",
   "metadata": {},
   "outputs": [],
   "source": [
    "# df"
   ]
  },
  {
   "cell_type": "code",
   "execution_count": null,
   "id": "bbef6044",
   "metadata": {},
   "outputs": [],
   "source": [
    "# df.to_excel(\"saida_melhor_modelo.xlsx\", index=False)\n",
    "# df.to_excel(\"saida_melhor_modelo.xlsx\")\n",
    "# df.to_csv(\"saida_melhor_modle.csv\", index=False, sep=';')"
   ]
  },
  {
   "cell_type": "code",
   "execution_count": null,
   "id": "a60ee3ce",
   "metadata": {},
   "outputs": [],
   "source": [
    "# from joblib import dump, load\n",
    "# dump(b_model_gaussian, 'modelo_treinado1.joblib') "
   ]
  },
  {
   "cell_type": "code",
   "execution_count": null,
   "id": "74ef8e69",
   "metadata": {},
   "outputs": [],
   "source": [
    "# modelo = load('modelo_treinado1.joblib') "
   ]
  },
  {
   "cell_type": "code",
   "execution_count": null,
   "id": "30125926",
   "metadata": {},
   "outputs": [],
   "source": [
    "# modelo.means_"
   ]
  },
  {
   "cell_type": "code",
   "execution_count": null,
   "id": "ae2b365a",
   "metadata": {},
   "outputs": [],
   "source": [
    "# plt.hist(df['categoria_gaussiana'])\n",
    "# plt.show()"
   ]
  },
  {
   "cell_type": "code",
   "execution_count": null,
   "id": "d0559a4c",
   "metadata": {},
   "outputs": [],
   "source": [
    "# fig = plt.figure(figsize=(10, 5))\n",
    "# # fig.subplots_adjust(left=0.12, right=0.97,\n",
    "# #                     bottom=0.21, top=0.9, wspace=0.5)\n",
    "# ax = fig.add_subplot(111)\n",
    "# M_best = models[np.argmin(AIC)]\n",
    "\n",
    "# x = np.linspace(-6, 6, 1000)\n",
    "# logprob = M_best.score_samples(x.reshape(-1, 1))\n",
    "# responsibilities = M_best.predict_proba(x.reshape(-1, 1))\n",
    "# pdf = np.exp(logprob)\n",
    "# pdf_individual = responsibilities * pdf[:, np.newaxis]\n",
    "\n",
    "# ax.hist(X, 30, density=True, histtype='stepfilled', alpha=0.4)\n",
    "# ax.plot(x, pdf, '-k')\n",
    "# ax.plot(x, pdf_individual, '--k')\n",
    "# ax.text(0.04, 0.96, \"Best-fit Mixture\",\n",
    "#         ha='left', va='top', transform=ax.transAxes)\n",
    "# ax.set_xlabel('$x$')\n",
    "# ax.set_ylabel('$p(x)$')"
   ]
  },
  {
   "cell_type": "code",
   "execution_count": null,
   "id": "3f76da3e",
   "metadata": {},
   "outputs": [],
   "source": [
    "# plot 2: AIC and BIC\n",
    "# fig = plt.figure(figsize=(10, 5))\n",
    "# ax = fig.add_subplot(111)\n",
    "# ax.plot(N, AIC, '-k', label='AIC')\n",
    "# ax.plot(N, BIC, '--k', label='BIC')\n",
    "# ax.set_xlabel('n. components')\n",
    "# ax.set_ylabel('information criterion')\n",
    "# ax.legend(loc=3)"
   ]
  },
  {
   "cell_type": "code",
   "execution_count": null,
   "id": "85d80776",
   "metadata": {},
   "outputs": [],
   "source": [
    "# fig = plt.figure(figsize=(10, 5))\n",
    "# ax = fig.add_subplot(111)\n",
    "\n",
    "# p = responsibilities\n",
    "# p = p[:, (1, 0, 2)]  # rearrange order so the plot looks better\n",
    "# p = p.cumsum(1).T\n",
    "\n",
    "# ax.fill_between(x, 0, p[0], color='gray', alpha=0.3)\n",
    "# ax.fill_between(x, p[0], p[1], color='gray', alpha=0.5)\n",
    "# ax.fill_between(x, p[1], 1, color='gray', alpha=0.7)\n",
    "# ax.set_xlim(-6, 12)\n",
    "# ax.set_ylim(0, 1)\n",
    "# ax.set_xlabel('$x$')\n",
    "# ax.set_ylabel(r'$p({\\rm class}|x)$')\n",
    "\n",
    "# ax.text(-5, 0.3, 'class 1', rotation='vertical')\n",
    "# ax.text(0, 0.5, 'class 2', rotation='vertical')\n",
    "# ax.text(3, 0.3, 'class 3', rotation='vertical')\n",
    "\n",
    "# plt.show()"
   ]
  }
 ],
 "metadata": {
  "kernelspec": {
   "display_name": "Python 3 (ipykernel)",
   "language": "python",
   "name": "python3"
  },
  "language_info": {
   "codemirror_mode": {
    "name": "ipython",
    "version": 3
   },
   "file_extension": ".py",
   "mimetype": "text/x-python",
   "name": "python",
   "nbconvert_exporter": "python",
   "pygments_lexer": "ipython3",
   "version": "3.7.11"
  }
 },
 "nbformat": 4,
 "nbformat_minor": 5
}
