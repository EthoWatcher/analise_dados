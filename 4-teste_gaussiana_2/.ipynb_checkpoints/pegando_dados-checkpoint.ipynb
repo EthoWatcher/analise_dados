{
 "cells": [
  {
   "cell_type": "code",
   "execution_count": 1,
   "id": "a1914fca",
   "metadata": {},
   "outputs": [],
   "source": [
    "import deposito_watcher.fusao_variaveis as fus\n",
    "import pandas as pd\n",
    "from bson.objectid import ObjectId"
   ]
  },
  {
   "cell_type": "code",
   "execution_count": 2,
   "id": "5a07f361",
   "metadata": {},
   "outputs": [],
   "source": [
    "ID_EXPERIMENTO =\"5f8f5503d3d64947e0da22e0\""
   ]
  },
  {
   "cell_type": "code",
   "execution_count": 3,
   "id": "43f47ecc",
   "metadata": {},
   "outputs": [
    {
     "ename": "KeyError",
     "evalue": "'al'",
     "output_type": "error",
     "traceback": [
      "\u001b[1;31m---------------------------------------------------------------------------\u001b[0m",
      "\u001b[1;31mKeyError\u001b[0m                                  Traceback (most recent call last)",
      "\u001b[1;32m~\\AppData\\Local\\Temp\\ipykernel_21844\\246915007.py\u001b[0m in \u001b[0;36m<module>\u001b[1;34m\u001b[0m\n\u001b[0;32m      5\u001b[0m                         ]}\n\u001b[0;32m      6\u001b[0m \u001b[0mfs\u001b[0m \u001b[1;33m=\u001b[0m \u001b[0mfus\u001b[0m\u001b[1;33m.\u001b[0m\u001b[0mFusao_variaveis\u001b[0m\u001b[1;33m(\u001b[0m\u001b[0mdict_query\u001b[0m\u001b[1;33m)\u001b[0m\u001b[1;33m\u001b[0m\u001b[1;33m\u001b[0m\u001b[0m\n\u001b[1;32m----> 7\u001b[1;33m \u001b[0mfs\u001b[0m\u001b[1;33m.\u001b[0m\u001b[0mset_variaveis_rastreamento\u001b[0m\u001b[1;33m(\u001b[0m\u001b[1;33m[\u001b[0m\u001b[1;34m\"@Vd\"\u001b[0m\u001b[1;33m,\u001b[0m \u001b[1;34m\"@Van\"\u001b[0m\u001b[1;33m,\u001b[0m \u001b[1;34m\"@ceX\"\u001b[0m\u001b[1;33m,\u001b[0m\u001b[1;34m\"@ceY\"\u001b[0m\u001b[1;33m,\u001b[0m \u001b[1;34m\"@arM\"\u001b[0m\u001b[1;33m,\u001b[0m \u001b[1;34m\"al\"\u001b[0m\u001b[1;33m]\u001b[0m\u001b[1;33m)\u001b[0m\u001b[1;33m\u001b[0m\u001b[1;33m\u001b[0m\u001b[0m\n\u001b[0m\u001b[0;32m      8\u001b[0m \u001b[0mfs\u001b[0m\u001b[1;33m.\u001b[0m\u001b[0mset_variaveis_etografia\u001b[0m\u001b[1;33m(\u001b[0m\u001b[1;33m[\u001b[0m\u001b[1;34m\"nome\"\u001b[0m\u001b[1;33m,\u001b[0m \u001b[1;34m\"trecho\"\u001b[0m\u001b[1;33m,\u001b[0m \u001b[1;34m\"q_inicial\"\u001b[0m\u001b[1;33m,\u001b[0m \u001b[1;34m\"q_final\"\u001b[0m\u001b[1;33m]\u001b[0m\u001b[1;33m)\u001b[0m\u001b[1;33m\u001b[0m\u001b[1;33m\u001b[0m\u001b[0m\n\u001b[0;32m      9\u001b[0m \u001b[0mfs\u001b[0m\u001b[1;33m.\u001b[0m\u001b[0mset_variaveis_juncao\u001b[0m\u001b[1;33m(\u001b[0m\u001b[1;33m[\u001b[0m\u001b[1;34m\"sexo\"\u001b[0m\u001b[1;33m,\u001b[0m \u001b[1;34m\"dosagem\"\u001b[0m\u001b[1;33m,\u001b[0m \u001b[1;34m\"unidade\"\u001b[0m\u001b[1;33m]\u001b[0m\u001b[1;33m)\u001b[0m\u001b[1;33m\u001b[0m\u001b[1;33m\u001b[0m\u001b[0m\n",
      "\u001b[1;32md:\\doutorado_mais_novo\\gestao_dados\\gestao-dados\\deposito_watcher\\fusao_variaveis.py\u001b[0m in \u001b[0;36mset_variaveis_rastreamento\u001b[1;34m(self, list_var_rastreamento)\u001b[0m\n\u001b[0;32m     19\u001b[0m         \u001b[1;31m# list_var_rastreamento =[\"@Vd\", \"@Van\"]\u001b[0m\u001b[1;33m\u001b[0m\u001b[1;33m\u001b[0m\u001b[1;33m\u001b[0m\u001b[0m\n\u001b[0;32m     20\u001b[0m         \u001b[0mde_ras\u001b[0m \u001b[1;33m=\u001b[0m \u001b[0mqf\u001b[0m\u001b[1;33m.\u001b[0m\u001b[0mConstru_descritor_rastreamento\u001b[0m\u001b[1;33m(\u001b[0m\u001b[0mlist_var_rastreamento\u001b[0m\u001b[1;33m,\u001b[0m \u001b[0mself\u001b[0m\u001b[1;33m.\u001b[0m\u001b[0mdict_query\u001b[0m \u001b[1;33m)\u001b[0m\u001b[1;33m\u001b[0m\u001b[1;33m\u001b[0m\u001b[0m\n\u001b[1;32m---> 21\u001b[1;33m         \u001b[0mself\u001b[0m\u001b[1;33m.\u001b[0m\u001b[0mdf_rastreamento\u001b[0m \u001b[1;33m=\u001b[0m \u001b[0mde_ras\u001b[0m\u001b[1;33m.\u001b[0m\u001b[0mget_descritor\u001b[0m\u001b[1;33m(\u001b[0m\u001b[1;33m)\u001b[0m\u001b[1;33m\u001b[0m\u001b[1;33m\u001b[0m\u001b[0m\n\u001b[0m\u001b[0;32m     22\u001b[0m \u001b[1;33m\u001b[0m\u001b[0m\n\u001b[0;32m     23\u001b[0m     \u001b[1;32mdef\u001b[0m \u001b[0mset_variaveis_etografia\u001b[0m\u001b[1;33m(\u001b[0m\u001b[0mself\u001b[0m\u001b[1;33m,\u001b[0m \u001b[0mlist_des_etografia\u001b[0m\u001b[1;33m)\u001b[0m\u001b[1;33m:\u001b[0m\u001b[1;33m\u001b[0m\u001b[1;33m\u001b[0m\u001b[0m\n",
      "\u001b[1;32md:\\doutorado_mais_novo\\gestao_dados\\gestao-dados\\deposito_watcher\\querys_feitas.py\u001b[0m in \u001b[0;36mget_descritor\u001b[1;34m(self)\u001b[0m\n\u001b[0;32m    260\u001b[0m         \u001b[0mdescritores_pegados\u001b[0m \u001b[1;33m=\u001b[0m \u001b[1;33m[\u001b[0m\u001b[1;33m]\u001b[0m\u001b[1;33m\u001b[0m\u001b[1;33m\u001b[0m\u001b[0m\n\u001b[0;32m    261\u001b[0m         \u001b[1;32mfor\u001b[0m \u001b[0mras_junca\u001b[0m \u001b[1;32min\u001b[0m \u001b[0mlist_etogra_u_junc\u001b[0m\u001b[1;33m:\u001b[0m\u001b[1;33m\u001b[0m\u001b[1;33m\u001b[0m\u001b[0m\n\u001b[1;32m--> 262\u001b[1;33m             \u001b[0mdescritores\u001b[0m \u001b[1;33m=\u001b[0m \u001b[0mself\u001b[0m\u001b[1;33m.\u001b[0m\u001b[0m_get_descritores\u001b[0m\u001b[1;33m(\u001b[0m\u001b[0mras_junca\u001b[0m\u001b[1;33m[\u001b[0m\u001b[1;34m\"rastr\"\u001b[0m\u001b[1;33m]\u001b[0m\u001b[1;33m)\u001b[0m\u001b[1;33m\u001b[0m\u001b[1;33m\u001b[0m\u001b[0m\n\u001b[0m\u001b[0;32m    263\u001b[0m \u001b[1;33m\u001b[0m\u001b[0m\n\u001b[0;32m    264\u001b[0m             \u001b[0mdescritores\u001b[0m\u001b[1;33m.\u001b[0m\u001b[0mappend\u001b[0m\u001b[1;33m(\u001b[0m\u001b[0mself\u001b[0m\u001b[1;33m.\u001b[0m\u001b[0m_list_juncao_iguais\u001b[0m\u001b[1;33m(\u001b[0m\u001b[0mdescritores\u001b[0m\u001b[1;33m,\u001b[0m \u001b[0mras_junca\u001b[0m\u001b[1;33m)\u001b[0m\u001b[1;33m)\u001b[0m\u001b[1;33m\u001b[0m\u001b[1;33m\u001b[0m\u001b[0m\n",
      "\u001b[1;32md:\\doutorado_mais_novo\\gestao_dados\\gestao-dados\\deposito_watcher\\querys_feitas.py\u001b[0m in \u001b[0;36m_get_descritores\u001b[1;34m(self, rastrea)\u001b[0m\n\u001b[0;32m    292\u001b[0m         \u001b[0mli\u001b[0m \u001b[1;33m=\u001b[0m \u001b[1;33m[\u001b[0m\u001b[1;33m]\u001b[0m\u001b[1;33m\u001b[0m\u001b[1;33m\u001b[0m\u001b[0m\n\u001b[0;32m    293\u001b[0m         \u001b[1;32mfor\u001b[0m \u001b[0mdescritor\u001b[0m \u001b[1;32min\u001b[0m \u001b[0mself\u001b[0m\u001b[1;33m.\u001b[0m\u001b[0mlist_var_rastreamento\u001b[0m\u001b[1;33m:\u001b[0m\u001b[1;33m\u001b[0m\u001b[1;33m\u001b[0m\u001b[0m\n\u001b[1;32m--> 294\u001b[1;33m             \u001b[0md\u001b[0m \u001b[1;33m=\u001b[0m \u001b[0mself\u001b[0m\u001b[1;33m.\u001b[0m\u001b[0m_get_proces\u001b[0m\u001b[1;33m(\u001b[0m\u001b[0mrastrea\u001b[0m\u001b[1;33m,\u001b[0m \u001b[0mdescritor\u001b[0m\u001b[1;33m)\u001b[0m\u001b[1;33m\u001b[0m\u001b[1;33m\u001b[0m\u001b[0m\n\u001b[0m\u001b[0;32m    295\u001b[0m             \u001b[0mli\u001b[0m\u001b[1;33m.\u001b[0m\u001b[0mappend\u001b[0m\u001b[1;33m(\u001b[0m\u001b[0md\u001b[0m\u001b[1;33m.\u001b[0m\u001b[0mresultado\u001b[0m\u001b[1;33m)\u001b[0m\u001b[1;33m\u001b[0m\u001b[1;33m\u001b[0m\u001b[0m\n\u001b[0;32m    296\u001b[0m \u001b[1;33m\u001b[0m\u001b[0m\n",
      "\u001b[1;32md:\\doutorado_mais_novo\\gestao_dados\\gestao-dados\\deposito_watcher\\querys_feitas.py\u001b[0m in \u001b[0;36m_get_proces\u001b[1;34m(self, rastreamento, nome)\u001b[0m\n\u001b[0;32m    298\u001b[0m \u001b[1;33m\u001b[0m\u001b[0m\n\u001b[0;32m    299\u001b[0m     \u001b[1;32mdef\u001b[0m \u001b[0m_get_proces\u001b[0m\u001b[1;33m(\u001b[0m\u001b[0mself\u001b[0m\u001b[1;33m,\u001b[0m \u001b[0mrastreamento\u001b[0m\u001b[1;33m,\u001b[0m \u001b[0mnome\u001b[0m\u001b[1;33m)\u001b[0m\u001b[1;33m:\u001b[0m\u001b[1;33m\u001b[0m\u001b[1;33m\u001b[0m\u001b[0m\n\u001b[1;32m--> 300\u001b[1;33m         \u001b[1;32mreturn\u001b[0m \u001b[0met_d\u001b[0m\u001b[1;33m.\u001b[0m\u001b[0mDescritor_variavel_Rastreamento\u001b[0m\u001b[1;33m(\u001b[0m\u001b[0mrastreamento\u001b[0m\u001b[1;33m,\u001b[0m\u001b[0mnome\u001b[0m\u001b[1;33m)\u001b[0m\u001b[1;33m\u001b[0m\u001b[1;33m\u001b[0m\u001b[0m\n\u001b[0m\u001b[0;32m    301\u001b[0m \u001b[1;33m\u001b[0m\u001b[0m\n\u001b[0;32m    302\u001b[0m \u001b[1;33m\u001b[0m\u001b[0m\n",
      "\u001b[1;32md:\\doutorado_mais_novo\\gestao_dados\\gestao-dados\\deposito_watcher\\etho_dados.py\u001b[0m in \u001b[0;36m__init__\u001b[1;34m(self, etografia, categoria)\u001b[0m\n\u001b[0;32m    258\u001b[0m     \u001b[1;32mdef\u001b[0m \u001b[0m__init__\u001b[0m\u001b[1;33m(\u001b[0m\u001b[0mself\u001b[0m\u001b[1;33m,\u001b[0m \u001b[0metografia\u001b[0m\u001b[1;33m,\u001b[0m \u001b[0mcategoria\u001b[0m\u001b[1;33m)\u001b[0m\u001b[1;33m:\u001b[0m\u001b[1;33m\u001b[0m\u001b[1;33m\u001b[0m\u001b[0m\n\u001b[0;32m    259\u001b[0m         \u001b[0msuper\u001b[0m\u001b[1;33m(\u001b[0m\u001b[1;33m)\u001b[0m\u001b[1;33m.\u001b[0m\u001b[0m__init__\u001b[0m\u001b[1;33m(\u001b[0m\u001b[0metografia\u001b[0m\u001b[1;33m,\u001b[0m \u001b[0mcategoria\u001b[0m\u001b[1;33m)\u001b[0m\u001b[1;33m\u001b[0m\u001b[1;33m\u001b[0m\u001b[0m\n\u001b[1;32m--> 260\u001b[1;33m         \u001b[0mself\u001b[0m\u001b[1;33m.\u001b[0m\u001b[0mresultado\u001b[0m \u001b[1;33m=\u001b[0m \u001b[1;33m{\u001b[0m\u001b[1;34mf'{categoria}'\u001b[0m\u001b[1;33m:\u001b[0m\u001b[0mself\u001b[0m\u001b[1;33m.\u001b[0m\u001b[0m_calcula\u001b[0m\u001b[1;33m(\u001b[0m\u001b[1;33m)\u001b[0m\u001b[1;33m,\u001b[0m \u001b[1;34m\"info\"\u001b[0m\u001b[1;33m:\u001b[0m\u001b[1;34mf'Rastreamento'\u001b[0m\u001b[1;33m}\u001b[0m\u001b[1;33m\u001b[0m\u001b[1;33m\u001b[0m\u001b[0m\n\u001b[0m\u001b[0;32m    261\u001b[0m         \u001b[1;31m# self.categoria = categoria\u001b[0m\u001b[1;33m\u001b[0m\u001b[1;33m\u001b[0m\u001b[1;33m\u001b[0m\u001b[0m\n\u001b[0;32m    262\u001b[0m \u001b[1;33m\u001b[0m\u001b[0m\n",
      "\u001b[1;32md:\\doutorado_mais_novo\\gestao_dados\\gestao-dados\\deposito_watcher\\etho_dados.py\u001b[0m in \u001b[0;36m_calcula\u001b[1;34m(self)\u001b[0m\n\u001b[0;32m    265\u001b[0m             \u001b[1;32mreturn\u001b[0m \u001b[0manotaca\u001b[0m\u001b[1;33m[\u001b[0m\u001b[1;34mf'{self.cat}'\u001b[0m\u001b[1;33m]\u001b[0m\u001b[1;33m\u001b[0m\u001b[1;33m\u001b[0m\u001b[0m\n\u001b[0;32m    266\u001b[0m \u001b[1;33m\u001b[0m\u001b[0m\n\u001b[1;32m--> 267\u001b[1;33m         \u001b[0mvariavel\u001b[0m \u001b[1;33m=\u001b[0m  \u001b[0mlist\u001b[0m\u001b[1;33m(\u001b[0m\u001b[0mmap\u001b[0m\u001b[1;33m(\u001b[0m\u001b[0mmap_nome\u001b[0m\u001b[1;33m,\u001b[0m \u001b[0mself\u001b[0m\u001b[1;33m.\u001b[0m\u001b[0meto\u001b[0m\u001b[1;33m.\u001b[0m\u001b[0manotacao_ras\u001b[0m \u001b[1;33m)\u001b[0m\u001b[1;33m)\u001b[0m\u001b[1;33m\u001b[0m\u001b[1;33m\u001b[0m\u001b[0m\n\u001b[0m\u001b[0;32m    268\u001b[0m \u001b[1;33m\u001b[0m\u001b[0m\n\u001b[0;32m    269\u001b[0m         \u001b[1;32mreturn\u001b[0m \u001b[0mvariavel\u001b[0m\u001b[1;33m\u001b[0m\u001b[1;33m\u001b[0m\u001b[0m\n",
      "\u001b[1;32md:\\doutorado_mais_novo\\gestao_dados\\gestao-dados\\deposito_watcher\\etho_dados.py\u001b[0m in \u001b[0;36mmap_nome\u001b[1;34m(anotaca)\u001b[0m\n\u001b[0;32m    263\u001b[0m     \u001b[1;32mdef\u001b[0m \u001b[0m_calcula\u001b[0m\u001b[1;33m(\u001b[0m\u001b[0mself\u001b[0m\u001b[1;33m)\u001b[0m\u001b[1;33m:\u001b[0m\u001b[1;33m\u001b[0m\u001b[1;33m\u001b[0m\u001b[0m\n\u001b[0;32m    264\u001b[0m         \u001b[1;32mdef\u001b[0m \u001b[0mmap_nome\u001b[0m\u001b[1;33m(\u001b[0m\u001b[0manotaca\u001b[0m\u001b[1;33m)\u001b[0m\u001b[1;33m:\u001b[0m\u001b[1;33m\u001b[0m\u001b[1;33m\u001b[0m\u001b[0m\n\u001b[1;32m--> 265\u001b[1;33m             \u001b[1;32mreturn\u001b[0m \u001b[0manotaca\u001b[0m\u001b[1;33m[\u001b[0m\u001b[1;34mf'{self.cat}'\u001b[0m\u001b[1;33m]\u001b[0m\u001b[1;33m\u001b[0m\u001b[1;33m\u001b[0m\u001b[0m\n\u001b[0m\u001b[0;32m    266\u001b[0m \u001b[1;33m\u001b[0m\u001b[0m\n\u001b[0;32m    267\u001b[0m         \u001b[0mvariavel\u001b[0m \u001b[1;33m=\u001b[0m  \u001b[0mlist\u001b[0m\u001b[1;33m(\u001b[0m\u001b[0mmap\u001b[0m\u001b[1;33m(\u001b[0m\u001b[0mmap_nome\u001b[0m\u001b[1;33m,\u001b[0m \u001b[0mself\u001b[0m\u001b[1;33m.\u001b[0m\u001b[0meto\u001b[0m\u001b[1;33m.\u001b[0m\u001b[0manotacao_ras\u001b[0m \u001b[1;33m)\u001b[0m\u001b[1;33m)\u001b[0m\u001b[1;33m\u001b[0m\u001b[1;33m\u001b[0m\u001b[0m\n",
      "\u001b[1;31mKeyError\u001b[0m: 'al'"
     ]
    }
   ],
   "source": [
    "dict_query = { \"$and\": [{\"id_experimento\": ObjectId(ID_EXPERIMENTO)}, \n",
    "                        {\"$or\": [{\"var_ind.sexo\":\"macho\"}, {\"var_ind.sexo\":\"femea\"} ]},\n",
    "                        {\"$or\": [{\"var_ind.dosagem\": \"flx2.5mg\"},{\"var_ind.dosagem\": \"veiculo\"} ]},\n",
    "                        {\"var_ind.analise\": \"primeira\"} \n",
    "                        ]}\n",
    "fs = fus.Fusao_variaveis(dict_query)\n",
    "fs.set_variaveis_rastreamento([\"@Vd\", \"@Van\", \"@ceX\",\"@ceY\", \"@arM\", \"@altM\", \"@larM\"])\n",
    "fs.set_variaveis_etografia([\"nome\", \"trecho\", \"q_inicial\", \"q_final\"])\n",
    "fs.set_variaveis_juncao([\"sexo\", \"dosagem\", \"unidade\"])\n",
    "df = fs.get_dados_fundidos()"
   ]
  },
  {
   "cell_type": "code",
   "execution_count": null,
   "id": "ec55a978",
   "metadata": {},
   "outputs": [],
   "source": [
    "df.head()"
   ]
  },
  {
   "cell_type": "code",
   "execution_count": null,
   "id": "3e78479d",
   "metadata": {},
   "outputs": [],
   "source": [
    "writer = pd.ExcelWriter(\"dataframe.xlsx\", engine='xlsxwriter')\n",
    "df.to_excel(writer,sheet_name = dataframe, index=False)\n",
    "writer.save() "
   ]
  },
  {
   "cell_type": "code",
   "execution_count": null,
   "id": "6ac7f26c",
   "metadata": {},
   "outputs": [],
   "source": [
    "df.to_csv(\"dados_flx25_controle_machos_femeas_all.csv\", index=False)"
   ]
  }
 ],
 "metadata": {
  "kernelspec": {
   "display_name": "Python 3 (ipykernel)",
   "language": "python",
   "name": "python3"
  },
  "language_info": {
   "codemirror_mode": {
    "name": "ipython",
    "version": 3
   },
   "file_extension": ".py",
   "mimetype": "text/x-python",
   "name": "python",
   "nbconvert_exporter": "python",
   "pygments_lexer": "ipython3",
   "version": "3.7.11"
  }
 },
 "nbformat": 4,
 "nbformat_minor": 5
}
