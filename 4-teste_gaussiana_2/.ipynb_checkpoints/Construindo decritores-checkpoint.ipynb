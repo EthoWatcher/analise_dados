{
 "cells": [
  {
   "cell_type": "code",
   "execution_count": 1,
   "id": "7d8b822c",
   "metadata": {},
   "outputs": [],
   "source": [
    "import pandas as pd"
   ]
  },
  {
   "cell_type": "code",
   "execution_count": 2,
   "id": "be4ad912",
   "metadata": {},
   "outputs": [],
   "source": [
    "import matplotlib.pyplot as plt"
   ]
  },
  {
   "cell_type": "code",
   "execution_count": 3,
   "id": "e9d918f6",
   "metadata": {},
   "outputs": [],
   "source": [
    "import numpy as np"
   ]
  },
  {
   "cell_type": "code",
   "execution_count": 4,
   "id": "19f31f42",
   "metadata": {},
   "outputs": [],
   "source": [
    "from scipy.signal import find_peaks"
   ]
  },
  {
   "cell_type": "code",
   "execution_count": 31,
   "id": "a6400e65",
   "metadata": {},
   "outputs": [],
   "source": [
    "import os\n"
   ]
  },
  {
   "cell_type": "code",
   "execution_count": 5,
   "id": "04f3d03e",
   "metadata": {},
   "outputs": [],
   "source": [
    "df = pd.read_excel(\"dados_flx25_controle_machos_femeas_all.xlsx\")"
   ]
  },
  {
   "cell_type": "code",
   "execution_count": 6,
   "id": "2d3c9de1",
   "metadata": {},
   "outputs": [],
   "source": [
    "def max_btwen(df):\n",
    "#     print(df)\n",
    "    altM = df['@altM']\n",
    "    larM = df['@larM']\n",
    "    if altM > larM:\n",
    "        return altM\n",
    "    else:\n",
    "        return larM\n",
    "\n",
    "def min_btwen(df):\n",
    "#     print(df)\n",
    "    altM = df['@altM']\n",
    "    larM = df['@larM']\n",
    "    if altM < larM:\n",
    "        return altM\n",
    "    else:\n",
    "        return larM\n",
    "    "
   ]
  },
  {
   "cell_type": "code",
   "execution_count": 7,
   "id": "004307a6",
   "metadata": {},
   "outputs": [],
   "source": [
    "df[\"max_l\"] = df.apply(max_btwen, axis=1)\n",
    "df[\"min_l\"] = df.apply(min_btwen, axis=1)\n",
    "df[\"@form\"] = df[\"max_l\"] /df[\"min_l\"]"
   ]
  },
  {
   "cell_type": "code",
   "execution_count": 8,
   "id": "e6448a61",
   "metadata": {},
   "outputs": [
    {
     "data": {
      "text/html": [
       "<div>\n",
       "<style scoped>\n",
       "    .dataframe tbody tr th:only-of-type {\n",
       "        vertical-align: middle;\n",
       "    }\n",
       "\n",
       "    .dataframe tbody tr th {\n",
       "        vertical-align: top;\n",
       "    }\n",
       "\n",
       "    .dataframe thead th {\n",
       "        text-align: right;\n",
       "    }\n",
       "</style>\n",
       "<table border=\"1\" class=\"dataframe\">\n",
       "  <thead>\n",
       "    <tr style=\"text-align: right;\">\n",
       "      <th></th>\n",
       "      <th>categoria</th>\n",
       "      <th>trecho</th>\n",
       "      <th>q_inicio</th>\n",
       "      <th>q_fim</th>\n",
       "      <th>id_j</th>\n",
       "      <th>@f</th>\n",
       "      <th>@Vd</th>\n",
       "      <th>@Van</th>\n",
       "      <th>@ceX</th>\n",
       "      <th>@ceY</th>\n",
       "      <th>@arM</th>\n",
       "      <th>@altM</th>\n",
       "      <th>@larM</th>\n",
       "      <th>sexo</th>\n",
       "      <th>dosagem</th>\n",
       "      <th>unidade</th>\n",
       "      <th>max_l</th>\n",
       "      <th>min_l</th>\n",
       "      <th>@form</th>\n",
       "    </tr>\n",
       "  </thead>\n",
       "  <tbody>\n",
       "    <tr>\n",
       "      <th>0</th>\n",
       "      <td>Swimming</td>\n",
       "      <td>0</td>\n",
       "      <td>126</td>\n",
       "      <td>190</td>\n",
       "      <td>5f8f5517d3d64947e0da241b</td>\n",
       "      <td>126</td>\n",
       "      <td>2.837332</td>\n",
       "      <td>0.742996</td>\n",
       "      <td>205.100</td>\n",
       "      <td>123.923</td>\n",
       "      <td>27.7320</td>\n",
       "      <td>4.77899</td>\n",
       "      <td>11.20080</td>\n",
       "      <td>femea</td>\n",
       "      <td>veiculo</td>\n",
       "      <td>A6</td>\n",
       "      <td>11.20080</td>\n",
       "      <td>4.77899</td>\n",
       "      <td>2.343759</td>\n",
       "    </tr>\n",
       "    <tr>\n",
       "      <th>1</th>\n",
       "      <td>Swimming</td>\n",
       "      <td>0</td>\n",
       "      <td>126</td>\n",
       "      <td>190</td>\n",
       "      <td>5f8f5517d3d64947e0da241b</td>\n",
       "      <td>127</td>\n",
       "      <td>2.670318</td>\n",
       "      <td>0.699261</td>\n",
       "      <td>205.446</td>\n",
       "      <td>121.586</td>\n",
       "      <td>29.0769</td>\n",
       "      <td>4.86800</td>\n",
       "      <td>11.10900</td>\n",
       "      <td>femea</td>\n",
       "      <td>veiculo</td>\n",
       "      <td>A6</td>\n",
       "      <td>11.10900</td>\n",
       "      <td>4.86800</td>\n",
       "      <td>2.282046</td>\n",
       "    </tr>\n",
       "    <tr>\n",
       "      <th>2</th>\n",
       "      <td>Swimming</td>\n",
       "      <td>0</td>\n",
       "      <td>126</td>\n",
       "      <td>190</td>\n",
       "      <td>5f8f5517d3d64947e0da241b</td>\n",
       "      <td>128</td>\n",
       "      <td>174.304761</td>\n",
       "      <td>45.644200</td>\n",
       "      <td>208.645</td>\n",
       "      <td>117.210</td>\n",
       "      <td>26.7436</td>\n",
       "      <td>10.67820</td>\n",
       "      <td>3.89783</td>\n",
       "      <td>femea</td>\n",
       "      <td>veiculo</td>\n",
       "      <td>A6</td>\n",
       "      <td>10.67820</td>\n",
       "      <td>3.89783</td>\n",
       "      <td>2.739524</td>\n",
       "    </tr>\n",
       "    <tr>\n",
       "      <th>3</th>\n",
       "      <td>Swimming</td>\n",
       "      <td>0</td>\n",
       "      <td>126</td>\n",
       "      <td>190</td>\n",
       "      <td>5f8f5517d3d64947e0da241b</td>\n",
       "      <td>129</td>\n",
       "      <td>-69.536770</td>\n",
       "      <td>-18.209200</td>\n",
       "      <td>205.374</td>\n",
       "      <td>102.144</td>\n",
       "      <td>16.7786</td>\n",
       "      <td>8.36027</td>\n",
       "      <td>2.97792</td>\n",
       "      <td>femea</td>\n",
       "      <td>veiculo</td>\n",
       "      <td>A6</td>\n",
       "      <td>8.36027</td>\n",
       "      <td>2.97792</td>\n",
       "      <td>2.807419</td>\n",
       "    </tr>\n",
       "    <tr>\n",
       "      <th>4</th>\n",
       "      <td>Swimming</td>\n",
       "      <td>0</td>\n",
       "      <td>126</td>\n",
       "      <td>190</td>\n",
       "      <td>5f8f5517d3d64947e0da241b</td>\n",
       "      <td>130</td>\n",
       "      <td>70.774434</td>\n",
       "      <td>18.533300</td>\n",
       "      <td>202.148</td>\n",
       "      <td>95.839</td>\n",
       "      <td>20.8537</td>\n",
       "      <td>10.71940</td>\n",
       "      <td>3.01483</td>\n",
       "      <td>femea</td>\n",
       "      <td>veiculo</td>\n",
       "      <td>A6</td>\n",
       "      <td>10.71940</td>\n",
       "      <td>3.01483</td>\n",
       "      <td>3.555557</td>\n",
       "    </tr>\n",
       "  </tbody>\n",
       "</table>\n",
       "</div>"
      ],
      "text/plain": [
       "  categoria  trecho  q_inicio  q_fim                      id_j   @f  \\\n",
       "0  Swimming       0       126    190  5f8f5517d3d64947e0da241b  126   \n",
       "1  Swimming       0       126    190  5f8f5517d3d64947e0da241b  127   \n",
       "2  Swimming       0       126    190  5f8f5517d3d64947e0da241b  128   \n",
       "3  Swimming       0       126    190  5f8f5517d3d64947e0da241b  129   \n",
       "4  Swimming       0       126    190  5f8f5517d3d64947e0da241b  130   \n",
       "\n",
       "          @Vd       @Van     @ceX     @ceY     @arM     @altM     @larM  \\\n",
       "0    2.837332   0.742996  205.100  123.923  27.7320   4.77899  11.20080   \n",
       "1    2.670318   0.699261  205.446  121.586  29.0769   4.86800  11.10900   \n",
       "2  174.304761  45.644200  208.645  117.210  26.7436  10.67820   3.89783   \n",
       "3  -69.536770 -18.209200  205.374  102.144  16.7786   8.36027   2.97792   \n",
       "4   70.774434  18.533300  202.148   95.839  20.8537  10.71940   3.01483   \n",
       "\n",
       "    sexo  dosagem unidade     max_l    min_l     @form  \n",
       "0  femea  veiculo      A6  11.20080  4.77899  2.343759  \n",
       "1  femea  veiculo      A6  11.10900  4.86800  2.282046  \n",
       "2  femea  veiculo      A6  10.67820  3.89783  2.739524  \n",
       "3  femea  veiculo      A6   8.36027  2.97792  2.807419  \n",
       "4  femea  veiculo      A6  10.71940  3.01483  3.555557  "
      ]
     },
     "execution_count": 8,
     "metadata": {},
     "output_type": "execute_result"
    }
   ],
   "source": [
    "df.head()"
   ]
  },
  {
   "cell_type": "code",
   "execution_count": 9,
   "id": "78c43d9f",
   "metadata": {},
   "outputs": [
    {
     "data": {
      "text/plain": [
       "array(['veiculo', 'flx2.5mg'], dtype=object)"
      ]
     },
     "execution_count": 9,
     "metadata": {},
     "output_type": "execute_result"
    }
   ],
   "source": [
    "df[\"dosagem\"].unique()"
   ]
  },
  {
   "cell_type": "code",
   "execution_count": 10,
   "id": "02db422c",
   "metadata": {},
   "outputs": [
    {
     "data": {
      "text/html": [
       "<div>\n",
       "<style scoped>\n",
       "    .dataframe tbody tr th:only-of-type {\n",
       "        vertical-align: middle;\n",
       "    }\n",
       "\n",
       "    .dataframe tbody tr th {\n",
       "        vertical-align: top;\n",
       "    }\n",
       "\n",
       "    .dataframe thead th {\n",
       "        text-align: right;\n",
       "    }\n",
       "</style>\n",
       "<table border=\"1\" class=\"dataframe\">\n",
       "  <thead>\n",
       "    <tr style=\"text-align: right;\">\n",
       "      <th></th>\n",
       "      <th>categoria</th>\n",
       "      <th>trecho</th>\n",
       "      <th>q_inicio</th>\n",
       "      <th>q_fim</th>\n",
       "      <th>id_j</th>\n",
       "      <th>@f</th>\n",
       "      <th>@Vd</th>\n",
       "      <th>@Van</th>\n",
       "      <th>@ceX</th>\n",
       "      <th>@ceY</th>\n",
       "      <th>@arM</th>\n",
       "      <th>@altM</th>\n",
       "      <th>@larM</th>\n",
       "      <th>sexo</th>\n",
       "      <th>dosagem</th>\n",
       "      <th>unidade</th>\n",
       "      <th>max_l</th>\n",
       "      <th>min_l</th>\n",
       "      <th>@form</th>\n",
       "    </tr>\n",
       "  </thead>\n",
       "  <tbody>\n",
       "    <tr>\n",
       "      <th>0</th>\n",
       "      <td>Swimming</td>\n",
       "      <td>0</td>\n",
       "      <td>126</td>\n",
       "      <td>190</td>\n",
       "      <td>5f8f5517d3d64947e0da241b</td>\n",
       "      <td>126</td>\n",
       "      <td>2.837332</td>\n",
       "      <td>0.742996</td>\n",
       "      <td>205.100</td>\n",
       "      <td>123.923</td>\n",
       "      <td>27.7320</td>\n",
       "      <td>4.77899</td>\n",
       "      <td>11.20080</td>\n",
       "      <td>femea</td>\n",
       "      <td>veiculo</td>\n",
       "      <td>A6</td>\n",
       "      <td>11.20080</td>\n",
       "      <td>4.77899</td>\n",
       "      <td>2.343759</td>\n",
       "    </tr>\n",
       "    <tr>\n",
       "      <th>1</th>\n",
       "      <td>Swimming</td>\n",
       "      <td>0</td>\n",
       "      <td>126</td>\n",
       "      <td>190</td>\n",
       "      <td>5f8f5517d3d64947e0da241b</td>\n",
       "      <td>127</td>\n",
       "      <td>2.670318</td>\n",
       "      <td>0.699261</td>\n",
       "      <td>205.446</td>\n",
       "      <td>121.586</td>\n",
       "      <td>29.0769</td>\n",
       "      <td>4.86800</td>\n",
       "      <td>11.10900</td>\n",
       "      <td>femea</td>\n",
       "      <td>veiculo</td>\n",
       "      <td>A6</td>\n",
       "      <td>11.10900</td>\n",
       "      <td>4.86800</td>\n",
       "      <td>2.282046</td>\n",
       "    </tr>\n",
       "    <tr>\n",
       "      <th>2</th>\n",
       "      <td>Swimming</td>\n",
       "      <td>0</td>\n",
       "      <td>126</td>\n",
       "      <td>190</td>\n",
       "      <td>5f8f5517d3d64947e0da241b</td>\n",
       "      <td>128</td>\n",
       "      <td>174.304761</td>\n",
       "      <td>45.644200</td>\n",
       "      <td>208.645</td>\n",
       "      <td>117.210</td>\n",
       "      <td>26.7436</td>\n",
       "      <td>10.67820</td>\n",
       "      <td>3.89783</td>\n",
       "      <td>femea</td>\n",
       "      <td>veiculo</td>\n",
       "      <td>A6</td>\n",
       "      <td>10.67820</td>\n",
       "      <td>3.89783</td>\n",
       "      <td>2.739524</td>\n",
       "    </tr>\n",
       "    <tr>\n",
       "      <th>3</th>\n",
       "      <td>Swimming</td>\n",
       "      <td>0</td>\n",
       "      <td>126</td>\n",
       "      <td>190</td>\n",
       "      <td>5f8f5517d3d64947e0da241b</td>\n",
       "      <td>129</td>\n",
       "      <td>-69.536770</td>\n",
       "      <td>-18.209200</td>\n",
       "      <td>205.374</td>\n",
       "      <td>102.144</td>\n",
       "      <td>16.7786</td>\n",
       "      <td>8.36027</td>\n",
       "      <td>2.97792</td>\n",
       "      <td>femea</td>\n",
       "      <td>veiculo</td>\n",
       "      <td>A6</td>\n",
       "      <td>8.36027</td>\n",
       "      <td>2.97792</td>\n",
       "      <td>2.807419</td>\n",
       "    </tr>\n",
       "    <tr>\n",
       "      <th>4</th>\n",
       "      <td>Swimming</td>\n",
       "      <td>0</td>\n",
       "      <td>126</td>\n",
       "      <td>190</td>\n",
       "      <td>5f8f5517d3d64947e0da241b</td>\n",
       "      <td>130</td>\n",
       "      <td>70.774434</td>\n",
       "      <td>18.533300</td>\n",
       "      <td>202.148</td>\n",
       "      <td>95.839</td>\n",
       "      <td>20.8537</td>\n",
       "      <td>10.71940</td>\n",
       "      <td>3.01483</td>\n",
       "      <td>femea</td>\n",
       "      <td>veiculo</td>\n",
       "      <td>A6</td>\n",
       "      <td>10.71940</td>\n",
       "      <td>3.01483</td>\n",
       "      <td>3.555557</td>\n",
       "    </tr>\n",
       "    <tr>\n",
       "      <th>...</th>\n",
       "      <td>...</td>\n",
       "      <td>...</td>\n",
       "      <td>...</td>\n",
       "      <td>...</td>\n",
       "      <td>...</td>\n",
       "      <td>...</td>\n",
       "      <td>...</td>\n",
       "      <td>...</td>\n",
       "      <td>...</td>\n",
       "      <td>...</td>\n",
       "      <td>...</td>\n",
       "      <td>...</td>\n",
       "      <td>...</td>\n",
       "      <td>...</td>\n",
       "      <td>...</td>\n",
       "      <td>...</td>\n",
       "      <td>...</td>\n",
       "      <td>...</td>\n",
       "      <td>...</td>\n",
       "    </tr>\n",
       "    <tr>\n",
       "      <th>187188</th>\n",
       "      <td>Immobility</td>\n",
       "      <td>173</td>\n",
       "      <td>7438</td>\n",
       "      <td>7536</td>\n",
       "      <td>5f8f5517d3d64947e0da2423</td>\n",
       "      <td>7531</td>\n",
       "      <td>0.000000</td>\n",
       "      <td>0.000000</td>\n",
       "      <td>214.578</td>\n",
       "      <td>151.335</td>\n",
       "      <td>16.7057</td>\n",
       "      <td>3.43689</td>\n",
       "      <td>6.74650</td>\n",
       "      <td>femea</td>\n",
       "      <td>veiculo</td>\n",
       "      <td>A7</td>\n",
       "      <td>6.74650</td>\n",
       "      <td>3.43689</td>\n",
       "      <td>1.962967</td>\n",
       "    </tr>\n",
       "    <tr>\n",
       "      <th>187189</th>\n",
       "      <td>Immobility</td>\n",
       "      <td>173</td>\n",
       "      <td>7438</td>\n",
       "      <td>7536</td>\n",
       "      <td>5f8f5517d3d64947e0da2423</td>\n",
       "      <td>7532</td>\n",
       "      <td>3.818771</td>\n",
       "      <td>1.000000</td>\n",
       "      <td>213.801</td>\n",
       "      <td>152.189</td>\n",
       "      <td>17.6292</td>\n",
       "      <td>3.56419</td>\n",
       "      <td>7.12837</td>\n",
       "      <td>femea</td>\n",
       "      <td>veiculo</td>\n",
       "      <td>A7</td>\n",
       "      <td>7.12837</td>\n",
       "      <td>3.56419</td>\n",
       "      <td>1.999997</td>\n",
       "    </tr>\n",
       "    <tr>\n",
       "      <th>187190</th>\n",
       "      <td>Immobility</td>\n",
       "      <td>173</td>\n",
       "      <td>7438</td>\n",
       "      <td>7536</td>\n",
       "      <td>5f8f5517d3d64947e0da2423</td>\n",
       "      <td>7533</td>\n",
       "      <td>0.000000</td>\n",
       "      <td>0.000000</td>\n",
       "      <td>213.798</td>\n",
       "      <td>152.177</td>\n",
       "      <td>17.6454</td>\n",
       "      <td>3.56419</td>\n",
       "      <td>7.12837</td>\n",
       "      <td>femea</td>\n",
       "      <td>veiculo</td>\n",
       "      <td>A7</td>\n",
       "      <td>7.12837</td>\n",
       "      <td>3.56419</td>\n",
       "      <td>1.999997</td>\n",
       "    </tr>\n",
       "    <tr>\n",
       "      <th>187191</th>\n",
       "      <td>Immobility</td>\n",
       "      <td>173</td>\n",
       "      <td>7438</td>\n",
       "      <td>7536</td>\n",
       "      <td>5f8f5517d3d64947e0da2423</td>\n",
       "      <td>7534</td>\n",
       "      <td>0.000000</td>\n",
       "      <td>0.000000</td>\n",
       "      <td>213.798</td>\n",
       "      <td>152.177</td>\n",
       "      <td>17.6454</td>\n",
       "      <td>3.56419</td>\n",
       "      <td>7.12837</td>\n",
       "      <td>femea</td>\n",
       "      <td>veiculo</td>\n",
       "      <td>A7</td>\n",
       "      <td>7.12837</td>\n",
       "      <td>3.56419</td>\n",
       "      <td>1.999997</td>\n",
       "    </tr>\n",
       "    <tr>\n",
       "      <th>187192</th>\n",
       "      <td>Immobility</td>\n",
       "      <td>173</td>\n",
       "      <td>7438</td>\n",
       "      <td>7536</td>\n",
       "      <td>5f8f5517d3d64947e0da2423</td>\n",
       "      <td>7535</td>\n",
       "      <td>5.281399</td>\n",
       "      <td>1.383010</td>\n",
       "      <td>214.366</td>\n",
       "      <td>152.755</td>\n",
       "      <td>18.6420</td>\n",
       "      <td>3.74023</td>\n",
       "      <td>7.23329</td>\n",
       "      <td>femea</td>\n",
       "      <td>veiculo</td>\n",
       "      <td>A7</td>\n",
       "      <td>7.23329</td>\n",
       "      <td>3.74023</td>\n",
       "      <td>1.933916</td>\n",
       "    </tr>\n",
       "  </tbody>\n",
       "</table>\n",
       "<p>66751 rows × 19 columns</p>\n",
       "</div>"
      ],
      "text/plain": [
       "         categoria  trecho  q_inicio  q_fim                      id_j    @f  \\\n",
       "0         Swimming       0       126    190  5f8f5517d3d64947e0da241b   126   \n",
       "1         Swimming       0       126    190  5f8f5517d3d64947e0da241b   127   \n",
       "2         Swimming       0       126    190  5f8f5517d3d64947e0da241b   128   \n",
       "3         Swimming       0       126    190  5f8f5517d3d64947e0da241b   129   \n",
       "4         Swimming       0       126    190  5f8f5517d3d64947e0da241b   130   \n",
       "...            ...     ...       ...    ...                       ...   ...   \n",
       "187188  Immobility     173      7438   7536  5f8f5517d3d64947e0da2423  7531   \n",
       "187189  Immobility     173      7438   7536  5f8f5517d3d64947e0da2423  7532   \n",
       "187190  Immobility     173      7438   7536  5f8f5517d3d64947e0da2423  7533   \n",
       "187191  Immobility     173      7438   7536  5f8f5517d3d64947e0da2423  7534   \n",
       "187192  Immobility     173      7438   7536  5f8f5517d3d64947e0da2423  7535   \n",
       "\n",
       "               @Vd       @Van     @ceX     @ceY     @arM     @altM     @larM  \\\n",
       "0         2.837332   0.742996  205.100  123.923  27.7320   4.77899  11.20080   \n",
       "1         2.670318   0.699261  205.446  121.586  29.0769   4.86800  11.10900   \n",
       "2       174.304761  45.644200  208.645  117.210  26.7436  10.67820   3.89783   \n",
       "3       -69.536770 -18.209200  205.374  102.144  16.7786   8.36027   2.97792   \n",
       "4        70.774434  18.533300  202.148   95.839  20.8537  10.71940   3.01483   \n",
       "...            ...        ...      ...      ...      ...       ...       ...   \n",
       "187188    0.000000   0.000000  214.578  151.335  16.7057   3.43689   6.74650   \n",
       "187189    3.818771   1.000000  213.801  152.189  17.6292   3.56419   7.12837   \n",
       "187190    0.000000   0.000000  213.798  152.177  17.6454   3.56419   7.12837   \n",
       "187191    0.000000   0.000000  213.798  152.177  17.6454   3.56419   7.12837   \n",
       "187192    5.281399   1.383010  214.366  152.755  18.6420   3.74023   7.23329   \n",
       "\n",
       "         sexo  dosagem unidade     max_l    min_l     @form  \n",
       "0       femea  veiculo      A6  11.20080  4.77899  2.343759  \n",
       "1       femea  veiculo      A6  11.10900  4.86800  2.282046  \n",
       "2       femea  veiculo      A6  10.67820  3.89783  2.739524  \n",
       "3       femea  veiculo      A6   8.36027  2.97792  2.807419  \n",
       "4       femea  veiculo      A6  10.71940  3.01483  3.555557  \n",
       "...       ...      ...     ...       ...      ...       ...  \n",
       "187188  femea  veiculo      A7   6.74650  3.43689  1.962967  \n",
       "187189  femea  veiculo      A7   7.12837  3.56419  1.999997  \n",
       "187190  femea  veiculo      A7   7.12837  3.56419  1.999997  \n",
       "187191  femea  veiculo      A7   7.12837  3.56419  1.999997  \n",
       "187192  femea  veiculo      A7   7.23329  3.74023  1.933916  \n",
       "\n",
       "[66751 rows x 19 columns]"
      ]
     },
     "execution_count": 10,
     "metadata": {},
     "output_type": "execute_result"
    }
   ],
   "source": [
    "df_femea_ve = df[(df[\"sexo\"] == \"femea\") &(df['dosagem'] == \"veiculo\" )]\n",
    "df_femea_flx = df[(df[\"sexo\"] == \"femea\") &(df['dosagem'] == \"flx2.5mg\" )]\n",
    "df_macho_ve = df[(df[\"sexo\"] == \"macho\") &(df['dosagem'] == \"veiculo\" )]\n",
    "df_macho_flx = df[(df[\"sexo\"] == \"macho\") &(df['dosagem'] == \"flx2.5mg\" )]\n",
    "df_femea_ve"
   ]
  },
  {
   "cell_type": "code",
   "execution_count": 11,
   "id": "954099bc",
   "metadata": {},
   "outputs": [
    {
     "data": {
      "text/html": [
       "<div>\n",
       "<style scoped>\n",
       "    .dataframe tbody tr th:only-of-type {\n",
       "        vertical-align: middle;\n",
       "    }\n",
       "\n",
       "    .dataframe tbody tr th {\n",
       "        vertical-align: top;\n",
       "    }\n",
       "\n",
       "    .dataframe thead th {\n",
       "        text-align: right;\n",
       "    }\n",
       "</style>\n",
       "<table border=\"1\" class=\"dataframe\">\n",
       "  <thead>\n",
       "    <tr style=\"text-align: right;\">\n",
       "      <th></th>\n",
       "      <th>categoria</th>\n",
       "      <th>trecho</th>\n",
       "      <th>q_inicio</th>\n",
       "      <th>q_fim</th>\n",
       "      <th>id_j</th>\n",
       "      <th>@f</th>\n",
       "      <th>@Vd</th>\n",
       "      <th>@Van</th>\n",
       "      <th>@ceX</th>\n",
       "      <th>@ceY</th>\n",
       "      <th>@arM</th>\n",
       "      <th>@altM</th>\n",
       "      <th>@larM</th>\n",
       "      <th>sexo</th>\n",
       "      <th>dosagem</th>\n",
       "      <th>unidade</th>\n",
       "      <th>max_l</th>\n",
       "      <th>min_l</th>\n",
       "      <th>@form</th>\n",
       "    </tr>\n",
       "  </thead>\n",
       "  <tbody>\n",
       "    <tr>\n",
       "      <th>37693</th>\n",
       "      <td>Climbing</td>\n",
       "      <td>0</td>\n",
       "      <td>167</td>\n",
       "      <td>845</td>\n",
       "      <td>5f8f5510d3d64947e0da23b3</td>\n",
       "      <td>167</td>\n",
       "      <td>-124.391898</td>\n",
       "      <td>-32.824700</td>\n",
       "      <td>191.563</td>\n",
       "      <td>153.570</td>\n",
       "      <td>26.46400</td>\n",
       "      <td>6.56861</td>\n",
       "      <td>10.10560</td>\n",
       "      <td>femea</td>\n",
       "      <td>flx2.5mg</td>\n",
       "      <td>A7</td>\n",
       "      <td>10.10560</td>\n",
       "      <td>6.56861</td>\n",
       "      <td>1.538469</td>\n",
       "    </tr>\n",
       "    <tr>\n",
       "      <th>37694</th>\n",
       "      <td>Climbing</td>\n",
       "      <td>0</td>\n",
       "      <td>167</td>\n",
       "      <td>845</td>\n",
       "      <td>5f8f5510d3d64947e0da23b3</td>\n",
       "      <td>168</td>\n",
       "      <td>101.904897</td>\n",
       "      <td>26.890800</td>\n",
       "      <td>196.028</td>\n",
       "      <td>152.293</td>\n",
       "      <td>21.15050</td>\n",
       "      <td>9.96544</td>\n",
       "      <td>3.43247</td>\n",
       "      <td>femea</td>\n",
       "      <td>flx2.5mg</td>\n",
       "      <td>A7</td>\n",
       "      <td>9.96544</td>\n",
       "      <td>3.43247</td>\n",
       "      <td>2.903285</td>\n",
       "    </tr>\n",
       "    <tr>\n",
       "      <th>37695</th>\n",
       "      <td>Climbing</td>\n",
       "      <td>0</td>\n",
       "      <td>167</td>\n",
       "      <td>845</td>\n",
       "      <td>5f8f5510d3d64947e0da23b3</td>\n",
       "      <td>169</td>\n",
       "      <td>9.361291</td>\n",
       "      <td>2.470270</td>\n",
       "      <td>198.044</td>\n",
       "      <td>152.238</td>\n",
       "      <td>22.23550</td>\n",
       "      <td>10.27750</td>\n",
       "      <td>3.43247</td>\n",
       "      <td>femea</td>\n",
       "      <td>flx2.5mg</td>\n",
       "      <td>A7</td>\n",
       "      <td>10.27750</td>\n",
       "      <td>3.43247</td>\n",
       "      <td>2.994200</td>\n",
       "    </tr>\n",
       "    <tr>\n",
       "      <th>37696</th>\n",
       "      <td>Climbing</td>\n",
       "      <td>0</td>\n",
       "      <td>167</td>\n",
       "      <td>845</td>\n",
       "      <td>5f8f5510d3d64947e0da23b3</td>\n",
       "      <td>170</td>\n",
       "      <td>0.398353</td>\n",
       "      <td>0.105118</td>\n",
       "      <td>199.061</td>\n",
       "      <td>152.240</td>\n",
       "      <td>22.33920</td>\n",
       "      <td>10.29080</td>\n",
       "      <td>3.43247</td>\n",
       "      <td>femea</td>\n",
       "      <td>flx2.5mg</td>\n",
       "      <td>A7</td>\n",
       "      <td>10.29080</td>\n",
       "      <td>3.43247</td>\n",
       "      <td>2.998074</td>\n",
       "    </tr>\n",
       "    <tr>\n",
       "      <th>37697</th>\n",
       "      <td>Climbing</td>\n",
       "      <td>0</td>\n",
       "      <td>167</td>\n",
       "      <td>845</td>\n",
       "      <td>5f8f5510d3d64947e0da23b3</td>\n",
       "      <td>171</td>\n",
       "      <td>-206.404141</td>\n",
       "      <td>-54.466200</td>\n",
       "      <td>201.787</td>\n",
       "      <td>148.991</td>\n",
       "      <td>20.28880</td>\n",
       "      <td>3.41062</td>\n",
       "      <td>10.23190</td>\n",
       "      <td>femea</td>\n",
       "      <td>flx2.5mg</td>\n",
       "      <td>A7</td>\n",
       "      <td>10.23190</td>\n",
       "      <td>3.41062</td>\n",
       "      <td>3.000012</td>\n",
       "    </tr>\n",
       "    <tr>\n",
       "      <th>...</th>\n",
       "      <td>...</td>\n",
       "      <td>...</td>\n",
       "      <td>...</td>\n",
       "      <td>...</td>\n",
       "      <td>...</td>\n",
       "      <td>...</td>\n",
       "      <td>...</td>\n",
       "      <td>...</td>\n",
       "      <td>...</td>\n",
       "      <td>...</td>\n",
       "      <td>...</td>\n",
       "      <td>...</td>\n",
       "      <td>...</td>\n",
       "      <td>...</td>\n",
       "      <td>...</td>\n",
       "      <td>...</td>\n",
       "      <td>...</td>\n",
       "      <td>...</td>\n",
       "      <td>...</td>\n",
       "    </tr>\n",
       "    <tr>\n",
       "      <th>216698</th>\n",
       "      <td>Immobility</td>\n",
       "      <td>224</td>\n",
       "      <td>7449</td>\n",
       "      <td>7561</td>\n",
       "      <td>5f8f550fd3d64947e0da239b</td>\n",
       "      <td>7556</td>\n",
       "      <td>0.000000</td>\n",
       "      <td>0.000000</td>\n",
       "      <td>129.598</td>\n",
       "      <td>109.381</td>\n",
       "      <td>6.95231</td>\n",
       "      <td>1.54152</td>\n",
       "      <td>7.35186</td>\n",
       "      <td>femea</td>\n",
       "      <td>flx2.5mg</td>\n",
       "      <td>A4</td>\n",
       "      <td>7.35186</td>\n",
       "      <td>1.54152</td>\n",
       "      <td>4.769228</td>\n",
       "    </tr>\n",
       "    <tr>\n",
       "      <th>216699</th>\n",
       "      <td>Immobility</td>\n",
       "      <td>224</td>\n",
       "      <td>7449</td>\n",
       "      <td>7561</td>\n",
       "      <td>5f8f550fd3d64947e0da239b</td>\n",
       "      <td>7557</td>\n",
       "      <td>8.767060</td>\n",
       "      <td>2.338020</td>\n",
       "      <td>128.796</td>\n",
       "      <td>111.139</td>\n",
       "      <td>6.39769</td>\n",
       "      <td>1.83376</td>\n",
       "      <td>7.09767</td>\n",
       "      <td>femea</td>\n",
       "      <td>flx2.5mg</td>\n",
       "      <td>A4</td>\n",
       "      <td>7.09767</td>\n",
       "      <td>1.83376</td>\n",
       "      <td>3.870556</td>\n",
       "    </tr>\n",
       "    <tr>\n",
       "      <th>216700</th>\n",
       "      <td>Immobility</td>\n",
       "      <td>224</td>\n",
       "      <td>7449</td>\n",
       "      <td>7561</td>\n",
       "      <td>5f8f550fd3d64947e0da239b</td>\n",
       "      <td>7558</td>\n",
       "      <td>0.000000</td>\n",
       "      <td>0.000000</td>\n",
       "      <td>129.032</td>\n",
       "      <td>111.011</td>\n",
       "      <td>6.42893</td>\n",
       "      <td>1.83376</td>\n",
       "      <td>7.09767</td>\n",
       "      <td>femea</td>\n",
       "      <td>flx2.5mg</td>\n",
       "      <td>A4</td>\n",
       "      <td>7.09767</td>\n",
       "      <td>1.83376</td>\n",
       "      <td>3.870556</td>\n",
       "    </tr>\n",
       "    <tr>\n",
       "      <th>216701</th>\n",
       "      <td>Immobility</td>\n",
       "      <td>224</td>\n",
       "      <td>7449</td>\n",
       "      <td>7561</td>\n",
       "      <td>5f8f550fd3d64947e0da239b</td>\n",
       "      <td>7559</td>\n",
       "      <td>-1.014552</td>\n",
       "      <td>-0.270563</td>\n",
       "      <td>129.583</td>\n",
       "      <td>111.540</td>\n",
       "      <td>6.17115</td>\n",
       "      <td>1.79994</td>\n",
       "      <td>5.57567</td>\n",
       "      <td>femea</td>\n",
       "      <td>flx2.5mg</td>\n",
       "      <td>A4</td>\n",
       "      <td>5.57567</td>\n",
       "      <td>1.79994</td>\n",
       "      <td>3.097698</td>\n",
       "    </tr>\n",
       "    <tr>\n",
       "      <th>216702</th>\n",
       "      <td>Immobility</td>\n",
       "      <td>224</td>\n",
       "      <td>7449</td>\n",
       "      <td>7561</td>\n",
       "      <td>5f8f550fd3d64947e0da239b</td>\n",
       "      <td>7560</td>\n",
       "      <td>-8.624681</td>\n",
       "      <td>-2.300050</td>\n",
       "      <td>129.639</td>\n",
       "      <td>113.269</td>\n",
       "      <td>4.28075</td>\n",
       "      <td>1.51245</td>\n",
       "      <td>6.38810</td>\n",
       "      <td>femea</td>\n",
       "      <td>flx2.5mg</td>\n",
       "      <td>A4</td>\n",
       "      <td>6.38810</td>\n",
       "      <td>1.51245</td>\n",
       "      <td>4.223677</td>\n",
       "    </tr>\n",
       "  </tbody>\n",
       "</table>\n",
       "<p>59051 rows × 19 columns</p>\n",
       "</div>"
      ],
      "text/plain": [
       "         categoria  trecho  q_inicio  q_fim                      id_j    @f  \\\n",
       "37693     Climbing       0       167    845  5f8f5510d3d64947e0da23b3   167   \n",
       "37694     Climbing       0       167    845  5f8f5510d3d64947e0da23b3   168   \n",
       "37695     Climbing       0       167    845  5f8f5510d3d64947e0da23b3   169   \n",
       "37696     Climbing       0       167    845  5f8f5510d3d64947e0da23b3   170   \n",
       "37697     Climbing       0       167    845  5f8f5510d3d64947e0da23b3   171   \n",
       "...            ...     ...       ...    ...                       ...   ...   \n",
       "216698  Immobility     224      7449   7561  5f8f550fd3d64947e0da239b  7556   \n",
       "216699  Immobility     224      7449   7561  5f8f550fd3d64947e0da239b  7557   \n",
       "216700  Immobility     224      7449   7561  5f8f550fd3d64947e0da239b  7558   \n",
       "216701  Immobility     224      7449   7561  5f8f550fd3d64947e0da239b  7559   \n",
       "216702  Immobility     224      7449   7561  5f8f550fd3d64947e0da239b  7560   \n",
       "\n",
       "               @Vd       @Van     @ceX     @ceY      @arM     @altM     @larM  \\\n",
       "37693  -124.391898 -32.824700  191.563  153.570  26.46400   6.56861  10.10560   \n",
       "37694   101.904897  26.890800  196.028  152.293  21.15050   9.96544   3.43247   \n",
       "37695     9.361291   2.470270  198.044  152.238  22.23550  10.27750   3.43247   \n",
       "37696     0.398353   0.105118  199.061  152.240  22.33920  10.29080   3.43247   \n",
       "37697  -206.404141 -54.466200  201.787  148.991  20.28880   3.41062  10.23190   \n",
       "...            ...        ...      ...      ...       ...       ...       ...   \n",
       "216698    0.000000   0.000000  129.598  109.381   6.95231   1.54152   7.35186   \n",
       "216699    8.767060   2.338020  128.796  111.139   6.39769   1.83376   7.09767   \n",
       "216700    0.000000   0.000000  129.032  111.011   6.42893   1.83376   7.09767   \n",
       "216701   -1.014552  -0.270563  129.583  111.540   6.17115   1.79994   5.57567   \n",
       "216702   -8.624681  -2.300050  129.639  113.269   4.28075   1.51245   6.38810   \n",
       "\n",
       "         sexo   dosagem unidade     max_l    min_l     @form  \n",
       "37693   femea  flx2.5mg      A7  10.10560  6.56861  1.538469  \n",
       "37694   femea  flx2.5mg      A7   9.96544  3.43247  2.903285  \n",
       "37695   femea  flx2.5mg      A7  10.27750  3.43247  2.994200  \n",
       "37696   femea  flx2.5mg      A7  10.29080  3.43247  2.998074  \n",
       "37697   femea  flx2.5mg      A7  10.23190  3.41062  3.000012  \n",
       "...       ...       ...     ...       ...      ...       ...  \n",
       "216698  femea  flx2.5mg      A4   7.35186  1.54152  4.769228  \n",
       "216699  femea  flx2.5mg      A4   7.09767  1.83376  3.870556  \n",
       "216700  femea  flx2.5mg      A4   7.09767  1.83376  3.870556  \n",
       "216701  femea  flx2.5mg      A4   5.57567  1.79994  3.097698  \n",
       "216702  femea  flx2.5mg      A4   6.38810  1.51245  4.223677  \n",
       "\n",
       "[59051 rows x 19 columns]"
      ]
     },
     "execution_count": 11,
     "metadata": {},
     "output_type": "execute_result"
    }
   ],
   "source": [
    "df_femea_flx"
   ]
  },
  {
   "cell_type": "code",
   "execution_count": 12,
   "id": "d87d8fb8",
   "metadata": {},
   "outputs": [
    {
     "data": {
      "text/plain": [
       "array(['Swimming', 'Immobility', 'Climbing', 'Diving', 'Undefined',\n",
       "       'Headshaking'], dtype=object)"
      ]
     },
     "execution_count": 12,
     "metadata": {},
     "output_type": "execute_result"
    }
   ],
   "source": [
    "df_femea_ve[\"categoria\"].unique() "
   ]
  },
  {
   "cell_type": "code",
   "execution_count": 13,
   "id": "55200c9a",
   "metadata": {},
   "outputs": [],
   "source": [
    "# rool = 30\n",
    "def get_plot_form(df, rool=30, tp= \"median\"):\n",
    "    df_femea_ve_vd = df[\"@form\"].reset_index()\n",
    "    x = [0]\n",
    "    if tp == \"median\":\n",
    "        x = df_femea_ve_vd[df_femea_ve_vd[\"@form\"] != 0].rolling(rool).median().dropna()[\"@form\"] # df_femea_ve_vd[\"@Vd\"].rolling(100).sum().dropna()\n",
    "\n",
    "    if tp == \"mean\":\n",
    "        x = df_femea_ve_vd[df_femea_ve_vd[\"@form\"] != 0].rolling(rool).mean().dropna()[\"@form\"] # df_femea_ve_vd[\"@Vd\"].rolling(100).sum().dropna()\n",
    "\n",
    "    if tp == \"sum\":\n",
    "        x = df_femea_ve_vd[df_femea_ve_vd[\"@form\"] != 0].rolling(rool).sum().dropna()[\"@form\"] # df_femea_ve_vd[\"@Vd\"].rolling(100).sum().dropna()\n",
    "\n",
    "        \n",
    "#     x = x.reset_index()[\"@form\"]\n",
    "#     peaks, _ = find_peaks(abs(x)) #, height=50)\n",
    "#     plt.plot(peaks, x[peaks], \"x\")\n",
    "#     plt.show()\n",
    "#     plt.hist(x[peaks],bins=60)\n",
    "#     plt.show()\n",
    "    plt.hist(x,bins=60)\n",
    "    plt.show()\n",
    "    return x\n",
    "    \n",
    "def get_plot_arm(df):\n",
    "    df_femea_ve_vd = df[\"@arM\"].reset_index()\n",
    "    x = df_femea_ve_vd[df_femea_ve_vd[\"@arM\"] != 0].rolling(rool).median().dropna()[\"@arM\"] # df_femea_ve_vd[\"@Vd\"].rolling(100).sum().dropna()\n",
    "    x = x.reset_index()[\"@arM\"]\n",
    "#     peaks, _ = find_peaks(abs(x)) #, height=50)\n",
    "#     plt.plot(peaks, x[peaks], \"x\")\n",
    "#     plt.show()\n",
    "#     plt.hist(x[peaks],bins=60)\n",
    "    plt.show()\n",
    "    plt.hist(x,bins=30)\n",
    "    plt.show()\n",
    "\n",
    "\n",
    "\n",
    "def get_plot(df):\n",
    "    df_femea_ve_vd = df[\"@Vd\"].reset_index()\n",
    "    x = df_femea_ve_vd[df_femea_ve_vd[\"@Vd\"] != 0].rolling(rool).median().dropna()[\"@Vd\"] # df_femea_ve_vd[\"@Vd\"].rolling(100).sum().dropna()\n",
    "    x = x.reset_index()[\"@Vd\"]\n",
    "    peaks, _ = find_peaks(abs(x)) #, height=50)\n",
    "    plt.plot(peaks, x[peaks], \"x\")\n",
    "    plt.show()\n",
    "    plt.hist(x[peaks],bins=60)\n",
    "    plt.show()\n",
    "    plt.hist(x,bins=60)\n",
    "    plt.show()"
   ]
  },
  {
   "cell_type": "code",
   "execution_count": 28,
   "id": "8568d32d",
   "metadata": {},
   "outputs": [],
   "source": [
    "# df_c = pd.DataFrame\n",
    "def save_csv_(path, df_sexo_tratamento):\n",
    "    # get_plot_form(df)\n",
    "    ls_df = []\n",
    "    ls_rol = [1, 30, 60, 90]\n",
    "    for rol in ls_rol:\n",
    "        df_c = pd.DataFrame()\n",
    "        for op in [\"median\", \"mean\", \"sum\"]:\n",
    "\n",
    "            x_1 = get_plot_form(df_sexo_tratamento, rol,  op)\n",
    "            df_c[f'{op}'] = x_1\n",
    "\n",
    "        ls_df.append(df_c)\n",
    "    # x_30 = get_plot_form(df, 30, \"mean\")\n",
    "    # x_60 = get_plot_form(df, 60, \"mean\")\n",
    "    # x_90 = get_plot_form(df, 90, \"mean\")\n",
    "\n",
    "    ls_zip = list(zip(ls_rol, ls_df))\n",
    "    ls_zip\n",
    "    if not os.path.exists('my_folder'):\n",
    "        os.makedirs('my_folder')\n",
    "\n",
    "    for i, df in ls_zip:\n",
    "        df.to_csv(f'{path}/{i}_all.csv')"
   ]
  },
  {
   "cell_type": "code",
   "execution_count": 30,
   "id": "f32c0dfd",
   "metadata": {},
   "outputs": [
    {
     "data": {
      "image/png": "[encoded data removed]",
      "text/plain": [
       "<Figure size 432x288 with 1 Axes>"
      ]
     },
     "metadata": {
      "needs_background": "light"
     },
     "output_type": "display_data"
    },
    {
     "data": {
      "image/png": "[encoded data removed]",
      "text/plain": [
       "<Figure size 432x288 with 1 Axes>"
      ]
     },
     "metadata": {
      "needs_background": "light"
     },
     "output_type": "display_data"
    },
    {
     "data": {
      "image/png": "[encoded data removed]",
      "text/plain": [
       "<Figure size 432x288 with 1 Axes>"
      ]
     },
     "metadata": {
      "needs_background": "light"
     },
     "output_type": "display_data"
    },
    {
     "data": {
      "image/png": "[encoded data removed]",
      "text/plain": [
       "<Figure size 432x288 with 1 Axes>"
      ]
     },
     "metadata": {
      "needs_background": "light"
     },
     "output_type": "display_data"
    },
    {
     "data": {
      "image/png": "[encoded data removed]",
      "text/plain": [
       "<Figure size 432x288 with 1 Axes>"
      ]
     },
     "metadata": {
      "needs_background": "light"
     },
     "output_type": "display_data"
    },
    {
     "data": {
      "image/png": "[encoded data removed]",
      "text/plain": [
       "<Figure size 432x288 with 1 Axes>"
      ]
     },
     "metadata": {
      "needs_background": "light"
     },
     "output_type": "display_data"
    },
    {
     "data": {
      "image/png": "[encoded data removed]",
      "text/plain": [
       "<Figure size 432x288 with 1 Axes>"
      ]
     },
     "metadata": {
      "needs_background": "light"
     },
     "output_type": "display_data"
    },
    {
     "data": {
      "image/png": "[encoded data removed]",
      "text/plain": [
       "<Figure size 432x288 with 1 Axes>"
      ]
     },
     "metadata": {
      "needs_background": "light"
     },
     "output_type": "display_data"
    },
    {
     "data": {
      "image/png": "[encoded data removed]",
      "text/plain": [
       "<Figure size 432x288 with 1 Axes>"
      ]
     },
     "metadata": {
      "needs_background": "light"
     },
     "output_type": "display_data"
    },
    {
     "data": {
      "image/png": "[encoded data removed]",
      "text/plain": [
       "<Figure size 432x288 with 1 Axes>"
      ]
     },
     "metadata": {
      "needs_background": "light"
     },
     "output_type": "display_data"
    },
    {
     "data": {
      "image/png": "[encoded data removed]",
      "text/plain": [
       "<Figure size 432x288 with 1 Axes>"
      ]
     },
     "metadata": {
      "needs_background": "light"
     },
     "output_type": "display_data"
    },
    {
     "data": {
      "image/png": "[encoded data removed]",
      "text/plain": [
       "<Figure size 432x288 with 1 Axes>"
      ]
     },
     "metadata": {
      "needs_background": "light"
     },
     "output_type": "display_data"
    },
    {
     "ename": "FileNotFoundError",
     "evalue": "[Errno 2] No such file or directory: 'df_femea_ve_immo/1_all.csv'",
     "output_type": "error",
     "traceback": [
      "\u001b[1;31m---------------------------------------------------------------------------\u001b[0m",
      "\u001b[1;31mFileNotFoundError\u001b[0m                         Traceback (most recent call last)",
      "\u001b[1;32m~\\AppData\\Local\\Temp\\ipykernel_1404\\576843247.py\u001b[0m in \u001b[0;36m<module>\u001b[1;34m\u001b[0m\n\u001b[1;32m----> 1\u001b[1;33m \u001b[0msave_csv_\u001b[0m\u001b[1;33m(\u001b[0m\u001b[1;34m\"df_femea_ve_immo\"\u001b[0m\u001b[1;33m,\u001b[0m\u001b[0mdf_femea_ve\u001b[0m\u001b[1;33m[\u001b[0m\u001b[0mdf_femea_ve\u001b[0m\u001b[1;33m[\u001b[0m\u001b[1;34m\"categoria\"\u001b[0m\u001b[1;33m]\u001b[0m \u001b[1;33m==\u001b[0m \u001b[1;34m\"Immobility\"\u001b[0m\u001b[1;33m]\u001b[0m\u001b[1;33m)\u001b[0m\u001b[1;33m\u001b[0m\u001b[1;33m\u001b[0m\u001b[0m\n\u001b[0m\u001b[0;32m      2\u001b[0m \u001b[0msave_csv_\u001b[0m\u001b[1;33m(\u001b[0m\u001b[1;34m\"df_femea_ve\"\u001b[0m\u001b[1;33m,\u001b[0m\u001b[0mdf_femea_ve\u001b[0m\u001b[1;33m)\u001b[0m\u001b[1;33m\u001b[0m\u001b[1;33m\u001b[0m\u001b[0m\n\u001b[0;32m      3\u001b[0m \u001b[0msave_csv_\u001b[0m\u001b[1;33m(\u001b[0m\u001b[1;34m\"data_fem_flx\"\u001b[0m\u001b[1;33m,\u001b[0m\u001b[0mdf_femea_flx\u001b[0m\u001b[1;33m)\u001b[0m\u001b[1;33m\u001b[0m\u001b[1;33m\u001b[0m\u001b[0m\n\u001b[0;32m      4\u001b[0m \u001b[0msave_csv_\u001b[0m\u001b[1;33m(\u001b[0m\u001b[1;34m\"data_fem_flx\"\u001b[0m\u001b[1;33m,\u001b[0m\u001b[0mdf_femea_flx\u001b[0m\u001b[1;33m)\u001b[0m\u001b[1;33m\u001b[0m\u001b[1;33m\u001b[0m\u001b[0m\n",
      "\u001b[1;32m~\\AppData\\Local\\Temp\\ipykernel_1404\\3930600008.py\u001b[0m in \u001b[0;36msave_csv_\u001b[1;34m(path, df_sexo_tratamento)\u001b[0m\n\u001b[0;32m     19\u001b[0m     \u001b[0mls_zip\u001b[0m\u001b[1;33m\u001b[0m\u001b[1;33m\u001b[0m\u001b[0m\n\u001b[0;32m     20\u001b[0m     \u001b[1;32mfor\u001b[0m \u001b[0mi\u001b[0m\u001b[1;33m,\u001b[0m \u001b[0mdf\u001b[0m \u001b[1;32min\u001b[0m \u001b[0mls_zip\u001b[0m\u001b[1;33m:\u001b[0m\u001b[1;33m\u001b[0m\u001b[1;33m\u001b[0m\u001b[0m\n\u001b[1;32m---> 21\u001b[1;33m         \u001b[0mdf\u001b[0m\u001b[1;33m.\u001b[0m\u001b[0mto_csv\u001b[0m\u001b[1;33m(\u001b[0m\u001b[1;34mf'{path}/{i}_all.csv'\u001b[0m\u001b[1;33m)\u001b[0m\u001b[1;33m\u001b[0m\u001b[1;33m\u001b[0m\u001b[0m\n\u001b[0m",
      "\u001b[1;32m~\\.conda\\envs\\cripto37\\lib\\site-packages\\pandas\\core\\generic.py\u001b[0m in \u001b[0;36mto_csv\u001b[1;34m(self, path_or_buf, sep, na_rep, float_format, columns, header, index, index_label, mode, encoding, compression, quoting, quotechar, line_terminator, chunksize, date_format, doublequote, escapechar, decimal, errors, storage_options)\u001b[0m\n\u001b[0;32m   3480\u001b[0m             \u001b[0mdoublequote\u001b[0m\u001b[1;33m=\u001b[0m\u001b[0mdoublequote\u001b[0m\u001b[1;33m,\u001b[0m\u001b[1;33m\u001b[0m\u001b[1;33m\u001b[0m\u001b[0m\n\u001b[0;32m   3481\u001b[0m             \u001b[0mescapechar\u001b[0m\u001b[1;33m=\u001b[0m\u001b[0mescapechar\u001b[0m\u001b[1;33m,\u001b[0m\u001b[1;33m\u001b[0m\u001b[1;33m\u001b[0m\u001b[0m\n\u001b[1;32m-> 3482\u001b[1;33m             \u001b[0mstorage_options\u001b[0m\u001b[1;33m=\u001b[0m\u001b[0mstorage_options\u001b[0m\u001b[1;33m,\u001b[0m\u001b[1;33m\u001b[0m\u001b[1;33m\u001b[0m\u001b[0m\n\u001b[0m\u001b[0;32m   3483\u001b[0m         )\n\u001b[0;32m   3484\u001b[0m \u001b[1;33m\u001b[0m\u001b[0m\n",
      "\u001b[1;32m~\\.conda\\envs\\cripto37\\lib\\site-packages\\pandas\\io\\formats\\format.py\u001b[0m in \u001b[0;36mto_csv\u001b[1;34m(self, path_or_buf, encoding, sep, columns, index_label, mode, compression, quoting, quotechar, line_terminator, chunksize, date_format, doublequote, escapechar, errors, storage_options)\u001b[0m\n\u001b[0;32m   1103\u001b[0m             \u001b[0mformatter\u001b[0m\u001b[1;33m=\u001b[0m\u001b[0mself\u001b[0m\u001b[1;33m.\u001b[0m\u001b[0mfmt\u001b[0m\u001b[1;33m,\u001b[0m\u001b[1;33m\u001b[0m\u001b[1;33m\u001b[0m\u001b[0m\n\u001b[0;32m   1104\u001b[0m         )\n\u001b[1;32m-> 1105\u001b[1;33m         \u001b[0mcsv_formatter\u001b[0m\u001b[1;33m.\u001b[0m\u001b[0msave\u001b[0m\u001b[1;33m(\u001b[0m\u001b[1;33m)\u001b[0m\u001b[1;33m\u001b[0m\u001b[1;33m\u001b[0m\u001b[0m\n\u001b[0m\u001b[0;32m   1106\u001b[0m \u001b[1;33m\u001b[0m\u001b[0m\n\u001b[0;32m   1107\u001b[0m         \u001b[1;32mif\u001b[0m \u001b[0mcreated_buffer\u001b[0m\u001b[1;33m:\u001b[0m\u001b[1;33m\u001b[0m\u001b[1;33m\u001b[0m\u001b[0m\n",
      "\u001b[1;32m~\\.conda\\envs\\cripto37\\lib\\site-packages\\pandas\\io\\formats\\csvs.py\u001b[0m in \u001b[0;36msave\u001b[1;34m(self)\u001b[0m\n\u001b[0;32m    241\u001b[0m             \u001b[0merrors\u001b[0m\u001b[1;33m=\u001b[0m\u001b[0mself\u001b[0m\u001b[1;33m.\u001b[0m\u001b[0merrors\u001b[0m\u001b[1;33m,\u001b[0m\u001b[1;33m\u001b[0m\u001b[1;33m\u001b[0m\u001b[0m\n\u001b[0;32m    242\u001b[0m             \u001b[0mcompression\u001b[0m\u001b[1;33m=\u001b[0m\u001b[0mself\u001b[0m\u001b[1;33m.\u001b[0m\u001b[0mcompression\u001b[0m\u001b[1;33m,\u001b[0m\u001b[1;33m\u001b[0m\u001b[1;33m\u001b[0m\u001b[0m\n\u001b[1;32m--> 243\u001b[1;33m             \u001b[0mstorage_options\u001b[0m\u001b[1;33m=\u001b[0m\u001b[0mself\u001b[0m\u001b[1;33m.\u001b[0m\u001b[0mstorage_options\u001b[0m\u001b[1;33m,\u001b[0m\u001b[1;33m\u001b[0m\u001b[1;33m\u001b[0m\u001b[0m\n\u001b[0m\u001b[0;32m    244\u001b[0m         ) as handles:\n\u001b[0;32m    245\u001b[0m \u001b[1;33m\u001b[0m\u001b[0m\n",
      "\u001b[1;32m~\\.conda\\envs\\cripto37\\lib\\site-packages\\pandas\\io\\common.py\u001b[0m in \u001b[0;36mget_handle\u001b[1;34m(path_or_buf, mode, encoding, compression, memory_map, is_text, errors, storage_options)\u001b[0m\n\u001b[0;32m    705\u001b[0m                 \u001b[0mencoding\u001b[0m\u001b[1;33m=\u001b[0m\u001b[0mioargs\u001b[0m\u001b[1;33m.\u001b[0m\u001b[0mencoding\u001b[0m\u001b[1;33m,\u001b[0m\u001b[1;33m\u001b[0m\u001b[1;33m\u001b[0m\u001b[0m\n\u001b[0;32m    706\u001b[0m                 \u001b[0merrors\u001b[0m\u001b[1;33m=\u001b[0m\u001b[0merrors\u001b[0m\u001b[1;33m,\u001b[0m\u001b[1;33m\u001b[0m\u001b[1;33m\u001b[0m\u001b[0m\n\u001b[1;32m--> 707\u001b[1;33m                 \u001b[0mnewline\u001b[0m\u001b[1;33m=\u001b[0m\u001b[1;34m\"\"\u001b[0m\u001b[1;33m,\u001b[0m\u001b[1;33m\u001b[0m\u001b[1;33m\u001b[0m\u001b[0m\n\u001b[0m\u001b[0;32m    708\u001b[0m             )\n\u001b[0;32m    709\u001b[0m         \u001b[1;32melse\u001b[0m\u001b[1;33m:\u001b[0m\u001b[1;33m\u001b[0m\u001b[1;33m\u001b[0m\u001b[0m\n",
      "\u001b[1;31mFileNotFoundError\u001b[0m: [Errno 2] No such file or directory: 'df_femea_ve_immo/1_all.csv'"
     ]
    }
   ],
   "source": [
    "save_csv_(\"df_femea_ve_immo\",df_femea_ve[df_femea_ve[\"categoria\"] == \"Immobility\"])\n",
    "save_csv_(\"df_femea_ve\",df_femea_ve)\n",
    "save_csv_(\"data_fem_flx\",df_femea_flx)\n",
    "save_csv_(\"data_fem_flx\",df_femea_flx)"
   ]
  },
  {
   "cell_type": "code",
   "execution_count": 15,
   "id": "dbee1f72",
   "metadata": {},
   "outputs": [
    {
     "data": {
      "image/png": "[encoded data removed]",
      "text/plain": [
       "<Figure size 432x288 with 1 Axes>"
      ]
     },
     "metadata": {
      "needs_background": "light"
     },
     "output_type": "display_data"
    },
    {
     "data": {
      "image/png": "[encoded data removed]",
      "text/plain": [
       "<Figure size 432x288 with 1 Axes>"
      ]
     },
     "metadata": {
      "needs_background": "light"
     },
     "output_type": "display_data"
    },
    {
     "data": {
      "image/png": "[encoded data removed]",
      "text/plain": [
       "<Figure size 432x288 with 1 Axes>"
      ]
     },
     "metadata": {
      "needs_background": "light"
     },
     "output_type": "display_data"
    },
    {
     "data": {
      "image/png": "[encoded data removed]",
      "text/plain": [
       "<Figure size 432x288 with 1 Axes>"
      ]
     },
     "metadata": {
      "needs_background": "light"
     },
     "output_type": "display_data"
    },
    {
     "data": {
      "image/png": "[encoded data removed]",
      "text/plain": [
       "<Figure size 432x288 with 1 Axes>"
      ]
     },
     "metadata": {
      "needs_background": "light"
     },
     "output_type": "display_data"
    },
    {
     "data": {
      "image/png": "[encoded data removed]",
      "text/plain": [
       "<Figure size 432x288 with 1 Axes>"
      ]
     },
     "metadata": {
      "needs_background": "light"
     },
     "output_type": "display_data"
    },
    {
     "data": {
      "image/png": "[encoded data removed]",
      "text/plain": [
       "<Figure size 432x288 with 1 Axes>"
      ]
     },
     "metadata": {
      "needs_background": "light"
     },
     "output_type": "display_data"
    },
    {
     "data": {
      "image/png": "[encoded data removed]",
      "text/plain": [
       "<Figure size 432x288 with 1 Axes>"
      ]
     },
     "metadata": {
      "needs_background": "light"
     },
     "output_type": "display_data"
    },
    {
     "data": {
      "image/png": "[encoded data removed]",
      "text/plain": [
       "<Figure size 432x288 with 1 Axes>"
      ]
     },
     "metadata": {
      "needs_background": "light"
     },
     "output_type": "display_data"
    },
    {
     "data": {
      "image/png": "[encoded data removed]",
      "text/plain": [
       "<Figure size 432x288 with 1 Axes>"
      ]
     },
     "metadata": {
      "needs_background": "light"
     },
     "output_type": "display_data"
    },
    {
     "data": {
      "image/png": "[encoded data removed]",
      "text/plain": [
       "<Figure size 432x288 with 1 Axes>"
      ]
     },
     "metadata": {
      "needs_background": "light"
     },
     "output_type": "display_data"
    },
    {
     "data": {
      "image/png": "[encoded data removed]",
      "text/plain": [
       "<Figure size 432x288 with 1 Axes>"
      ]
     },
     "metadata": {
      "needs_background": "light"
     },
     "output_type": "display_data"
    }
   ],
   "source": [
    "# get_plot_form(df)\n",
    "ls_df = []\n",
    "ls_rol = [1, 30, 60, 90]\n",
    "for rol in ls_rol:\n",
    "    df_c = pd.DataFrame()\n",
    "    for op in [\"median\", \"mean\", \"sum\"]:\n",
    "    \n",
    "        x_1 = get_plot_form(df, rol,  op)\n",
    "        df_c[f'{op}'] = x_1\n",
    "        \n",
    "    ls_df.append(df_c)\n",
    "# x_30 = get_plot_form(df, 30, \"mean\")\n",
    "# x_60 = get_plot_form(df, 60, \"mean\")\n",
    "# x_90 = get_plot_form(df, 90, \"mean\")\n",
    "\n",
    "ls_zip = list(zip(ls_rol, ls_df))\n",
    "ls_zip\n",
    "for i, df in ls_zip:\n",
    "    df.to_csv(f'data_fem_flx/{i}_all.csv')"
   ]
  },
  {
   "cell_type": "code",
   "execution_count": 16,
   "id": "1f2ec344",
   "metadata": {},
   "outputs": [
    {
     "data": {
      "text/plain": [
       "[(1,\n",
       "            median      mean       sum\n",
       "  0       2.343759  2.343759  2.343759\n",
       "  1       2.282046  2.282046  2.282046\n",
       "  2       2.739524  2.739524  2.739524\n",
       "  3       2.807419  2.807419  2.807419\n",
       "  4       3.555557  3.555557  3.555557\n",
       "  ...          ...       ...       ...\n",
       "  216698  4.769228  4.769228  4.769228\n",
       "  216699  3.870556  3.870556  3.870556\n",
       "  216700  3.870556  3.870556  3.870556\n",
       "  216701  3.097698  3.097698  3.097698\n",
       "  216702  4.223677  4.223677  4.223677\n",
       "  \n",
       "  [216703 rows x 3 columns]),\n",
       " (30,\n",
       "            median      mean        sum\n",
       "  29      2.944884  3.007589  90.227675\n",
       "  30      3.082349  3.053957  91.618699\n",
       "  31      3.131879  3.105608  93.168235\n",
       "  32      3.163876  3.119168  93.575052\n",
       "  33      3.163876  3.122213  93.666386\n",
       "  ...          ...       ...        ...\n",
       "  216698  2.444441  2.384863  71.545903\n",
       "  216699  2.459891  2.474199  74.225982\n",
       "  216700  2.475341  2.566551  76.996538\n",
       "  216701  2.530779  2.633141  78.994236\n",
       "  216702  2.586217  2.736431  82.092916\n",
       "  \n",
       "  [216674 rows x 3 columns]),\n",
       " (60,\n",
       "            median      mean         sum\n",
       "  59      2.752713  2.925106  175.506381\n",
       "  60      2.767978  2.939975  176.398500\n",
       "  61      2.789900  2.956468  177.388109\n",
       "  62      2.789900  2.947792  176.867506\n",
       "  63      2.767978  2.942268  176.536088\n",
       "  ...          ...       ...         ...\n",
       "  216698  1.666669  1.995935  119.756118\n",
       "  216699  1.709738  2.032667  121.960008\n",
       "  216700  1.813902  2.069398  124.163898\n",
       "  216701  1.813902  2.087693  125.261602\n",
       "  216702  1.937504  2.138088  128.285277\n",
       "  \n",
       "  [216644 rows x 3 columns]),\n",
       " (90,\n",
       "            median      mean         sum\n",
       "  89      2.735070  2.854260  256.883391\n",
       "  90      2.737946  2.860137  257.412292\n",
       "  91      2.740757  2.865865  257.927829\n",
       "  92      2.739179  2.865816  257.923410\n",
       "  93      2.739179  2.865862  257.927590\n",
       "  ...          ...       ...         ...\n",
       "  216698  1.666666  1.912698  172.142841\n",
       "  216699  1.666666  1.930115  173.710372\n",
       "  216700  1.666666  1.947532  175.277903\n",
       "  216701  1.666666  1.955284  175.975597\n",
       "  216702  1.666666  1.975847  177.826202\n",
       "  \n",
       "  [216614 rows x 3 columns])]"
      ]
     },
     "execution_count": 16,
     "metadata": {},
     "output_type": "execute_result"
    }
   ],
   "source": []
  },
  {
   "cell_type": "code",
   "execution_count": 17,
   "id": "a0925f7f",
   "metadata": {},
   "outputs": [],
   "source": []
  },
  {
   "cell_type": "code",
   "execution_count": null,
   "id": "5fe42e94",
   "metadata": {},
   "outputs": [],
   "source": []
  },
  {
   "cell_type": "code",
   "execution_count": 18,
   "id": "2125d55c",
   "metadata": {},
   "outputs": [
    {
     "data": {
      "image/png": "[encoded data removed]",
      "text/plain": [
       "<Figure size 432x288 with 1 Axes>"
      ]
     },
     "metadata": {
      "needs_background": "light"
     },
     "output_type": "display_data"
    },
    {
     "data": {
      "text/plain": [
       "29       2.676486\n",
       "30       2.706513\n",
       "31       2.737881\n",
       "32       2.747357\n",
       "33       2.772958\n",
       "           ...   \n",
       "20295    1.962967\n",
       "20296    1.962967\n",
       "20297    1.962967\n",
       "20298    1.962967\n",
       "20299    1.962967\n",
       "Name: @form, Length: 20271, dtype: float64"
      ]
     },
     "execution_count": 18,
     "metadata": {},
     "output_type": "execute_result"
    }
   ],
   "source": [
    "get_plot_form(df_femea_ve[df_femea_ve[\"categoria\"] == \"Immobility\"])"
   ]
  },
  {
   "cell_type": "code",
   "execution_count": 19,
   "id": "0c655e0b",
   "metadata": {},
   "outputs": [
    {
     "data": {
      "image/png": "[encoded data removed]",
      "text/plain": [
       "<Figure size 432x288 with 1 Axes>"
      ]
     },
     "metadata": {
      "needs_background": "light"
     },
     "output_type": "display_data"
    },
    {
     "data": {
      "text/plain": [
       "29       1.817903\n",
       "30       1.817903\n",
       "31       1.817903\n",
       "32       1.817903\n",
       "33       1.838171\n",
       "           ...   \n",
       "21297    2.444441\n",
       "21298    2.459891\n",
       "21299    2.475341\n",
       "21300    2.530779\n",
       "21301    2.586217\n",
       "Name: @form, Length: 21273, dtype: float64"
      ]
     },
     "execution_count": 19,
     "metadata": {},
     "output_type": "execute_result"
    }
   ],
   "source": [
    "get_plot_form(df_femea_flx[df_femea_flx[\"categoria\"] == \"Immobility\"])"
   ]
  },
  {
   "cell_type": "code",
   "execution_count": 20,
   "id": "8fc22e2b",
   "metadata": {},
   "outputs": [
    {
     "data": {
      "image/png": "[encoded data removed]",
      "text/plain": [
       "<Figure size 432x288 with 1 Axes>"
      ]
     },
     "metadata": {
      "needs_background": "light"
     },
     "output_type": "display_data"
    },
    {
     "data": {
      "text/plain": [
       "29      2.944884\n",
       "30      3.082349\n",
       "31      3.131879\n",
       "32      3.163876\n",
       "33      3.163876\n",
       "          ...   \n",
       "3360    2.008956\n",
       "3361    2.002092\n",
       "3362    1.969796\n",
       "3363    1.937499\n",
       "3364    1.937499\n",
       "Name: @form, Length: 3336, dtype: float64"
      ]
     },
     "execution_count": 20,
     "metadata": {},
     "output_type": "execute_result"
    }
   ],
   "source": [
    "get_plot_form(df_femea_ve[df_femea_ve[\"categoria\"] == \"Swimming\"])"
   ]
  },
  {
   "cell_type": "code",
   "execution_count": 21,
   "id": "44ab3b75",
   "metadata": {},
   "outputs": [
    {
     "data": {
      "image/png": "[encoded data removed]",
      "text/plain": [
       "<Figure size 432x288 with 1 Axes>"
      ]
     },
     "metadata": {
      "needs_background": "light"
     },
     "output_type": "display_data"
    },
    {
     "data": {
      "text/plain": [
       "29      2.117885\n",
       "30      2.117885\n",
       "31      2.117885\n",
       "32      2.117885\n",
       "33      2.117885\n",
       "          ...   \n",
       "3747    2.301136\n",
       "3748    2.301136\n",
       "3749    2.301136\n",
       "3750    2.211851\n",
       "3751    2.152827\n",
       "Name: @form, Length: 3723, dtype: float64"
      ]
     },
     "execution_count": 21,
     "metadata": {},
     "output_type": "execute_result"
    }
   ],
   "source": [
    "get_plot_form(df_femea_flx[df_femea_flx[\"categoria\"] == \"Swimming\"])"
   ]
  },
  {
   "cell_type": "code",
   "execution_count": null,
   "id": "b1e36d47",
   "metadata": {},
   "outputs": [],
   "source": []
  },
  {
   "cell_type": "code",
   "execution_count": 22,
   "id": "12824e6b",
   "metadata": {},
   "outputs": [
    {
     "data": {
      "image/png": "[encoded data removed]",
      "text/plain": [
       "<Figure size 432x288 with 1 Axes>"
      ]
     },
     "metadata": {
      "needs_background": "light"
     },
     "output_type": "display_data"
    },
    {
     "data": {
      "text/plain": [
       "29      2.484066\n",
       "30      2.358897\n",
       "31      2.358897\n",
       "32      2.358897\n",
       "33      2.358897\n",
       "          ...   \n",
       "2647    1.896868\n",
       "2648    1.890513\n",
       "2649    1.872530\n",
       "2650    1.837273\n",
       "2651    1.813226\n",
       "Name: @form, Length: 2623, dtype: float64"
      ]
     },
     "execution_count": 22,
     "metadata": {},
     "output_type": "execute_result"
    }
   ],
   "source": [
    "get_plot_form(df_macho_flx[df_macho_flx[\"categoria\"] == \"Swimming\"])"
   ]
  },
  {
   "cell_type": "code",
   "execution_count": 23,
   "id": "3e0011cf",
   "metadata": {},
   "outputs": [
    {
     "data": {
      "image/png": "[encoded data removed]",
      "text/plain": [
       "<Figure size 432x288 with 1 Axes>"
      ]
     },
     "metadata": {
      "needs_background": "light"
     },
     "output_type": "display_data"
    },
    {
     "data": {
      "image/png": "[encoded data removed]",
      "text/plain": [
       "<Figure size 432x288 with 1 Axes>"
      ]
     },
     "metadata": {
      "needs_background": "light"
     },
     "output_type": "display_data"
    },
    {
     "data": {
      "image/png": "[encoded data removed]",
      "text/plain": [
       "<Figure size 432x288 with 1 Axes>"
      ]
     },
     "metadata": {
      "needs_background": "light"
     },
     "output_type": "display_data"
    },
    {
     "data": {
      "image/png": "[encoded data removed]",
      "text/plain": [
       "<Figure size 432x288 with 1 Axes>"
      ]
     },
     "metadata": {
      "needs_background": "light"
     },
     "output_type": "display_data"
    }
   ],
   "source": [
    "x_1 = get_plot_form(df_macho_ve[df_macho_ve[\"categoria\"] == \"Swimming\"], 1)\n",
    "x_30 = get_plot_form(df_macho_ve[df_macho_ve[\"categoria\"] == \"Swimming\"], 30)\n",
    "x_60 = get_plot_form(df_macho_ve[df_macho_ve[\"categoria\"] == \"Swimming\"], 60)\n",
    "x_90 = get_plot_form(df_macho_ve[df_macho_ve[\"categoria\"] == \"Swimming\"], 90)\n"
   ]
  },
  {
   "cell_type": "code",
   "execution_count": null,
   "id": "1cb982f4",
   "metadata": {},
   "outputs": [],
   "source": []
  },
  {
   "cell_type": "code",
   "execution_count": 24,
   "id": "08412c3d",
   "metadata": {},
   "outputs": [
    {
     "ename": "NameError",
     "evalue": "name 'x' is not defined",
     "output_type": "error",
     "traceback": [
      "\u001b[1;31m---------------------------------------------------------------------------\u001b[0m",
      "\u001b[1;31mNameError\u001b[0m                                 Traceback (most recent call last)",
      "\u001b[1;32m~\\AppData\\Local\\Temp\\ipykernel_1404\\2775722650.py\u001b[0m in \u001b[0;36m<module>\u001b[1;34m\u001b[0m\n\u001b[1;32m----> 1\u001b[1;33m \u001b[0mx\u001b[0m\u001b[1;33m.\u001b[0m\u001b[0mto_csv\u001b[0m\u001b[1;33m(\u001b[0m\u001b[1;34m\"macho_swimming_veiculo.csv\"\u001b[0m\u001b[1;33m)\u001b[0m\u001b[1;33m\u001b[0m\u001b[1;33m\u001b[0m\u001b[0m\n\u001b[0m",
      "\u001b[1;31mNameError\u001b[0m: name 'x' is not defined"
     ]
    }
   ],
   "source": [
    "x.to_csv(\"macho_swimming_veiculo.csv\")"
   ]
  },
  {
   "cell_type": "code",
   "execution_count": null,
   "id": "13778f48",
   "metadata": {},
   "outputs": [],
   "source": [
    "get_plot_form(df_macho_ve[df_macho_ve[\"categoria\"] == \"Immobility\"])"
   ]
  },
  {
   "cell_type": "code",
   "execution_count": null,
   "id": "203747e8",
   "metadata": {},
   "outputs": [],
   "source": [
    "get_plot_form(df_macho_flx[df_macho_flx[\"categoria\"] == \"Immobility\"])"
   ]
  },
  {
   "cell_type": "code",
   "execution_count": null,
   "id": "25790431",
   "metadata": {},
   "outputs": [],
   "source": []
  },
  {
   "cell_type": "code",
   "execution_count": null,
   "id": "b398145f",
   "metadata": {},
   "outputs": [],
   "source": []
  },
  {
   "cell_type": "code",
   "execution_count": null,
   "id": "4188cbbc",
   "metadata": {},
   "outputs": [],
   "source": []
  },
  {
   "cell_type": "code",
   "execution_count": null,
   "id": "d05a78a1",
   "metadata": {},
   "outputs": [],
   "source": []
  },
  {
   "cell_type": "code",
   "execution_count": null,
   "id": "85799f10",
   "metadata": {},
   "outputs": [],
   "source": [
    "# df_femea_ve_vd = df_femea_ve[\"@Vd\"].reset_index()\n",
    "# df_femea_ve_vd"
   ]
  },
  {
   "cell_type": "code",
   "execution_count": null,
   "id": "8fdd2853",
   "metadata": {},
   "outputs": [],
   "source": [
    "# x = df_femea_ve_vd[\"@Vd\"].rolling(100)\n",
    "# # plt.plot(x)\n",
    "# plt.plot(df_femea_ve_vd[df_femea_ve_vd[\"@Vd\"] != 0].rolling(100).median().dropna()[\"@Vd\"])"
   ]
  },
  {
   "cell_type": "code",
   "execution_count": null,
   "id": "0a9c1618",
   "metadata": {},
   "outputs": [],
   "source": [
    "# x = df_femea_ve_vd[df_femea_ve_vd[\"@Vd\"] != 0].rolling(100).median().dropna()[\"@Vd\"] # df_femea_ve_vd[\"@Vd\"].rolling(100).sum().dropna()\n",
    "# # ind = [i for i in range(len(x))]\n",
    "# x = x.reset_index()[\"@Vd\"]"
   ]
  },
  {
   "cell_type": "code",
   "execution_count": null,
   "id": "404eb2d4",
   "metadata": {},
   "outputs": [],
   "source": []
  },
  {
   "cell_type": "code",
   "execution_count": null,
   "id": "611d9735",
   "metadata": {},
   "outputs": [],
   "source": [
    "# # x = df_femea_ve[\"@Vd\"][0:1000].rolling(30).sum()\n",
    "# # x = df_femea_ve_vd[0:1000].rolling(30).sum().dropna()\n",
    "# plt.plot(x)\n",
    "\n",
    "# peaks, _ = find_peaks(abs(x)) #, height=50)\n",
    "# plt.plot(peaks, x[peaks], \"x\")"
   ]
  },
  {
   "cell_type": "code",
   "execution_count": null,
   "id": "7bbc1aa6",
   "metadata": {},
   "outputs": [],
   "source": [
    "# plt.hist(x[peaks],bins=60)"
   ]
  },
  {
   "cell_type": "code",
   "execution_count": null,
   "id": "33475918",
   "metadata": {},
   "outputs": [],
   "source": [
    "# x_n = abs(df_femea_ve[\"@Vd\"][0:1000])\n",
    "# x = df_femea_ve[\"@Vd\"][0:1000]"
   ]
  },
  {
   "cell_type": "code",
   "execution_count": null,
   "id": "f57568d9",
   "metadata": {},
   "outputs": [],
   "source": [
    "# peaks, _ = find_peaks(x_n)\n",
    "# peaks"
   ]
  },
  {
   "cell_type": "code",
   "execution_count": null,
   "id": "1e4ae344",
   "metadata": {},
   "outputs": [],
   "source": [
    "# plt.figure(figsize=(8, 6), dpi=80)\n",
    "# plt.plot(x)\n",
    "# plt.plot(peaks, x[peaks], \"x\")"
   ]
  },
  {
   "cell_type": "code",
   "execution_count": null,
   "id": "d343047a",
   "metadata": {},
   "outputs": [],
   "source": [
    "# plt.hist(x[peaks])"
   ]
  }
 ],
 "metadata": {
  "kernelspec": {
   "display_name": "Python 3 (ipykernel)",
   "language": "python",
   "name": "python3"
  },
  "language_info": {
   "codemirror_mode": {
    "name": "ipython",
    "version": 3
   },
   "file_extension": ".py",
   "mimetype": "text/x-python",
   "name": "python",
   "nbconvert_exporter": "python",
   "pygments_lexer": "ipython3",
   "version": "3.7.11"
  }
 },
 "nbformat": 4,
 "nbformat_minor": 5
}
