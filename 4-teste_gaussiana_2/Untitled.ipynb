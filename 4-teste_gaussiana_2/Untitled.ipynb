{
 "cells": [
  {
   "cell_type": "code",
   "execution_count": 30,
   "id": "2f92f1f2",
   "metadata": {},
   "outputs": [],
   "source": [
    "import pandas as pd"
   ]
  },
  {
   "cell_type": "code",
   "execution_count": 2,
   "id": "1bda62ad",
   "metadata": {},
   "outputs": [],
   "source": [
    "import matplotlib.pyplot as plt"
   ]
  },
  {
   "cell_type": "code",
   "execution_count": 3,
   "id": "1fb93fcd",
   "metadata": {},
   "outputs": [],
   "source": [
    "import numpy as np"
   ]
  },
  {
   "cell_type": "code",
   "execution_count": 4,
   "id": "fbde26a1",
   "metadata": {},
   "outputs": [],
   "source": [
    "from scipy.signal import find_peaks"
   ]
  },
  {
   "cell_type": "code",
   "execution_count": 5,
   "id": "fb752e0d",
   "metadata": {},
   "outputs": [],
   "source": [
    "df = pd.read_excel(\"dados_flx25_controle_machos_femeas.xlsx\")"
   ]
  },
  {
   "cell_type": "code",
   "execution_count": 6,
   "id": "1f8dffa0",
   "metadata": {},
   "outputs": [
    {
     "data": {
      "text/html": [
       "<div>\n",
       "<style scoped>\n",
       "    .dataframe tbody tr th:only-of-type {\n",
       "        vertical-align: middle;\n",
       "    }\n",
       "\n",
       "    .dataframe tbody tr th {\n",
       "        vertical-align: top;\n",
       "    }\n",
       "\n",
       "    .dataframe thead th {\n",
       "        text-align: right;\n",
       "    }\n",
       "</style>\n",
       "<table border=\"1\" class=\"dataframe\">\n",
       "  <thead>\n",
       "    <tr style=\"text-align: right;\">\n",
       "      <th></th>\n",
       "      <th>categoria</th>\n",
       "      <th>trecho</th>\n",
       "      <th>q_inicio</th>\n",
       "      <th>q_fim</th>\n",
       "      <th>id_j</th>\n",
       "      <th>@f</th>\n",
       "      <th>@Vd</th>\n",
       "      <th>@Van</th>\n",
       "      <th>@ceX</th>\n",
       "      <th>@ceY</th>\n",
       "      <th>sexo</th>\n",
       "      <th>dosagem</th>\n",
       "      <th>unidade</th>\n",
       "    </tr>\n",
       "  </thead>\n",
       "  <tbody>\n",
       "    <tr>\n",
       "      <th>0</th>\n",
       "      <td>Immobility</td>\n",
       "      <td>0</td>\n",
       "      <td>119</td>\n",
       "      <td>143</td>\n",
       "      <td>5f8f5517d3d64947e0da2423</td>\n",
       "      <td>119</td>\n",
       "      <td>-7.569989</td>\n",
       "      <td>-1.98231</td>\n",
       "      <td>153.934</td>\n",
       "      <td>167.768</td>\n",
       "      <td>femea</td>\n",
       "      <td>veiculo</td>\n",
       "      <td>A7</td>\n",
       "    </tr>\n",
       "    <tr>\n",
       "      <th>1</th>\n",
       "      <td>Immobility</td>\n",
       "      <td>0</td>\n",
       "      <td>119</td>\n",
       "      <td>143</td>\n",
       "      <td>5f8f5517d3d64947e0da2423</td>\n",
       "      <td>120</td>\n",
       "      <td>-7.637543</td>\n",
       "      <td>-2.00000</td>\n",
       "      <td>144.632</td>\n",
       "      <td>168.136</td>\n",
       "      <td>femea</td>\n",
       "      <td>veiculo</td>\n",
       "      <td>A7</td>\n",
       "    </tr>\n",
       "    <tr>\n",
       "      <th>2</th>\n",
       "      <td>Immobility</td>\n",
       "      <td>0</td>\n",
       "      <td>119</td>\n",
       "      <td>143</td>\n",
       "      <td>5f8f5517d3d64947e0da2423</td>\n",
       "      <td>121</td>\n",
       "      <td>-3.818771</td>\n",
       "      <td>-1.00000</td>\n",
       "      <td>144.533</td>\n",
       "      <td>168.205</td>\n",
       "      <td>femea</td>\n",
       "      <td>veiculo</td>\n",
       "      <td>A7</td>\n",
       "    </tr>\n",
       "    <tr>\n",
       "      <th>3</th>\n",
       "      <td>Immobility</td>\n",
       "      <td>0</td>\n",
       "      <td>119</td>\n",
       "      <td>143</td>\n",
       "      <td>5f8f5517d3d64947e0da2423</td>\n",
       "      <td>122</td>\n",
       "      <td>-3.840844</td>\n",
       "      <td>-1.00578</td>\n",
       "      <td>103.306</td>\n",
       "      <td>178.569</td>\n",
       "      <td>femea</td>\n",
       "      <td>veiculo</td>\n",
       "      <td>A7</td>\n",
       "    </tr>\n",
       "    <tr>\n",
       "      <th>4</th>\n",
       "      <td>Immobility</td>\n",
       "      <td>0</td>\n",
       "      <td>119</td>\n",
       "      <td>143</td>\n",
       "      <td>5f8f5517d3d64947e0da2423</td>\n",
       "      <td>123</td>\n",
       "      <td>-22.890555</td>\n",
       "      <td>-5.99422</td>\n",
       "      <td>102.279</td>\n",
       "      <td>178.935</td>\n",
       "      <td>femea</td>\n",
       "      <td>veiculo</td>\n",
       "      <td>A7</td>\n",
       "    </tr>\n",
       "  </tbody>\n",
       "</table>\n",
       "</div>"
      ],
      "text/plain": [
       "    categoria  trecho  q_inicio  q_fim                      id_j   @f  \\\n",
       "0  Immobility       0       119    143  5f8f5517d3d64947e0da2423  119   \n",
       "1  Immobility       0       119    143  5f8f5517d3d64947e0da2423  120   \n",
       "2  Immobility       0       119    143  5f8f5517d3d64947e0da2423  121   \n",
       "3  Immobility       0       119    143  5f8f5517d3d64947e0da2423  122   \n",
       "4  Immobility       0       119    143  5f8f5517d3d64947e0da2423  123   \n",
       "\n",
       "         @Vd     @Van     @ceX     @ceY   sexo  dosagem unidade  \n",
       "0  -7.569989 -1.98231  153.934  167.768  femea  veiculo      A7  \n",
       "1  -7.637543 -2.00000  144.632  168.136  femea  veiculo      A7  \n",
       "2  -3.818771 -1.00000  144.533  168.205  femea  veiculo      A7  \n",
       "3  -3.840844 -1.00578  103.306  178.569  femea  veiculo      A7  \n",
       "4 -22.890555 -5.99422  102.279  178.935  femea  veiculo      A7  "
      ]
     },
     "execution_count": 6,
     "metadata": {},
     "output_type": "execute_result"
    }
   ],
   "source": [
    "df.head()"
   ]
  },
  {
   "cell_type": "code",
   "execution_count": 7,
   "id": "c4923cc2",
   "metadata": {},
   "outputs": [
    {
     "data": {
      "text/plain": [
       "array(['veiculo', 'flx2.5mg'], dtype=object)"
      ]
     },
     "execution_count": 7,
     "metadata": {},
     "output_type": "execute_result"
    }
   ],
   "source": [
    "df[\"dosagem\"].unique()"
   ]
  },
  {
   "cell_type": "code",
   "execution_count": 8,
   "id": "93893203",
   "metadata": {},
   "outputs": [
    {
     "data": {
      "text/html": [
       "<div>\n",
       "<style scoped>\n",
       "    .dataframe tbody tr th:only-of-type {\n",
       "        vertical-align: middle;\n",
       "    }\n",
       "\n",
       "    .dataframe tbody tr th {\n",
       "        vertical-align: top;\n",
       "    }\n",
       "\n",
       "    .dataframe thead th {\n",
       "        text-align: right;\n",
       "    }\n",
       "</style>\n",
       "<table border=\"1\" class=\"dataframe\">\n",
       "  <thead>\n",
       "    <tr style=\"text-align: right;\">\n",
       "      <th></th>\n",
       "      <th>categoria</th>\n",
       "      <th>trecho</th>\n",
       "      <th>q_inicio</th>\n",
       "      <th>q_fim</th>\n",
       "      <th>id_j</th>\n",
       "      <th>@f</th>\n",
       "      <th>@Vd</th>\n",
       "      <th>@Van</th>\n",
       "      <th>@ceX</th>\n",
       "      <th>@ceY</th>\n",
       "      <th>sexo</th>\n",
       "      <th>dosagem</th>\n",
       "      <th>unidade</th>\n",
       "    </tr>\n",
       "  </thead>\n",
       "  <tbody>\n",
       "    <tr>\n",
       "      <th>0</th>\n",
       "      <td>Immobility</td>\n",
       "      <td>0</td>\n",
       "      <td>119</td>\n",
       "      <td>143</td>\n",
       "      <td>5f8f5517d3d64947e0da2423</td>\n",
       "      <td>119</td>\n",
       "      <td>-7.569989</td>\n",
       "      <td>-1.98231</td>\n",
       "      <td>153.934</td>\n",
       "      <td>167.768</td>\n",
       "      <td>femea</td>\n",
       "      <td>veiculo</td>\n",
       "      <td>A7</td>\n",
       "    </tr>\n",
       "    <tr>\n",
       "      <th>1</th>\n",
       "      <td>Immobility</td>\n",
       "      <td>0</td>\n",
       "      <td>119</td>\n",
       "      <td>143</td>\n",
       "      <td>5f8f5517d3d64947e0da2423</td>\n",
       "      <td>120</td>\n",
       "      <td>-7.637543</td>\n",
       "      <td>-2.00000</td>\n",
       "      <td>144.632</td>\n",
       "      <td>168.136</td>\n",
       "      <td>femea</td>\n",
       "      <td>veiculo</td>\n",
       "      <td>A7</td>\n",
       "    </tr>\n",
       "    <tr>\n",
       "      <th>2</th>\n",
       "      <td>Immobility</td>\n",
       "      <td>0</td>\n",
       "      <td>119</td>\n",
       "      <td>143</td>\n",
       "      <td>5f8f5517d3d64947e0da2423</td>\n",
       "      <td>121</td>\n",
       "      <td>-3.818771</td>\n",
       "      <td>-1.00000</td>\n",
       "      <td>144.533</td>\n",
       "      <td>168.205</td>\n",
       "      <td>femea</td>\n",
       "      <td>veiculo</td>\n",
       "      <td>A7</td>\n",
       "    </tr>\n",
       "    <tr>\n",
       "      <th>3</th>\n",
       "      <td>Immobility</td>\n",
       "      <td>0</td>\n",
       "      <td>119</td>\n",
       "      <td>143</td>\n",
       "      <td>5f8f5517d3d64947e0da2423</td>\n",
       "      <td>122</td>\n",
       "      <td>-3.840844</td>\n",
       "      <td>-1.00578</td>\n",
       "      <td>103.306</td>\n",
       "      <td>178.569</td>\n",
       "      <td>femea</td>\n",
       "      <td>veiculo</td>\n",
       "      <td>A7</td>\n",
       "    </tr>\n",
       "    <tr>\n",
       "      <th>4</th>\n",
       "      <td>Immobility</td>\n",
       "      <td>0</td>\n",
       "      <td>119</td>\n",
       "      <td>143</td>\n",
       "      <td>5f8f5517d3d64947e0da2423</td>\n",
       "      <td>123</td>\n",
       "      <td>-22.890555</td>\n",
       "      <td>-5.99422</td>\n",
       "      <td>102.279</td>\n",
       "      <td>178.935</td>\n",
       "      <td>femea</td>\n",
       "      <td>veiculo</td>\n",
       "      <td>A7</td>\n",
       "    </tr>\n",
       "    <tr>\n",
       "      <th>...</th>\n",
       "      <td>...</td>\n",
       "      <td>...</td>\n",
       "      <td>...</td>\n",
       "      <td>...</td>\n",
       "      <td>...</td>\n",
       "      <td>...</td>\n",
       "      <td>...</td>\n",
       "      <td>...</td>\n",
       "      <td>...</td>\n",
       "      <td>...</td>\n",
       "      <td>...</td>\n",
       "      <td>...</td>\n",
       "      <td>...</td>\n",
       "    </tr>\n",
       "    <tr>\n",
       "      <th>209377</th>\n",
       "      <td>Immobility</td>\n",
       "      <td>157</td>\n",
       "      <td>7586</td>\n",
       "      <td>7592</td>\n",
       "      <td>5f8f5514d3d64947e0da23f3</td>\n",
       "      <td>7587</td>\n",
       "      <td>0.000000</td>\n",
       "      <td>0.00000</td>\n",
       "      <td>154.696</td>\n",
       "      <td>147.876</td>\n",
       "      <td>femea</td>\n",
       "      <td>veiculo</td>\n",
       "      <td>A1</td>\n",
       "    </tr>\n",
       "    <tr>\n",
       "      <th>209378</th>\n",
       "      <td>Immobility</td>\n",
       "      <td>157</td>\n",
       "      <td>7586</td>\n",
       "      <td>7592</td>\n",
       "      <td>5f8f5514d3d64947e0da23f3</td>\n",
       "      <td>7588</td>\n",
       "      <td>0.000000</td>\n",
       "      <td>0.00000</td>\n",
       "      <td>154.696</td>\n",
       "      <td>147.876</td>\n",
       "      <td>femea</td>\n",
       "      <td>veiculo</td>\n",
       "      <td>A1</td>\n",
       "    </tr>\n",
       "    <tr>\n",
       "      <th>209379</th>\n",
       "      <td>Immobility</td>\n",
       "      <td>157</td>\n",
       "      <td>7586</td>\n",
       "      <td>7592</td>\n",
       "      <td>5f8f5514d3d64947e0da23f3</td>\n",
       "      <td>7589</td>\n",
       "      <td>-19.827126</td>\n",
       "      <td>-5.29223</td>\n",
       "      <td>151.459</td>\n",
       "      <td>147.526</td>\n",
       "      <td>femea</td>\n",
       "      <td>veiculo</td>\n",
       "      <td>A1</td>\n",
       "    </tr>\n",
       "    <tr>\n",
       "      <th>209380</th>\n",
       "      <td>Immobility</td>\n",
       "      <td>157</td>\n",
       "      <td>7586</td>\n",
       "      <td>7592</td>\n",
       "      <td>5f8f5514d3d64947e0da23f3</td>\n",
       "      <td>7590</td>\n",
       "      <td>0.000000</td>\n",
       "      <td>0.00000</td>\n",
       "      <td>151.426</td>\n",
       "      <td>147.538</td>\n",
       "      <td>femea</td>\n",
       "      <td>veiculo</td>\n",
       "      <td>A1</td>\n",
       "    </tr>\n",
       "    <tr>\n",
       "      <th>209381</th>\n",
       "      <td>Immobility</td>\n",
       "      <td>157</td>\n",
       "      <td>7586</td>\n",
       "      <td>7592</td>\n",
       "      <td>5f8f5514d3d64947e0da23f3</td>\n",
       "      <td>7591</td>\n",
       "      <td>0.000000</td>\n",
       "      <td>0.00000</td>\n",
       "      <td>151.426</td>\n",
       "      <td>147.538</td>\n",
       "      <td>femea</td>\n",
       "      <td>veiculo</td>\n",
       "      <td>A1</td>\n",
       "    </tr>\n",
       "  </tbody>\n",
       "</table>\n",
       "<p>66751 rows × 13 columns</p>\n",
       "</div>"
      ],
      "text/plain": [
       "         categoria  trecho  q_inicio  q_fim                      id_j    @f  \\\n",
       "0       Immobility       0       119    143  5f8f5517d3d64947e0da2423   119   \n",
       "1       Immobility       0       119    143  5f8f5517d3d64947e0da2423   120   \n",
       "2       Immobility       0       119    143  5f8f5517d3d64947e0da2423   121   \n",
       "3       Immobility       0       119    143  5f8f5517d3d64947e0da2423   122   \n",
       "4       Immobility       0       119    143  5f8f5517d3d64947e0da2423   123   \n",
       "...            ...     ...       ...    ...                       ...   ...   \n",
       "209377  Immobility     157      7586   7592  5f8f5514d3d64947e0da23f3  7587   \n",
       "209378  Immobility     157      7586   7592  5f8f5514d3d64947e0da23f3  7588   \n",
       "209379  Immobility     157      7586   7592  5f8f5514d3d64947e0da23f3  7589   \n",
       "209380  Immobility     157      7586   7592  5f8f5514d3d64947e0da23f3  7590   \n",
       "209381  Immobility     157      7586   7592  5f8f5514d3d64947e0da23f3  7591   \n",
       "\n",
       "              @Vd     @Van     @ceX     @ceY   sexo  dosagem unidade  \n",
       "0       -7.569989 -1.98231  153.934  167.768  femea  veiculo      A7  \n",
       "1       -7.637543 -2.00000  144.632  168.136  femea  veiculo      A7  \n",
       "2       -3.818771 -1.00000  144.533  168.205  femea  veiculo      A7  \n",
       "3       -3.840844 -1.00578  103.306  178.569  femea  veiculo      A7  \n",
       "4      -22.890555 -5.99422  102.279  178.935  femea  veiculo      A7  \n",
       "...           ...      ...      ...      ...    ...      ...     ...  \n",
       "209377   0.000000  0.00000  154.696  147.876  femea  veiculo      A1  \n",
       "209378   0.000000  0.00000  154.696  147.876  femea  veiculo      A1  \n",
       "209379 -19.827126 -5.29223  151.459  147.526  femea  veiculo      A1  \n",
       "209380   0.000000  0.00000  151.426  147.538  femea  veiculo      A1  \n",
       "209381   0.000000  0.00000  151.426  147.538  femea  veiculo      A1  \n",
       "\n",
       "[66751 rows x 13 columns]"
      ]
     },
     "execution_count": 8,
     "metadata": {},
     "output_type": "execute_result"
    }
   ],
   "source": [
    "df_femea_ve = df[(df[\"sexo\"] == \"femea\") &(df['dosagem'] == \"veiculo\" )]\n",
    "df_femea_flx = df[(df[\"sexo\"] == \"femea\") &(df['dosagem'] == \"flx2.5mg\" )]\n",
    "df_macho_ve = df[(df[\"sexo\"] == \"macho\") &(df['dosagem'] == \"veiculo\" )]\n",
    "df_macho_flx = df[(df[\"sexo\"] == \"macho\") &(df['dosagem'] == \"flx2.5mg\" )]\n",
    "df_femea_ve"
   ]
  },
  {
   "cell_type": "code",
   "execution_count": 36,
   "id": "fcabeceb",
   "metadata": {},
   "outputs": [
    {
     "name": "stdout",
     "output_type": "stream",
     "text": [
      "12\n"
     ]
    }
   ],
   "source": [
    "print(len(df_macho_ve[\"unidade\"].unique())+ len(df_macho_flx[\"unidade\"].unique()))"
   ]
  },
  {
   "cell_type": "code",
   "execution_count": 9,
   "id": "465c2cd3",
   "metadata": {},
   "outputs": [
    {
     "data": {
      "text/html": [
       "<div>\n",
       "<style scoped>\n",
       "    .dataframe tbody tr th:only-of-type {\n",
       "        vertical-align: middle;\n",
       "    }\n",
       "\n",
       "    .dataframe tbody tr th {\n",
       "        vertical-align: top;\n",
       "    }\n",
       "\n",
       "    .dataframe thead th {\n",
       "        text-align: right;\n",
       "    }\n",
       "</style>\n",
       "<table border=\"1\" class=\"dataframe\">\n",
       "  <thead>\n",
       "    <tr style=\"text-align: right;\">\n",
       "      <th></th>\n",
       "      <th>categoria</th>\n",
       "      <th>trecho</th>\n",
       "      <th>q_inicio</th>\n",
       "      <th>q_fim</th>\n",
       "      <th>id_j</th>\n",
       "      <th>@f</th>\n",
       "      <th>@Vd</th>\n",
       "      <th>@Van</th>\n",
       "      <th>@ceX</th>\n",
       "      <th>@ceY</th>\n",
       "      <th>sexo</th>\n",
       "      <th>dosagem</th>\n",
       "      <th>unidade</th>\n",
       "    </tr>\n",
       "  </thead>\n",
       "  <tbody>\n",
       "    <tr>\n",
       "      <th>22164</th>\n",
       "      <td>Immobility</td>\n",
       "      <td>0</td>\n",
       "      <td>152</td>\n",
       "      <td>184</td>\n",
       "      <td>5f8f550fd3d64947e0da2393</td>\n",
       "      <td>152</td>\n",
       "      <td>0.139133</td>\n",
       "      <td>0.035490</td>\n",
       "      <td>179.979</td>\n",
       "      <td>116.433</td>\n",
       "      <td>femea</td>\n",
       "      <td>flx2.5mg</td>\n",
       "      <td>A3</td>\n",
       "    </tr>\n",
       "    <tr>\n",
       "      <th>22165</th>\n",
       "      <td>Immobility</td>\n",
       "      <td>0</td>\n",
       "      <td>152</td>\n",
       "      <td>184</td>\n",
       "      <td>5f8f550fd3d64947e0da2393</td>\n",
       "      <td>153</td>\n",
       "      <td>0.000000</td>\n",
       "      <td>0.000000</td>\n",
       "      <td>179.979</td>\n",
       "      <td>116.433</td>\n",
       "      <td>femea</td>\n",
       "      <td>flx2.5mg</td>\n",
       "      <td>A3</td>\n",
       "    </tr>\n",
       "    <tr>\n",
       "      <th>22166</th>\n",
       "      <td>Immobility</td>\n",
       "      <td>0</td>\n",
       "      <td>152</td>\n",
       "      <td>184</td>\n",
       "      <td>5f8f550fd3d64947e0da2393</td>\n",
       "      <td>154</td>\n",
       "      <td>0.000000</td>\n",
       "      <td>0.000000</td>\n",
       "      <td>179.979</td>\n",
       "      <td>116.433</td>\n",
       "      <td>femea</td>\n",
       "      <td>flx2.5mg</td>\n",
       "      <td>A3</td>\n",
       "    </tr>\n",
       "    <tr>\n",
       "      <th>22167</th>\n",
       "      <td>Immobility</td>\n",
       "      <td>0</td>\n",
       "      <td>152</td>\n",
       "      <td>184</td>\n",
       "      <td>5f8f550fd3d64947e0da2393</td>\n",
       "      <td>155</td>\n",
       "      <td>-4.642001</td>\n",
       "      <td>-1.184080</td>\n",
       "      <td>180.055</td>\n",
       "      <td>119.052</td>\n",
       "      <td>femea</td>\n",
       "      <td>flx2.5mg</td>\n",
       "      <td>A3</td>\n",
       "    </tr>\n",
       "    <tr>\n",
       "      <th>22168</th>\n",
       "      <td>Immobility</td>\n",
       "      <td>0</td>\n",
       "      <td>152</td>\n",
       "      <td>184</td>\n",
       "      <td>5f8f550fd3d64947e0da2393</td>\n",
       "      <td>156</td>\n",
       "      <td>-0.055445</td>\n",
       "      <td>-0.014143</td>\n",
       "      <td>180.070</td>\n",
       "      <td>119.001</td>\n",
       "      <td>femea</td>\n",
       "      <td>flx2.5mg</td>\n",
       "      <td>A3</td>\n",
       "    </tr>\n",
       "    <tr>\n",
       "      <th>...</th>\n",
       "      <td>...</td>\n",
       "      <td>...</td>\n",
       "      <td>...</td>\n",
       "      <td>...</td>\n",
       "      <td>...</td>\n",
       "      <td>...</td>\n",
       "      <td>...</td>\n",
       "      <td>...</td>\n",
       "      <td>...</td>\n",
       "      <td>...</td>\n",
       "      <td>...</td>\n",
       "      <td>...</td>\n",
       "      <td>...</td>\n",
       "    </tr>\n",
       "    <tr>\n",
       "      <th>194526</th>\n",
       "      <td>Undefined</td>\n",
       "      <td>104</td>\n",
       "      <td>7559</td>\n",
       "      <td>7586</td>\n",
       "      <td>5f8f550ed3d64947e0da238b</td>\n",
       "      <td>7581</td>\n",
       "      <td>0.000000</td>\n",
       "      <td>0.000000</td>\n",
       "      <td>209.500</td>\n",
       "      <td>92.500</td>\n",
       "      <td>femea</td>\n",
       "      <td>flx2.5mg</td>\n",
       "      <td>A2</td>\n",
       "    </tr>\n",
       "    <tr>\n",
       "      <th>194527</th>\n",
       "      <td>Undefined</td>\n",
       "      <td>104</td>\n",
       "      <td>7559</td>\n",
       "      <td>7586</td>\n",
       "      <td>5f8f550ed3d64947e0da238b</td>\n",
       "      <td>7582</td>\n",
       "      <td>0.000000</td>\n",
       "      <td>0.000000</td>\n",
       "      <td>209.500</td>\n",
       "      <td>92.500</td>\n",
       "      <td>femea</td>\n",
       "      <td>flx2.5mg</td>\n",
       "      <td>A2</td>\n",
       "    </tr>\n",
       "    <tr>\n",
       "      <th>194528</th>\n",
       "      <td>Undefined</td>\n",
       "      <td>104</td>\n",
       "      <td>7559</td>\n",
       "      <td>7586</td>\n",
       "      <td>5f8f550ed3d64947e0da238b</td>\n",
       "      <td>7583</td>\n",
       "      <td>0.000000</td>\n",
       "      <td>0.000000</td>\n",
       "      <td>209.500</td>\n",
       "      <td>92.500</td>\n",
       "      <td>femea</td>\n",
       "      <td>flx2.5mg</td>\n",
       "      <td>A2</td>\n",
       "    </tr>\n",
       "    <tr>\n",
       "      <th>194529</th>\n",
       "      <td>Undefined</td>\n",
       "      <td>104</td>\n",
       "      <td>7559</td>\n",
       "      <td>7586</td>\n",
       "      <td>5f8f550ed3d64947e0da238b</td>\n",
       "      <td>7584</td>\n",
       "      <td>0.000000</td>\n",
       "      <td>0.000000</td>\n",
       "      <td>209.500</td>\n",
       "      <td>92.500</td>\n",
       "      <td>femea</td>\n",
       "      <td>flx2.5mg</td>\n",
       "      <td>A2</td>\n",
       "    </tr>\n",
       "    <tr>\n",
       "      <th>194530</th>\n",
       "      <td>Undefined</td>\n",
       "      <td>104</td>\n",
       "      <td>7559</td>\n",
       "      <td>7586</td>\n",
       "      <td>5f8f550ed3d64947e0da238b</td>\n",
       "      <td>7585</td>\n",
       "      <td>0.000000</td>\n",
       "      <td>0.000000</td>\n",
       "      <td>209.500</td>\n",
       "      <td>92.500</td>\n",
       "      <td>femea</td>\n",
       "      <td>flx2.5mg</td>\n",
       "      <td>A2</td>\n",
       "    </tr>\n",
       "  </tbody>\n",
       "</table>\n",
       "<p>59051 rows × 13 columns</p>\n",
       "</div>"
      ],
      "text/plain": [
       "         categoria  trecho  q_inicio  q_fim                      id_j    @f  \\\n",
       "22164   Immobility       0       152    184  5f8f550fd3d64947e0da2393   152   \n",
       "22165   Immobility       0       152    184  5f8f550fd3d64947e0da2393   153   \n",
       "22166   Immobility       0       152    184  5f8f550fd3d64947e0da2393   154   \n",
       "22167   Immobility       0       152    184  5f8f550fd3d64947e0da2393   155   \n",
       "22168   Immobility       0       152    184  5f8f550fd3d64947e0da2393   156   \n",
       "...            ...     ...       ...    ...                       ...   ...   \n",
       "194526   Undefined     104      7559   7586  5f8f550ed3d64947e0da238b  7581   \n",
       "194527   Undefined     104      7559   7586  5f8f550ed3d64947e0da238b  7582   \n",
       "194528   Undefined     104      7559   7586  5f8f550ed3d64947e0da238b  7583   \n",
       "194529   Undefined     104      7559   7586  5f8f550ed3d64947e0da238b  7584   \n",
       "194530   Undefined     104      7559   7586  5f8f550ed3d64947e0da238b  7585   \n",
       "\n",
       "             @Vd      @Van     @ceX     @ceY   sexo   dosagem unidade  \n",
       "22164   0.139133  0.035490  179.979  116.433  femea  flx2.5mg      A3  \n",
       "22165   0.000000  0.000000  179.979  116.433  femea  flx2.5mg      A3  \n",
       "22166   0.000000  0.000000  179.979  116.433  femea  flx2.5mg      A3  \n",
       "22167  -4.642001 -1.184080  180.055  119.052  femea  flx2.5mg      A3  \n",
       "22168  -0.055445 -0.014143  180.070  119.001  femea  flx2.5mg      A3  \n",
       "...          ...       ...      ...      ...    ...       ...     ...  \n",
       "194526  0.000000  0.000000  209.500   92.500  femea  flx2.5mg      A2  \n",
       "194527  0.000000  0.000000  209.500   92.500  femea  flx2.5mg      A2  \n",
       "194528  0.000000  0.000000  209.500   92.500  femea  flx2.5mg      A2  \n",
       "194529  0.000000  0.000000  209.500   92.500  femea  flx2.5mg      A2  \n",
       "194530  0.000000  0.000000  209.500   92.500  femea  flx2.5mg      A2  \n",
       "\n",
       "[59051 rows x 13 columns]"
      ]
     },
     "execution_count": 9,
     "metadata": {},
     "output_type": "execute_result"
    }
   ],
   "source": [
    "df_femea_flx"
   ]
  },
  {
   "cell_type": "code",
   "execution_count": 10,
   "id": "004536ab",
   "metadata": {},
   "outputs": [
    {
     "data": {
      "text/plain": [
       "array(['Immobility', 'Undefined', 'Swimming', 'Climbing', 'Diving',\n",
       "       'Headshaking'], dtype=object)"
      ]
     },
     "execution_count": 10,
     "metadata": {},
     "output_type": "execute_result"
    }
   ],
   "source": [
    "df_femea_ve[\"categoria\"].unique() "
   ]
  },
  {
   "cell_type": "code",
   "execution_count": 11,
   "id": "f14dc5af",
   "metadata": {},
   "outputs": [],
   "source": [
    "def get_plot(df):\n",
    "    df_femea_ve_vd = df[\"@Vd\"].reset_index()\n",
    "    x = df_femea_ve_vd[df_femea_ve_vd[\"@Vd\"] != 0].rolling(100).median().dropna()[\"@Vd\"] # df_femea_ve_vd[\"@Vd\"].rolling(100).sum().dropna()\n",
    "    x = x.reset_index()[\"@Vd\"]\n",
    "#     peaks, _ = find_peaks(abs(x)) #, height=50)\n",
    "#     plt.plot(peaks, x[peaks], \"x\")\n",
    "#     plt.show()\n",
    "#     plt.hist(x[peaks],bins=60)\n",
    "#     plt.show()\n",
    "    plt.hist(x,bins=60)\n",
    "    plt.show()"
   ]
  },
  {
   "cell_type": "code",
   "execution_count": 12,
   "id": "78a514ae",
   "metadata": {},
   "outputs": [
    {
     "data": {
      "image/png": "[encoded data removed]",
      "text/plain": [
       "<Figure size 432x288 with 1 Axes>"
      ]
     },
     "metadata": {
      "needs_background": "light"
     },
     "output_type": "display_data"
    }
   ],
   "source": [
    "get_plot(df_femea_ve)"
   ]
  },
  {
   "cell_type": "code",
   "execution_count": 13,
   "id": "19d27841",
   "metadata": {},
   "outputs": [
    {
     "data": {
      "image/png": "[encoded data removed]",
      "text/plain": [
       "<Figure size 432x288 with 1 Axes>"
      ]
     },
     "metadata": {
      "needs_background": "light"
     },
     "output_type": "display_data"
    }
   ],
   "source": [
    "get_plot(df_femea_ve[df_femea_ve[\"categoria\"] == \"Immobility\"])"
   ]
  },
  {
   "cell_type": "code",
   "execution_count": 14,
   "id": "16efd577",
   "metadata": {},
   "outputs": [
    {
     "data": {
      "image/png": "[encoded data removed]",
      "text/plain": [
       "<Figure size 432x288 with 1 Axes>"
      ]
     },
     "metadata": {
      "needs_background": "light"
     },
     "output_type": "display_data"
    }
   ],
   "source": [
    "get_plot(df_femea_flx[df_femea_flx[\"categoria\"] == \"Immobility\"])"
   ]
  },
  {
   "cell_type": "code",
   "execution_count": 15,
   "id": "a1fd43c4",
   "metadata": {},
   "outputs": [
    {
     "data": {
      "image/png": "[encoded data removed]",
      "text/plain": [
       "<Figure size 432x288 with 1 Axes>"
      ]
     },
     "metadata": {
      "needs_background": "light"
     },
     "output_type": "display_data"
    }
   ],
   "source": [
    "get_plot(df_femea_ve[df_femea_ve[\"categoria\"] == \"Swimming\"])"
   ]
  },
  {
   "cell_type": "code",
   "execution_count": 16,
   "id": "0dfa6ee2",
   "metadata": {},
   "outputs": [
    {
     "data": {
      "image/png": "[encoded data removed]",
      "text/plain": [
       "<Figure size 432x288 with 1 Axes>"
      ]
     },
     "metadata": {
      "needs_background": "light"
     },
     "output_type": "display_data"
    }
   ],
   "source": [
    "get_plot(df_femea_flx[df_femea_flx[\"categoria\"] == \"Swimming\"])"
   ]
  },
  {
   "cell_type": "code",
   "execution_count": null,
   "id": "fd44c089",
   "metadata": {},
   "outputs": [],
   "source": []
  },
  {
   "cell_type": "code",
   "execution_count": 17,
   "id": "cdc6cb35",
   "metadata": {},
   "outputs": [
    {
     "data": {
      "image/png": "[encoded data removed]",
      "text/plain": [
       "<Figure size 432x288 with 1 Axes>"
      ]
     },
     "metadata": {
      "needs_background": "light"
     },
     "output_type": "display_data"
    }
   ],
   "source": [
    "get_plot(df_macho_flx[df_macho_flx[\"categoria\"] == \"Swimming\"])"
   ]
  },
  {
   "cell_type": "code",
   "execution_count": 18,
   "id": "96ef2dde",
   "metadata": {},
   "outputs": [
    {
     "data": {
      "image/png": "[encoded data removed]",
      "text/plain": [
       "<Figure size 432x288 with 1 Axes>"
      ]
     },
     "metadata": {
      "needs_background": "light"
     },
     "output_type": "display_data"
    }
   ],
   "source": [
    "get_plot(df_macho_ve[df_macho_ve[\"categoria\"] == \"Swimming\"])"
   ]
  },
  {
   "cell_type": "code",
   "execution_count": 19,
   "id": "d79e4bab",
   "metadata": {},
   "outputs": [
    {
     "data": {
      "image/png": "[encoded data removed]",
      "text/plain": [
       "<Figure size 432x288 with 1 Axes>"
      ]
     },
     "metadata": {
      "needs_background": "light"
     },
     "output_type": "display_data"
    }
   ],
   "source": [
    "get_plot(df_macho_ve[df_macho_ve[\"categoria\"] == \"Immobility\"])"
   ]
  },
  {
   "cell_type": "code",
   "execution_count": 20,
   "id": "d3d3284b",
   "metadata": {},
   "outputs": [
    {
     "data": {
      "image/png": "[encoded data removed]",
      "text/plain": [
       "<Figure size 432x288 with 1 Axes>"
      ]
     },
     "metadata": {
      "needs_background": "light"
     },
     "output_type": "display_data"
    }
   ],
   "source": [
    "get_plot(df_macho_flx[df_macho_flx[\"categoria\"] == \"Immobility\"])"
   ]
  },
  {
   "cell_type": "code",
   "execution_count": null,
   "id": "a2297268",
   "metadata": {},
   "outputs": [],
   "source": []
  },
  {
   "cell_type": "code",
   "execution_count": null,
   "id": "047894e6",
   "metadata": {},
   "outputs": [],
   "source": []
  },
  {
   "cell_type": "code",
   "execution_count": null,
   "id": "faf32827",
   "metadata": {},
   "outputs": [],
   "source": []
  },
  {
   "cell_type": "code",
   "execution_count": null,
   "id": "84efaeb8",
   "metadata": {},
   "outputs": [],
   "source": []
  },
  {
   "cell_type": "code",
   "execution_count": 21,
   "id": "1c0398f8",
   "metadata": {},
   "outputs": [
    {
     "data": {
      "text/html": [
       "<div>\n",
       "<style scoped>\n",
       "    .dataframe tbody tr th:only-of-type {\n",
       "        vertical-align: middle;\n",
       "    }\n",
       "\n",
       "    .dataframe tbody tr th {\n",
       "        vertical-align: top;\n",
       "    }\n",
       "\n",
       "    .dataframe thead th {\n",
       "        text-align: right;\n",
       "    }\n",
       "</style>\n",
       "<table border=\"1\" class=\"dataframe\">\n",
       "  <thead>\n",
       "    <tr style=\"text-align: right;\">\n",
       "      <th></th>\n",
       "      <th>index</th>\n",
       "      <th>@Vd</th>\n",
       "    </tr>\n",
       "  </thead>\n",
       "  <tbody>\n",
       "    <tr>\n",
       "      <th>0</th>\n",
       "      <td>0</td>\n",
       "      <td>-7.569989</td>\n",
       "    </tr>\n",
       "    <tr>\n",
       "      <th>1</th>\n",
       "      <td>1</td>\n",
       "      <td>-7.637543</td>\n",
       "    </tr>\n",
       "    <tr>\n",
       "      <th>2</th>\n",
       "      <td>2</td>\n",
       "      <td>-3.818771</td>\n",
       "    </tr>\n",
       "    <tr>\n",
       "      <th>3</th>\n",
       "      <td>3</td>\n",
       "      <td>-3.840844</td>\n",
       "    </tr>\n",
       "    <tr>\n",
       "      <th>4</th>\n",
       "      <td>4</td>\n",
       "      <td>-22.890555</td>\n",
       "    </tr>\n",
       "    <tr>\n",
       "      <th>...</th>\n",
       "      <td>...</td>\n",
       "      <td>...</td>\n",
       "    </tr>\n",
       "    <tr>\n",
       "      <th>66746</th>\n",
       "      <td>209377</td>\n",
       "      <td>0.000000</td>\n",
       "    </tr>\n",
       "    <tr>\n",
       "      <th>66747</th>\n",
       "      <td>209378</td>\n",
       "      <td>0.000000</td>\n",
       "    </tr>\n",
       "    <tr>\n",
       "      <th>66748</th>\n",
       "      <td>209379</td>\n",
       "      <td>-19.827126</td>\n",
       "    </tr>\n",
       "    <tr>\n",
       "      <th>66749</th>\n",
       "      <td>209380</td>\n",
       "      <td>0.000000</td>\n",
       "    </tr>\n",
       "    <tr>\n",
       "      <th>66750</th>\n",
       "      <td>209381</td>\n",
       "      <td>0.000000</td>\n",
       "    </tr>\n",
       "  </tbody>\n",
       "</table>\n",
       "<p>66751 rows × 2 columns</p>\n",
       "</div>"
      ],
      "text/plain": [
       "        index        @Vd\n",
       "0           0  -7.569989\n",
       "1           1  -7.637543\n",
       "2           2  -3.818771\n",
       "3           3  -3.840844\n",
       "4           4 -22.890555\n",
       "...       ...        ...\n",
       "66746  209377   0.000000\n",
       "66747  209378   0.000000\n",
       "66748  209379 -19.827126\n",
       "66749  209380   0.000000\n",
       "66750  209381   0.000000\n",
       "\n",
       "[66751 rows x 2 columns]"
      ]
     },
     "execution_count": 21,
     "metadata": {},
     "output_type": "execute_result"
    }
   ],
   "source": [
    "df_femea_ve_vd = df_femea_ve[\"@Vd\"].reset_index()\n",
    "df_femea_ve_vd"
   ]
  },
  {
   "cell_type": "code",
   "execution_count": 22,
   "id": "e0fe5d25",
   "metadata": {},
   "outputs": [
    {
     "data": {
      "text/plain": [
       "[<matplotlib.lines.Line2D at 0x2439f785f08>]"
      ]
     },
     "execution_count": 22,
     "metadata": {},
     "output_type": "execute_result"
    },
    {
     "data": {
      "image/png": "[encoded data removed]",
      "text/plain": [
       "<Figure size 432x288 with 1 Axes>"
      ]
     },
     "metadata": {
      "needs_background": "light"
     },
     "output_type": "display_data"
    }
   ],
   "source": [
    "x = df_femea_ve_vd[\"@Vd\"].rolling(100)\n",
    "# plt.plot(x)\n",
    "plt.plot(df_femea_ve_vd[df_femea_ve_vd[\"@Vd\"] != 0].rolling(100).median().dropna()[\"@Vd\"])"
   ]
  },
  {
   "cell_type": "code",
   "execution_count": 23,
   "id": "6d7b31b5",
   "metadata": {},
   "outputs": [],
   "source": [
    "x = df_femea_ve_vd[df_femea_ve_vd[\"@Vd\"] != 0].rolling(100).median().dropna()[\"@Vd\"] # df_femea_ve_vd[\"@Vd\"].rolling(100).sum().dropna()\n",
    "# ind = [i for i in range(len(x))]\n",
    "x = x.reset_index()[\"@Vd\"]"
   ]
  },
  {
   "cell_type": "code",
   "execution_count": null,
   "id": "e917645b",
   "metadata": {},
   "outputs": [],
   "source": []
  },
  {
   "cell_type": "code",
   "execution_count": 24,
   "id": "497ed8c6",
   "metadata": {},
   "outputs": [
    {
     "data": {
      "text/plain": [
       "[<matplotlib.lines.Line2D at 0x243a08aab48>]"
      ]
     },
     "execution_count": 24,
     "metadata": {},
     "output_type": "execute_result"
    },
    {
     "data": {
      "image/png": "[encoded data removed]",
      "text/plain": [
       "<Figure size 432x288 with 1 Axes>"
      ]
     },
     "metadata": {
      "needs_background": "light"
     },
     "output_type": "display_data"
    }
   ],
   "source": [
    "# x = df_femea_ve[\"@Vd\"][0:1000].rolling(30).sum()\n",
    "# x = df_femea_ve_vd[0:1000].rolling(30).sum().dropna()\n",
    "plt.plot(x)\n",
    "\n",
    "peaks, _ = find_peaks(abs(x)) #, height=50)\n",
    "plt.plot(peaks, x[peaks], \"x\")"
   ]
  },
  {
   "cell_type": "code",
   "execution_count": 25,
   "id": "25ec9396",
   "metadata": {},
   "outputs": [
    {
     "data": {
      "text/plain": [
       "(array([  4.,   0.,   1.,   1.,   1.,   6.,   5.,   8.,   7.,   8.,  10.,\n",
       "         13.,  22.,  19.,  22.,  36.,  48.,  73.,  91., 116., 158., 173.,\n",
       "        168., 187., 212., 301., 255., 183., 242., 396., 258., 334., 265.,\n",
       "        201., 186., 178., 135.,  92.,  87.,  78.,  60.,  57.,  48.,  33.,\n",
       "         24.,  24.,  17.,  26.,   8.,  19.,   8.,   4.,   2.,   3.,   0.,\n",
       "          3.,   3.,   2.,   0.,   1.]),\n",
       " array([-3.60572589, -3.47569651, -3.34566712, -3.21563773, -3.08560835,\n",
       "        -2.95557896, -2.82554957, -2.69552019, -2.5654908 , -2.43546141,\n",
       "        -2.30543203, -2.17540264, -2.04537325, -1.91534387, -1.78531448,\n",
       "        -1.65528509, -1.52525571, -1.39522632, -1.26519693, -1.13516755,\n",
       "        -1.00513816, -0.87510877, -0.74507939, -0.61505   , -0.48502061,\n",
       "        -0.35499123, -0.22496184, -0.09493245,  0.03509693,  0.16512632,\n",
       "         0.29515571,  0.42518509,  0.55521448,  0.68524387,  0.81527325,\n",
       "         0.94530264,  1.07533203,  1.20536141,  1.3353908 ,  1.46542019,\n",
       "         1.59544957,  1.72547896,  1.85550835,  1.98553773,  2.11556712,\n",
       "         2.24559651,  2.37562589,  2.50565528,  2.63568467,  2.76571405,\n",
       "         2.89574344,  3.02577283,  3.15580221,  3.2858316 ,  3.41586099,\n",
       "         3.54589037,  3.67591976,  3.80594915,  3.93597853,  4.06600792,\n",
       "         4.19603731]),\n",
       " <BarContainer object of 60 artists>)"
      ]
     },
     "execution_count": 25,
     "metadata": {},
     "output_type": "execute_result"
    },
    {
     "data": {
      "image/png": "[encoded data removed]",
      "text/plain": [
       "<Figure size 432x288 with 1 Axes>"
      ]
     },
     "metadata": {
      "needs_background": "light"
     },
     "output_type": "display_data"
    }
   ],
   "source": [
    "plt.hist(x[peaks],bins=60)"
   ]
  },
  {
   "cell_type": "code",
   "execution_count": 26,
   "id": "409b31fd",
   "metadata": {},
   "outputs": [],
   "source": [
    "# x_n = abs(df_femea_ve[\"@Vd\"][0:1000])\n",
    "# x = df_femea_ve[\"@Vd\"][0:1000]"
   ]
  },
  {
   "cell_type": "code",
   "execution_count": 27,
   "id": "f4b229ec",
   "metadata": {},
   "outputs": [],
   "source": [
    "# peaks, _ = find_peaks(x_n)\n",
    "# peaks"
   ]
  },
  {
   "cell_type": "code",
   "execution_count": 28,
   "id": "718fb0d2",
   "metadata": {},
   "outputs": [],
   "source": [
    "# plt.figure(figsize=(8, 6), dpi=80)\n",
    "# plt.plot(x)\n",
    "# plt.plot(peaks, x[peaks], \"x\")"
   ]
  },
  {
   "cell_type": "code",
   "execution_count": 29,
   "id": "581554f7",
   "metadata": {},
   "outputs": [],
   "source": [
    "# plt.hist(x[peaks])"
   ]
  }
 ],
 "metadata": {
  "kernelspec": {
   "display_name": "Python 3 (ipykernel)",
   "language": "python",
   "name": "python3"
  },
  "language_info": {
   "codemirror_mode": {
    "name": "ipython",
    "version": 3
   },
   "file_extension": ".py",
   "mimetype": "text/x-python",
   "name": "python",
   "nbconvert_exporter": "python",
   "pygments_lexer": "ipython3",
   "version": "3.8.12"
  }
 },
 "nbformat": 4,
 "nbformat_minor": 5
}
